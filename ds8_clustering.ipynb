{
 "cells": [
  {
   "cell_type": "markdown",
   "metadata": {},
   "source": [
    "# 클러스터 분석\n",
    "\n",
    "* Last updated 20211117WED0630"
   ]
  },
  {
   "cell_type": "markdown",
   "metadata": {},
   "source": [
    "* C.2 문제의 이해\n",
    "* C.3 클러스터링 종류\n",
    "    * 분할 클러스터링\n",
    "    * 계층 클러스터링\n",
    "    * 밀집도 기반 클러스터링\n",
    "* C.4 k-Means\n",
    "    * C.4.1 알고리듬\n",
    "    * C.4.2 구현\n",
    "        * 데이터\n",
    "        * 단계 1: 설정\n",
    "        * 단계 2: 할당\n",
    "        * 단계 3: 갱신\n",
    "        * 단계 4: 종료\n",
    "* C.5 함수로 만들기\n",
    "* C.6 skleran\n",
    "* 문제: sklearn 클러스터링\n",
    "* C.7 Spark\n",
    "* 문제: Iris 클러스터링\n",
    "\n"
   ]
  },
  {
   "cell_type": "markdown",
   "metadata": {},
   "source": [
    "## C.2 문제의 이해\n",
    "\n",
    "클러스터링은 **Unsupervised learning** 기법이다. \n",
    "의사결정트리, kNN 등과 같이 답을 미리 정해놓고 사례를 훈련해서 모델링을 할 필요가 없다.\n",
    "클러스터링은 훈련없이, 데이터를 그룹화거나 클러스터로 군집화하게 된다.\n",
    "데이터를 특징에 따라 보다 가까운 클러스터로 할당해 묶게 된다.\n",
    "\n",
    "이런 기법이 유용하게 사용되는 분야는 다양하다.\n",
    "예를 들어, 소비자를 서로 다른 특징을 가진 세그먼트로 분류해 보다 유용한 마케팅 기법을 적용할 수 있게 한다.\n",
    "또는 병원에서 환자를 특징으로 분류해, 암, 파킨슨이나 정신병의 환자를 진단하거나 처치에 활용하기도 한다."
   ]
  },
  {
   "cell_type": "markdown",
   "metadata": {},
   "source": [
    "## C.3 클러스터링 종류\n",
    "\n",
    "### C.3.1 분할 클러스터링\n",
    "\n",
    "분할 클러스터링 Partitioning clustering에서는 클러스터의 개수 **k를 미리 정하고**, 데이터를 k의 그룹으로 구분한다.\n",
    "k 그룹은 완전하게 분리되어, 어떤 데이터이든 여러 그룹에 속해 있을 수 없다.\n",
    "클러스터는 데이터의 평균으로 계산된 중심점을 가지게 된다.\n",
    "따라서 평균에서 멀리 떨어진 이상 값, outlier에 영향을 받는다는 단점이 있다.\n",
    "k-Means가 대표적인 분할 클러스터링 기법이다.\n",
    "\n",
    "### C.3.2 계층 클러스터링\n",
    "\n",
    "계층 클러스터링 hierarchical clustering\n",
    "미리 클러스터의 개수를 지정할 필요가 없다.\n",
    "**Dendrogram**이라고 하는 나무 가지모양으로 데이터를 구분한다.\n",
    "\n",
    "### C.3.2 밀집도 기반 클러스터링\n",
    "\n",
    "밀집도 기반 클러스터링 Density-based clustering은 특정 지역에서의 집적 정도에 따라 클러스터를 구분하는 기법이다. 클러스터의 개수를 미리 지정할 필요 없다. 다만 지역으로 분포된 가운데 데이터가 많이 집적된 곳을 그렇지 않은 곳을 hot spot으로 구분하여 클러스터로 인식하는 것이다.\n",
    "**DBSCAN**을 예로 들 수 있다."
   ]
  },
  {
   "cell_type": "markdown",
   "metadata": {},
   "source": [
    "## C.4 k-Means\n",
    "\n",
    "### C.4.1 알고리즘\n",
    "\n",
    "* 군집의 갯수 k를 정하고, 중심점 $C_k$을 정한다. 이 중심점은 반복하면서 갱신하게 된다.\n",
    "* 반복:\n",
    "    * 할당 단계: 각 데이터 항목을 중심점과 얼마나 멀리 있는지 계산하여, 클러스터에 할당\n",
    "        * 모든 데이터  ${x_1,x_2,\\cdots,x_n}\\in D$에 대해 반복\n",
    "            * 각 데이터 $x_n$에서 각 클러스터 $C_k$ 거리를 계산 $dist(x_n,m_k)=\\|x_n-m_k\\|$ ($m_k$는 $C_k$ 평균을 말한다)\n",
    "            * $x_n$을 가장 가까운 클러스터 $C_k$에 할당\n",
    "    * 갱신 단계:\n",
    "        * 현재 클러스터에 할당된 데이터로의 평균을 계산하여 새로운 클러스터 $C_k$의 중심점$m_k$를 설정\n",
    "    * 종료 단계:\n",
    "        * 갱신이 더 이상 없으면 종료"
   ]
  },
  {
   "cell_type": "markdown",
   "metadata": {},
   "source": [
    "### C.4.2 구현\n",
    "\n",
    "#### 데이터\n",
    "\n",
    "다음과 같은 데이터가 있다고 하자.\n",
    "\n",
    "구분 | 1 | 2 |...|...|...|...|...|...|n \n",
    "--|---|---|---|---|---|---|---|---|---\n",
    "x | 2 | 3 | 2 | 5 | 7 | 8 | 9 | 8 | 7\n",
    "y | 5 | 6 | 4 | 7 | 2 | 3 | 4 | 4 | 3"
   ]
  },
  {
   "cell_type": "markdown",
   "metadata": {},
   "source": [
    "numpy 배열로 데이터를 구성하자."
   ]
  },
  {
   "cell_type": "code",
   "execution_count": 1,
   "metadata": {
    "collapsed": false
   },
   "outputs": [],
   "source": [
    "import numpy as np\n",
    "\n",
    "x = np.array([[2,5],[3,6],[2,4],[5,7],[7,2],[8,3],[9,4],[8,4],[7,3]], dtype = float)"
   ]
  },
  {
   "cell_type": "markdown",
   "metadata": {},
   "source": [
    "#### 단계 1: 설정\n",
    "\n",
    "클러스터는 군집의 가운데 있는 점으로, 몇 개로 할 것인지 결정해야 한다.\n",
    "클러스터의 적당한 개수는 통계적으로 결정할 수도 있다.\n",
    "또한 그 중심점을 어떻게 선정할 것인지 결정해야 하는데, 무작위로 하거나 또는 임의로 데이터를 선정할 수 있다."
   ]
  },
  {
   "cell_type": "markdown",
   "metadata": {},
   "source": [
    "2개로 설정해 놓자."
   ]
  },
  {
   "cell_type": "code",
   "execution_count": 2,
   "metadata": {
    "collapsed": false
   },
   "outputs": [],
   "source": [
    "k = 2"
   ]
  },
  {
   "cell_type": "markdown",
   "metadata": {},
   "source": [
    "k=2에 따라, centeroid를 임의로 선택한다."
   ]
  },
  {
   "cell_type": "code",
   "execution_count": 6,
   "metadata": {
    "collapsed": false
   },
   "outputs": [],
   "source": [
    "centroids = np.array([[2,5],[7,2]], dtype = float)"
   ]
  },
  {
   "cell_type": "markdown",
   "metadata": {},
   "source": [
    "### 단계 2: 할당\n",
    "\n",
    "각 데이터 항목을 중심점과 얼마나 멀리 있는지 계산하여, 클러스터에 할당한다."
   ]
  },
  {
   "cell_type": "markdown",
   "metadata": {},
   "source": [
    "#### 거리 계산\n",
    "\n",
    "```norm()``` 함수의 default는 L2라서 생략할 수 있고, Eculdean distance과 동일하다."
   ]
  },
  {
   "cell_type": "code",
   "execution_count": 7,
   "metadata": {
    "collapsed": true
   },
   "outputs": [],
   "source": [
    "def normDist(x1, x2):\n",
    "    #dist=np.sqrt(sum(np.power(x1 - x2, 2))) #36.406001444695193\n",
    "    dist = np.linalg.norm(x1 - x2) #36.406001444695193\n",
    "    return dist"
   ]
  },
  {
   "cell_type": "markdown",
   "metadata": {},
   "source": [
    "#### 거리를 계산하여 가까운 중심점에 할당\n",
    "\n",
    "x는 $2 \\times 9$ 행렬이다. 첫째 데이터에 대해서 거리를 계산해서, 가까운 중심점에 할당해보자."
   ]
  },
  {
   "cell_type": "markdown",
   "metadata": {},
   "source": [
    "x[0]으로부터 중심점까지의 거리를 구해보자."
   ]
  },
  {
   "cell_type": "code",
   "execution_count": 8,
   "metadata": {
    "collapsed": false
   },
   "outputs": [
    {
     "name": "stdout",
     "output_type": "stream",
     "text": [
      "Distance 0.000 between [2. 5.] and [2. 5.]\n",
      "Distance 5.831 between [7. 2.] and [2. 5.]\n"
     ]
    }
   ],
   "source": [
    "for j in range(k):\n",
    "    # distance from centroids[j] to x[0]\n",
    "    distJ0 = normDist(centroids[j], x[0])\n",
    "    print (\"Distance {:.3f} between {} and {}\".format(distJ0, centroids[j], x[0]))"
   ]
  },
  {
   "cell_type": "markdown",
   "metadata": {},
   "source": [
    "그러면 어느 쪽으로 할당되어야 할까?\n",
    "당연히 거리가 짧은 중심점에 배정이 되어야 한다.\n",
    "swap 알고리즘으로 최소 길이를 고르자.\n",
    "swap에 필요한 np.inf는 양수의 무한 값으로 임의의 최대 값을 가진다."
   ]
  },
  {
   "cell_type": "code",
   "execution_count": 6,
   "metadata": {
    "collapsed": false
   },
   "outputs": [
    {
     "name": "stdout",
     "output_type": "stream",
     "text": [
      "Distance 0.000 between [2. 5.] and [2. 5.]\n",
      "Distance 5.831 between [7. 2.] and [2. 5.]\n",
      ".....Assigning [2. 5.] to 0th centroid by 0.000\n"
     ]
    }
   ],
   "source": [
    "minDist = np.inf\n",
    "for j in range(k):\n",
    "    # distance from centroids[j] to x[0]\n",
    "    distJ0 = normDist(centroids[j], x[0])\n",
    "    print (\"Distance {:.3f} between {} and {}\".format(distJ0, centroids[j], x[0]))\n",
    "    # pick the closest centroid\n",
    "    if distJ0 < minDist:\n",
    "        minDist = distJ0\n",
    "        minIndex = j\n",
    "print (\".....Assigning {} to {}th centroid by {:.3f}\".format(x[0], minIndex, minDist))"
   ]
  },
  {
   "cell_type": "markdown",
   "metadata": {},
   "source": [
    "#### 모든 데이터에 대해 거리를 계산하고 가까운 중심점에 할당."
   ]
  },
  {
   "cell_type": "markdown",
   "metadata": {},
   "source": [
    "clustering 처리결과를 저장하기 위한 저장소를 설정한다.\n",
    "clusterAssigned에는 index, 거리를 저장한다."
   ]
  },
  {
   "cell_type": "code",
   "execution_count": 7,
   "metadata": {
    "collapsed": false,
    "scrolled": true
   },
   "outputs": [
    {
     "name": "stdout",
     "output_type": "stream",
     "text": [
      "[[0. 0.]\n",
      " [0. 0.]\n",
      " [0. 0.]\n",
      " [0. 0.]\n",
      " [0. 0.]\n",
      " [0. 0.]\n",
      " [0. 0.]\n",
      " [0. 0.]\n",
      " [0. 0.]]\n"
     ]
    }
   ],
   "source": [
    "clusterAssigned = np.zeros(shape = (x.shape[0],2), dtype = float)\n",
    "print (clusterAssigned)"
   ]
  },
  {
   "cell_type": "markdown",
   "metadata": {},
   "source": [
    "각 데이터의 거리를 계산하면, 아래 표와 같이 4개는 C1, 아래 5개는 C2에 할당된다.\n",
    "\n",
    "x | y | C1 [2,5] | C2 [7,2]\n",
    "-----|-----|-----|-----\n",
    "2 | 5 | 0.000 | \n",
    "3 | 6 | 1.414 | \n",
    "2 | 4 | 1.000 | \n",
    "5 | 7 | 3.606 | \n",
    "7 | 2 |  | 0.000\n",
    "8 | 3 |  | 1.414\n",
    "9 | 4 |  | 2.828\n",
    "8 | 4 |  | 2.236\n",
    "7 | 3 |  | 1.000\n"
   ]
  },
  {
   "cell_type": "code",
   "execution_count": 9,
   "metadata": {
    "collapsed": false
   },
   "outputs": [
    {
     "data": {
      "text/plain": [
       "(9, 2)"
      ]
     },
     "execution_count": 9,
     "metadata": {},
     "output_type": "execute_result"
    }
   ],
   "source": [
    "x.shape"
   ]
  },
  {
   "cell_type": "code",
   "execution_count": 8,
   "metadata": {
    "collapsed": false
   },
   "outputs": [
    {
     "name": "stdout",
     "output_type": "stream",
     "text": [
      ".....Assigning [2. 5.] to 0th centroid by 0.000\n",
      ".....Assigning [3. 6.] to 0th centroid by 1.414\n",
      ".....Assigning [2. 4.] to 0th centroid by 1.000\n",
      ".....Assigning [5. 7.] to 0th centroid by 3.606\n",
      ".....Assigning [7. 2.] to 1th centroid by 0.000\n",
      ".....Assigning [8. 3.] to 1th centroid by 1.414\n",
      ".....Assigning [9. 4.] to 1th centroid by 2.828\n",
      ".....Assigning [8. 4.] to 1th centroid by 2.236\n",
      ".....Assigning [7. 3.] to 1th centroid by 1.000\n"
     ]
    }
   ],
   "source": [
    "row, c = x.shape\n",
    "for i in range(row):\n",
    "    minDist = np.inf   # arbitray max\n",
    "    minIndex = -1      # arbitray index\n",
    "    for j in range(k):\n",
    "        # distance from centroids[j] to x[i]\n",
    "        distJI = normDist(centroids[j], x[i])\n",
    "        # print (\"Distance {:.3f} between {} and {}\".format(distJI, centroids[j], x[i]))\n",
    "        # pick the closest centroid\n",
    "        if distJI < minDist:\n",
    "            minDist = distJI\n",
    "            minIndex = j\n",
    "    print (\".....Assigning {} to {}th centroid by {:.3f}\".format(x[i], minIndex, minDist))\n",
    "    clusterAssigned[i] = [minIndex, minDist]   #-----changed"
   ]
  },
  {
   "cell_type": "markdown",
   "metadata": {},
   "source": [
    "각 클러스터에 할당된 인덱스와 거리를 출력해보자."
   ]
  },
  {
   "cell_type": "code",
   "execution_count": 9,
   "metadata": {
    "collapsed": false,
    "scrolled": true
   },
   "outputs": [
    {
     "name": "stdout",
     "output_type": "stream",
     "text": [
      ".....Assigned clusters: \n",
      "[[0.         0.        ]\n",
      " [0.         1.41421356]\n",
      " [0.         1.        ]\n",
      " [0.         3.60555128]\n",
      " [1.         0.        ]\n",
      " [1.         1.41421356]\n",
      " [1.         2.82842712]\n",
      " [1.         2.23606798]\n",
      " [1.         1.        ]]\n"
     ]
    }
   ],
   "source": [
    "print (\".....Assigned clusters: \\n{}\".format(clusterAssigned))"
   ]
  },
  {
   "cell_type": "markdown",
   "metadata": {},
   "source": [
    "### 단계 3: 갱신\n",
    "\n",
    "현재 클러스터에 할당된 데이터로의 평균 $m_k$을 계산하여 새로운 클러스터 $C_k$의 중심점을 설정한다.\n",
    "새로운 중심점을 구하기 위해서는, 각 중심점에 할당된 데이터들을 모아서 평균을 계산해야 구할 수 있다.\n",
    "앞서 clusterAssigned에는 할당된 인덱스와 거리를 저장해 놓았다."
   ]
  },
  {
   "cell_type": "code",
   "execution_count": 10,
   "metadata": {
    "collapsed": false
   },
   "outputs": [
    {
     "data": {
      "text/plain": [
       "array([0., 0., 0., 0., 1., 1., 1., 1., 1.])"
      ]
     },
     "execution_count": 10,
     "metadata": {},
     "output_type": "execute_result"
    }
   ],
   "source": [
    "clusterAssigned[:,0]"
   ]
  },
  {
   "cell_type": "markdown",
   "metadata": {
    "collapsed": false
   },
   "source": [
    "첫 번째 중심점에 할당된 데이터를 출력해 보자."
   ]
  },
  {
   "cell_type": "code",
   "execution_count": 11,
   "metadata": {
    "collapsed": false
   },
   "outputs": [
    {
     "data": {
      "text/plain": [
       "array([[2., 5.],\n",
       "       [3., 6.],\n",
       "       [2., 4.],\n",
       "       [5., 7.]])"
      ]
     },
     "execution_count": 11,
     "metadata": {},
     "output_type": "execute_result"
    }
   ],
   "source": [
    "x[clusterAssigned[:,0]==0]"
   ]
  },
  {
   "cell_type": "markdown",
   "metadata": {},
   "source": [
    "두 번째 중심점에 할당된 데이터를 출력해 보자."
   ]
  },
  {
   "cell_type": "code",
   "execution_count": 12,
   "metadata": {
    "collapsed": false
   },
   "outputs": [
    {
     "data": {
      "text/plain": [
       "array([[7., 2.],\n",
       "       [8., 3.],\n",
       "       [9., 4.],\n",
       "       [8., 4.],\n",
       "       [7., 3.]])"
      ]
     },
     "execution_count": 12,
     "metadata": {},
     "output_type": "execute_result"
    }
   ],
   "source": [
    "x[clusterAssigned[:,0]==1]"
   ]
  },
  {
   "cell_type": "markdown",
   "metadata": {},
   "source": [
    "각 중심점에 할당된 평균으로 새로운 중심점을 계산한다."
   ]
  },
  {
   "cell_type": "code",
   "execution_count": 13,
   "metadata": {
    "collapsed": false
   },
   "outputs": [],
   "source": [
    "_centroids=np.zeros(shape=(k,x.shape[1]), dtype=float)"
   ]
  },
  {
   "cell_type": "code",
   "execution_count": 14,
   "metadata": {
    "collapsed": true
   },
   "outputs": [],
   "source": [
    "for cent in range(k):\n",
    "    _centroids[cent] = np.mean(x[clusterAssigned[:,0]==cent],axis=0)"
   ]
  },
  {
   "cell_type": "code",
   "execution_count": 15,
   "metadata": {
    "collapsed": false,
    "scrolled": false
   },
   "outputs": [
    {
     "name": "stdout",
     "output_type": "stream",
     "text": [
      "Centroids updated: \n",
      " [[3.  5.5]\n",
      " [7.8 3.2]]\n"
     ]
    }
   ],
   "source": [
    "print (\"Centroids updated: \\n\", _centroids)"
   ]
  },
  {
   "cell_type": "markdown",
   "metadata": {},
   "source": [
    "### 단계 4: 종료\n",
    "\n",
    "반복을 종료할 것인지 확인한다.\n",
    "소수점을 비교할 경우, 자리수의 정밀도에 따라 동일한 값인지 확인하기 어려울 수 있다.\n",
    "np.equal() 함수를 사용해서 중심점이 갱신되었는지 확인하게 된다."
   ]
  },
  {
   "cell_type": "code",
   "execution_count": 68,
   "metadata": {
    "collapsed": false
   },
   "outputs": [
    {
     "name": "stdout",
     "output_type": "stream",
     "text": [
      "True\n"
     ]
    }
   ],
   "source": [
    "comparison = np.equal(centroids, _centroids)\n",
    "print(comparison.all())"
   ]
  },
  {
   "cell_type": "markdown",
   "metadata": {},
   "source": [
    "또는 np.isclose()는 tolerence를 어느 정도 허용하면서 동일한지 비교하므로 사용할 수 있다. "
   ]
  },
  {
   "cell_type": "code",
   "execution_count": 70,
   "metadata": {
    "collapsed": false
   },
   "outputs": [
    {
     "name": "stdout",
     "output_type": "stream",
     "text": [
      "True\n"
     ]
    }
   ],
   "source": [
    "comparison = np.isclose(centroids, _centroids)\n",
    "print(comparison.all())"
   ]
  },
  {
   "cell_type": "markdown",
   "metadata": {},
   "source": [
    "그래프를 그리면 클러스터링을 직관적으로 보다 쉽게 이해할 수 있다.\n",
    "\n",
    "파란점으로 데이터 좌표를, 중심점은 빨간 색으로 그려보자."
   ]
  },
  {
   "cell_type": "code",
   "execution_count": 71,
   "metadata": {
    "collapsed": false
   },
   "outputs": [
    {
     "data": {
      "text/plain": [
       "<matplotlib.collections.PathCollection at 0x7f38b2e7ebe0>"
      ]
     },
     "execution_count": 71,
     "metadata": {},
     "output_type": "execute_result"
    },
    {
     "data": {
      "image/png": "[encoded data removed]",
      "text/plain": [
       "<Figure size 432x288 with 1 Axes>"
      ]
     },
     "metadata": {
      "needs_background": "light"
     },
     "output_type": "display_data"
    }
   ],
   "source": [
    "%matplotlib inline\n",
    "import matplotlib.pyplot as plt\n",
    "\n",
    "plt.scatter(x[:,0],x[:,1],color='blue')\n",
    "plt.scatter(centroids[:,0],centroids[:,1],color='red')"
   ]
  },
  {
   "cell_type": "markdown",
   "metadata": {},
   "source": [
    "## C.5 함수로 만들기\n",
    "\n",
    "### 거리 계산 함수\n",
    "\n",
    "두 점 사이의 거리를 계산하는 함수이다."
   ]
  },
  {
   "cell_type": "code",
   "execution_count": 23,
   "metadata": {
    "collapsed": true
   },
   "outputs": [],
   "source": [
    "def normDist(x1, x2):\n",
    "    #dist=np.sqrt(sum(np.power(x1 - x2, 2))) #36.406001444695193\n",
    "    dist = np.linalg.norm(x1 - x2) #36.406001444695193\n",
    "    return dist"
   ]
  },
  {
   "cell_type": "markdown",
   "metadata": {},
   "source": [
    "### 클라스터링 함수\n",
    "\n",
    "알고리즘을 정리하면 다음과 같다.\n",
    "* ??1회 반복 후에 여기에 centroids를 _centroids로 갱신해주는 코드가 있어야\n",
    "\n",
    "```python\n",
    "while 무한반복 시작\n",
    "    for 행 갯수만큼 반복\n",
    "        최소길이 초기화\n",
    "        최소인덱스 초기화\n",
    "        for 중심점 개수만큼 반복\n",
    "            중심값과 각 데이터 거리 계산\n",
    "            if 최소 거리값이면, 그 클러스터에 할당\n",
    "                최소값 갱신\n",
    "                최소인덱스 갱신\n",
    "        if 클러스터가 변경되지 않았으면:\n",
    "            무한반복 종료\n",
    "        else:\n",
    "            old 중심점을 new 중심점으로 갱신\n",
    "            무한반복 계속\n",
    "```"
   ]
  },
  {
   "cell_type": "code",
   "execution_count": 24,
   "metadata": {
    "collapsed": true
   },
   "outputs": [],
   "source": [
    "def cluster(x, k, centroids):\n",
    "    row, col = x.shape\n",
    "    clusterAssigned = np.zeros(shape=(row, k), dtype=float)\n",
    "    # print (clusterAssigned)\n",
    "    clusterUpdated=True\n",
    "    iter = 1\n",
    "    while(clusterUpdated):\n",
    "        print (\"\\n\\n====== Iteration {} ======\".format(iter))\n",
    "        # STEP 1: assign to closer cluster\n",
    "        for i in range(row):\n",
    "            minDist = np.inf   # set arbitray max to minDist\n",
    "            minIndex = -1      # set arbitray index to minIndex\n",
    "            # compute distance and assign to closer cluster\n",
    "            for j in range(k):\n",
    "                # distance from centroids[j] to x[0]\n",
    "                distJI = normDist(centroids[j], x[i])\n",
    "                # print (\"Distance {:.3f} between {} and {}\".format(distJI, centroids[j], x[i]))\n",
    "                # pick the closest centroid\n",
    "                if distJI < minDist:\n",
    "                    minDist = distJI\n",
    "                    minIndex = j\n",
    "            print (\".....Assigning {} to {}th centroid by {:.3f}\".format(x[i], minIndex, minDist))\n",
    "            clusterAssigned[i] = [minIndex, minDist]   #-----changed\n",
    "        print (\"\\n.....Assigned clusters: \\n {}\".format(clusterAssigned))\n",
    "        # STEP 2: update centroids\n",
    "        _centroids=np.zeros(shape = (k, x.shape[1]), dtype=float)\n",
    "        for cent in range(k):\n",
    "            # read data by index and average them\n",
    "            _centroids[cent] = np.mean(x[clusterAssigned[:,0]==cent],axis=0)\n",
    "        # print (\"Centroids updated: \\n\", _centroids)\n",
    "        # STEP 3: see if centroids is updated. STOP if NOT updated\n",
    "        comparison = np.equal(centroids, _centroids) # np.isclose() in case some tolerence is required\n",
    "        if(comparison.all() == True):\n",
    "            print (\"\\n.....NOT Updating Centroids\\n {} => \\n{}\".format(centroids, _centroids))\n",
    "            clusterUpdated = False\n",
    "            return centroids, clusterAssigned\n",
    "        else:\n",
    "            print (\"\\n.....Updating Centroids\\n {} => \\n{}\".format(centroids, _centroids))\n",
    "            centroids = _centroids\n",
    "            iter += 1"
   ]
  },
  {
   "cell_type": "markdown",
   "metadata": {},
   "source": [
    "### 그래프\n",
    "\n",
    "데이터의 파란 색으로 산포하고 빨간색으로 중심점을 찍는 그래프를 작성하는 함수이다."
   ]
  },
  {
   "cell_type": "code",
   "execution_count": 25,
   "metadata": {
    "collapsed": false
   },
   "outputs": [],
   "source": [
    "def draw(x, centroids):\n",
    "    import matplotlib.pyplot as plt\n",
    "    #plt.subplot(5,2,iter)\n",
    "    plt.scatter(x[:,0], x[:,1], color='blue')\n",
    "    plt.scatter(centroids[:,0], centroids[:,1], color='red')"
   ]
  },
  {
   "cell_type": "markdown",
   "metadata": {},
   "source": [
    "아래 데이터로 실행해보자.\n",
    "데이터의 초기 중심점으로 결과가 다르게 나올 수 있다는 점에 유의하자."
   ]
  },
  {
   "cell_type": "code",
   "execution_count": 10,
   "metadata": {
    "collapsed": false,
    "scrolled": true
   },
   "outputs": [
    {
     "name": "stdout",
     "output_type": "stream",
     "text": [
      "\n",
      "\n",
      "====== Iteration 1 ======\n",
      ".....Assigning [2. 5.] to 0th centroid by 0.000\n",
      ".....Assigning [3. 6.] to 0th centroid by 1.414\n",
      ".....Assigning [2. 4.] to 0th centroid by 1.000\n",
      ".....Assigning [5. 7.] to 0th centroid by 3.606\n",
      ".....Assigning [7. 2.] to 1th centroid by 0.000\n",
      ".....Assigning [8. 3.] to 1th centroid by 1.414\n",
      ".....Assigning [9. 4.] to 1th centroid by 2.828\n",
      ".....Assigning [8. 4.] to 1th centroid by 2.236\n",
      ".....Assigning [7. 3.] to 1th centroid by 1.000\n",
      "\n",
      ".....Assigned clusters: \n",
      " [[0.         0.        ]\n",
      " [0.         1.41421356]\n",
      " [0.         1.        ]\n",
      " [0.         3.60555128]\n",
      " [1.         0.        ]\n",
      " [1.         1.41421356]\n",
      " [1.         2.82842712]\n",
      " [1.         2.23606798]\n",
      " [1.         1.        ]]\n",
      "\n",
      ".....Updating Centroids\n",
      " [[2. 5.]\n",
      " [7. 2.]] => \n",
      "[[3.  5.5]\n",
      " [7.8 3.2]]\n",
      "\n",
      "\n",
      "====== Iteration 2 ======\n",
      ".....Assigning [2. 5.] to 0th centroid by 1.118\n",
      ".....Assigning [3. 6.] to 0th centroid by 0.500\n",
      ".....Assigning [2. 4.] to 0th centroid by 1.803\n",
      ".....Assigning [5. 7.] to 0th centroid by 2.500\n",
      ".....Assigning [7. 2.] to 1th centroid by 1.442\n",
      ".....Assigning [8. 3.] to 1th centroid by 0.283\n",
      ".....Assigning [9. 4.] to 1th centroid by 1.442\n",
      ".....Assigning [8. 4.] to 1th centroid by 0.825\n",
      ".....Assigning [7. 3.] to 1th centroid by 0.825\n",
      "\n",
      ".....Assigned clusters: \n",
      " [[0.         1.11803399]\n",
      " [0.         0.5       ]\n",
      " [0.         1.80277564]\n",
      " [0.         2.5       ]\n",
      " [1.         1.44222051]\n",
      " [1.         0.28284271]\n",
      " [1.         1.44222051]\n",
      " [1.         0.82462113]\n",
      " [1.         0.82462113]]\n",
      "\n",
      ".....NOT Updating Centroids\n",
      " [[3.  5.5]\n",
      " [7.8 3.2]] => \n",
      "[[3.  5.5]\n",
      " [7.8 3.2]]\n"
     ]
    },
    {
     "data": {
      "image/png": "[encoded data removed]",
      "text/plain": [
       "<Figure size 432x288 with 1 Axes>"
      ]
     },
     "metadata": {
      "needs_background": "light"
     },
     "output_type": "display_data"
    }
   ],
   "source": [
    "%matplotlib inline\n",
    "import matplotlib.pyplot as plt\n",
    "import numpy as np\n",
    "\n",
    "x = np.array([[2,5],[3,6],[2,4],[5,7],[7,2],[8,3],[9,4],[8,4],[7,3]], dtype = float)\n",
    "#x = np.array([[1, 2],[1, 4],[1, 0],[4, 2],[4, 4],[4, 0]])\n",
    "k = 2\n",
    "centroids = np.array([[2,5],[7,2]], dtype = float)\n",
    "#centroids = np.array([[1,1],[4,1]], dtype = float)\n",
    "centroids, clusterAssigned = cluster(x, k, centroids)\n",
    "draw(x, centroids)"
   ]
  },
  {
   "cell_type": "markdown",
   "metadata": {},
   "source": [
    "## 문제: k-Means 클러스터링\n",
    "\n",
    "```sklearn.datasets.make_blobs```를 사용하여 데이터를 생성한다.\n",
    "```\n",
    "from sklearn.datasets import make_blobs\n",
    "\n",
    "X, y = make_blobs(n_samples=100, centers=4, cluster_std=0.60, random_state=0)\n",
    "```\n",
    "\n",
    "이 데이터를 4개의 클러스터로 군집화하세요.\n",
    "Python으로 구현해서 클러스터링하는데, 앞서 만든 함수 코드를 한 군데 수정해야 한다.\n",
    "\n",
    "(1) 클러스터의 중심점을 몇 회만에 찾는지, 매 반복 중심값만을 출력한다.\n",
    "(2) 배정된 클러스터가 맞는지 비교하여 동일한지 확인하세요."
   ]
  },
  {
   "cell_type": "markdown",
   "metadata": {},
   "source": [
    "Parameters\n",
    "* n_samples: 샘플 갯수 (기본 값은 100)\n",
    "* n_features: features 갯수 (기본 값은 2)\n",
    "* centers: 중심점 갯수\n",
    "* cluster_std: 클러스터 표준편차 (기본 값은 1.0)\n",
    "* random_state: 기본 값은 None\n",
    "Determines random number generation for dataset creation. Pass an int for reproducible output across multiple function calls. See Glossary.\n",
    "\n",
    "반환:\n",
    "* X 배열 [n_samples, n_features]\n",
    "* y: 배정된 클러스터 The generated samples."
   ]
  },
  {
   "cell_type": "code",
   "execution_count": 53,
   "metadata": {
    "collapsed": false
   },
   "outputs": [],
   "source": [
    "from sklearn.datasets import make_blobs\n",
    "\n",
    "X, y = make_blobs(n_samples=100, centers=4, cluster_std=0.60, random_state=0)"
   ]
  },
  {
   "cell_type": "markdown",
   "metadata": {},
   "source": [
    "함수를 약간 수정해야 한다.\n",
    "cluster함수의 3번째 줄을 아래와 같이 수정해야 한다.\n",
    "\n",
    "```python\n",
    "clusterAssigned = np.zeros(shape=(row, 2), dtype=float)\n",
    "```"
   ]
  },
  {
   "cell_type": "code",
   "execution_count": 55,
   "metadata": {
    "collapsed": false
   },
   "outputs": [
    {
     "data": {
      "text/plain": [
       "array([0, 3, 0, 0, 0, 0, 2, 3, 0, 3, 3, 3, 3, 3, 3, 1, 1, 2, 2, 1, 0, 3,\n",
       "       2, 1, 0, 2, 2, 0, 1, 1, 1, 3, 1, 1, 2, 0, 3, 1, 3, 2, 0, 2, 3, 2,\n",
       "       2, 3, 1, 2, 0, 0, 0, 1, 2, 2, 2, 3, 3, 1, 1, 3, 3, 1, 1, 0, 1, 3,\n",
       "       2, 2, 1, 0, 3, 1, 0, 3, 0, 0, 2, 2, 1, 1, 1, 3, 2, 0, 1, 2, 1, 1,\n",
       "       0, 0, 0, 2, 0, 2, 2, 3, 3, 2, 3, 0])"
      ]
     },
     "execution_count": 55,
     "metadata": {},
     "output_type": "execute_result"
    }
   ],
   "source": [
    "y"
   ]
  },
  {
   "cell_type": "code",
   "execution_count": 54,
   "metadata": {
    "collapsed": false,
    "scrolled": false
   },
   "outputs": [
    {
     "name": "stdout",
     "output_type": "stream",
     "text": [
      "\n",
      "\n",
      "====== Iteration 1 ======\n",
      ".....Assigning [0.669787   3.59540802] to 2th centroid by 1.390\n",
      ".....Assigning [-2.02396992  7.99569054] to 1th centroid by 0.976\n",
      ".....Assigning [1.43289271 4.37679234] to 2th centroid by 0.681\n",
      ".....Assigning [1.06923853 4.53068484] to 2th centroid by 1.071\n",
      ".....Assigning [1.71444449 5.02521524] to 2th centroid by 1.064\n",
      ".....Assigning [0.74387399 4.12240568] to 2th centroid by 1.262\n",
      ".....Assigning [-2.04363942  4.06392123] to 0th centroid by 1.431\n",
      ".....Assigning [-0.67860329  7.88799076] to 1th centroid by 2.324\n",
      ".....Assigning [-0.04749204  5.47425256] to 2th centroid by 2.523\n",
      ".....Assigning [-1.46976488  7.69183251] to 1th centroid by 1.561\n",
      ".....Assigning [-0.86417686  6.86528639] to 1th centroid by 2.419\n",
      ".....Assigning [-1.84838498  6.90859736] to 1th centroid by 1.587\n",
      ".....Assigning [-1.27182547  7.13460392] to 1th centroid by 1.933\n",
      ".....Assigning [-0.93428978  7.73253222] to 1th centroid by 2.083\n",
      ".....Assigning [-0.73415741  7.44484466] to 1th centroid by 2.333\n",
      ".....Assigning [3.18515794 0.08900822] to 3th centroid by 1.495\n",
      ".....Assigning [1.35139348 2.06383637] to 3th centroid by 1.246\n",
      ".....Assigning [-0.09701715  3.48456995] to 2th centroid by 2.159\n",
      ".....Assigning [-1.93150361  2.9369806 ] to 0th centroid by 1.070\n",
      ".....Assigning [2.73890793 0.15676817] to 3th centroid by 1.121\n",
      ".....Assigning [2.33812285 3.43116792] to 2th centroid by 0.662\n",
      ".....Assigning [-1.93673697  7.57276799] to 1th centroid by 1.146\n",
      ".....Assigning [-1.98885366  3.24143178] to 0th centroid by 1.040\n",
      ".....Assigning [ 2.33466499 -0.02408255] to 3th centroid by 1.077\n",
      ".....Assigning [0.43899014 4.53592883] to 2th centroid by 1.650\n",
      ".....Assigning [-1.58597553  2.51979529] to 0th centroid by 1.493\n",
      ".....Assigning [-0.3731388   3.80619114] to 2th centroid by 2.381\n",
      ".....Assigning [0.76752279 4.39759671] to 2th centroid by 1.295\n",
      ".....Assigning [2.94821884 2.03519717] to 3th centroid by 1.404\n",
      ".....Assigning [2.76253526 0.78970876] to 3th centroid by 0.791\n",
      ".....Assigning [1.65179125 0.68193176] to 3th centroid by 0.472\n",
      ".....Assigning [-0.8731169   6.87422542] to 1th centroid by 2.406\n",
      ".....Assigning [2.16172321 0.6565951 ] to 3th centroid by 0.380\n",
      ".....Assigning [2.06156753 1.96918596] to 3th centroid by 0.971\n",
      ".....Assigning [-1.15845639  3.47120626] to 0th centroid by 1.901\n",
      ".....Assigning [1.1641107  3.79132988] to 2th centroid by 0.862\n",
      ".....Assigning [-1.54707525  8.99317925] to 1th centroid by 1.760\n",
      ".....Assigning [1.81336135 1.6311307 ] to 3th centroid by 0.658\n",
      ".....Assigning [0.04968579 8.63737679] to 1th centroid by 3.116\n",
      ".....Assigning [-1.97375691  2.42201914] to 0th centroid by 1.178\n",
      ".....Assigning [1.06269622 5.17635143] to 2th centroid by 1.504\n",
      ".....Assigning [-1.42689992  3.29890112] to 0th centroid by 1.601\n",
      ".....Assigning [-1.63442682  6.50141812] to 1th centroid by 2.027\n",
      ".....Assigning [-2.07459735  3.58809203] to 0th centroid by 1.096\n",
      ".....Assigning [-1.94364473  2.82810154] to 0th centroid by 1.070\n",
      ".....Assigning [-1.98351709  8.3420778 ] to 1th centroid by 1.072\n",
      ".....Assigning [1.53278923 0.55035386] to 3th centroid by 0.648\n",
      ".....Assigning [-1.90841166  3.32374224] to 0th centroid by 1.139\n",
      ".....Assigning [0.67047877 4.04094275] to 2th centroid by 1.330\n",
      ".....Assigning [0.44359863 3.11530945] to 2th centroid by 1.790\n",
      ".....Assigning [0.22459286 4.77028154] to 2th centroid by 1.935\n",
      ".....Assigning [1.868336   0.93136287] to 3th centroid by 0.148\n",
      ".....Assigning [-1.18094952  2.79290301] to 0th centroid by 1.831\n",
      ".....Assigning [-1.78799614  4.0274405 ] to 0th centroid by 1.589\n",
      ".....Assigning [-0.85092246  2.26992336] to 0th centroid by 2.270\n",
      ".....Assigning [-1.26285145  7.39264147] to 1th centroid by 1.840\n",
      ".....Assigning [-0.78518144  8.32956251] to 1th centroid by 2.239\n",
      ".....Assigning [2.49272186 0.97505341] to 3th centroid by 0.493\n",
      ".....Assigning [2.26908736 1.32160756] to 3th centroid by 0.419\n",
      ".....Assigning [-0.5354379   8.02562558] to 1th centroid by 2.465\n",
      ".....Assigning [-1.46065212  7.01048924] to 1th centroid by 1.830\n",
      ".....Assigning [1.41281595 1.5303347 ] to 3th centroid by 0.791\n",
      ".....Assigning [2.13141478 1.13885728] to 3th centroid by 0.191\n",
      ".....Assigning [1.89593761 5.18540259] to 2th centroid by 1.190\n",
      ".....Assigning [1.29297652 1.47930168] to 3th centroid by 0.854\n",
      ".....Assigning [-0.58846002  8.22861825] to 1th centroid by 2.422\n",
      ".....Assigning [-2.31644846  2.6409315 ] to 0th centroid by 0.772\n",
      ".....Assigning [-1.28929999  2.26204536] to 0th centroid by 1.863\n",
      ".....Assigning [2.18023251 1.48364708] to 3th centroid by 0.516\n",
      ".....Assigning [1.24258802 4.50399192] to 2th centroid by 0.910\n",
      ".....Assigning [-1.86880148  8.24441673] to 1th centroid by 1.157\n",
      ".....Assigning [1.35617762 1.43815955] to 3th centroid by 0.779\n",
      ".....Assigning [0.91433877 4.55014643] to 2th centroid by 1.217\n",
      ".....Assigning [-1.52157528  7.84594751] to 1th centroid by 1.486\n",
      ".....Assigning [1.00372519 4.19147702] to 2th centroid by 1.015\n",
      ".....Assigning [1.4949318  3.85848832] to 2th centroid by 0.525\n",
      ".....Assigning [-0.40636864  3.46150906] to 2th centroid by 2.466\n",
      ".....Assigning [-1.68770604  3.3993561 ] to 0th centroid by 1.372\n",
      ".....Assigning [2.29667251 0.48677761] to 3th centroid by 0.593\n",
      ".....Assigning [1.07714851 1.17533301] to 3th centroid by 0.939\n",
      ".....Assigning [ 1.56737975 -0.1381059 ] to 3th centroid by 1.218\n",
      ".....Assigning [-1.69199357  8.76126877] to 1th centroid by 1.513\n",
      ".....Assigning [-1.34796111  3.7137138 ] to 0th centroid by 1.800\n",
      ".....Assigning [0.00793137 4.17614316] to 2th centroid by 2.000\n",
      ".....Assigning [1.67467427 0.68001896] to 3th centroid by 0.456\n",
      ".....Assigning [-0.95855283  2.82487621] to 0th centroid by 2.049\n",
      ".....Assigning [1.5108885 0.9288309] to 3th centroid by 0.494\n",
      ".....Assigning [1.80709613 0.44919077] to 3th centroid by 0.584\n",
      ".....Assigning [1.87271752 4.18069237] to 2th centroid by 0.221\n",
      ".....Assigning [1.01618041 4.48527047] to 2th centroid by 1.097\n",
      ".....Assigning [0.95936074 4.56078645] to 2th centroid by 1.182\n",
      ".....Assigning [-1.30104869  2.25824179] to 0th centroid by 1.854\n",
      ".....Assigning [0.3471383  3.45177657] to 2th centroid by 1.741\n",
      ".....Assigning [-1.12352716  3.16235936] to 0th centroid by 1.883\n",
      ".....Assigning [-2.42165857  3.18151728] to 0th centroid by 0.606\n",
      ".....Assigning [-1.91088578  7.86675906] to 1th centroid by 1.097\n",
      ".....Assigning [-1.73030157  7.42173015] to 1th centroid by 1.395\n",
      ".....Assigning [-1.56784898  3.94588789] to 0th centroid by 1.716\n",
      ".....Assigning [-0.69574048  8.02669661] to 1th centroid by 2.304\n",
      ".....Assigning [-0.55552381  4.69595848] to 2th centroid by 2.649\n",
      "\n",
      ".....Assigned clusters: \n",
      " [[2.         1.39038171]\n",
      " [1.         0.97603959]\n",
      " [2.         0.6808694 ]\n",
      " [2.         1.07142116]\n",
      " [2.         1.06424068]\n",
      " [2.         1.26207595]\n",
      " [0.         1.43057818]\n",
      " [1.         2.32409741]\n",
      " [2.         2.52302284]\n",
      " [1.         1.56095699]\n",
      " [1.         2.41853581]\n",
      " [1.         1.58662436]\n",
      " [1.         1.93274354]\n",
      " [1.         2.08295409]\n",
      " [1.         2.33286093]\n",
      " [3.         1.4948262 ]\n",
      " [3.         1.2459688 ]\n",
      " [2.         2.15943258]\n",
      " [0.         1.0703532 ]\n",
      " [3.         1.1211712 ]\n",
      " [2.         0.66173786]\n",
      " [1.         1.14588633]\n",
      " [0.         1.03957021]\n",
      " [3.         1.0773791 ]\n",
      " [2.         1.65044584]\n",
      " [0.         1.49333913]\n",
      " [2.         2.38103961]\n",
      " [2.         1.29502248]\n",
      " [3.         1.4038348 ]\n",
      " [3.         0.79100091]\n",
      " [3.         0.47161079]\n",
      " [1.         2.40644969]\n",
      " [3.         0.37958046]\n",
      " [3.         0.97113953]\n",
      " [0.         1.90087301]\n",
      " [2.         0.86154172]\n",
      " [1.         1.75994186]\n",
      " [3.         0.65814888]\n",
      " [1.         3.11557902]\n",
      " [0.         1.17781016]\n",
      " [2.         1.50410806]\n",
      " [0.         1.60124506]\n",
      " [1.         2.02744612]\n",
      " [0.         1.09645899]\n",
      " [0.         1.07025022]\n",
      " [1.         1.07249929]\n",
      " [3.         0.64843469]\n",
      " [0.         1.13858427]\n",
      " [2.         1.3301515 ]\n",
      " [2.         1.79026886]\n",
      " [2.         1.93530467]\n",
      " [3.         0.14848052]\n",
      " [0.         1.83080141]\n",
      " [0.         1.588895  ]\n",
      " [0.         2.26970178]\n",
      " [1.         1.84026342]\n",
      " [1.         2.23920358]\n",
      " [3.         0.49335298]\n",
      " [3.         0.41933212]\n",
      " [1.         2.46469532]\n",
      " [1.         1.82995176]\n",
      " [3.         0.7912269 ]\n",
      " [3.         0.19118365]\n",
      " [2.         1.18996146]\n",
      " [3.         0.85417346]\n",
      " [1.         2.42235245]\n",
      " [0.         0.77212233]\n",
      " [0.         1.86308121]\n",
      " [3.         0.51613783]\n",
      " [2.         0.90976962]\n",
      " [1.         1.15730274]\n",
      " [3.         0.77877536]\n",
      " [2.         1.21709548]\n",
      " [1.         1.48642922]\n",
      " [2.         1.01450823]\n",
      " [2.         0.5245183 ]\n",
      " [2.         2.46588372]\n",
      " [0.         1.37171453]\n",
      " [3.         0.59279997]\n",
      " [3.         0.93935964]\n",
      " [3.         1.21755711]\n",
      " [1.         1.51341037]\n",
      " [0.         1.79961659]\n",
      " [2.         1.99984095]\n",
      " [3.         0.45631645]\n",
      " [0.         2.04894482]\n",
      " [3.         0.49426218]\n",
      " [3.         0.58361178]\n",
      " [2.         0.22102163]\n",
      " [2.         1.09699061]\n",
      " [2.         1.18212161]\n",
      " [0.         1.85381789]\n",
      " [2.         1.74140769]\n",
      " [0.         1.88348371]\n",
      " [0.         0.60615785]\n",
      " [1.         1.09723422]\n",
      " [1.         1.39518103]\n",
      " [0.         1.71632178]\n",
      " [1.         2.30441416]\n",
      " [2.         2.64859588]]\n",
      "\n",
      ".....Updating Centroids\n",
      " [[-3.  3.]\n",
      " [-3.  8.]\n",
      " [ 2.  4.]\n",
      " [ 2.  1.]] => \n",
      "[[-1.63043905  3.09879034]\n",
      " [-1.27208964  7.74944718]\n",
      " [ 0.78627354  4.2491454 ]\n",
      " [ 1.97918933  0.97920012]]\n",
      "\n",
      "\n",
      "====== Iteration 2 ======\n",
      ".....Assigning [0.669787   3.59540802] to 2th centroid by 0.664\n",
      ".....Assigning [-2.02396992  7.99569054] to 1th centroid by 0.791\n",
      ".....Assigning [1.43289271 4.37679234] to 2th centroid by 0.659\n",
      ".....Assigning [1.06923853 4.53068484] to 2th centroid by 0.399\n",
      ".....Assigning [1.71444449 5.02521524] to 2th centroid by 1.210\n",
      ".....Assigning [0.74387399 4.12240568] to 2th centroid by 0.134\n",
      ".....Assigning [-2.04363942  4.06392123] to 0th centroid by 1.050\n",
      ".....Assigning [-0.67860329  7.88799076] to 1th centroid by 0.609\n",
      ".....Assigning [-0.04749204  5.47425256] to 2th centroid by 1.482\n",
      ".....Assigning [-1.46976488  7.69183251] to 1th centroid by 0.206\n",
      ".....Assigning [-0.86417686  6.86528639] to 1th centroid by 0.974\n",
      ".....Assigning [-1.84838498  6.90859736] to 1th centroid by 1.019\n",
      ".....Assigning [-1.27182547  7.13460392] to 1th centroid by 0.615\n",
      ".....Assigning [-0.93428978  7.73253222] to 1th centroid by 0.338\n",
      ".....Assigning [-0.73415741  7.44484466] to 1th centroid by 0.618\n",
      ".....Assigning [3.18515794 0.08900822] to 3th centroid by 1.499\n",
      ".....Assigning [1.35139348 2.06383637] to 3th centroid by 1.253\n",
      ".....Assigning [-0.09701715  3.48456995] to 2th centroid by 1.168\n",
      ".....Assigning [-1.93150361  2.9369806 ] to 0th centroid by 0.342\n",
      ".....Assigning [2.73890793 0.15676817] to 3th centroid by 1.120\n",
      ".....Assigning [2.33812285 3.43116792] to 2th centroid by 1.754\n",
      ".....Assigning [-1.93673697  7.57276799] to 1th centroid by 0.688\n",
      ".....Assigning [-1.98885366  3.24143178] to 0th centroid by 0.386\n",
      ".....Assigning [ 2.33466499 -0.02408255] to 3th centroid by 1.064\n",
      ".....Assigning [0.43899014 4.53592883] to 2th centroid by 0.450\n",
      ".....Assigning [-1.58597553  2.51979529] to 0th centroid by 0.581\n",
      ".....Assigning [-0.3731388   3.80619114] to 2th centroid by 1.241\n",
      ".....Assigning [0.76752279 4.39759671] to 2th centroid by 0.150\n",
      ".....Assigning [2.94821884 2.03519717] to 3th centroid by 1.433\n",
      ".....Assigning [2.76253526 0.78970876] to 3th centroid by 0.806\n",
      ".....Assigning [1.65179125 0.68193176] to 3th centroid by 0.442\n",
      ".....Assigning [-0.8731169   6.87422542] to 1th centroid by 0.962\n",
      ".....Assigning [2.16172321 0.6565951 ] to 3th centroid by 0.371\n",
      ".....Assigning [2.06156753 1.96918596] to 3th centroid by 0.993\n",
      ".....Assigning [-1.15845639  3.47120626] to 0th centroid by 0.601\n",
      ".....Assigning [1.1641107  3.79132988] to 2th centroid by 0.594\n",
      ".....Assigning [-1.54707525  8.99317925] to 1th centroid by 1.274\n",
      ".....Assigning [1.81336135 1.6311307 ] to 3th centroid by 0.673\n",
      ".....Assigning [0.04968579 8.63737679] to 1th centroid by 1.592\n",
      ".....Assigning [-1.97375691  2.42201914] to 0th centroid by 0.759\n",
      ".....Assigning [1.06269622 5.17635143] to 2th centroid by 0.968\n",
      ".....Assigning [-1.42689992  3.29890112] to 0th centroid by 0.285\n",
      ".....Assigning [-1.63442682  6.50141812] to 1th centroid by 1.300\n",
      ".....Assigning [-2.07459735  3.58809203] to 0th centroid by 0.661\n",
      ".....Assigning [-1.94364473  2.82810154] to 0th centroid by 0.414\n",
      ".....Assigning [-1.98351709  8.3420778 ] to 1th centroid by 0.926\n",
      ".....Assigning [1.53278923 0.55035386] to 3th centroid by 0.619\n",
      ".....Assigning [-1.90841166  3.32374224] to 0th centroid by 0.358\n",
      ".....Assigning [0.67047877 4.04094275] to 2th centroid by 0.238\n",
      ".....Assigning [0.44359863 3.11530945] to 2th centroid by 1.184\n",
      ".....Assigning [0.22459286 4.77028154] to 2th centroid by 0.766\n",
      ".....Assigning [1.868336   0.93136287] to 3th centroid by 0.121\n",
      ".....Assigning [-1.18094952  2.79290301] to 0th centroid by 0.544\n",
      ".....Assigning [-1.78799614  4.0274405 ] to 0th centroid by 0.942\n",
      ".....Assigning [-0.85092246  2.26992336] to 0th centroid by 1.138\n",
      ".....Assigning [-1.26285145  7.39264147] to 1th centroid by 0.357\n",
      ".....Assigning [-0.78518144  8.32956251] to 1th centroid by 0.757\n",
      ".....Assigning [2.49272186 0.97505341] to 3th centroid by 0.514\n",
      ".....Assigning [2.26908736 1.32160756] to 3th centroid by 0.449\n",
      ".....Assigning [-0.5354379   8.02562558] to 1th centroid by 0.787\n",
      ".....Assigning [-1.46065212  7.01048924] to 1th centroid by 0.763\n",
      ".....Assigning [1.41281595 1.5303347 ] to 3th centroid by 0.790\n",
      ".....Assigning [2.13141478 1.13885728] to 3th centroid by 0.221\n",
      ".....Assigning [1.89593761 5.18540259] to 2th centroid by 1.452\n",
      ".....Assigning [1.29297652 1.47930168] to 3th centroid by 0.849\n",
      ".....Assigning [-0.58846002  8.22861825] to 1th centroid by 0.835\n",
      ".....Assigning [-2.31644846  2.6409315 ] to 0th centroid by 0.825\n",
      ".....Assigning [-1.28929999  2.26204536] to 0th centroid by 0.904\n",
      ".....Assigning [2.18023251 1.48364708] to 3th centroid by 0.543\n",
      ".....Assigning [1.24258802 4.50399192] to 2th centroid by 0.523\n",
      ".....Assigning [-1.86880148  8.24441673] to 1th centroid by 0.775\n",
      ".....Assigning [1.35617762 1.43815955] to 3th centroid by 0.774\n",
      ".....Assigning [0.91433877 4.55014643] to 2th centroid by 0.327\n",
      ".....Assigning [-1.52157528  7.84594751] to 1th centroid by 0.267\n",
      ".....Assigning [1.00372519 4.19147702] to 2th centroid by 0.225\n",
      ".....Assigning [1.4949318  3.85848832] to 2th centroid by 0.809\n",
      ".....Assigning [-0.40636864  3.46150906] to 0th centroid by 1.277\n",
      ".....Assigning [-1.68770604  3.3993561 ] to 0th centroid by 0.306\n",
      ".....Assigning [2.29667251 0.48677761] to 3th centroid by 0.586\n",
      ".....Assigning [1.07714851 1.17533301] to 3th centroid by 0.923\n",
      ".....Assigning [ 1.56737975 -0.1381059 ] to 3th centroid by 1.191\n",
      ".....Assigning [-1.69199357  8.76126877] to 1th centroid by 1.095\n",
      ".....Assigning [-1.34796111  3.7137138 ] to 0th centroid by 0.677\n",
      ".....Assigning [0.00793137 4.17614316] to 2th centroid by 0.782\n",
      ".....Assigning [1.67467427 0.68001896] to 3th centroid by 0.427\n",
      ".....Assigning [-0.95855283  2.82487621] to 0th centroid by 0.726\n",
      ".....Assigning [1.5108885 0.9288309] to 3th centroid by 0.471\n",
      ".....Assigning [1.80709613 0.44919077] to 3th centroid by 0.557\n",
      ".....Assigning [1.87271752 4.18069237] to 2th centroid by 1.089\n",
      ".....Assigning [1.01618041 4.48527047] to 2th centroid by 0.330\n",
      ".....Assigning [0.95936074 4.56078645] to 2th centroid by 0.356\n",
      ".....Assigning [-1.30104869  2.25824179] to 0th centroid by 0.903\n",
      ".....Assigning [0.3471383  3.45177657] to 2th centroid by 0.910\n",
      ".....Assigning [-1.12352716  3.16235936] to 0th centroid by 0.511\n",
      ".....Assigning [-2.42165857  3.18151728] to 0th centroid by 0.796\n",
      ".....Assigning [-1.91088578  7.86675906] to 1th centroid by 0.649\n",
      ".....Assigning [-1.73030157  7.42173015] to 1th centroid by 0.563\n",
      ".....Assigning [-1.56784898  3.94588789] to 0th centroid by 0.849\n",
      ".....Assigning [-0.69574048  8.02669661] to 1th centroid by 0.640\n",
      ".....Assigning [-0.55552381  4.69595848] to 2th centroid by 1.414\n",
      "\n",
      ".....Assigned clusters: \n",
      " [[2.         0.66403439]\n",
      " [1.         0.79117618]\n",
      " [2.         0.65909795]\n",
      " [2.         0.39916619]\n",
      " [2.         1.20987012]\n",
      " [2.         0.13364385]\n",
      " [0.         1.04986294]\n",
      " [1.         0.60944267]\n",
      " [2.         1.48190843]\n",
      " [1.         0.20590034]\n",
      " [1.         0.97372129]\n",
      " [1.         1.0193845 ]\n",
      " [1.         0.61484332]\n",
      " [1.         0.33822309]\n",
      " [1.         0.61818588]\n",
      " [3.         1.49893359]\n",
      " [3.         1.25322122]\n",
      " [2.         1.16823715]\n",
      " [0.         0.34179272]\n",
      " [3.         1.11962791]\n",
      " [2.         1.75423016]\n",
      " [1.         0.68772932]\n",
      " [0.         0.3857559 ]\n",
      " [3.         1.0643961 ]\n",
      " [2.         0.45038927]\n",
      " [0.         0.58069981]\n",
      " [2.         1.24114682]\n",
      " [2.         0.14963082]\n",
      " [3.         1.4332299 ]\n",
      " [3.         0.8059391 ]\n",
      " [3.         0.44221938]\n",
      " [1.         0.96186921]\n",
      " [3.         0.3706651 ]\n",
      " [3.         0.99340733]\n",
      " [0.         0.60121648]\n",
      " [2.         0.59359579]\n",
      " [1.         1.27376863]\n",
      " [3.         0.67269042]\n",
      " [1.         1.59232825]\n",
      " [0.         0.7588718 ]\n",
      " [2.         0.96753322]\n",
      " [0.         0.28543389]\n",
      " [1.         1.2995633 ]\n",
      " [0.         0.66082732]\n",
      " [0.         0.41396887]\n",
      " [1.         0.9259266 ]\n",
      " [3.         0.61901709]\n",
      " [0.         0.35759213]\n",
      " [2.         0.2382368 ]\n",
      " [2.         1.18448725]\n",
      " [2.         0.76620367]\n",
      " [3.         0.12073468]\n",
      " [0.         0.54369835]\n",
      " [0.         0.9419211 ]\n",
      " [0.         1.13783416]\n",
      " [1.         0.35692529]\n",
      " [1.         0.75737268]\n",
      " [3.         0.51354927]\n",
      " [3.         0.44864655]\n",
      " [1.         0.78672123]\n",
      " [1.         0.76263665]\n",
      " [3.         0.79027092]\n",
      " [3.         0.22059691]\n",
      " [2.         1.45187186]\n",
      " [3.         0.84911106]\n",
      " [1.         0.83483793]\n",
      " [0.         0.82476883]\n",
      " [0.         0.90361387]\n",
      " [3.         0.54303324]\n",
      " [2.         0.52265635]\n",
      " [1.         0.77528051]\n",
      " [3.         0.77381352]\n",
      " [2.         0.3271121 ]\n",
      " [1.         0.26749841]\n",
      " [2.         0.22496858]\n",
      " [2.         0.809203  ]\n",
      " [0.         1.27668056]\n",
      " [0.         0.30597269]\n",
      " [3.         0.58589717]\n",
      " [3.         0.92311741]\n",
      " [3.         1.1907812 ]\n",
      " [1.         1.09549178]\n",
      " [0.         0.6767013 ]\n",
      " [2.         0.78175818]\n",
      " [3.         0.42689436]\n",
      " [0.         0.72557566]\n",
      " [3.         0.47100183]\n",
      " [3.         0.55724858]\n",
      " [2.         1.08859834]\n",
      " [2.         0.32956368]\n",
      " [2.         0.35648188]\n",
      " [0.         0.90278451]\n",
      " [2.         0.9102949 ]\n",
      " [0.         0.51088226]\n",
      " [0.         0.79553257]\n",
      " [1.         0.64947871]\n",
      " [1.         0.56334415]\n",
      " [0.         0.84940673]\n",
      " [1.         0.63956672]\n",
      " [2.         1.4142355 ]]\n",
      "\n",
      ".....Updating Centroids\n",
      " [[-1.63043905  3.09879034]\n",
      " [-1.27208964  7.74944718]\n",
      " [ 0.78627354  4.2491454 ]\n",
      " [ 1.97918933  0.97920012]] => \n",
      "[[-1.5772186   3.11456071]\n",
      " [-1.27208964  7.74944718]\n",
      " [ 0.83044547  4.27831711]\n",
      " [ 1.97918933  0.97920012]]\n",
      "\n",
      "\n",
      "====== Iteration 3 ======\n",
      ".....Assigning [0.669787   3.59540802] to 2th centroid by 0.702\n",
      ".....Assigning [-2.02396992  7.99569054] to 1th centroid by 0.791\n",
      ".....Assigning [1.43289271 4.37679234] to 2th centroid by 0.610\n",
      ".....Assigning [1.06923853 4.53068484] to 2th centroid by 0.347\n",
      ".....Assigning [1.71444449 5.02521524] to 2th centroid by 1.157\n",
      ".....Assigning [0.74387399 4.12240568] to 2th centroid by 0.178\n",
      ".....Assigning [-2.04363942  4.06392123] to 0th centroid by 1.058\n",
      ".....Assigning [-0.67860329  7.88799076] to 1th centroid by 0.609\n",
      ".....Assigning [-0.04749204  5.47425256] to 2th centroid by 1.484\n",
      ".....Assigning [-1.46976488  7.69183251] to 1th centroid by 0.206\n",
      ".....Assigning [-0.86417686  6.86528639] to 1th centroid by 0.974\n",
      ".....Assigning [-1.84838498  6.90859736] to 1th centroid by 1.019\n",
      ".....Assigning [-1.27182547  7.13460392] to 1th centroid by 0.615\n",
      ".....Assigning [-0.93428978  7.73253222] to 1th centroid by 0.338\n",
      ".....Assigning [-0.73415741  7.44484466] to 1th centroid by 0.618\n",
      ".....Assigning [3.18515794 0.08900822] to 3th centroid by 1.499\n",
      ".....Assigning [1.35139348 2.06383637] to 3th centroid by 1.253\n",
      ".....Assigning [-0.09701715  3.48456995] to 2th centroid by 1.221\n",
      ".....Assigning [-1.93150361  2.9369806 ] to 0th centroid by 0.396\n",
      ".....Assigning [2.73890793 0.15676817] to 3th centroid by 1.120\n",
      ".....Assigning [2.33812285 3.43116792] to 2th centroid by 1.729\n",
      ".....Assigning [-1.93673697  7.57276799] to 1th centroid by 0.688\n",
      ".....Assigning [-1.98885366  3.24143178] to 0th centroid by 0.431\n",
      ".....Assigning [ 2.33466499 -0.02408255] to 3th centroid by 1.064\n",
      ".....Assigning [0.43899014 4.53592883] to 2th centroid by 0.469\n",
      ".....Assigning [-1.58597553  2.51979529] to 0th centroid by 0.595\n",
      ".....Assigning [-0.3731388   3.80619114] to 2th centroid by 1.293\n",
      ".....Assigning [0.76752279 4.39759671] to 2th centroid by 0.135\n",
      ".....Assigning [2.94821884 2.03519717] to 3th centroid by 1.433\n",
      ".....Assigning [2.76253526 0.78970876] to 3th centroid by 0.806\n",
      ".....Assigning [1.65179125 0.68193176] to 3th centroid by 0.442\n",
      ".....Assigning [-0.8731169   6.87422542] to 1th centroid by 0.962\n",
      ".....Assigning [2.16172321 0.6565951 ] to 3th centroid by 0.371\n",
      ".....Assigning [2.06156753 1.96918596] to 3th centroid by 0.993\n",
      ".....Assigning [-1.15845639  3.47120626] to 0th centroid by 0.550\n",
      ".....Assigning [1.1641107  3.79132988] to 2th centroid by 0.590\n",
      ".....Assigning [-1.54707525  8.99317925] to 1th centroid by 1.274\n",
      ".....Assigning [1.81336135 1.6311307 ] to 3th centroid by 0.673\n",
      ".....Assigning [0.04968579 8.63737679] to 1th centroid by 1.592\n",
      ".....Assigning [-1.97375691  2.42201914] to 0th centroid by 0.798\n",
      ".....Assigning [1.06269622 5.17635143] to 2th centroid by 0.928\n",
      ".....Assigning [-1.42689992  3.29890112] to 0th centroid by 0.238\n",
      ".....Assigning [-1.63442682  6.50141812] to 1th centroid by 1.300\n",
      ".....Assigning [-2.07459735  3.58809203] to 0th centroid by 0.687\n",
      ".....Assigning [-1.94364473  2.82810154] to 0th centroid by 0.465\n",
      ".....Assigning [-1.98351709  8.3420778 ] to 1th centroid by 0.926\n",
      ".....Assigning [1.53278923 0.55035386] to 3th centroid by 0.619\n",
      ".....Assigning [-1.90841166  3.32374224] to 0th centroid by 0.392\n",
      ".....Assigning [0.67047877 4.04094275] to 2th centroid by 0.286\n",
      ".....Assigning [0.44359863 3.11530945] to 2th centroid by 1.226\n",
      ".....Assigning [0.22459286 4.77028154] to 2th centroid by 0.780\n",
      ".....Assigning [1.868336   0.93136287] to 3th centroid by 0.121\n",
      ".....Assigning [-1.18094952  2.79290301] to 0th centroid by 0.510\n",
      ".....Assigning [-1.78799614  4.0274405 ] to 0th centroid by 0.937\n",
      ".....Assigning [-0.85092246  2.26992336] to 0th centroid by 1.114\n",
      ".....Assigning [-1.26285145  7.39264147] to 1th centroid by 0.357\n",
      ".....Assigning [-0.78518144  8.32956251] to 1th centroid by 0.757\n",
      ".....Assigning [2.49272186 0.97505341] to 3th centroid by 0.514\n",
      ".....Assigning [2.26908736 1.32160756] to 3th centroid by 0.449\n",
      ".....Assigning [-0.5354379   8.02562558] to 1th centroid by 0.787\n",
      ".....Assigning [-1.46065212  7.01048924] to 1th centroid by 0.763\n",
      ".....Assigning [1.41281595 1.5303347 ] to 3th centroid by 0.790\n",
      ".....Assigning [2.13141478 1.13885728] to 3th centroid by 0.221\n",
      ".....Assigning [1.89593761 5.18540259] to 2th centroid by 1.399\n",
      ".....Assigning [1.29297652 1.47930168] to 3th centroid by 0.849\n",
      ".....Assigning [-0.58846002  8.22861825] to 1th centroid by 0.835\n",
      ".....Assigning [-2.31644846  2.6409315 ] to 0th centroid by 0.878\n",
      ".....Assigning [-1.28929999  2.26204536] to 0th centroid by 0.900\n",
      ".....Assigning [2.18023251 1.48364708] to 3th centroid by 0.543\n",
      ".....Assigning [1.24258802 4.50399192] to 2th centroid by 0.470\n",
      ".....Assigning [-1.86880148  8.24441673] to 1th centroid by 0.775\n",
      ".....Assigning [1.35617762 1.43815955] to 3th centroid by 0.774\n",
      ".....Assigning [0.91433877 4.55014643] to 2th centroid by 0.284\n",
      ".....Assigning [-1.52157528  7.84594751] to 1th centroid by 0.267\n",
      ".....Assigning [1.00372519 4.19147702] to 2th centroid by 0.194\n",
      ".....Assigning [1.4949318  3.85848832] to 2th centroid by 0.786\n",
      ".....Assigning [-0.40636864  3.46150906] to 0th centroid by 1.221\n",
      ".....Assigning [-1.68770604  3.3993561 ] to 0th centroid by 0.305\n",
      ".....Assigning [2.29667251 0.48677761] to 3th centroid by 0.586\n",
      ".....Assigning [1.07714851 1.17533301] to 3th centroid by 0.923\n",
      ".....Assigning [ 1.56737975 -0.1381059 ] to 3th centroid by 1.191\n",
      ".....Assigning [-1.69199357  8.76126877] to 1th centroid by 1.095\n",
      ".....Assigning [-1.34796111  3.7137138 ] to 0th centroid by 0.642\n",
      ".....Assigning [0.00793137 4.17614316] to 2th centroid by 0.829\n",
      ".....Assigning [1.67467427 0.68001896] to 3th centroid by 0.427\n",
      ".....Assigning [-0.95855283  2.82487621] to 0th centroid by 0.683\n",
      ".....Assigning [1.5108885 0.9288309] to 3th centroid by 0.471\n",
      ".....Assigning [1.80709613 0.44919077] to 3th centroid by 0.557\n",
      ".....Assigning [1.87271752 4.18069237] to 2th centroid by 1.047\n",
      ".....Assigning [1.01618041 4.48527047] to 2th centroid by 0.278\n",
      ".....Assigning [0.95936074 4.56078645] to 2th centroid by 0.310\n",
      ".....Assigning [-1.30104869  2.25824179] to 0th centroid by 0.900\n",
      ".....Assigning [0.3471383  3.45177657] to 2th centroid by 0.957\n",
      ".....Assigning [-1.12352716  3.16235936] to 0th centroid by 0.456\n",
      ".....Assigning [-2.42165857  3.18151728] to 0th centroid by 0.847\n",
      ".....Assigning [-1.91088578  7.86675906] to 1th centroid by 0.649\n",
      ".....Assigning [-1.73030157  7.42173015] to 1th centroid by 0.563\n",
      ".....Assigning [-1.56784898  3.94588789] to 0th centroid by 0.831\n",
      ".....Assigning [-0.69574048  8.02669661] to 1th centroid by 0.640\n",
      ".....Assigning [-0.55552381  4.69595848] to 2th centroid by 1.448\n",
      "\n",
      ".....Assigned clusters: \n",
      " [[2.         0.70155255]\n",
      " [1.         0.79117618]\n",
      " [2.         0.61044251]\n",
      " [2.         0.34743575]\n",
      " [2.         1.15728608]\n",
      " [2.         0.17833395]\n",
      " [0.         1.05774939]\n",
      " [1.         0.60944267]\n",
      " [2.         1.48358885]\n",
      " [1.         0.20590034]\n",
      " [1.         0.97372129]\n",
      " [1.         1.0193845 ]\n",
      " [1.         0.61484332]\n",
      " [1.         0.33822309]\n",
      " [1.         0.61818588]\n",
      " [3.         1.49893359]\n",
      " [3.         1.25322122]\n",
      " [2.         1.22074627]\n",
      " [0.         0.39629858]\n",
      " [3.         1.11962791]\n",
      " [2.         1.72937932]\n",
      " [1.         0.68772932]\n",
      " [0.         0.43074318]\n",
      " [3.         1.0643961 ]\n",
      " [2.         0.46861612]\n",
      " [0.         0.59482989]\n",
      " [2.         1.292872  ]\n",
      " [2.         0.13485876]\n",
      " [3.         1.4332299 ]\n",
      " [3.         0.8059391 ]\n",
      " [3.         0.44221938]\n",
      " [1.         0.96186921]\n",
      " [3.         0.3706651 ]\n",
      " [3.         0.99340733]\n",
      " [0.         0.55005257]\n",
      " [2.         0.59032961]\n",
      " [1.         1.27376863]\n",
      " [3.         0.67269042]\n",
      " [1.         1.59232825]\n",
      " [0.         0.79803287]\n",
      " [2.         0.92758075]\n",
      " [0.         0.2378594 ]\n",
      " [1.         1.2995633 ]\n",
      " [0.         0.68674415]\n",
      " [0.         0.46510963]\n",
      " [1.         0.9259266 ]\n",
      " [3.         0.61901709]\n",
      " [0.         0.39172153]\n",
      " [2.         0.28624454]\n",
      " [2.         1.22565791]\n",
      " [2.         0.78043986]\n",
      " [3.         0.12073468]\n",
      " [0.         0.51038501]\n",
      " [0.         0.93689737]\n",
      " [0.         1.11396515]\n",
      " [1.         0.35692529]\n",
      " [1.         0.75737268]\n",
      " [3.         0.51354927]\n",
      " [3.         0.44864655]\n",
      " [1.         0.78672123]\n",
      " [1.         0.76263665]\n",
      " [3.         0.79027092]\n",
      " [3.         0.22059691]\n",
      " [2.         1.39931325]\n",
      " [3.         0.84911106]\n",
      " [1.         0.83483793]\n",
      " [0.         0.87794386]\n",
      " [0.         0.89982196]\n",
      " [3.         0.54303324]\n",
      " [2.         0.46988361]\n",
      " [1.         0.77528051]\n",
      " [3.         0.77381352]\n",
      " [2.         0.28448069]\n",
      " [1.         0.26749841]\n",
      " [2.         0.19382225]\n",
      " [2.         0.78600146]\n",
      " [0.         1.22117271]\n",
      " [0.         0.30547649]\n",
      " [3.         0.58589717]\n",
      " [3.         0.92311741]\n",
      " [3.         1.1907812 ]\n",
      " [1.         1.09549178]\n",
      " [0.         0.6415165 ]\n",
      " [2.         0.8288359 ]\n",
      " [3.         0.42689436]\n",
      " [0.         0.68312842]\n",
      " [3.         0.47100183]\n",
      " [3.         0.55724858]\n",
      " [2.         1.0468341 ]\n",
      " [2.         0.27807762]\n",
      " [2.         0.3104965 ]\n",
      " [0.         0.89975103]\n",
      " [2.         0.95747329]\n",
      " [0.         0.4562024 ]\n",
      " [0.         0.84709034]\n",
      " [1.         0.64947871]\n",
      " [1.         0.56334415]\n",
      " [0.         0.83137998]\n",
      " [1.         0.63956672]\n",
      " [2.         1.44752726]]\n",
      "\n",
      ".....NOT Updating Centroids\n",
      " [[-1.5772186   3.11456071]\n",
      " [-1.27208964  7.74944718]\n",
      " [ 0.83044547  4.27831711]\n",
      " [ 1.97918933  0.97920012]] => \n",
      "[[-1.5772186   3.11456071]\n",
      " [-1.27208964  7.74944718]\n",
      " [ 0.83044547  4.27831711]\n",
      " [ 1.97918933  0.97920012]]\n"
     ]
    },
    {
     "data": {
      "image/png": "[encoded data removed]",
      "text/plain": [
       "<Figure size 432x288 with 1 Axes>"
      ]
     },
     "metadata": {
      "needs_background": "light"
     },
     "output_type": "display_data"
    }
   ],
   "source": [
    "%matplotlib inline\n",
    "\n",
    "import matplotlib.pyplot as plt\n",
    "import numpy as np\n",
    "\n",
    "k = 4\n",
    "centroids = np.array([[-3,3], [-3,8], [2,4], [2,1]], dtype = float)\n",
    "centroids, clusterAssigned = cluster(X, k, centroids)\n",
    "draw(X, centroids)"
   ]
  },
  {
   "cell_type": "markdown",
   "metadata": {
    "collapsed": true
   },
   "source": [
    "## C.6 sklearn\n",
    "\n",
    "### 데이터"
   ]
  },
  {
   "cell_type": "code",
   "execution_count": 21,
   "metadata": {
    "collapsed": true
   },
   "outputs": [],
   "source": [
    "import numpy as np\n",
    "\n",
    "X = np.array([[2,5],[3,6],[2,4],[5,7],[7,2],[8,3],[9,4],[8,4],[7,3]], dtype = float)"
   ]
  },
  {
   "cell_type": "markdown",
   "metadata": {},
   "source": [
    "### k-means 클러스터링\n",
    "\n",
    "* n_clusters=2, 클러스터를 2개로 설정,\n",
    "* ```init='random'```은 초기화를 무작위로 설정,\n",
    "* ```random_state=2```에 정수를 입력하면, 그 정수는 중심값을 무작위로 생성하는 seed로 쓰인다. seed를 정하게 되면, 클러스터링을 몇 번 해도 동일한 결과가 만들어질 수 있다."
   ]
  },
  {
   "cell_type": "code",
   "execution_count": 22,
   "metadata": {
    "collapsed": true
   },
   "outputs": [],
   "source": [
    "from sklearn.cluster import KMeans\n",
    "\n",
    "kmeans = KMeans(n_clusters=2, init='random', random_state=2).fit(X)"
   ]
  },
  {
   "cell_type": "markdown",
   "metadata": {},
   "source": [
    "### 클러스터 할당\n",
    "\n",
    "각 데이터 항목에게 배정된 클러스터를 출력하면, 앞서의 결과와 동일하다."
   ]
  },
  {
   "cell_type": "code",
   "execution_count": 20,
   "metadata": {
    "collapsed": false
   },
   "outputs": [
    {
     "name": "stdout",
     "output_type": "stream",
     "text": [
      "Cluster label:  [0 0 0 0 1 1 1 1 1]\n"
     ]
    }
   ],
   "source": [
    "print (\"Cluster label: \", kmeans.labels_)"
   ]
  },
  {
   "cell_type": "markdown",
   "metadata": {},
   "source": [
    "클러스터의 중심점을 출력해보자."
   ]
  },
  {
   "cell_type": "code",
   "execution_count": 17,
   "metadata": {
    "collapsed": false
   },
   "outputs": [
    {
     "name": "stdout",
     "output_type": "stream",
     "text": [
      "Centroid:  [[3.  5.5]\n",
      " [7.8 3.2]]\n"
     ]
    }
   ],
   "source": [
    "print (\"Centroid: \", kmeans.cluster_centers_)"
   ]
  },
  {
   "cell_type": "markdown",
   "metadata": {},
   "source": [
    "### 예측\n",
    "\n",
    "두 점을 입력하고, 어느 클러스터에 할당되는지 예측해볼 수 있다."
   ]
  },
  {
   "cell_type": "code",
   "execution_count": 18,
   "metadata": {
    "collapsed": false
   },
   "outputs": [
    {
     "name": "stdout",
     "output_type": "stream",
     "text": [
      "Predictions:  [0 1]\n"
     ]
    }
   ],
   "source": [
    "print (\"Predictions: \", kmeans.predict([[0, 0], [7, 4]]))"
   ]
  },
  {
   "cell_type": "code",
   "execution_count": null,
   "metadata": {
    "collapsed": true
   },
   "outputs": [],
   "source": []
  },
  {
   "cell_type": "markdown",
   "metadata": {},
   "source": [
    "## 문제: sklearn 클러스터링"
   ]
  },
  {
   "cell_type": "code",
   "execution_count": 2,
   "metadata": {
    "collapsed": false
   },
   "outputs": [
    {
     "name": "stdout",
     "output_type": "stream",
     "text": [
      "Cluster label:  [1 0 1 0 0 1]\n",
      "Centroid:  [[3.         3.33333333]\n",
      " [2.         0.66666667]]\n",
      "Predictions:  [1 0]\n"
     ]
    }
   ],
   "source": [
    "from sklearn.cluster import KMeans\n",
    "import numpy as np\n",
    "X = np.array([[1, 2],[1, 4],[1, 0],[4, 2],[4, 4],[4, 0]])\n",
    "kmeans = KMeans(n_clusters=2, random_state=0).fit(X)\n",
    "print (\"Cluster label: \", kmeans.labels_)\n",
    "print (\"Centroid: \", kmeans.cluster_centers_)\n",
    "print (\"Predictions: \",kmeans.predict([[0, 0], [4, 4]]))"
   ]
  },
  {
   "cell_type": "markdown",
   "metadata": {},
   "source": [
    "## C.7 Spark\n",
    "\n",
    "Python 실행경로를 지정해주고, SparkSession을 먼저 생성하자."
   ]
  },
  {
   "cell_type": "code",
   "execution_count": 31,
   "metadata": {
    "collapsed": true
   },
   "outputs": [],
   "source": [
    "import os\n",
    "os.environ[\"PYSPARK_PYTHON\"]=\"/usr/bin/python3\"\n",
    "os.environ[\"PYSPARK_DRIVER_PYTHON\"]=\"/usr/bin/python3\""
   ]
  },
  {
   "cell_type": "code",
   "execution_count": 32,
   "metadata": {
    "collapsed": false
   },
   "outputs": [],
   "source": [
    "import pyspark\n",
    "\n",
    "myConf=pyspark.SparkConf()\n",
    "spark = pyspark.sql.SparkSession.builder\\\n",
    "    .master(\"local\")\\\n",
    "    .appName(\"myApp\")\\\n",
    "    .config(conf=myConf)\\\n",
    "    .getOrCreate()"
   ]
  },
  {
   "cell_type": "markdown",
   "metadata": {},
   "source": [
    "### 데이터 생성\n",
    "\n",
    "numpy 배열 데이터를 생성해보자. 2개의 속성으로 구성된 배열을 2차원으로 가지고 있다."
   ]
  },
  {
   "cell_type": "code",
   "execution_count": 23,
   "metadata": {
    "collapsed": false
   },
   "outputs": [],
   "source": [
    "import numpy as np\n",
    "\n",
    "x = np.array([[2,5],[3,6],[2,4],[5,7],[7,2],[8,3],[9,4],[8,4],[7,3]], dtype = float)"
   ]
  },
  {
   "cell_type": "markdown",
   "metadata": {},
   "source": [
    "### DataFrame\n",
    "\n",
    "Numpy array와 Spark Dataframe은 서로 다른 구조를 가지고 있으며, 데이터타입도 서로 다르다.\n",
    "numpy array는 Pandas를 통하거나, RDD로 만든 후, DataFrame으로 변환해준다.\n",
    "여기서는 RDD를 통해서 DataFrame으로 만들기로 하자."
   ]
  },
  {
   "cell_type": "code",
   "execution_count": 4,
   "metadata": {
    "collapsed": false
   },
   "outputs": [],
   "source": [
    "_xRdd = spark.sparkContext.parallelize(x)"
   ]
  },
  {
   "cell_type": "markdown",
   "metadata": {},
   "source": [
    "Rdd는 컬럼명이나 데이터타입을 설정하지 않고 만들었다.\n",
    "데이터를 정수형으로 변환해주자."
   ]
  },
  {
   "cell_type": "code",
   "execution_count": 5,
   "metadata": {
    "collapsed": true
   },
   "outputs": [],
   "source": [
    "xRdd = _xRdd.map(lambda x: [int(i) for i in x])"
   ]
  },
  {
   "cell_type": "markdown",
   "metadata": {},
   "source": [
    "데이터가 올바르게 읽혀졌는지 collect() 해보자."
   ]
  },
  {
   "cell_type": "code",
   "execution_count": 6,
   "metadata": {
    "collapsed": false
   },
   "outputs": [
    {
     "data": {
      "text/plain": [
       "[[2, 5], [3, 6], [2, 4], [5, 7], [7, 2], [8, 3], [9, 4], [8, 4], [7, 3]]"
      ]
     },
     "execution_count": 6,
     "metadata": {},
     "output_type": "execute_result"
    }
   ],
   "source": [
    "xRdd.collect()"
   ]
  },
  {
   "cell_type": "markdown",
   "metadata": {},
   "source": [
    "이제 DataFrame으로 변환하자. 컬럼명은 같이 리스트 ```[\"x\", \"y\"]```로 입력해준다."
   ]
  },
  {
   "cell_type": "code",
   "execution_count": 7,
   "metadata": {
    "collapsed": false
   },
   "outputs": [
    {
     "name": "stdout",
     "output_type": "stream",
     "text": [
      "+---+---+\n",
      "|  x|  y|\n",
      "+---+---+\n",
      "|  2|  5|\n",
      "|  3|  6|\n",
      "|  2|  4|\n",
      "|  5|  7|\n",
      "|  7|  2|\n",
      "|  8|  3|\n",
      "|  9|  4|\n",
      "|  8|  4|\n",
      "|  7|  3|\n",
      "+---+---+\n",
      "\n"
     ]
    }
   ],
   "source": [
    "xDf = xRdd.toDF([\"x\", \"y\"])\n",
    "xDf.show()"
   ]
  },
  {
   "cell_type": "markdown",
   "metadata": {},
   "source": [
    "### Features 설정\n",
    "\n",
    "클러스터링에 쓰이게 될 속성을 ```VectorAssembler```로 묶어서 ```features``` 컬럼을 생성해주자."
   ]
  },
  {
   "cell_type": "code",
   "execution_count": 8,
   "metadata": {
    "collapsed": true
   },
   "outputs": [],
   "source": [
    "#from pyspark.ml.linalg import Vectors\n",
    "from pyspark.ml.feature import VectorAssembler\n",
    "\n",
    "va = VectorAssembler(inputCols=[\"x\",\"y\"],outputCol=\"features\")"
   ]
  },
  {
   "cell_type": "markdown",
   "metadata": {},
   "source": [
    "```VectorAssembler```를 적용한다."
   ]
  },
  {
   "cell_type": "code",
   "execution_count": 24,
   "metadata": {
    "collapsed": true
   },
   "outputs": [],
   "source": [
    "xxDf = va.transform(xDf)"
   ]
  },
  {
   "cell_type": "code",
   "execution_count": 25,
   "metadata": {
    "collapsed": false
   },
   "outputs": [
    {
     "name": "stdout",
     "output_type": "stream",
     "text": [
      "root\n",
      " |-- x: long (nullable = true)\n",
      " |-- y: long (nullable = true)\n",
      " |-- features: vector (nullable = true)\n",
      "\n"
     ]
    }
   ],
   "source": [
    "xxDf.printSchema()"
   ]
  },
  {
   "cell_type": "code",
   "execution_count": 26,
   "metadata": {
    "collapsed": false
   },
   "outputs": [
    {
     "name": "stdout",
     "output_type": "stream",
     "text": [
      "+---+---+---------+\n",
      "|  x|  y| features|\n",
      "+---+---+---------+\n",
      "|  2|  5|[2.0,5.0]|\n",
      "|  3|  6|[3.0,6.0]|\n",
      "|  2|  4|[2.0,4.0]|\n",
      "|  5|  7|[5.0,7.0]|\n",
      "|  7|  2|[7.0,2.0]|\n",
      "+---+---+---------+\n",
      "only showing top 5 rows\n",
      "\n"
     ]
    }
   ],
   "source": [
    "xxDf.show(5)"
   ]
  },
  {
   "cell_type": "markdown",
   "metadata": {},
   "source": [
    "### k-means 클러스터링\n",
    "\n",
    "mllib, ml 모두 KMeans 모델을 지원한다.\n",
    "* k를 몇 개, 어떻게 정할지 설정한다.\n",
    "\n",
    "클러스터의 수 k=1로 하고 k-means를 실행해보자."
   ]
  },
  {
   "cell_type": "code",
   "execution_count": 27,
   "metadata": {
    "collapsed": true
   },
   "outputs": [],
   "source": [
    "from pyspark.ml.clustering import KMeans\n",
    "\n",
    "kmeans = KMeans(k=2)"
   ]
  },
  {
   "cell_type": "code",
   "execution_count": 28,
   "metadata": {
    "collapsed": true
   },
   "outputs": [],
   "source": [
    "model = kmeans.fit(xxDf)"
   ]
  },
  {
   "cell_type": "markdown",
   "metadata": {},
   "source": [
    "### 클러스터 중심점"
   ]
  },
  {
   "cell_type": "code",
   "execution_count": 29,
   "metadata": {
    "collapsed": false,
    "scrolled": true
   },
   "outputs": [
    {
     "name": "stdout",
     "output_type": "stream",
     "text": [
      "[array([3. , 5.5]), array([7.8, 3.2])]\n"
     ]
    }
   ],
   "source": [
    "print (model.clusterCenters())"
   ]
  },
  {
   "cell_type": "markdown",
   "metadata": {
    "slideshow": {
     "slide_type": "slide"
    }
   },
   "source": [
    "## 문제: iris 데이터 클러스터링\n",
    "\n",
    "iris는 꽃잎 및 꽃받침의 너비와 높이 데이터이다.\n",
    "이 데이터를 군집화 해보자."
   ]
  },
  {
   "cell_type": "markdown",
   "metadata": {},
   "source": [
    "### 데이터\n",
    "\n",
    "iris 데이터는 seaborn, sklearn 등 많은 패키지에서 내장해서 제공되고 있다."
   ]
  },
  {
   "cell_type": "code",
   "execution_count": 25,
   "metadata": {
    "collapsed": true
   },
   "outputs": [],
   "source": [
    "from sklearn import datasets\n",
    "\n",
    "dataset = datasets.load_iris()"
   ]
  },
  {
   "cell_type": "markdown",
   "metadata": {},
   "source": [
    "sklearn에서 제공하는 데이터는 타입이 다르기 때문에, 바로 사용할 수 없고 변환을 해야 한다.\n",
    "```sklearn.utils.Bunch```라고 하는 타입으로 저장되어 있는데, 이는 **Dictionary 타입**이라서 아래와 같은 키를 입력하여 읽을 수 있다.\n",
    "* 'data': numpy.array로 저장된 속성 데이터\n",
    "* 'target': numpy.array로 저장된 분류 데이터\n",
    "* 'target_names': numpy.array로 저장된 분류 값 ['setosa', 'versicolor', 'virginica']\n",
    "* 'DESCR': 데이터 관련한 설명\n",
    "* 'feature_names': ['sepal length (cm)', 'sepal width (cm)', 'petal length (cm)', 'petal width (cm)']"
   ]
  },
  {
   "cell_type": "markdown",
   "metadata": {
    "collapsed": false
   },
   "source": [
    "```dataset['data']```는 numpy array 타입이다. 데이터를 읽어보자."
   ]
  },
  {
   "cell_type": "code",
   "execution_count": 26,
   "metadata": {
    "collapsed": true
   },
   "outputs": [],
   "source": [
    "data = dataset['data']"
   ]
  },
  {
   "cell_type": "markdown",
   "metadata": {},
   "source": [
    "인덱스 ```1:5```, 즉 1부터 4까지, 4행을 읽어보자."
   ]
  },
  {
   "cell_type": "code",
   "execution_count": 27,
   "metadata": {
    "collapsed": false,
    "scrolled": true
   },
   "outputs": [
    {
     "data": {
      "text/plain": [
       "array([[4.9, 3. , 1.4, 0.2],\n",
       "       [4.7, 3.2, 1.3, 0.2],\n",
       "       [4.6, 3.1, 1.5, 0.2],\n",
       "       [5. , 3.6, 1.4, 0.2]])"
      ]
     },
     "execution_count": 27,
     "metadata": {},
     "output_type": "execute_result"
    }
   ],
   "source": [
    "data[1:5]"
   ]
  },
  {
   "cell_type": "markdown",
   "metadata": {
    "slideshow": {
     "slide_type": "subslide"
    }
   },
   "source": [
    "### 그래프\n",
    "\n",
    "변수가 4개이므로, 4차원 그래프를 그려야 맞다.\n",
    "그렇게 되면 명령어가 복잡해지므로, 3차원으로 그래프를 그려보자.\n",
    "gca(projection='3d')라고 해주면 된다."
   ]
  },
  {
   "cell_type": "code",
   "execution_count": 28,
   "metadata": {
    "collapsed": false,
    "scrolled": false
   },
   "outputs": [
    {
     "data": {
      "image/png": "[encoded data removed]",
      "text/plain": [
       "<Figure size 432x288 with 1 Axes>"
      ]
     },
     "metadata": {
      "needs_background": "light"
     },
     "output_type": "display_data"
    }
   ],
   "source": [
    "%matplotlib inline\n",
    "import matplotlib.pyplot as plt\n",
    "\n",
    "ax = plt.figure().gca(projection='3d')\n",
    "ax.scatter(data[:,0], data[:,1], data[:,2])\n",
    "ax.set_xlabel('sepal length')\n",
    "ax.set_ylabel('sepal width')\n",
    "ax.set_zlabel('petal length')\n",
    "plt.show()"
   ]
  },
  {
   "cell_type": "markdown",
   "metadata": {
    "collapsed": true,
    "slideshow": {
     "slide_type": "subslide"
    }
   },
   "source": [
    "### RDD 생성\n",
    "\n",
    "numpy array는 바로 RDD를 생성할 수 있다."
   ]
  },
  {
   "cell_type": "code",
   "execution_count": 33,
   "metadata": {
    "collapsed": false
   },
   "outputs": [],
   "source": [
    "_xRdd = spark.sparkContext.parallelize(data)"
   ]
  },
  {
   "cell_type": "code",
   "execution_count": 34,
   "metadata": {
    "collapsed": false
   },
   "outputs": [
    {
     "data": {
      "text/plain": [
       "[array([5.1, 3.5, 1.4, 0.2])]"
      ]
     },
     "execution_count": 34,
     "metadata": {},
     "output_type": "execute_result"
    }
   ],
   "source": [
    "_xRdd.take(1)"
   ]
  },
  {
   "cell_type": "markdown",
   "metadata": {
    "slideshow": {
     "slide_type": "subslide"
    }
   },
   "source": [
    "### 형변환\n",
    "\n",
    "앞서 보듯이 numpy.array에 생성되었으므로, array로 구성되어 있다. 이를 소수배열로 변환하자."
   ]
  },
  {
   "cell_type": "code",
   "execution_count": 35,
   "metadata": {
    "collapsed": true
   },
   "outputs": [],
   "source": [
    "xRdd = _xRdd.map(lambda x: [float(i) for i in x])"
   ]
  },
  {
   "cell_type": "code",
   "execution_count": 36,
   "metadata": {
    "collapsed": false
   },
   "outputs": [
    {
     "data": {
      "text/plain": [
       "[[5.1, 3.5, 1.4, 0.2]]"
      ]
     },
     "execution_count": 36,
     "metadata": {},
     "output_type": "execute_result"
    }
   ],
   "source": [
    "xRdd.take(1)"
   ]
  },
  {
   "cell_type": "markdown",
   "metadata": {
    "slideshow": {
     "slide_type": "subslide"
    }
   },
   "source": [
    "### k-Means 모델링\n",
    "\n",
    "mllib 라이브러리의 KMeans 모델을 \n",
    "\n",
    "```python\n",
    "KMeanstrain(rdd, k, maxIterations=100, initializationMode='k-means', seed=None, initializationSteps=2, epsilon=0.0001, initialModel=None)\n",
    "```\n",
    "\n",
    "* rdd: RDD 훈련데이터\n",
    "* k: 클러스터 갯수\n",
    "* maxIterations: 최대 반복횟수 (기본 값: 100)\n",
    "* initializationMode: 초기 알고리즘 \"random\" 또는 \"k-means\" (기본 값)\n",
    "* seed: 클러스터 초기화에 필요한 무작위 seed 값 (default는 None (시스템시간에서 seed를 만드는 방식))\n",
    "* initializationSteps: k-means 단계 수 (기본 값: 2)\n",
    "* epsilon: 클러스터 중심값이 이 값이 이하로 움직이면 거리 임계값 (기본 값: 1e-4)\n",
    "* initialModel: 초기 클러스터 중심값 (기본 값: None)"
   ]
  },
  {
   "cell_type": "code",
   "execution_count": 37,
   "metadata": {
    "collapsed": false
   },
   "outputs": [],
   "source": [
    "from pyspark.mllib.clustering import KMeans\n",
    "\n",
    "model = KMeans.train(xRdd, k = 2, maxIterations = 10)"
   ]
  },
  {
   "cell_type": "markdown",
   "metadata": {
    "slideshow": {
     "slide_type": "subslide"
    }
   },
   "source": [
    "클러스터의 중심값을 출력해보자. k=2로 설정해 놓아서, 2개의 중심값이 출력된다."
   ]
  },
  {
   "cell_type": "code",
   "execution_count": 38,
   "metadata": {
    "collapsed": false
   },
   "outputs": [
    {
     "data": {
      "text/plain": [
       "[array([5.00566038, 3.36981132, 1.56037736, 0.29056604]),\n",
       " array([6.30103093, 2.88659794, 4.95876289, 1.69587629])]"
      ]
     },
     "execution_count": 38,
     "metadata": {},
     "output_type": "execute_result"
    }
   ],
   "source": [
    "model.clusterCenters"
   ]
  },
  {
   "cell_type": "markdown",
   "metadata": {
    "slideshow": {
     "slide_type": "subslide"
    }
   },
   "source": [
    "이 경우의 오류를 계산해보자."
   ]
  },
  {
   "cell_type": "code",
   "execution_count": 39,
   "metadata": {
    "collapsed": false
   },
   "outputs": [
    {
     "data": {
      "text/plain": [
       "152.34795176035803"
      ]
     },
     "execution_count": 39,
     "metadata": {},
     "output_type": "execute_result"
    }
   ],
   "source": [
    "model.computeCost(xRdd)"
   ]
  },
  {
   "cell_type": "code",
   "execution_count": null,
   "metadata": {
    "collapsed": true
   },
   "outputs": [],
   "source": []
  },
  {
   "cell_type": "markdown",
   "metadata": {
    "collapsed": true
   },
   "source": [
    "from math import sqrt\n",
    "def error(point):\n",
    "    center = model.centers[model.predict(point)]\n",
    "    return sqrt(sum([x**2 for x in (point - center)]))"
   ]
  },
  {
   "cell_type": "markdown",
   "metadata": {
    "collapsed": true,
    "slideshow": {
     "slide_type": "subslide"
    }
   },
   "source": [
    "### DataFrame 생성\n",
    "\n",
    "이번에는 DataFrame으로 k-Means 클러스터링을 해보자.\n",
    "앞서 상관관계를 계산하면서 사용했듯이, url으로부터 iris를 읽어보자."
   ]
  },
  {
   "cell_type": "code",
   "execution_count": 40,
   "metadata": {
    "collapsed": true
   },
   "outputs": [],
   "source": [
    "file_name = \"https://archive.ics.uci.edu/ml/machine-learning-databases/iris/iris.data\""
   ]
  },
  {
   "cell_type": "markdown",
   "metadata": {
    "slideshow": {
     "slide_type": "subslide"
    }
   },
   "source": [
    "Spark DataFrame은 url에서 읽어서 생성할 수 없으므로, Pandas로 먼저 읽자."
   ]
  },
  {
   "cell_type": "code",
   "execution_count": 41,
   "metadata": {
    "collapsed": true
   },
   "outputs": [],
   "source": [
    "import pandas as pd\n",
    "\n",
    "iris = pd.read_csv(file_name, names=[\"sepal_length\",\"sepal_width\",\"petal_length\", \"petal_width\",\"species\"])"
   ]
  },
  {
   "cell_type": "code",
   "execution_count": 42,
   "metadata": {
    "collapsed": true
   },
   "outputs": [],
   "source": [
    "irisDf = spark.createDataFrame(iris)"
   ]
  },
  {
   "cell_type": "markdown",
   "metadata": {
    "slideshow": {
     "slide_type": "subslide"
    }
   },
   "source": [
    "### 통계량\n",
    "\n",
    "데이터는 모두 150개로 결측 값이 없다.\n",
    "petal_length가 다른 측정값에 비해 표준편차가 다소 크다.\n",
    "최대, 최소 값으로 추정하면, 그 측정 값이 다소 퍼져 있다는 것을 알 수 있다.\n",
    "그러나 표준편차 2배 이상인 경우는 많지 않아 보인다."
   ]
  },
  {
   "cell_type": "code",
   "execution_count": 43,
   "metadata": {
    "collapsed": false
   },
   "outputs": [
    {
     "name": "stdout",
     "output_type": "stream",
     "text": [
      "+-------+------------------+-------------------+------------------+------------------+--------------+\n",
      "|summary|      sepal_length|        sepal_width|      petal_length|       petal_width|       species|\n",
      "+-------+------------------+-------------------+------------------+------------------+--------------+\n",
      "|  count|               150|                150|               150|               150|           150|\n",
      "|   mean| 5.843333333333335| 3.0540000000000007|3.7586666666666693|1.1986666666666672|          null|\n",
      "| stddev|0.8280661279778637|0.43359431136217375| 1.764420419952262|0.7631607417008414|          null|\n",
      "|    min|               4.3|                2.0|               1.0|               0.1|   Iris-setosa|\n",
      "|    max|               7.9|                4.4|               6.9|               2.5|Iris-virginica|\n",
      "+-------+------------------+-------------------+------------------+------------------+--------------+\n",
      "\n"
     ]
    }
   ],
   "source": [
    "irisDf.describe().show()"
   ]
  },
  {
   "cell_type": "markdown",
   "metadata": {
    "slideshow": {
     "slide_type": "subslide"
    }
   },
   "source": [
    "### features 생성\n",
    "\n",
    "Vector assembler는 변수를 묶어서 하나의 Vector로 만들어 준다."
   ]
  },
  {
   "cell_type": "code",
   "execution_count": 44,
   "metadata": {
    "collapsed": false
   },
   "outputs": [],
   "source": [
    "#from pyspark.ml.linalg import Vectors\n",
    "from pyspark.ml.feature import VectorAssembler\n",
    "\n",
    "va = VectorAssembler(inputCols=[\"sepal_length\", \"sepal_width\", \"petal_length\", \"petal_width\"], outputCol=\"features\")\n",
    "xxDf = va.transform(irisDf)"
   ]
  },
  {
   "cell_type": "markdown",
   "metadata": {
    "slideshow": {
     "slide_type": "subslide"
    }
   },
   "source": [
    "features 컬럼이 vector로 만들어진 것을 확인해보자."
   ]
  },
  {
   "cell_type": "code",
   "execution_count": 45,
   "metadata": {
    "collapsed": false
   },
   "outputs": [
    {
     "name": "stdout",
     "output_type": "stream",
     "text": [
      "root\n",
      " |-- sepal_length: double (nullable = true)\n",
      " |-- sepal_width: double (nullable = true)\n",
      " |-- petal_length: double (nullable = true)\n",
      " |-- petal_width: double (nullable = true)\n",
      " |-- species: string (nullable = true)\n",
      " |-- features: vector (nullable = true)\n",
      "\n"
     ]
    }
   ],
   "source": [
    "xxDf.printSchema()"
   ]
  },
  {
   "cell_type": "code",
   "execution_count": 46,
   "metadata": {
    "collapsed": false,
    "scrolled": true
   },
   "outputs": [
    {
     "name": "stdout",
     "output_type": "stream",
     "text": [
      "+------------+-----------+------------+-----------+-----------+-----------------+\n",
      "|sepal_length|sepal_width|petal_length|petal_width|    species|         features|\n",
      "+------------+-----------+------------+-----------+-----------+-----------------+\n",
      "|         5.1|        3.5|         1.4|        0.2|Iris-setosa|[5.1,3.5,1.4,0.2]|\n",
      "|         4.9|        3.0|         1.4|        0.2|Iris-setosa|[4.9,3.0,1.4,0.2]|\n",
      "|         4.7|        3.2|         1.3|        0.2|Iris-setosa|[4.7,3.2,1.3,0.2]|\n",
      "+------------+-----------+------------+-----------+-----------+-----------------+\n",
      "only showing top 3 rows\n",
      "\n"
     ]
    }
   ],
   "source": [
    "xxDf.show(3)"
   ]
  },
  {
   "cell_type": "markdown",
   "metadata": {
    "collapsed": false,
    "slideshow": {
     "slide_type": "subslide"
    }
   },
   "source": [
    "입력데이터의 타입이 명목일수도 아닐 수도 있는 모르는 경우, Vector Indexer는 이 가운데 범주형 변수를 가려내어 Vector로 만든다. 참고로 String Indexer는 명목변수 컬럼을 인덱스 값으로 변환한다. 요일을 1~7 값으로 변환하는 경우를 예로 들 수 있다."
   ]
  },
  {
   "cell_type": "code",
   "execution_count": 47,
   "metadata": {
    "collapsed": true
   },
   "outputs": [],
   "source": [
    "from pyspark.ml.feature import VectorIndexer\n",
    "\n",
    "featureIndexer = VectorIndexer(inputCol=\"features\", \\\n",
    "                               outputCol=\"featuresIndexed\",\\\n",
    "                               maxCategories=4).fit(xxDf)\n",
    "xxxDf = featureIndexer.transform(xxDf)"
   ]
  },
  {
   "cell_type": "code",
   "execution_count": 48,
   "metadata": {
    "collapsed": false
   },
   "outputs": [
    {
     "name": "stdout",
     "output_type": "stream",
     "text": [
      "root\n",
      " |-- sepal_length: double (nullable = true)\n",
      " |-- sepal_width: double (nullable = true)\n",
      " |-- petal_length: double (nullable = true)\n",
      " |-- petal_width: double (nullable = true)\n",
      " |-- species: string (nullable = true)\n",
      " |-- features: vector (nullable = true)\n",
      " |-- featuresIndexed: vector (nullable = true)\n",
      "\n"
     ]
    }
   ],
   "source": [
    "xxxDf.printSchema()"
   ]
  },
  {
   "cell_type": "code",
   "execution_count": 49,
   "metadata": {
    "collapsed": false,
    "scrolled": true
   },
   "outputs": [
    {
     "name": "stdout",
     "output_type": "stream",
     "text": [
      "+------------+-----------+------------+-----------+-----------+-----------------+-----------------+\n",
      "|sepal_length|sepal_width|petal_length|petal_width|    species|         features|  featuresIndexed|\n",
      "+------------+-----------+------------+-----------+-----------+-----------------+-----------------+\n",
      "|         5.1|        3.5|         1.4|        0.2|Iris-setosa|[5.1,3.5,1.4,0.2]|[5.1,3.5,1.4,0.2]|\n",
      "|         4.9|        3.0|         1.4|        0.2|Iris-setosa|[4.9,3.0,1.4,0.2]|[4.9,3.0,1.4,0.2]|\n",
      "|         4.7|        3.2|         1.3|        0.2|Iris-setosa|[4.7,3.2,1.3,0.2]|[4.7,3.2,1.3,0.2]|\n",
      "|         4.6|        3.1|         1.5|        0.2|Iris-setosa|[4.6,3.1,1.5,0.2]|[4.6,3.1,1.5,0.2]|\n",
      "|         5.0|        3.6|         1.4|        0.2|Iris-setosa|[5.0,3.6,1.4,0.2]|[5.0,3.6,1.4,0.2]|\n",
      "+------------+-----------+------------+-----------+-----------+-----------------+-----------------+\n",
      "only showing top 5 rows\n",
      "\n"
     ]
    }
   ],
   "source": [
    "xxxDf.show(5)"
   ]
  },
  {
   "cell_type": "markdown",
   "metadata": {},
   "source": [
    "### k-Means\n",
    "\n",
    "features, featuresIndexed 어느 것으로 해도 결과는 동일하다.\n",
    "\n",
    "kMeans 모델은 앞서 RDD에서와 같이 초기 값을 설정할 수 있다.\n",
    "```python\n",
    "(featuresCol='features', predictionCol='prediction', k=2, initMode='k-means', initSteps=2, tol=0.0001, maxIter=20, seed=None, distanceMeasure='euclidean', weightCol=None)\n",
    "```\n",
    "* maxIter: 클러스터를 분할하기 위한 최대 반복 횟수 (default: 20)\n",
    "\n",
    "\n",
    "set함수를 이용해서 다음과 같이 할 수 있다.\n",
    "```python\n",
    "kmeans = KMeans()\\\n",
    "        .setK(k)\\\n",
    "        .setSeed(1) \\\n",
    "        .setFeaturesCol(\"indexedFeatures\")\\\n",
    "        .setPredictionCol(\"cluster\")\n",
    "```"
   ]
  },
  {
   "cell_type": "code",
   "execution_count": 50,
   "metadata": {
    "collapsed": true
   },
   "outputs": [],
   "source": [
    "from pyspark.ml.clustering import KMeans\n",
    "\n",
    "kmeans = KMeans(k=2) \\\n",
    "            .setFeaturesCol(\"features\") \\\n",
    "            .setPredictionCol(\"cluster\")"
   ]
  },
  {
   "cell_type": "code",
   "execution_count": 51,
   "metadata": {
    "collapsed": true
   },
   "outputs": [],
   "source": [
    "model = kmeans.fit(xxDf)"
   ]
  },
  {
   "cell_type": "code",
   "execution_count": 52,
   "metadata": {
    "collapsed": false
   },
   "outputs": [
    {
     "name": "stdout",
     "output_type": "stream",
     "text": [
      "[array([6.30103093, 2.88659794, 4.95876289, 1.69587629]), array([5.00566038, 3.36037736, 1.56226415, 0.28867925])]\n"
     ]
    }
   ],
   "source": [
    "print (model.clusterCenters())"
   ]
  },
  {
   "cell_type": "code",
   "execution_count": 53,
   "metadata": {
    "collapsed": false,
    "scrolled": true
   },
   "outputs": [
    {
     "name": "stdout",
     "output_type": "stream",
     "text": [
      "+------------+-----------+------------+-----------+-----------+-----------------+-------+\n",
      "|sepal_length|sepal_width|petal_length|petal_width|    species|         features|cluster|\n",
      "+------------+-----------+------------+-----------+-----------+-----------------+-------+\n",
      "|         5.1|        3.5|         1.4|        0.2|Iris-setosa|[5.1,3.5,1.4,0.2]|      1|\n",
      "|         4.9|        3.0|         1.4|        0.2|Iris-setosa|[4.9,3.0,1.4,0.2]|      1|\n",
      "|         4.7|        3.2|         1.3|        0.2|Iris-setosa|[4.7,3.2,1.3,0.2]|      1|\n",
      "|         4.6|        3.1|         1.5|        0.2|Iris-setosa|[4.6,3.1,1.5,0.2]|      1|\n",
      "|         5.0|        3.6|         1.4|        0.2|Iris-setosa|[5.0,3.6,1.4,0.2]|      1|\n",
      "|         5.4|        3.9|         1.7|        0.4|Iris-setosa|[5.4,3.9,1.7,0.4]|      1|\n",
      "|         4.6|        3.4|         1.4|        0.3|Iris-setosa|[4.6,3.4,1.4,0.3]|      1|\n",
      "|         5.0|        3.4|         1.5|        0.2|Iris-setosa|[5.0,3.4,1.5,0.2]|      1|\n",
      "|         4.4|        2.9|         1.4|        0.2|Iris-setosa|[4.4,2.9,1.4,0.2]|      1|\n",
      "|         4.9|        3.1|         1.5|        0.1|Iris-setosa|[4.9,3.1,1.5,0.1]|      1|\n",
      "|         5.4|        3.7|         1.5|        0.2|Iris-setosa|[5.4,3.7,1.5,0.2]|      1|\n",
      "|         4.8|        3.4|         1.6|        0.2|Iris-setosa|[4.8,3.4,1.6,0.2]|      1|\n",
      "|         4.8|        3.0|         1.4|        0.1|Iris-setosa|[4.8,3.0,1.4,0.1]|      1|\n",
      "|         4.3|        3.0|         1.1|        0.1|Iris-setosa|[4.3,3.0,1.1,0.1]|      1|\n",
      "|         5.8|        4.0|         1.2|        0.2|Iris-setosa|[5.8,4.0,1.2,0.2]|      1|\n",
      "|         5.7|        4.4|         1.5|        0.4|Iris-setosa|[5.7,4.4,1.5,0.4]|      1|\n",
      "|         5.4|        3.9|         1.3|        0.4|Iris-setosa|[5.4,3.9,1.3,0.4]|      1|\n",
      "|         5.1|        3.5|         1.4|        0.3|Iris-setosa|[5.1,3.5,1.4,0.3]|      1|\n",
      "|         5.7|        3.8|         1.7|        0.3|Iris-setosa|[5.7,3.8,1.7,0.3]|      1|\n",
      "|         5.1|        3.8|         1.5|        0.3|Iris-setosa|[5.1,3.8,1.5,0.3]|      1|\n",
      "+------------+-----------+------------+-----------+-----------+-----------------+-------+\n",
      "only showing top 20 rows\n",
      "\n"
     ]
    }
   ],
   "source": [
    "model.transform(xxDf).show()"
   ]
  },
  {
   "cell_type": "markdown",
   "metadata": {},
   "source": [
    "### 최적의 클러스터 갯수\n",
    "\n",
    "클러스터 분석에 있어, 최적의 갯수를 결정할 필요가 있는데, elbow, silhouette 그리고 gap statistic 방법이 있다.\n",
    "elbow 방법은 클러스터의 개수를 결정하는 직관적 방법이다.\n",
    "오류를 계산하고, 그래프를 그려서 클러스터 개수를 늘려도 그 오류의 기울기가 줄어드는 지점,\n",
    "즉 추세가 꺽이는, 팔꿈치가 접히는 지점이 적당한 개수로 인식하게 된다."
   ]
  },
  {
   "cell_type": "markdown",
   "metadata": {},
   "source": [
    "Silhouette은 계수로 클러스터링 적합도를 측정한다. 계수는 -1 ~ 1 값을 가진다.\n",
    "* 1: 클러스터가 서로 잘 분리되어 있다는 의미\n",
    "* 0: 클러스터가 서로 차이가 없다는 의미. 클러스터 간의 거리가 유의미하지 않다\n",
    "* -1: 클러스터에 할당된 데이터가 올바르지 못하다는 의미."
   ]
  },
  {
   "cell_type": "code",
   "execution_count": 58,
   "metadata": {
    "collapsed": false
   },
   "outputs": [
    {
     "name": "stdout",
     "output_type": "stream",
     "text": [
      "...2 Within Set Sum of Squared Errors 0.8501515983265806\n",
      "...3 Within Set Sum of Squared Errors 0.7354567373091194\n",
      "...4 Within Set Sum of Squared Errors 0.6720731409257744\n",
      "...5 Within Set Sum of Squared Errors 0.6709352176230783\n",
      "...6 Within Set Sum of Squared Errors 0.6451259820011412\n",
      "...7 Within Set Sum of Squared Errors 0.5962165727283095\n",
      "...8 Within Set Sum of Squared Errors 0.6221985662569978\n",
      "...9 Within Set Sum of Squared Errors 0.5003287681787887\n",
      "...10 Within Set Sum of Squared Errors 0.49199492123901184\n",
      "...11 Within Set Sum of Squared Errors 0.47438014361110636\n",
      "...12 Within Set Sum of Squared Errors 0.4321528971979168\n",
      "...13 Within Set Sum of Squared Errors 0.4117501336179155\n",
      "...14 Within Set Sum of Squared Errors 0.3965248682036035\n",
      "...15 Within Set Sum of Squared Errors 0.4472034252455173\n",
      "...16 Within Set Sum of Squared Errors 0.4129720796151931\n"
     ]
    }
   ],
   "source": [
    "from pyspark.ml.evaluation import ClusteringEvaluator\n",
    "#silhouette = np.zeros(15)\n",
    "silhouetteList = list()\n",
    "for i in range(2, 17):\n",
    "    # Trains a k-means model.\n",
    "    kmeans = KMeans().setK(i).setFeaturesCol(\"features\")\n",
    "    model = kmeans.fit(xxDf)\n",
    "    # Evaluate clustering by computing Within Set Sum of Squared Errors\n",
    "    predictions = model.transform(xxxDf)\n",
    "    # Evaluate clustering by computing Silhouette score\n",
    "    evaluator = ClusteringEvaluator().setMetricName(\"silhouette\")\n",
    "    silhouette = evaluator.evaluate(predictions)\n",
    "    #silh_val.append(silhouette)\n",
    "    print(\"...{} Within Set Sum of Squared Errors {}\".format(i, silhouette))\n",
    "    silhouetteList.append(silhouette)"
   ]
  },
  {
   "cell_type": "markdown",
   "metadata": {},
   "source": [
    "### 클러스터 갯수에 따른 오류의 그래프"
   ]
  },
  {
   "cell_type": "markdown",
   "metadata": {},
   "source": [
    "그래프를 읽을 때, 클러스터의 갯수가 2개부터 시작한다는 점에 유의하자.\n",
    "클러스터의 갯수가 2일 경우, 계수가 제일 높다."
   ]
  },
  {
   "cell_type": "code",
   "execution_count": 57,
   "metadata": {
    "collapsed": false
   },
   "outputs": [
    {
     "data": {
      "text/plain": [
       "[<matplotlib.lines.Line2D at 0x7f70cf483b38>]"
      ]
     },
     "execution_count": 57,
     "metadata": {},
     "output_type": "execute_result"
    },
    {
     "data": {
      "image/png": "[encoded data removed]",
      "text/plain": [
       "<Figure size 432x288 with 1 Axes>"
      ]
     },
     "metadata": {
      "needs_background": "light"
     },
     "output_type": "display_data"
    }
   ],
   "source": [
    "%matplotlib inline\n",
    "import matplotlib.pyplot as plt\n",
    "\n",
    "plt.plot(np.arange(14), silhouetteList[0:14], color='blue')"
   ]
  },
  {
   "cell_type": "code",
   "execution_count": null,
   "metadata": {
    "collapsed": true
   },
   "outputs": [],
   "source": []
  },
  {
   "cell_type": "code",
   "execution_count": null,
   "metadata": {
    "collapsed": true
   },
   "outputs": [],
   "source": []
  },
  {
   "cell_type": "code",
   "execution_count": null,
   "metadata": {
    "collapsed": true
   },
   "outputs": [],
   "source": []
  }
 ],
 "metadata": {
  "kernelspec": {
   "display_name": "Python 3",
   "language": "python",
   "name": "python3"
  },
  "language_info": {
   "codemirror_mode": {
    "name": "ipython",
    "version": 3
   },
   "file_extension": ".py",
   "mimetype": "text/x-python",
   "name": "python",
   "nbconvert_exporter": "python",
   "pygments_lexer": "ipython3",
   "version": "3.6.9"
  }
 },
 "nbformat": 4,
 "nbformat_minor": 0
}
