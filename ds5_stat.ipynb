{
 "cells": [
  {
   "cell_type": "markdown",
   "metadata": {
    "slideshow": {
     "slide_type": "slide"
    }
   },
   "source": [
    "# 통계\n",
    "\n",
    "Last updated 20201018SUN2001\n",
    "\n",
    "## 목표\n",
    "\n",
    "* 샘플링, 분포, 중심극한정리, 분산, zscore, outliers를 배운다.\n",
    "* 그룹 간에 차이가 있는지 통계 추론을 배운다.\n",
    "* 명목변수에 대한 빈도 분석을 배운다.\n",
    "* 변수 간 상관관계를 배운다.\n",
    "\n",
    "## 목차\n",
    "\n",
    "* S.2 변수의 성격\n",
    "* S.3 샘플링: 무작위 수, 무작위 배열, 분포에서 무작위 수\n",
    "* S.4 균등분포: 샘플링, 히스토그램, describe\n",
    "* S.5 정규분표: 샘플링, 히스토그램\n",
    "* 문제 S-1: 년도별 빈도 히스토그램\n",
    "* S.6 중심극한정리: skewness, kurtosis, Spark로 skewness, kurtosis 계산하기\n",
    "* S.7 분산: 평균 계산식, numpy 평균, 분산 계산식, numpy 분산 계산, boxplot\n",
    "* S.8 zscore, tscore: zscore 계산식, stats zscore, cdf\n",
    "* S.9 outliers\n",
    "* 문제 S-2:  Spark로 균등분포, 정규분포의 기본 통계 값을 계산.\n",
    "* S.10 추론\n",
    "* S.10.1 Kolmogorov-Smirnov 검증\n",
    "* S.10.2 ANOVA\n",
    "* S.11 빈도 분석\n",
    "    * S.11.1 freqItems()\n",
    "    * S.11.2 crosstab\n",
    "    * S.11.3 Chi Square\n",
    "* S.12 상관관계\n",
    "* S.12.1 상관관계 방향과 강도\n",
    "* S.12.2 그래프\n",
    "* S.12.3 데이터\n",
    "* S.12.4 numpy 공분산 계산\n",
    "* S.12.5 상관관계\n",
    "* S.12.6 zscore를 이용한 상관관계\n",
    "* S.12.7 함수로 만들어 보기\n",
    "* S.12.8 scipy\n",
    "* S.12.9 spark\n",
    "* S.12.10 scipy.stats\n",
    "* S.12.11 상관관계 표\n",
    "* 문제 S-3: 키, 몸무게 상관관계\n",
    "* 문제 S-4: Iris\n",
    "\n",
    "* toAdd: Type I II Error (베이지안 판단오류), MAPE MRE MSE, 추천의 L-form"
   ]
  },
  {
   "cell_type": "markdown",
   "metadata": {
    "slideshow": {
     "slide_type": "slide"
    }
   },
   "source": [
    "## S.2 변수의 성격\n",
    "\n",
    "빅데이터는 종전의 데이터처리 방식으로는 통하지 않는 대규모이거나 복잡한 데이터를 말한다.\n",
    "텍스트 데이터는 컬럼별로 변수를 정의하기 어려운 구조를 가지기도 한다.\n",
    "그럼에도 불구하고, **변수의 성격에 따라 적용되는 분석의 방법이 다를 수** 밖에 없다.\n",
    "\n",
    "변수는 크게 나누어 **숫자**, **문자** 값으로 구분할 수 있다.\n",
    "숫자 값은 정수나 소수로 표현되고, 년봉, 매출액, 관객수와 같이 '크다' 또는 '작다' 하는 의미가 있다.\n",
    "\n",
    "**명목변수 Categorical or nominal varaible**는 남녀 성별과 같이 **순서가 없이** 이름이 있는 변수를 말한다.\n",
    "자동차 색과 같이 검은색, 흰색, 파란색이 예가 된다. 사는 지역의 도별 인구수를 계산하는 경우, 종로구, 영등포구 등 구를 명목변수라고 한다.\n",
    "\n",
    "**순위변수 Ordinal variable**은 어떤 **순서가 있는** 범주에 속하여 그 범주의 이름을 말한다.\n",
    "'초등학고', '중학교', '고등학교', '대학교'와 같이 구분하여 붙인 이름이 예가 되고, 하위 학교를 마치고 나면 다음 등급으로 진학하는 순서가 있다.\n",
    "소득수준을 '차상위', '중위', '상위'로 구분하면 **순위변수**에 해당된다.\n",
    "\n",
    "여기서 범주를 **등간격**으로 **간격변수 Interval variable**이라고 한다.\n",
    "자신의 느낌을 '좋다', '보통', '안좋다' 로 범주화하는 경우이다.\n",
    "\n",
    "키, 몸무게와 같이 **연속 변수 Continuous variable**이 있다."
   ]
  },
  {
   "cell_type": "markdown",
   "metadata": {
    "slideshow": {
     "slide_type": "slide"
    }
   },
   "source": [
    "## S.3 샘플링\n",
    "\n",
    "### 무작위 수\n",
    "\n",
    "통계에 무작위 수는 빼놓을 수 없는데, 분포는 무작위 수로부터 만들어 지고, 확률도 계산된다.\n",
    "수학에서 x + 3 = 5라고 하자, 그러면 x는 당연히 2이고, 무작위 값을 가질 수 없다.\n",
    "무작위 수는 어떤 값을 가지게 될지 모르는 수를 말한다.\n",
    "무작위 수는 몸무게와 같이 **연속 continuous** 또는 주사위에서와 같이 1 ~ 6 값을 가지게 되는 **이산적 discrete**일 수 있다.\n",
    "\n",
    "무작위 데이터를 생성해 보자.\n",
    "이런 데이터는 자주 사용되는 **연속변수**에 해당한다.\n",
    "무작위 수는 random 모듈을 사용해서 생성할 수 있다."
   ]
  },
  {
   "cell_type": "code",
   "execution_count": 64,
   "metadata": {
    "collapsed": true
   },
   "outputs": [],
   "source": [
    "import random"
   ]
  },
  {
   "cell_type": "markdown",
   "metadata": {
    "slideshow": {
     "slide_type": "subslide"
    }
   },
   "source": [
    "그러나 random은 완전하게 무작위 수를 생성하지 않는다.\n",
    "randmo.seed() 함수에 **수를 넣으면 이를 기반으로 무작위 수를 생성하지만, 전과 동일한 수**가 생성된다.\n",
    "**seed 수를 주지 않으면 운영체제 시간**을 사용하므로 무작위 수를 생성하게 된다."
   ]
  },
  {
   "cell_type": "code",
   "execution_count": 65,
   "metadata": {
    "collapsed": false
   },
   "outputs": [
    {
     "name": "stdout",
     "output_type": "stream",
     "text": [
      "1st random number on the basis of the seed 0.23796462709189137\n",
      "2nd random number on the basis of the seed 0.5442292252959519\n"
     ]
    }
   ],
   "source": [
    "#random.seed()\n",
    "random.seed(3)\n",
    "print(\"1st random number on the basis of the seed {}\".format(random.random()))\n",
    "print(\"2nd random number on the basis of the seed {}\".format(random.random()))"
   ]
  },
  {
   "cell_type": "markdown",
   "metadata": {},
   "source": [
    "다시 한 번 동일한 seed를 제공하고 무작위 수를 생성하면 이전의 수와 동일한 무작위 수가 생성된다."
   ]
  },
  {
   "cell_type": "code",
   "execution_count": 66,
   "metadata": {
    "collapsed": false
   },
   "outputs": [
    {
     "name": "stdout",
     "output_type": "stream",
     "text": [
      "1st random number on the basis of the seed 0.23796462709189137\n",
      "2nd random number on the basis of the seed 0.5442292252959519\n"
     ]
    }
   ],
   "source": [
    "#random.seed()\n",
    "random.seed(3)\n",
    "print(\"1st random number on the basis of the seed {}\".format(random.random()))\n",
    "print(\"2nd random number on the basis of the seed {}\".format(random.random()))"
   ]
  },
  {
   "cell_type": "markdown",
   "metadata": {
    "slideshow": {
     "slide_type": "subslide"
    }
   },
   "source": [
    "### 무작위 배열\n",
    "\n",
    "이번에는 numpy를 사용하여 무작위 배열을 생성해 보자.\n",
    "**numpy는 공학계산**에 많이 사용되는 라이브러리로서\n",
    "```import numpy as np```로 numpy를 np라는 이름으로 사용하자."
   ]
  },
  {
   "cell_type": "code",
   "execution_count": 67,
   "metadata": {
    "collapsed": true
   },
   "outputs": [],
   "source": [
    "import numpy as np"
   ]
  },
  {
   "cell_type": "markdown",
   "metadata": {},
   "source": [
    "numpy의 random() 함수에 행과 열에 해당하는 숫자를 주면 배열로 생성이 된다."
   ]
  },
  {
   "cell_type": "code",
   "execution_count": 68,
   "metadata": {
    "collapsed": false
   },
   "outputs": [
    {
     "name": "stdout",
     "output_type": "stream",
     "text": [
      "[[0.81098481 0.00103068]\n",
      " [0.97568952 0.22335083]\n",
      " [0.68063207 0.55606916]]\n"
     ]
    }
   ],
   "source": [
    "print (np.random.random((3,2)))"
   ]
  },
  {
   "cell_type": "markdown",
   "metadata": {
    "slideshow": {
     "slide_type": "subslide"
    }
   },
   "source": [
    "### 분포에서 무작위 수\n",
    "\n",
    "분포를 가정하고, 무작위 표본 Sample을 추출할 수 있다.\n",
    "* numpy.random.rand는 **균등분포**\n",
    "* numpy.random.randn은 **표준정규분포** (평균 $\\mu=0$, 표준편차 $\\sigma=1$)에서 샘플을 추출한다."
   ]
  },
  {
   "cell_type": "code",
   "execution_count": 8,
   "metadata": {
    "collapsed": false
   },
   "outputs": [
    {
     "data": {
      "text/plain": [
       "-0.722250414424978"
      ]
     },
     "execution_count": 8,
     "metadata": {},
     "output_type": "execute_result"
    }
   ],
   "source": [
    "np.random.randn()"
   ]
  },
  {
   "cell_type": "markdown",
   "metadata": {
    "collapsed": true
   },
   "source": [
    "np.random.random_sample, random.sample 모두 **균등분포**에서 표본을 추출한다."
   ]
  },
  {
   "cell_type": "code",
   "execution_count": 15,
   "metadata": {
    "collapsed": false,
    "scrolled": true
   },
   "outputs": [
    {
     "name": "stdout",
     "output_type": "stream",
     "text": [
      "[[0.95432113 0.77242561]\n",
      " [0.60615242 0.15974085]\n",
      " [0.44407345 0.31351612]]\n",
      "[[0.26020857 0.71863744]\n",
      " [0.98307878 0.16916068]\n",
      " [0.53600492 0.65946691]]\n"
     ]
    }
   ],
   "source": [
    "print (np.random.random_sample( (3,2) ))"
   ]
  },
  {
   "cell_type": "markdown",
   "metadata": {
    "collapsed": true
   },
   "source": [
    "random.sample(population, k) 함수는 모집단에서 (정수)샘플 K 개 돌려준다 (바꿔치기 안함)."
   ]
  },
  {
   "cell_type": "code",
   "execution_count": 5,
   "metadata": {
    "collapsed": false
   },
   "outputs": [
    {
     "name": "stdout",
     "output_type": "stream",
     "text": [
      "[3, 4]\n",
      "[1, 2, 4]\n"
     ]
    }
   ],
   "source": [
    "import random\n",
    "print (random.sample([1,2,3,4,6], 2))\n",
    "print (random.sample([1,2,3,4,6], 3))"
   ]
  },
  {
   "cell_type": "markdown",
   "metadata": {
    "slideshow": {
     "slide_type": "slide"
    }
   },
   "source": [
    "## S.4 균등 분포\n",
    "\n",
    "주사위를 던져 나오는 수는 1~6이다. 여기서 얻어지는 주사위 수가 선택될 확률은 동일하므로, **균등분포** uniform distribution이 된다."
   ]
  },
  {
   "cell_type": "markdown",
   "metadata": {},
   "source": [
    "### 샘플링\n",
    "\n",
    "아래 코드는 dice를 리스트로 선언하고, 1에서 6사이의 무작위 수 100개를 생성하여 추가하고 있다."
   ]
  },
  {
   "cell_type": "code",
   "execution_count": 8,
   "metadata": {
    "collapsed": false
   },
   "outputs": [],
   "source": [
    "# randmo sampling\n",
    "dice=[]\n",
    "for i in range(100):\n",
    "   dice.append(random.randrange(1,6+1))"
   ]
  },
  {
   "cell_type": "code",
   "execution_count": 7,
   "metadata": {
    "collapsed": false
   },
   "outputs": [
    {
     "name": "stdout",
     "output_type": "stream",
     "text": [
      "[2, 1, 1, 5, 1, 5, 6, 3, 3, 1, 2, 5, 4, 3, 1, 3, 6, 1, 6, 1, 4, 5, 3, 6, 2, 5, 5, 1, 3, 4, 4, 1, 5, 4, 5, 3, 5, 3, 2, 6, 3, 6, 1, 3, 1, 5, 3, 3, 5, 5, 3, 2, 6, 2, 4, 4, 5, 2, 6, 5, 2, 5, 3, 1, 2, 5, 4, 3, 4, 6, 5, 2, 4, 2, 5, 3, 3, 4, 3, 6, 1, 4, 6, 3, 2, 4, 2, 2, 1, 6, 2, 4, 6, 6, 2, 3, 4, 6, 2, 1]\n"
     ]
    }
   ],
   "source": [
    "print (dice)"
   ]
  },
  {
   "cell_type": "markdown",
   "metadata": {
    "slideshow": {
     "slide_type": "subslide"
    }
   },
   "source": [
    "### 히스토그램\n",
    "\n",
    "1~6 사이의 빈도수가 몇 개인지 세어보자.\n",
    "균등분포이므로 $\\frac{100}{6} = 16.7$, 즉 16 또는 17회가 발생해야 맞다.\n",
    "그러나 발생빈도가 평균치를 넘거나 이르지 못한 경우도 존재한다.\n",
    "주사위 던지는 회수를 늘리면 균등분포에 근사해지게 될 것이다."
   ]
  },
  {
   "cell_type": "code",
   "execution_count": 8,
   "metadata": {
    "collapsed": false
   },
   "outputs": [
    {
     "name": "stdout",
     "output_type": "stream",
     "text": [
      "Dice 1: 15회\n",
      "Dice 2: 17회\n",
      "Dice 3: 20회\n",
      "Dice 4: 15회\n",
      "Dice 5: 18회\n",
      "Dice 6: 15회\n"
     ]
    }
   ],
   "source": [
    "# bin의 수가 10개라서 주사위 6개가 아님.\n",
    "for i in range(1,7):\n",
    "   print(\"Dice {}: {}회\".format(i, dice.count(i)))"
   ]
  },
  {
   "cell_type": "markdown",
   "metadata": {
    "collapsed": true,
    "slideshow": {
     "slide_type": "subslide"
    }
   },
   "source": [
    "각 사건의 발생건수를 막대그래프로 그려보자.\n",
    "막대그래프는 y값, 즉 빈도수만 있어도 된다.\n",
    "앞서 생성하였던 dice를 인자로 넘겨준다."
   ]
  },
  {
   "cell_type": "code",
   "execution_count": 9,
   "metadata": {
    "collapsed": false
   },
   "outputs": [
    {
     "data": {
      "image/png": "[encoded data removed]",
      "text/plain": [
       "<Figure size 432x288 with 1 Axes>"
      ]
     },
     "metadata": {
      "needs_background": "light"
     },
     "output_type": "display_data"
    }
   ],
   "source": [
    "%matplotlib inline\n",
    "import matplotlib.pyplot as plt\n",
    "plt.hist(dice)\n",
    "plt.show()"
   ]
  },
  {
   "cell_type": "markdown",
   "metadata": {
    "slideshow": {
     "slide_type": "subslide"
    }
   },
   "source": [
    "위 그래프를 보면, 마지막이 붙어 있다.\n",
    "앞에서부터 2개의 값을 선택하여 막대가 그려지는데,\n",
    "마지막 막대를 그리는 경우, 6 이상을 넘어가지 못하게 되어서 그렇다.\n",
    "이를 교정하기 위해 0.5부터 시작해서 1씩 증가하도록 구간 bin을 구성하자.\n",
    "0.5~1.5, 1.5~2.5, ... 7개의 값이 필요하다."
   ]
  },
  {
   "cell_type": "code",
   "execution_count": 23,
   "metadata": {
    "collapsed": false
   },
   "outputs": [
    {
     "data": {
      "text/plain": [
       "array([0.5, 1.5, 2.5, 3.5, 4.5, 5.5, 6.5])"
      ]
     },
     "execution_count": 23,
     "metadata": {},
     "output_type": "execute_result"
    }
   ],
   "source": [
    "import numpy as np\n",
    "np.arange(0.5, 7)"
   ]
  },
  {
   "cell_type": "code",
   "execution_count": 22,
   "metadata": {
    "collapsed": false
   },
   "outputs": [
    {
     "data": {
      "image/png": "[encoded data removed]",
      "text/plain": [
       "<Figure size 432x288 with 1 Axes>"
      ]
     },
     "metadata": {
      "needs_background": "light"
     },
     "output_type": "display_data"
    }
   ],
   "source": [
    "plt.hist(dice, bins = np.arange(0.5, 7))\n",
    "plt.show()"
   ]
  },
  {
   "cell_type": "markdown",
   "metadata": {
    "collapsed": true,
    "slideshow": {
     "slide_type": "subslide"
    }
   },
   "source": [
    "Pandas로 그려보자.\n",
    "numpy array를 pandas의 Series로 변환하고, hist() 함수를 사용하면 된다.\n",
    "Pandas Series는 컬럼이라고 보면 된다. 컬럼을 1차원으로 저장한 값이다. 정수, 문자, 소수 등 어떤 값이든 상관없다."
   ]
  },
  {
   "cell_type": "code",
   "execution_count": 25,
   "metadata": {
    "collapsed": false,
    "scrolled": true
   },
   "outputs": [
    {
     "data": {
      "text/plain": [
       "<matplotlib.axes._subplots.AxesSubplot at 0x7f570f8924e0>"
      ]
     },
     "execution_count": 25,
     "metadata": {},
     "output_type": "execute_result"
    },
    {
     "data": {
      "image/png": "[encoded data removed]",
      "text/plain": [
       "<Figure size 432x288 with 1 Axes>"
      ]
     },
     "metadata": {
      "needs_background": "light"
     },
     "output_type": "display_data"
    }
   ],
   "source": [
    "import pandas as pd\n",
    "pd.Series(dice).hist(bins = np.arange(0.5, 7))"
   ]
  },
  {
   "cell_type": "markdown",
   "metadata": {
    "slideshow": {
     "slide_type": "subslide"
    }
   },
   "source": [
    "### describe\n",
    "\n",
    "통계량을 구해보자. describe()는 **기술통계량** 평균, 최소값, 최대값, 표준편차, 건수를 출력한다.\n",
    "DataFrame 또는 컬럼을 Series로 변환한 후 describe()를 적용할 수 있다."
   ]
  },
  {
   "cell_type": "code",
   "execution_count": 26,
   "metadata": {
    "collapsed": true
   },
   "outputs": [],
   "source": [
    "import pandas as pd\n",
    "\n",
    "s=pd.Series(dice)"
   ]
  },
  {
   "cell_type": "code",
   "execution_count": 27,
   "metadata": {
    "collapsed": false
   },
   "outputs": [
    {
     "name": "stdout",
     "output_type": "stream",
     "text": [
      "count    100.000000\n",
      "mean       3.490000\n",
      "std        1.666636\n",
      "min        1.000000\n",
      "25%        2.000000\n",
      "50%        3.000000\n",
      "75%        5.000000\n",
      "max        6.000000\n",
      "dtype: float64\n"
     ]
    }
   ],
   "source": [
    "print (s.describe())"
   ]
  },
  {
   "cell_type": "markdown",
   "metadata": {
    "slideshow": {
     "slide_type": "slide"
    }
   },
   "source": [
    "## S.5 정규분포\n",
    "\n",
    "정규분포는 평균을 중심으로 데이터가 집중해 있고, **좌우대칭의 종모양으로 생긴 분포**를 말한다.\n",
    "키, 몸무게, 온도 등 많은 데이터가 정규분포를 따르고 있다. 정규분포를 가정하여 데이터를 검증하며, 차이가 유의한지 판별하기도 한다."
   ]
  },
  {
   "cell_type": "markdown",
   "metadata": {},
   "source": [
    "### 샘플링\n",
    "\n",
    "무작위 변수 x가 있다고 하자. x는 정규분포를 따른다고 하며,\n",
    "평균 $\\mu$, 표준편차 $\\sigma$를 가지게 된다.\n",
    "즉, $ X \\sim N (\\mu, \\sigma)$\n",
    "무작위 수를 생성하는 함수는:\n",
    "* random.gauss($\\mu, \\sigma$)\n",
    "* random.normalvariate($\\mu, \\sigma$) - gauss보다 약간 빠름.\n",
    "\n",
    "참고로 다른 분포에서의 샘플링 함수는 다음과 같다.\n",
    "* random.uniform(a,b)\n",
    "* random.betavariate(alpha,beta)\n",
    "* random.expovariate(lamdb)\n",
    "* random.gammavariate(alpha,beta)\n"
   ]
  },
  {
   "cell_type": "markdown",
   "metadata": {},
   "source": [
    "평균 0, 표준편차 1을 가지는 정규분포에서 200개 샘플을 추출해보자."
   ]
  },
  {
   "cell_type": "code",
   "execution_count": 59,
   "metadata": {
    "collapsed": true
   },
   "outputs": [],
   "source": [
    "import numpy as np\n",
    "comp1=np.random.normal(0, 1, size=200)"
   ]
  },
  {
   "cell_type": "markdown",
   "metadata": {},
   "source": [
    "200개를 생성하였고, 이 가운데 5개를 출력해보자."
   ]
  },
  {
   "cell_type": "code",
   "execution_count": 57,
   "metadata": {
    "collapsed": false
   },
   "outputs": [
    {
     "data": {
      "text/plain": [
       "array([ 1.64842913, -0.01697313,  1.27238796,  0.03588529,  1.17516446])"
      ]
     },
     "execution_count": 57,
     "metadata": {},
     "output_type": "execute_result"
    }
   ],
   "source": [
    "comp1[:5]"
   ]
  },
  {
   "cell_type": "markdown",
   "metadata": {},
   "source": [
    "이번에는 평균 10, 표준편차 2, 샘플은 200의 정규분포를 생성해보자."
   ]
  },
  {
   "cell_type": "code",
   "execution_count": 2,
   "metadata": {
    "collapsed": true
   },
   "outputs": [],
   "source": [
    "comp2=np.random.normal(10, 2, size=200)"
   ]
  },
  {
   "cell_type": "markdown",
   "metadata": {
    "slideshow": {
     "slide_type": "subslide"
    }
   },
   "source": [
    "### 히스토그램\n",
    "\n",
    "정규분포에서 무작위 샘플을 추출하는 randn()을 사용해서 histogram 그래프를 그려보자.\n",
    "정규분포 샘플을 무작위로 100개 생성해보자."
   ]
  },
  {
   "cell_type": "code",
   "execution_count": 61,
   "metadata": {
    "collapsed": true
   },
   "outputs": [],
   "source": [
    "x=np.random.randn(100)"
   ]
  },
  {
   "cell_type": "markdown",
   "metadata": {},
   "source": [
    "histogram은 bin(interval)과 bin에 속하는 값을 반환한다.\n",
    "```histogram(x)```를 실행하면 2개의 행렬이 반환된다."
   ]
  },
  {
   "cell_type": "code",
   "execution_count": 63,
   "metadata": {
    "collapsed": true
   },
   "outputs": [],
   "source": [
    "count, binends = np.histogram(x)"
   ]
  },
  {
   "cell_type": "markdown",
   "metadata": {},
   "source": [
    "반환된 각 빈(간격)에 속한 갯수, 그리고 x축의 간격을 출력해보자."
   ]
  },
  {
   "cell_type": "code",
   "execution_count": 64,
   "metadata": {
    "collapsed": false
   },
   "outputs": [
    {
     "name": "stdout",
     "output_type": "stream",
     "text": [
      "[ 2  0  4 11 18 24 24 12  4  1]\n",
      "[-3.43964174 -2.81988539 -2.20012905 -1.5803727  -0.96061635 -0.34086\n",
      "  0.27889635  0.8986527   1.51840905  2.1381654   2.75792174]\n"
     ]
    }
   ],
   "source": [
    "print(count)\n",
    "print(binends)"
   ]
  },
  {
   "cell_type": "markdown",
   "metadata": {},
   "source": [
    "numpy의 ```histogram()```은 그래프를 생성하지 않으므로,\n",
    "그림을 그리려면 ```hist(x)```를 실행한다."
   ]
  },
  {
   "cell_type": "code",
   "execution_count": 66,
   "metadata": {
    "collapsed": false
   },
   "outputs": [
    {
     "data": {
      "text/plain": [
       "(array([ 2.,  0.,  4., 11., 18., 24., 24., 12.,  4.,  1.]),\n",
       " array([-3.43964174, -2.81988539, -2.20012905, -1.5803727 , -0.96061635,\n",
       "        -0.34086   ,  0.27889635,  0.8986527 ,  1.51840905,  2.1381654 ,\n",
       "         2.75792174]),\n",
       " <a list of 10 Patch objects>)"
      ]
     },
     "execution_count": 66,
     "metadata": {},
     "output_type": "execute_result"
    },
    {
     "data": {
      "image/png": "[encoded data removed]",
      "text/plain": [
       "<Figure size 432x288 with 1 Axes>"
      ]
     },
     "metadata": {
      "needs_background": "light"
     },
     "output_type": "display_data"
    }
   ],
   "source": [
    "%matplotlib inline\n",
    "import matplotlib.pyplot as plt\n",
    "plt.hist(x)"
   ]
  },
  {
   "cell_type": "markdown",
   "metadata": {
    "slideshow": {
     "slide_type": "subslide"
    }
   },
   "source": [
    "Pandas로 hist()를 그려보자.\n",
    "앞서 생성했던 comp1, comp2를 묶어서 하나의 Series로 만들어 hist()를 호출하고 있다."
   ]
  },
  {
   "cell_type": "code",
   "execution_count": 7,
   "metadata": {
    "collapsed": false
   },
   "outputs": [
    {
     "data": {
      "text/plain": [
       "<matplotlib.axes._subplots.AxesSubplot at 0x7efde933e358>"
      ]
     },
     "execution_count": 7,
     "metadata": {},
     "output_type": "execute_result"
    },
    {
     "data": {
      "image/png": "[encoded data removed]",
      "text/plain": [
       "<Figure size 432x288 with 1 Axes>"
      ]
     },
     "metadata": {
      "needs_background": "light"
     },
     "output_type": "display_data"
    }
   ],
   "source": [
    "import pandas as pd\n",
    "\n",
    "values=pd.Series(np.concatenate( [comp1,comp2]))\n",
    "values.hist()"
   ]
  },
  {
   "cell_type": "markdown",
   "metadata": {},
   "source": [
    "Pandas의 plot()은 선그래프를 그려준다.\n",
    "좌측은 평균 0, 표준편차 1이고, 우측은 평균 10, 표준편차 2의 그래프이다.\n",
    "당연히 표준편차가 큰 우측 그래프의 변동폭이 더 크다. "
   ]
  },
  {
   "cell_type": "code",
   "execution_count": 8,
   "metadata": {
    "collapsed": false,
    "scrolled": true
   },
   "outputs": [
    {
     "data": {
      "image/png": "[encoded data removed]",
      "text/plain": [
       "<Figure size 432x288 with 1 Axes>"
      ]
     },
     "metadata": {
      "needs_background": "light"
     },
     "output_type": "display_data"
    }
   ],
   "source": [
    "values.plot()\n",
    "plt.show()"
   ]
  },
  {
   "cell_type": "markdown",
   "metadata": {
    "slideshow": {
     "slide_type": "slide"
    }
   },
   "source": [
    "## 문제 S-1: 년도별 빈도 히스토그램\n",
    "\n",
    "빈도와 날자가 저장된 데이터에서 막대그래프를 그려보자.\n",
    "아래 데이터의 첫 컬럼은 빈도, 둘째 컬럼은 날자이다.\n",
    "막대그래프는 histogram, barchart를 선택할 수 있다.\n",
    "* histogram은 한 변수(컬럼)의 빈도수.\n",
    "* barchart는 두 변수간의 그래프.\n",
    "\n",
    "여기서는 x축에 년도, y축은 빈도를 추출해서 barchart를 그려보자."
   ]
  },
  {
   "cell_type": "code",
   "execution_count": 10,
   "metadata": {
    "collapsed": true
   },
   "outputs": [],
   "source": [
    "data = \"\"\"30 14-11-2003\n",
    "10 15-03-2004\n",
    "12 04-12-2012\n",
    "33 09-05-2007\n",
    "44 16-08-2005\n",
    "55 25-07-2001\n",
    "76 31-12-2011\n",
    "87 25-06-2009\n",
    "118 16-02-2006\n",
    "119 10-02-2000\n",
    "145 03-05-2014\"\"\""
   ]
  },
  {
   "cell_type": "code",
   "execution_count": 11,
   "metadata": {
    "collapsed": true
   },
   "outputs": [],
   "source": [
    "import datetime\n",
    "\n",
    "yvalues = []\n",
    "xdates = []\n",
    "for line in data.split(\"\\n\"):\n",
    "    x, y = line.split()\n",
    "    yvalues.append(int(x))\n",
    "    xdates.append(datetime.datetime.strptime(y, \"%d-%m-%Y\").date())"
   ]
  },
  {
   "cell_type": "markdown",
   "metadata": {},
   "source": [
    "bar()는 바의 너비를 말하는데, 기본은 0.8이다.\n",
    "여기서는 30정도 넣으니 출력이 된다."
   ]
  },
  {
   "cell_type": "code",
   "execution_count": 12,
   "metadata": {
    "collapsed": false
   },
   "outputs": [
    {
     "data": {
      "text/plain": [
       "<BarContainer object of 11 artists>"
      ]
     },
     "execution_count": 12,
     "metadata": {},
     "output_type": "execute_result"
    },
    {
     "data": {
      "image/png": "[encoded data removed]",
      "text/plain": [
       "<Figure size 432x288 with 1 Axes>"
      ]
     },
     "metadata": {
      "needs_background": "light"
     },
     "output_type": "display_data"
    }
   ],
   "source": [
    "import matplotlib.pyplot as plt\n",
    "\n",
    "fig = plt.figure()\n",
    "ax = plt.subplot(111)\n",
    "ax.bar(xdates, yvalues, width=30)"
   ]
  },
  {
   "cell_type": "markdown",
   "metadata": {
    "slideshow": {
     "slide_type": "slide"
    }
   },
   "source": [
    "## S.6 중심극한정리\n",
    "\n",
    "평균이 $\\mu$, 표준편차가 $\\sigma$인 모집단이 있다고하자. 이 모집단에서 무작위로 표본 $X_1, X_2, \\dots X_n$을 추출하면 (바꿔치기가 가능한 sampling with replacement), 그 **표본의 평균 $\\bar{X_1}, \\bar{X_2}, \\dots \\bar{X_n}$**은 **정규분포**를 따른다는 것이 중심극한정리이다.\n",
    "\n",
    "모집단이 어떤 분포를 따르더라도, 표본의 크기 n이 충분히 커지면 (보통 n>30), **표본평균의 분포는 정규분포로 수렴**하게 된다\n",
    "이러한 전제에 따라, **통계적 추정**을 할 수 있고, z값을 이용해 확률을 계산할 수 있게 된다.\n",
    "\n",
    "예를 들어 모집단이 균등분포라고 하자. 앞서 설명했던 주사위는 1 ~ 6까지 동일한 확률로 발생한다. 주사위를 10회 던져서 표본을 구성해보자. 이를 표본1이라고 하자. 이와 같이 표본을 n회 구성해보자. 그러면 표본1의 평균 $\\bar{X_1}$ 3.51, $\\bar{X_2}$는 3.32, $\\bar{X_3}$은 3.81..이 될 것이다. 표본을 30회 정도하면, 표본평균의 표본분포 (sampling distribution of sample means)는 그 형태가 정규분포에 수렴한다.\n",
    "\n",
    "무작위로 **평균 $\\mu$, 표준편차 $\\sigma$** 모집단이 있다고 하자. 모집단의 평균과 표준편차는 계산할 방법이 없어서 알 수가 없다. 표본을 추출하면, 모집단의 평균 $\\mu = \\mu_{\\bar{x_n}}$, 모집단의 표준편차는 표본의 표준편차를 크기로 나누어 계산할 수 있다 $\\sigma =  \\frac{\\sigma}{\\sqrt{n}}$  따라서 $\\frac{\\sigma} {\\sqrt{n}}$로 계산한다. 주사위 사례에서 n=10이므로,  $\\frac{\\sigma} {\\sqrt{10}}$으로 한다."
   ]
  },
  {
   "cell_type": "markdown",
   "metadata": {},
   "source": [
    "식으로 표현하면:\n",
    "\n",
    "$$\n",
    "z = \\frac {\\bar{x_n} - \\mu} {\\sigma / \\sqrt{n}} \\quad n \\rightarrow \\infty\n",
    "$$"
   ]
  },
  {
   "cell_type": "markdown",
   "metadata": {},
   "source": [
    "정규분포에서 100개의 수를 생성해보자."
   ]
  },
  {
   "cell_type": "code",
   "execution_count": 1,
   "metadata": {
    "collapsed": false
   },
   "outputs": [],
   "source": [
    "import numpy as np\n",
    "x=np.random.randn(100)"
   ]
  },
  {
   "cell_type": "markdown",
   "metadata": {
    "collapsed": false
   },
   "source": [
    "정규분포는 평균, 모드, 최빈값이 같아야 한다.\n",
    "아래는 평균은 0에 가깝고, 최빈값과 다소 차이가 있다.\n",
    "정규분포의 솟거나, 퍼진 모양이 다르기 때문이다."
   ]
  },
  {
   "cell_type": "code",
   "execution_count": 2,
   "metadata": {
    "collapsed": false,
    "scrolled": true
   },
   "outputs": [
    {
     "name": "stdout",
     "output_type": "stream",
     "text": [
      "mean\t: 0.09590091669776658\n",
      "median\t: 0.1644339651989576\n"
     ]
    }
   ],
   "source": [
    "print (\"mean\\t: {}\".format(np.mean(x)))\n",
    "print (\"median\\t: {}\".format(np.median(x)))"
   ]
  },
  {
   "cell_type": "markdown",
   "metadata": {},
   "source": [
    "### skewness\n",
    "\n",
    "분포의 대칭성을 설명하는 지표로 skewness를 계산한다.\n",
    "* ```= 0``` : 정규분포\n",
    "* ```> 0``` : 왼쪽 꼬리가 두툼, 왼쪽으로 비스듬\n",
    "* ```< 0``` : 오른쪽 꼬리가 두툼, 왼쪽으로 비스듬"
   ]
  },
  {
   "cell_type": "code",
   "execution_count": 5,
   "metadata": {
    "collapsed": false
   },
   "outputs": [
    {
     "name": "stdout",
     "output_type": "stream",
     "text": [
      "skewness\t: 0.038407737346556746\n"
     ]
    }
   ],
   "source": [
    "from scipy.stats import skew\n",
    "\n",
    "print (\"skewness\\t: {}\".format(skew(x)))"
   ]
  },
  {
   "cell_type": "markdown",
   "metadata": {},
   "source": [
    "### kurtosis\n",
    "\n",
    "kurtosis는 분포의 뾰족한 정도를 설명한다.\n",
    "* ```= 0``` : 정규분포\n",
    "* ```> 0``` : 뾰족하고, 꼬리가 두툼\n",
    "* ```< 0``` : 편평하고, 꼬리가 얇음"
   ]
  },
  {
   "cell_type": "code",
   "execution_count": 6,
   "metadata": {
    "collapsed": false
   },
   "outputs": [
    {
     "name": "stdout",
     "output_type": "stream",
     "text": [
      "kurtosis\t: -0.03424153596399471\n"
     ]
    }
   ],
   "source": [
    "from scipy.stats import kurtosis\n",
    "\n",
    "print (\"kurtosis\\t: {}\".format(kurtosis(x)))"
   ]
  },
  {
   "cell_type": "markdown",
   "metadata": {},
   "source": [
    "### Spark로 skewness, kurtosis 계산하기"
   ]
  },
  {
   "cell_type": "code",
   "execution_count": 1,
   "metadata": {
    "collapsed": true
   },
   "outputs": [],
   "source": [
    "import os\n",
    "os.environ[\"PYSPARK_PYTHON\"]=\"/usr/bin/python3\"\n",
    "os.environ[\"PYSPARK_DRIVER_PYTHON\"]=\"/usr/bin/python3\""
   ]
  },
  {
   "cell_type": "code",
   "execution_count": 2,
   "metadata": {
    "collapsed": true
   },
   "outputs": [],
   "source": [
    "import pyspark\n",
    "\n",
    "myConf=pyspark.SparkConf()\n",
    "spark = pyspark.sql.SparkSession.builder\\\n",
    "    .master(\"local\")\\\n",
    "    .appName(\"myApp\")\\\n",
    "    .config(conf=myConf)\\\n",
    "    .getOrCreate()"
   ]
  },
  {
   "cell_type": "markdown",
   "metadata": {},
   "source": [
    "numpy array는 바로 Spark DataFrame을 생성할 수 없으므로,\n",
    "Pandas를 경유해서 numpy array를 DataFrame으로 생성하자."
   ]
  },
  {
   "cell_type": "code",
   "execution_count": 5,
   "metadata": {
    "collapsed": false
   },
   "outputs": [],
   "source": [
    "import pandas as pd\n",
    "xPd=pd.DataFrame(x, columns=['x'], dtype=float)"
   ]
  },
  {
   "cell_type": "code",
   "execution_count": 6,
   "metadata": {
    "collapsed": false
   },
   "outputs": [],
   "source": [
    "df=spark.createDataFrame(xPd)"
   ]
  },
  {
   "cell_type": "code",
   "execution_count": 7,
   "metadata": {
    "collapsed": false,
    "scrolled": true
   },
   "outputs": [
    {
     "name": "stdout",
     "output_type": "stream",
     "text": [
      "+-------------------+-------------------+\n",
      "|        skewness(x)|        kurtosis(x)|\n",
      "+-------------------+-------------------+\n",
      "|0.04266616939228724|-0.5887178923080336|\n",
      "+-------------------+-------------------+\n",
      "\n"
     ]
    }
   ],
   "source": [
    "from pyspark.sql import functions as f\n",
    "df.select(f.skewness(df['x']), f.kurtosis(df['x'])).show()"
   ]
  },
  {
   "cell_type": "markdown",
   "metadata": {},
   "source": [
    "## S.7 분산\n",
    "\n",
    "분산을 구하려면 평균 $\\bar{x}$, $\\bar{y}$를 구해야 한다.\n",
    "\n",
    "### 평균 계산식\n",
    "\n",
    "평균을 x의 합계를 개수로 나누어 계산해보자. numpy 평균과 동일하다."
   ]
  },
  {
   "cell_type": "code",
   "execution_count": 8,
   "metadata": {
    "collapsed": true
   },
   "outputs": [],
   "source": [
    "X=x"
   ]
  },
  {
   "cell_type": "code",
   "execution_count": 9,
   "metadata": {
    "collapsed": false
   },
   "outputs": [
    {
     "name": "stdout",
     "output_type": "stream",
     "text": [
      "simple mean of x = 0.096\n"
     ]
    }
   ],
   "source": [
    "print (\"simple mean of x = {:.3f}\".format(float(sum(X))/len(X)))"
   ]
  },
  {
   "cell_type": "markdown",
   "metadata": {},
   "source": [
    "### numpy 평균\n",
    "\n",
    "numpy의 평균을 계산해보자."
   ]
  },
  {
   "cell_type": "code",
   "execution_count": 10,
   "metadata": {
    "collapsed": true
   },
   "outputs": [],
   "source": [
    "import numpy as np\n",
    "\n",
    "xbar=np.mean(X)\n",
    "#ybar=np.mean(Y)"
   ]
  },
  {
   "cell_type": "code",
   "execution_count": 11,
   "metadata": {
    "collapsed": false
   },
   "outputs": [
    {
     "name": "stdout",
     "output_type": "stream",
     "text": [
      "numpy mean of X = 0.096\n"
     ]
    }
   ],
   "source": [
    "print (\"numpy mean of X = {:.3f}\".format(xbar))"
   ]
  },
  {
   "cell_type": "markdown",
   "metadata": {},
   "source": [
    "### 분산 계산식\n",
    "\n",
    "분산 variance나 표준편차 Standard Deviation은 **평균으로부터 얼마나 멀리 떨어져 또는 흩어져 분포**하는지 알려주는 값이다. \n",
    "* 분산은 평균에서 관측값을 뺀 차이값을 제곱하여 평균을 계산한다. 제곱을 하지 않고 차이값을 더하면 0이 나오므로 제곱을 한다.\n",
    "* 분산을 제곱근하면 표준편차가 된다.\n",
    "\n",
    "분산보다는 표준편차가 더 자주 사용된다.\n",
    "\n",
    "수식으로 분산을 계산을 해보자."
   ]
  },
  {
   "cell_type": "code",
   "execution_count": 12,
   "metadata": {
    "collapsed": false
   },
   "outputs": [
    {
     "name": "stdout",
     "output_type": "stream",
     "text": [
      "0.9088549333803019\n"
     ]
    }
   ],
   "source": [
    "print(np.sqrt(sum( [ (x-xbar)**2 for x in X ] )/len(X))) # ddof=0"
   ]
  },
  {
   "cell_type": "markdown",
   "metadata": {},
   "source": [
    "n-1 보정을 해주어서 분산을 계산하면 다음과 같이 미세하게 값이 증가한다.\n",
    "이러한 보정은 샘플의 크기가 커지면 영향이 더욱 적어지게 된다.\n",
    "\n",
    "**n-1 보정을 해주어야 하는 이유**는 하나는 제외해도 되기 때문이다.\n",
    "분산을 계산하려면 평균을 알아야 한다. 분산이란 평균에서 얼마나 떨어져 있는지 나타내는 값이기 때문이다.\n",
    "모집단에서 5개의 수를 샘플링한다고 하자. 예를 들어 1, 5, 3, 4, 9이라고 하자.\n",
    "표본의 평균을 알고 있다고 하자.\n",
    "그러면 1, 5, 3, 4까지만 샘플링을 해도 평균이 4.4 (22/5)이니까\n",
    "**분산을 계산할 때 마지막 수는 필요하지 않아서 자유도에서 -1**을 해주게 된다.\n",
    "표본의 평균을 알고 있다면, 마지막 수는 변경될 필요없이 고정된다."
   ]
  },
  {
   "cell_type": "code",
   "execution_count": 13,
   "metadata": {
    "collapsed": false
   },
   "outputs": [
    {
     "name": "stdout",
     "output_type": "stream",
     "text": [
      "0.9134335766320952\n"
     ]
    }
   ],
   "source": [
    "print(np.sqrt(sum( [ (x-xbar)**2 for x in X ] )/(len(X)-1))) # ddof=1"
   ]
  },
  {
   "cell_type": "markdown",
   "metadata": {},
   "source": [
    "표준편차는 variance의 제곱근으로 계산한다.\n",
    "\n",
    "ddof는 Delta Degrees of Freedom으로, 기본 값은 ddof=0이지만, 1로 해서 계산한다."
   ]
  },
  {
   "cell_type": "code",
   "execution_count": 14,
   "metadata": {
    "collapsed": true
   },
   "outputs": [],
   "source": [
    "sx=np.sqrt(np.var(X,ddof=1))\n",
    "#sy=np.sqrt(np.var(Y,ddof=1))\n",
    "#print(\"sx:\",sx, \"sy:\",sy)"
   ]
  },
  {
   "cell_type": "markdown",
   "metadata": {},
   "source": [
    "### numpy 분산 계산\n",
    "\n",
    "numpy로 계산해도, 값은 동일하다."
   ]
  },
  {
   "cell_type": "code",
   "execution_count": 15,
   "metadata": {
    "collapsed": false
   },
   "outputs": [
    {
     "name": "stdout",
     "output_type": "stream",
     "text": [
      "0.9088549333803018\n",
      "0.9134335766320952\n"
     ]
    }
   ],
   "source": [
    "print(np.std(X)) # ddof=0\n",
    "print(np.std(X, ddof=1))"
   ]
  },
  {
   "cell_type": "code",
   "execution_count": 16,
   "metadata": {
    "collapsed": false
   },
   "outputs": [
    {
     "name": "stdout",
     "output_type": "stream",
     "text": [
      "3.0\n"
     ]
    }
   ],
   "source": [
    "a = np.array([1,2,3,4,5])\n",
    "p = np.percentile(a, 50) # return 50th percentile, e.g median.\n",
    "print (p) # 3\n"
   ]
  },
  {
   "cell_type": "markdown",
   "metadata": {
    "slideshow": {
     "slide_type": "subslide"
    }
   },
   "source": [
    "### boxplot\n",
    "\n",
    "전체 관측값을 정렬하고, 전체를 4분위로 나누면 IQR Interquatile Range을 구할 수 있다.\n",
    "Boxplot은 IQR의 Q1~Q3을 사각형으로 표시한다.\n",
    "pandas를 이용하거나, matplotlib으로 Boxplot을 그릴 수 있다.\n",
    "사각형의 주황색 선은 평균을 말한다."
   ]
  },
  {
   "cell_type": "code",
   "execution_count": 18,
   "metadata": {
    "collapsed": false
   },
   "outputs": [
    {
     "data": {
      "image/png": "[encoded data removed]",
      "text/plain": [
       "<Figure size 432x288 with 1 Axes>"
      ]
     },
     "metadata": {
      "needs_background": "light"
     },
     "output_type": "display_data"
    }
   ],
   "source": [
    "import matplotlib.pyplot as plt\n",
    "\n",
    "x1 = np.random.normal(0,1,50) # mu=0, sigma=1, n=50\n",
    "x2 = np.random.normal(1,1,50)\n",
    "x3 = np.random.normal(2,1,50)\n",
    "plt.boxplot([x1,x2,x3])\n",
    "plt.show()\n"
   ]
  },
  {
   "cell_type": "markdown",
   "metadata": {
    "slideshow": {
     "slide_type": "subslide"
    }
   },
   "source": [
    "## S.8 zscore, tscore\n",
    "\n",
    "zscore는 각 측정 값을 평균에서 빼고난 후 표준편차로 나누어 계산된다.\n",
    "이 식을 이해하면, 평균에서 표준편차의 몇 배가 떨어져 있는지를 말한다.\n",
    "**표준편차의 배수로 떨어진 정도를 정규화(표준화)**한다는 의미가 있다.\n",
    "\n",
    "z는 모집단의 평균, 표준편차를 알 경우, 그러나 샘플링을 할 경우는 \n",
    "n-1로 나눈다 (numpy에서는 ddof=1이 default).\n",
    "따라서 아래 계산에서는 ddof=1로 한다."
   ]
  },
  {
   "cell_type": "markdown",
   "metadata": {
    "slideshow": {
     "slide_type": "subslide"
    }
   },
   "source": [
    "모집단의 zscore when variance is known\n",
    "$$\n",
    "z = \\frac {\\bar{x_n} - \\mu} {\\sigma / \\sqrt{n}} \n",
    "$$\n"
   ]
  },
  {
   "cell_type": "code",
   "execution_count": 20,
   "metadata": {
    "collapsed": true
   },
   "outputs": [],
   "source": [
    "X=[10, 7, 12, 12, 9, 16, 12, 18, 8, 12, 14, 16]"
   ]
  },
  {
   "cell_type": "markdown",
   "metadata": {},
   "source": [
    "### zscore 계산식"
   ]
  },
  {
   "cell_type": "code",
   "execution_count": 21,
   "metadata": {
    "collapsed": false
   },
   "outputs": [
    {
     "name": "stdout",
     "output_type": "stream",
     "text": [
      "-0.6410300618768864 -1.5286101475525755 -0.04931000475976033 -0.04931000475976033 -0.9368900904354495 1.1341301094744918 -0.04931000475976033 1.725850166591618 -1.2327501189940124 -0.04931000475976033 0.5424100523573657 1.1341301094744918 "
     ]
    }
   ],
   "source": [
    "import numpy as np\n",
    "\n",
    "xbar=np.mean(X)\n",
    "sigmax=np.std(X) #ddof=0\n",
    "sx=np.std(X,ddof=1)\n",
    "for x in X:\n",
    "   zscore=(x-xbar)/sx\n",
    "   print (zscore, end= ' ')"
   ]
  },
  {
   "cell_type": "markdown",
   "metadata": {},
   "source": [
    "### stats zscore"
   ]
  },
  {
   "cell_type": "code",
   "execution_count": 22,
   "metadata": {
    "collapsed": true
   },
   "outputs": [],
   "source": [
    "from scipy import stats"
   ]
  },
  {
   "cell_type": "code",
   "execution_count": 23,
   "metadata": {
    "collapsed": false
   },
   "outputs": [
    {
     "data": {
      "text/plain": [
       "array([-0.66953406, -1.59658123, -0.05150262, -0.05150262, -0.97854978,\n",
       "        1.18456027, -0.05150262,  1.80259171, -1.28756551, -0.05150262,\n",
       "        0.56652882,  1.18456027])"
      ]
     },
     "execution_count": 23,
     "metadata": {},
     "output_type": "execute_result"
    }
   ],
   "source": [
    "stats.zscore(X)"
   ]
  },
  {
   "cell_type": "markdown",
   "metadata": {},
   "source": [
    "### cdf\n",
    "\n",
    "추론통계에서 확률을 계산하는 것은 중요하다. p-value와 신뢰구간의 계산에 필요하다.\n",
    "**cdf** Cumulative Distribution Function은 누적확률을 의미한다.\n",
    "정규분포에서 **평균과 표준편차는 0,1을 기본 값**으로, cdf(0)은 '0'또는 그 이하의 값을 누적한 확률을 말한다."
   ]
  },
  {
   "cell_type": "code",
   "execution_count": 1,
   "metadata": {
    "collapsed": false
   },
   "outputs": [
    {
     "data": {
      "text/plain": [
       "0.5"
      ]
     },
     "execution_count": 1,
     "metadata": {},
     "output_type": "execute_result"
    }
   ],
   "source": [
    "from scipy.stats import norm\n",
    "\n",
    "norm.cdf(0, loc=0, scale=1)"
   ]
  },
  {
   "cell_type": "markdown",
   "metadata": {},
   "source": [
    "1일 경우는 84.13, 2일 경우에는 97.72이다.\n",
    "* $\\mu \\pm 1\\sigma$ 모집단 68.27%\n",
    "* $\\mu \\pm 2\\sigma$ 모집단 95.45%\n",
    "* $\\mu \\pm 3\\sigma$ 모집단 99.73%"
   ]
  },
  {
   "cell_type": "code",
   "execution_count": 25,
   "metadata": {
    "collapsed": false
   },
   "outputs": [
    {
     "data": {
      "text/plain": [
       "0.6826894921370859"
      ]
     },
     "execution_count": 25,
     "metadata": {},
     "output_type": "execute_result"
    }
   ],
   "source": [
    "norm.cdf(1) - norm.cdf(-1)"
   ]
  },
  {
   "cell_type": "code",
   "execution_count": 26,
   "metadata": {
    "collapsed": false
   },
   "outputs": [
    {
     "data": {
      "text/plain": [
       "0.9544997361036416"
      ]
     },
     "execution_count": 26,
     "metadata": {},
     "output_type": "execute_result"
    }
   ],
   "source": [
    "norm.cdf(2) - norm.cdf(-2)"
   ]
  },
  {
   "cell_type": "markdown",
   "metadata": {},
   "source": [
    "### ppf\n",
    "\n",
    "Percent Point Function 확률의 점 값을 계산한다. 0.5, 즉 50% 확률의 zscore는 0이다.\n",
    "0.001, 즉 0.1%의 확률의 zscore는 -3.09이다."
   ]
  },
  {
   "cell_type": "code",
   "execution_count": 27,
   "metadata": {
    "collapsed": false
   },
   "outputs": [
    {
     "data": {
      "text/plain": [
       "array([-3.09023231,  0.        ,  1.69014614])"
      ]
     },
     "execution_count": 27,
     "metadata": {},
     "output_type": "execute_result"
    }
   ],
   "source": [
    "norm.ppf([0.001, 0.5, 0.9545])"
   ]
  },
  {
   "cell_type": "markdown",
   "metadata": {},
   "source": [
    "ppf는 cdf의 역이다. 아래와 같이 위 ppf계산 결과를 cdf에 넣으면 ppf를 계산할 수 있다."
   ]
  },
  {
   "cell_type": "code",
   "execution_count": 2,
   "metadata": {
    "collapsed": false
   },
   "outputs": [
    {
     "data": {
      "text/plain": [
       "array([0.001 , 0.5   , 0.9545])"
      ]
     },
     "execution_count": 2,
     "metadata": {},
     "output_type": "execute_result"
    }
   ],
   "source": [
    "norm.cdf([-3.09023231,  0.        ,  1.69014614])"
   ]
  },
  {
   "cell_type": "markdown",
   "metadata": {},
   "source": [
    "### tscore\n",
    "\n",
    "표본의 크기가 크면 모집단과 차이가 없는데, 표본이 작으면 어떻게 될까? 이 경우 사용하는 것이 t분포이다.\n",
    "t분포는 정규분포와 유사한 모양을 가지고 있지만, 꼬리가 두툼한 특징을 가지고 있다.\n",
    "따라서 평균에서 멀어진 값을 샘플링할 확률이 높아지게 된다.\n",
    "n이 일정 규모로 커지면 t분포와 정규분포와 유사하게 된다."
   ]
  },
  {
   "cell_type": "code",
   "execution_count": 28,
   "metadata": {
    "collapsed": false
   },
   "outputs": [
    {
     "data": {
      "text/plain": [
       "0.7500000000000002"
      ]
     },
     "execution_count": 28,
     "metadata": {},
     "output_type": "execute_result"
    }
   ],
   "source": [
    "from scipy.stats import t\n",
    "\n",
    "t.cdf(1, 1) # dof 1"
   ]
  },
  {
   "cell_type": "code",
   "execution_count": 29,
   "metadata": {
    "collapsed": false,
    "slideshow": {
     "slide_type": "subslide"
    }
   },
   "outputs": [
    {
     "data": {
      "text/plain": [
       "0.7500000000000002"
      ]
     },
     "execution_count": 29,
     "metadata": {},
     "output_type": "execute_result"
    }
   ],
   "source": [
    "t.cdf(1, 1, loc=0, scale=1)"
   ]
  },
  {
   "cell_type": "markdown",
   "metadata": {},
   "source": [
    "## S.9 outliers\n",
    "\n",
    "정규분포를 따른다고 했을 경우, 분포의 표준편차 범위3은 발생하기 어렵다.\n",
    "이러한 일정 범위를 넘어선 값은 이상값이다.\n",
    "따라서, 이런 경우 분석에 앞서:\n",
    "* 이상값의 어떤 기준은 판별하는가?\n",
    "* 왜 그런 값이 발생했는지, 올바르지 않은 입력인지 판단한다.\n",
    "* 이상값을 제외하고 나면 통계량은 어떻게 변했는지 알아본다.\n",
    "\n",
    "아래의 예에서 표준편차 2배 보다 큰 경우 이상 값으로 보고, 제외한다."
   ]
  },
  {
   "cell_type": "code",
   "execution_count": 30,
   "metadata": {
    "collapsed": false
   },
   "outputs": [
    {
     "name": "stdout",
     "output_type": "stream",
     "text": [
      "[2, 4, 5, 1, 6, 5]\n"
     ]
    }
   ],
   "source": [
    "import numpy as np\n",
    "\n",
    "def reject_outliers(data):\n",
    "    m = np.mean(data)\n",
    "    s = np.std(data)\n",
    "    filtered = [d for d in data if (m - 2 * s < d < m + 2 * s)]\n",
    "    return filtered\n",
    "\n",
    "d = [2,4,5,1,6,5,40]\n",
    "filtered_d = reject_outliers(d)\n",
    "print (filtered_d)"
   ]
  },
  {
   "cell_type": "markdown",
   "metadata": {},
   "source": [
    "## Window functions\n",
    "\n",
    "앞서 배웠던 pyspark.sql.functions는 substr()과 같이 문자열을 잘라내고, 그 결과를 생성하여 행으로 적용을 한다.\n",
    "반면에 윈도우 함수는 그룹으로 구분하고 그 범위 내에서 계산을 할 때 사용한다.\n",
    "이 때 over() 함수로 적용되는 그룹의 윈도우를 구분하게 된다.\n",
    "* 순위 함수 ranking functions: rank, dense_rank, percent_rank, ntile, row_number\n",
    "* 분석 함수 analytic functions: cume_dist, first_value, last_value, lag, lead\n",
    "* 집합 함수 aggregate functions: sum, avg, min, max, count와 같이 앞서 배웠던 집합 함수를 윈도우에 대해 적용."
   ]
  },
  {
   "cell_type": "markdown",
   "metadata": {
    "collapsed": true
   },
   "source": [
    "### 데이터\n",
    "\n",
    "문자열 리스트의 1차원 배열이지만, 2차원 배열로 즉 사람별로 이름, 과목, 성적을 가지는 2차원으로 변환해야 한다.\n",
    "윈도우 함수를 적용하기 위해 DataFrame으로 만들어 주자."
   ]
  },
  {
   "cell_type": "code",
   "execution_count": 5,
   "metadata": {
    "collapsed": true
   },
   "outputs": [],
   "source": [
    "marks=[\n",
    "    \"김하나, English, 100\",\n",
    "    \"김하나, Math, 80\",\n",
    "    \"임하나, English, 70\",\n",
    "    \"임하나, Math, 100\",\n",
    "    \"김갑돌, English, 82.3\",\n",
    "    \"김갑돌, Math, 98.5\"\n",
    "]"
   ]
  },
  {
   "cell_type": "markdown",
   "metadata": {},
   "source": [
    "### DataFrame 생성\n",
    "\n",
    "이름, 과목, 성적을 컴마로 분할하여 DataFrame을 직접 만들려면 조금 복잡하다.\n",
    "이름, 과목, 성적을 하나의 컬럼으로 읽게되고, 이를 컴마로 분리해서 하나씩의 컬럼을 생성해야 한다.\n",
    "RDD의 map() 함수를 사용하여 컴마로 분할하고 나서, 3개의 컬럼으로 DataFrame을 만드는 편이 쉽다."
   ]
  },
  {
   "cell_type": "code",
   "execution_count": 6,
   "metadata": {
    "collapsed": false
   },
   "outputs": [],
   "source": [
    "_marksRdd=spark.sparkContext.parallelize(marks).map(lambda x:x.split(','))"
   ]
  },
  {
   "cell_type": "markdown",
   "metadata": {},
   "source": [
    "읽으면서 컬럼명을 수정한다."
   ]
  },
  {
   "cell_type": "code",
   "execution_count": 7,
   "metadata": {
    "collapsed": false
   },
   "outputs": [],
   "source": [
    "_marksDf=spark.createDataFrame(_marksRdd, schema=[\"name\", \"subject\", \"mark\"])"
   ]
  },
  {
   "cell_type": "code",
   "execution_count": 8,
   "metadata": {
    "collapsed": false
   },
   "outputs": [
    {
     "name": "stdout",
     "output_type": "stream",
     "text": [
      "root\n",
      " |-- name: string (nullable = true)\n",
      " |-- subject: string (nullable = true)\n",
      " |-- mark: string (nullable = true)\n",
      "\n"
     ]
    }
   ],
   "source": [
    "_marksDf.printSchema()"
   ]
  },
  {
   "cell_type": "code",
   "execution_count": 9,
   "metadata": {
    "collapsed": false
   },
   "outputs": [
    {
     "name": "stdout",
     "output_type": "stream",
     "text": [
      "+------+--------+-----+\n",
      "|  name| subject| mark|\n",
      "+------+--------+-----+\n",
      "|김하나| English|  100|\n",
      "|김하나|    Math|   80|\n",
      "|임하나| English|   70|\n",
      "|임하나|    Math|  100|\n",
      "|김갑돌| English| 82.3|\n",
      "|김갑돌|    Math| 98.5|\n",
      "+------+--------+-----+\n",
      "\n"
     ]
    }
   ],
   "source": [
    "_marksDf.show()"
   ]
  },
  {
   "cell_type": "code",
   "execution_count": 9,
   "metadata": {
    "collapsed": false,
    "scrolled": false
   },
   "outputs": [
    {
     "name": "stdout",
     "output_type": "stream",
     "text": [
      "+--------+-----+\n",
      "| subject|count|\n",
      "+--------+-----+\n",
      "|    Math|    3|\n",
      "| English|    3|\n",
      "+--------+-----+\n",
      "\n"
     ]
    }
   ],
   "source": [
    "_marksDf.groupBy('subject').count().show()"
   ]
  },
  {
   "cell_type": "markdown",
   "metadata": {},
   "source": [
    "### 그룹 window\n",
    "\n",
    "컬럼에 대해 그룹, 즉 윈도우를 만드는 함수를 보자. \n",
    "* partitionBy: 컬럼별로 구분, 즉 컬럼 값에 따라 partition에 포함되는 행을 할당. partition을 정하지 않으면 모든 행을 동일한 노드에 할당한다.\n",
    "* orderBy: partition 내에서 컬럼 값에 대해 행의 순서를 정렬한다.\n",
    "* frame: 현재 행을 기준으로 포함할 행을 분할.\n",
    "    * 행 프레임: 현재 행을 기준으로 몇 개 앞, 몇 개 뒤의 물리적 범위를 **```window.rowsBetween(start, end)```** 정한다.\n",
    "    * 범위 프레임: 논리적인 범위를 **```windowSpec.rangeBetween(start, end)```** 정한다. 현재 성적이 70점이면 RANGE BETWEEN 20 PRECEDING AND 10 FOLLOWING은 50 ~ 80을 의미 "
   ]
  },
  {
   "cell_type": "code",
   "execution_count": 10,
   "metadata": {
    "collapsed": true
   },
   "outputs": [],
   "source": [
    "from pyspark.sql.window import Window\n",
    "\n",
    "win = Window.partitionBy(\"subject\").orderBy(\"mark\")"
   ]
  },
  {
   "cell_type": "markdown",
   "metadata": {},
   "source": [
    "### 순위 함수\n",
    "\n",
    "#### row_number\n",
    "\n",
    "row_number() 윈도우 함수는 각 그룹별로 일련번호를 생성한다."
   ]
  },
  {
   "cell_type": "code",
   "execution_count": 11,
   "metadata": {
    "collapsed": false,
    "scrolled": true
   },
   "outputs": [
    {
     "name": "stdout",
     "output_type": "stream",
     "text": [
      "+------+--------+-----+----------+\n",
      "|  name| subject| mark|row_number|\n",
      "+------+--------+-----+----------+\n",
      "|임하나|    Math|  100|         1|\n",
      "|김하나|    Math|   80|         2|\n",
      "|김갑돌|    Math| 98.5|         3|\n",
      "|김하나| English|  100|         1|\n",
      "|임하나| English|   70|         2|\n",
      "|김갑돌| English| 82.3|         3|\n",
      "+------+--------+-----+----------+\n",
      "\n"
     ]
    }
   ],
   "source": [
    "from pyspark.sql.functions import row_number\n",
    "\n",
    "_marksDf.withColumn(\"row_number\", row_number().over(win)).show()"
   ]
  },
  {
   "cell_type": "markdown",
   "metadata": {},
   "source": [
    "위 결과를 보면 정렬이 되지 않고 있다. 그 이유는 mark가 문자열로 정의되어 있기 때문이다.\n",
    "FloatType()으로 형변환을 하고, 다시 Window를 정렬하자."
   ]
  },
  {
   "cell_type": "code",
   "execution_count": 23,
   "metadata": {
    "collapsed": true
   },
   "outputs": [],
   "source": [
    "from pyspark.sql.types import FloatType\n",
    "\n",
    "_marksDf = _marksDf.withColumn('markF', _marksDf['mark'].cast(FloatType()))"
   ]
  },
  {
   "cell_type": "markdown",
   "metadata": {},
   "source": [
    "```orderBy((\"markF\").desc())```로 내림차순으로 정렬하여 Window를 정렬한다."
   ]
  },
  {
   "cell_type": "code",
   "execution_count": 24,
   "metadata": {
    "collapsed": false
   },
   "outputs": [],
   "source": [
    "from pyspark.sql import functions as F\n",
    "winF = Window.partitionBy(\"subject\").orderBy(F.col(\"markF\").desc()) # "
   ]
  },
  {
   "cell_type": "code",
   "execution_count": 25,
   "metadata": {
    "collapsed": false,
    "scrolled": true
   },
   "outputs": [
    {
     "name": "stdout",
     "output_type": "stream",
     "text": [
      "+------+--------+-----+-----+----------+\n",
      "|  name| subject| mark|markF|row_number|\n",
      "+------+--------+-----+-----+----------+\n",
      "|임하나|    Math|  100|100.0|         1|\n",
      "|김갑돌|    Math| 98.5| 98.5|         2|\n",
      "|김하나|    Math|   80| 80.0|         3|\n",
      "|김하나| English|  100|100.0|         1|\n",
      "|김갑돌| English| 82.3| 82.3|         2|\n",
      "|임하나| English|   70| 70.0|         3|\n",
      "+------+--------+-----+-----+----------+\n",
      "\n"
     ]
    }
   ],
   "source": [
    "from pyspark.sql.functions import row_number\n",
    "\n",
    "_marksDf.withColumn(\"row_number\", row_number().over(winF)).show()"
   ]
  },
  {
   "cell_type": "markdown",
   "metadata": {},
   "source": [
    "#### rank\n",
    "\n",
    "rank() 윈도우 함수는 각 그룹별로 등위를 계산한다."
   ]
  },
  {
   "cell_type": "code",
   "execution_count": 26,
   "metadata": {
    "collapsed": false,
    "scrolled": true
   },
   "outputs": [
    {
     "name": "stdout",
     "output_type": "stream",
     "text": [
      "+------+--------+-----+-----+----+\n",
      "|  name| subject| mark|markF|rank|\n",
      "+------+--------+-----+-----+----+\n",
      "|임하나|    Math|  100|100.0|   1|\n",
      "|김갑돌|    Math| 98.5| 98.5|   2|\n",
      "|김하나|    Math|   80| 80.0|   3|\n",
      "|김하나| English|  100|100.0|   1|\n",
      "|김갑돌| English| 82.3| 82.3|   2|\n",
      "|임하나| English|   70| 70.0|   3|\n",
      "+------+--------+-----+-----+----+\n",
      "\n"
     ]
    }
   ],
   "source": [
    "from pyspark.sql.functions import rank\n",
    "\n",
    "_marksDf.withColumn(\"rank\", rank().over(winF)).show()"
   ]
  },
  {
   "cell_type": "markdown",
   "metadata": {},
   "source": [
    "### 분석 함수\n",
    "\n",
    "#### cume_dist()\n",
    "\n",
    "cume_dist() 윈도우 함수는 누적 분포 값을 출력한다."
   ]
  },
  {
   "cell_type": "code",
   "execution_count": 27,
   "metadata": {
    "collapsed": false
   },
   "outputs": [
    {
     "name": "stdout",
     "output_type": "stream",
     "text": [
      "+------+--------+-----+-----+------------------+\n",
      "|  name| subject| mark|markF|         cume_dist|\n",
      "+------+--------+-----+-----+------------------+\n",
      "|임하나|    Math|  100|100.0|0.3333333333333333|\n",
      "|김갑돌|    Math| 98.5| 98.5|0.6666666666666666|\n",
      "|김하나|    Math|   80| 80.0|               1.0|\n",
      "|김하나| English|  100|100.0|0.3333333333333333|\n",
      "|김갑돌| English| 82.3| 82.3|0.6666666666666666|\n",
      "|임하나| English|   70| 70.0|               1.0|\n",
      "+------+--------+-----+-----+------------------+\n",
      "\n"
     ]
    }
   ],
   "source": [
    "from pyspark.sql.functions import cume_dist\n",
    "\n",
    "_marksDf.withColumn(\"cume_dist\", cume_dist().over(winF)).show()"
   ]
  },
  {
   "cell_type": "code",
   "execution_count": 28,
   "metadata": {
    "collapsed": false
   },
   "outputs": [
    {
     "name": "stdout",
     "output_type": "stream",
     "text": [
      "+------+--------+-----+-----+-----+\n",
      "|  name| subject| mark|markF|  lag|\n",
      "+------+--------+-----+-----+-----+\n",
      "|임하나|    Math|  100|100.0| null|\n",
      "|김갑돌|    Math| 98.5| 98.5|  100|\n",
      "|김하나|    Math|   80| 80.0| 98.5|\n",
      "|김하나| English|  100|100.0| null|\n",
      "|김갑돌| English| 82.3| 82.3|  100|\n",
      "|임하나| English|   70| 70.0| 82.3|\n",
      "+------+--------+-----+-----+-----+\n",
      "\n"
     ]
    }
   ],
   "source": [
    "from pyspark.sql.functions import lag\n",
    "\n",
    "_marksDf.withColumn(\"lag\", lag('mark', 1).over(winF)).show()"
   ]
  },
  {
   "cell_type": "code",
   "execution_count": 29,
   "metadata": {
    "collapsed": false
   },
   "outputs": [
    {
     "name": "stdout",
     "output_type": "stream",
     "text": [
      "+------+--------+-----+-----+-----+\n",
      "|  name| subject| mark|markF|  lag|\n",
      "+------+--------+-----+-----+-----+\n",
      "|임하나|    Math|  100|100.0| 98.5|\n",
      "|김갑돌|    Math| 98.5| 98.5|   80|\n",
      "|김하나|    Math|   80| 80.0| null|\n",
      "|김하나| English|  100|100.0| 82.3|\n",
      "|김갑돌| English| 82.3| 82.3|   70|\n",
      "|임하나| English|   70| 70.0| null|\n",
      "+------+--------+-----+-----+-----+\n",
      "\n"
     ]
    }
   ],
   "source": [
    "from pyspark.sql.functions import lead\n",
    "\n",
    "_marksDf.withColumn(\"lag\", lead('mark', 1).over(winF)).show()"
   ]
  },
  {
   "cell_type": "markdown",
   "metadata": {},
   "source": [
    "### Aggregate Functions\n",
    "\n",
    "그룹을 구분할 때, 정렬할 필요가 없다.\n",
    "mark가 string으로 설정되어 있다고 평균, 합계, 최소, 최대 함수가 어떻게 출력될까? 문제 없이 실행되지만, 결과는 올바르지 않다. 데이터타입은 항상 주의해야 한다."
   ]
  },
  {
   "cell_type": "code",
   "execution_count": 30,
   "metadata": {
    "collapsed": false
   },
   "outputs": [],
   "source": [
    "winAgg  = Window.partitionBy(\"subject\")"
   ]
  },
  {
   "cell_type": "code",
   "execution_count": 31,
   "metadata": {
    "collapsed": false,
    "scrolled": false
   },
   "outputs": [
    {
     "name": "stdout",
     "output_type": "stream",
     "text": [
      "+------+--------+-----+-----+-----------------+-----------------+----+-----+\n",
      "|  name| subject| mark|markF|              avg|              sum| min|  max|\n",
      "+------+--------+-----+-----+-----------------+-----------------+----+-----+\n",
      "|김하나|    Math|   80| 80.0|92.83333333333333|            278.5|80.0|100.0|\n",
      "|임하나|    Math|  100|100.0|92.83333333333333|            278.5|80.0|100.0|\n",
      "|김갑돌|    Math| 98.5| 98.5|92.83333333333333|            278.5|80.0|100.0|\n",
      "|김하나| English|  100|100.0|84.10000101725261|252.3000030517578|70.0|100.0|\n",
      "|임하나| English|   70| 70.0|84.10000101725261|252.3000030517578|70.0|100.0|\n",
      "|김갑돌| English| 82.3| 82.3|84.10000101725261|252.3000030517578|70.0|100.0|\n",
      "+------+--------+-----+-----+-----------------+-----------------+----+-----+\n",
      "\n"
     ]
    }
   ],
   "source": [
    "from pyspark.sql import functions as F\n",
    "_marksDf.withColumn(\"avg\", F.avg(F.col(\"markF\")).over(winAgg))\\\n",
    "    .withColumn(\"sum\", F.sum(F.col(\"markF\")).over(winAgg))\\\n",
    "    .withColumn(\"min\", F.min(F.col(\"markF\")).over(winAgg))\\\n",
    "    .withColumn(\"max\", F.max(F.col(\"markF\")).over(winAgg))\\\n",
    "    .show()"
   ]
  },
  {
   "cell_type": "markdown",
   "metadata": {},
   "source": [
    "## 문제: zscore, cdf 계산\n",
    "\n",
    "성적데이터는 n이 적지만, 정규분포를 이룬다고 가정하자.\n",
    "* 1) 성적데이터로 DataFrame을 생성.\n",
    "* 2) zscore 컬럼을 생성.\n",
    "zscore를 계산하려면, 평균과 표준편차를 알아야 한다.\n",
    "계산식에 F함수를 직접 사용하면 오류가 발생한다. 따로 평균과 표준편차를 구해서 계산식에서 사용해야 한다.\n",
    "* 3) cdf 컬럼을 생성.\n",
    "scipy.stats.norm.cdf() 함수는 데이터타입을 float로 맞추어 주어야 한다.\n",
    "cdf는 평균=0, 표준편차=1을 기본 값으로 누적확률을 계산한다."
   ]
  },
  {
   "cell_type": "markdown",
   "metadata": {},
   "source": [
    "### 데이터\n",
    "\n",
    "앞서 사용했던 점수데이터를 사용하자."
   ]
  },
  {
   "cell_type": "markdown",
   "metadata": {},
   "source": [
    "### DataFrame 생성\n",
    "\n",
    "배열내에 문자열을 가지고 있는 경우, 바로 DataFrame으로 만들면 따옴표로 묶인 문자열이 한 값이 된다.\n",
    "앞서와 같이 RDD를 만들어 주고 map() 함수로 분리한 후 DataFrame을 만들어준다."
   ]
  },
  {
   "cell_type": "markdown",
   "metadata": {},
   "source": [
    "스키마를 자동유추하면, mark 마저도 string으로 읽어온다. 소수점으로 변환이 필요하다."
   ]
  },
  {
   "cell_type": "code",
   "execution_count": 31,
   "metadata": {
    "collapsed": false,
    "scrolled": true
   },
   "outputs": [
    {
     "name": "stdout",
     "output_type": "stream",
     "text": [
      "root\n",
      " |-- name: string (nullable = true)\n",
      " |-- subject: string (nullable = true)\n",
      " |-- mark: string (nullable = true)\n",
      "\n"
     ]
    }
   ],
   "source": [
    "_marksDf.printSchema()"
   ]
  },
  {
   "cell_type": "markdown",
   "metadata": {},
   "source": [
    "### 데이터 타입 변경\n",
    "\n",
    "점수를 형변환 해보자."
   ]
  },
  {
   "cell_type": "markdown",
   "metadata": {},
   "source": [
    "### F.mean, F.stddev를 사용하면 zscore계산 오류\n",
    "\n",
    "stats.zscore() 함수는 **배열을 입력**받아서 zscore를 계산한다.\n",
    "점수는 Column 데이터이라서, 배열로 변환해서 넘겨주려면 번거롭다.\n",
    "\n",
    "zscore를 계산하려면, 평균과 표준편차를 알아야 한다.\n",
    "전체에 대한 평균을 계산하고, 이를 각 mark에 적용하는 계산식을 사용해 보자.\n",
    "이 때 F.mean(), F.stddev() 함수를 사용하면 오류가 발생한다.\n",
    "\n",
    "```python\n",
    "zscoreUdf = F.udf(lambda x: (x-F.mean(x))/F.stddev) # does not work\n",
    "```"
   ]
  },
  {
   "cell_type": "markdown",
   "metadata": {},
   "source": [
    "### mean, stdev를 별도 계산해서 zscore 계산\n",
    "\n",
    "평균과 표준편차를 먼저 구하고 계산식에 넣어주자.\n",
    "컬럼명은 아래와 같이 따옴표로 혹은 ```F.col('markF')```로 넣어주어도 된다.\n"
   ]
  },
  {
   "cell_type": "markdown",
   "metadata": {},
   "source": [
    "zscore를 계산하려면, FloatType으로 형변환 해준다."
   ]
  },
  {
   "cell_type": "markdown",
   "metadata": {},
   "source": [
    "### cdf 계산"
   ]
  },
  {
   "cell_type": "markdown",
   "metadata": {},
   "source": [
    "norm.cdf는 numpy.float64를 반환하는데, spark에서 사용하지 않는 데이터타입이다. float()로 형변환을 해주자."
   ]
  },
  {
   "cell_type": "markdown",
   "metadata": {},
   "source": [
    "#### 원점수를 사용하면 1.0\n",
    "\n",
    "cdf는 평균=0, 표준편차=1을 기본 값으로 누적확률을 계산한다.\n",
    "점수가 그런 범위에 있지 않고 훨씬 넘어가므로 1.0이 계산된다."
   ]
  },
  {
   "cell_type": "markdown",
   "metadata": {
    "collapsed": false,
    "scrolled": true
   },
   "source": [
    "#### zscore를 사용하여 cdf 계산\n",
    "\n",
    "zscore를 사용하여 cdf()를 계산하자."
   ]
  },
  {
   "cell_type": "code",
   "execution_count": 46,
   "metadata": {
    "collapsed": false
   },
   "outputs": [
    {
     "name": "stdout",
     "output_type": "stream",
     "text": [
      "+------+--------+-----+-----+-----------+-------------------+\n",
      "|  name| subject| mark|markF|     zscore|                cdf|\n",
      "+------+--------+-----+-----+-----------+-------------------+\n",
      "|김하나| English|  100|100.0|  0.9020148| 0.8164754981807292|\n",
      "|김하나|    Math|   80| 80.0| -0.6621728| 0.2539302463290559|\n",
      "|임하나| English|   70| 70.0| -1.4442666| 0.0743320011235712|\n",
      "|임하나|    Math|  100|100.0|  0.9020148| 0.8164754981807292|\n",
      "|김갑돌| English| 82.3| 82.3|-0.48229098|0.31479962882028223|\n",
      "|김갑돌|    Math| 98.5| 98.5| 0.78470075| 0.7836854740814176|\n",
      "+------+--------+-----+-----+-----------+-------------------+\n",
      "\n"
     ]
    }
   ],
   "source": [
    "_marksDf.show()"
   ]
  },
  {
   "cell_type": "markdown",
   "metadata": {},
   "source": [
    "### Window 함수를 사용하여 zscore 계산\n",
    "\n",
    "전체에 대한 평균점수를 컬럼으로 만드려면 Window 기능을 사용해야 한다."
   ]
  },
  {
   "cell_type": "markdown",
   "metadata": {},
   "source": [
    "#### 전체 Window\n",
    "\n",
    "점수평균이라고 하면, Spark는 어떤 평균인지 모른다.\n",
    "사람별 점수평균인지, 과목별평균인지 알려주어야 한다.\n",
    "정작 우리가 필요한 것은 전체점수의 평균이다.\n",
    "```rowsBetween(-sys.maxsize, sys.maxsize)```는 최대, 최소 값으로 윈도우를 정한다."
   ]
  },
  {
   "cell_type": "code",
   "execution_count": 47,
   "metadata": {
    "collapsed": false
   },
   "outputs": [],
   "source": [
    "import sys\n",
    "\n",
    "byAll = Window.rowsBetween(-sys.maxsize, sys.maxsize)"
   ]
  },
  {
   "cell_type": "markdown",
   "metadata": {},
   "source": [
    "#### 전체의 평균, 표준편차 컬럼을 만들고 계산\n",
    "\n",
    "전체 Window에 대해 평균, 표준편차와 과목별 평균을 계산해보자.\n",
    "이 때 평균, 표준편차를 컬럼으로 만든 후에 zscore를 계산해보자."
   ]
  },
  {
   "cell_type": "code",
   "execution_count": 48,
   "metadata": {
    "collapsed": false
   },
   "outputs": [],
   "source": [
    "from pyspark.sql import functions as F\n",
    "_marksDf = _marksDf.withColumn(\"mean\", F.avg(_marksDf['markF']).over(byAll))"
   ]
  },
  {
   "cell_type": "code",
   "execution_count": 49,
   "metadata": {
    "collapsed": false
   },
   "outputs": [],
   "source": [
    "_marksDf = _marksDf.withColumn(\"stddev\", F.stddev(_marksDf['markF']).over(byAll))"
   ]
  },
  {
   "cell_type": "markdown",
   "metadata": {},
   "source": [
    "과목별 평균은 직접 zscore 계산에 필요하지 않지만 덤으로 추가한다."
   ]
  },
  {
   "cell_type": "code",
   "execution_count": 50,
   "metadata": {
    "collapsed": false
   },
   "outputs": [],
   "source": [
    "from pyspark.sql.window import Window\n",
    "\n",
    "bySubject = Window.partitionBy('subject')\n",
    "_marksDf = _marksDf.withColumn(\"meanBySubject\", F.avg(_marksDf['markF']).over(bySubject))"
   ]
  },
  {
   "cell_type": "code",
   "execution_count": 51,
   "metadata": {
    "collapsed": false
   },
   "outputs": [
    {
     "name": "stdout",
     "output_type": "stream",
     "text": [
      "+------+--------+-----+-----+-----------+-------------------+-----------------+------------------+-----------------+\n",
      "|name  |subject |mark |markF|zscore     |cdf                |mean             |stddev            |meanBySubject    |\n",
      "+------+--------+-----+-----+-----------+-------------------+-----------------+------------------+-----------------+\n",
      "|김하나| English| 100 |100.0|0.9020148  |0.8164754981807292 |88.46666717529297|12.786190172956093|84.10000101725261|\n",
      "|임하나| English| 70  |70.0 |-1.4442666 |0.0743320011235712 |88.46666717529297|12.786190172956093|84.10000101725261|\n",
      "|김갑돌| English| 82.3|82.3 |-0.48229098|0.31479962882028223|88.46666717529297|12.786190172956093|84.10000101725261|\n",
      "|김하나| Math   | 80  |80.0 |-0.6621728 |0.2539302463290559 |88.46666717529297|12.786190172956093|92.83333333333333|\n",
      "|임하나| Math   | 100 |100.0|0.9020148  |0.8164754981807292 |88.46666717529297|12.786190172956093|92.83333333333333|\n",
      "|김갑돌| Math   | 98.5|98.5 |0.78470075 |0.7836854740814176 |88.46666717529297|12.786190172956093|92.83333333333333|\n",
      "+------+--------+-----+-----+-----------+-------------------+-----------------+------------------+-----------------+\n",
      "\n"
     ]
    }
   ],
   "source": [
    "_marksDf.show(_marksDf.count(), truncate=False)"
   ]
  },
  {
   "cell_type": "code",
   "execution_count": 52,
   "metadata": {
    "collapsed": false
   },
   "outputs": [],
   "source": [
    "_marksDf = _marksDf.withColumn(\"zscore1\", (F.col('markF')-F.col('mean'))/F.col('stddev'))"
   ]
  },
  {
   "cell_type": "code",
   "execution_count": 53,
   "metadata": {
    "collapsed": false
   },
   "outputs": [
    {
     "name": "stdout",
     "output_type": "stream",
     "text": [
      "+-----------+-------------------+\n",
      "|     zscore|            zscore1|\n",
      "+-----------+-------------------+\n",
      "|  0.9020148|  0.902014804151829|\n",
      "| -0.6621728| -0.662172786480269|\n",
      "| -1.4442666| -1.444266581796318|\n",
      "|  0.9020148|  0.902014804151829|\n",
      "|-0.48229098|-0.4822909748814927|\n",
      "| 0.78470075| 0.7847007348544217|\n",
      "+-----------+-------------------+\n",
      "\n"
     ]
    }
   ],
   "source": [
    "_marksDf.select('zscore', 'zscore1').show(_marksDf.count())"
   ]
  },
  {
   "cell_type": "markdown",
   "metadata": {
    "collapsed": true
   },
   "source": [
    "#### 전체의 평균, 표준편차 컬럼을 만들지 않고 계산\n",
    "\n",
    "또는 직접 Window 함수를 직접 사용하여 zscore를 계산할 수도 있다."
   ]
  },
  {
   "cell_type": "code",
   "execution_count": 89,
   "metadata": {
    "collapsed": false
   },
   "outputs": [],
   "source": [
    "_marksDf = _marksDf.withColumn(\"zscore2\", (F.col('markF')-F.avg('markF').over(byAll))/F.stddev('markF').over(byAll))"
   ]
  },
  {
   "cell_type": "code",
   "execution_count": 91,
   "metadata": {
    "collapsed": false
   },
   "outputs": [
    {
     "name": "stdout",
     "output_type": "stream",
     "text": [
      "+-----------+-------------------+-------------------+\n",
      "|     zscore|            zscore1|            zscore2|\n",
      "+-----------+-------------------+-------------------+\n",
      "|  0.9020148|  0.902014804151829|  0.902014804151829|\n",
      "| -0.6621728| -0.662172786480269| -0.662172786480269|\n",
      "| -1.4442666| -1.444266581796318| -1.444266581796318|\n",
      "|  0.9020148|  0.902014804151829|  0.902014804151829|\n",
      "|-0.48229098|-0.4822909748814927|-0.4822909748814927|\n",
      "| 0.78470075| 0.7847007348544217| 0.7847007348544217|\n",
      "+-----------+-------------------+-------------------+\n",
      "\n"
     ]
    }
   ],
   "source": [
    "_marksDf.select('zscore', 'zscore1', 'zscore2').show()"
   ]
  },
  {
   "cell_type": "code",
   "execution_count": null,
   "metadata": {
    "collapsed": true
   },
   "outputs": [],
   "source": []
  },
  {
   "cell_type": "markdown",
   "metadata": {},
   "source": [
    "## 문제: 2020년 8월 서울시 지하철호선별 역별 승하차 인원 정보\n",
    "\n",
    "'서울시 지하철호선별 역별 승하차 인원 정보'를 검색하거나,\n",
    "https://data.seoul.go.kr/dataList/OA-12914/S/1/datasetView.do\n",
    "사이트를 방문한다. 분석할 파일은 'CARD_SUBWAY_MONTH_202008.csv'이다.\n",
    "문제를 풀고 결과 출력을 예시해 놓았다. 동일하지 않아도 유사하게 출력하면 된다.\n",
    "\n",
    "* 1) DataFrame 생성하고, 스키마는 자동인식하여 출력\n",
    "* 2) 컬럼명을 변경하고, 스키마 출력\n",
    "\n",
    "```python\n",
    "root\n",
    " |-- dateUse: integer (nullable = true)\n",
    " |-- line: string (nullable = true)\n",
    " |-- stationID: string (nullable = true)\n",
    " |-- station: integer (nullable = true)\n",
    " |-- NInPassengers: integer (nullable = true)\n",
    " |-- NOutPassengers: integer (nullable = true)\n",
    " |-- dateRegi: string (nullable = true)\n",
    "```\n",
    "\n",
    "* 3) 일자 형변환\n",
    "\n",
    "```python\n",
    "+--------+------+---------+-------+-------------+--------------+--------+----------+\n",
    "| dateUse|  line|stationID|station|NInPassengers|NOutPassengers|dateRegi|      Date|\n",
    "+--------+------+---------+-------+-------------+--------------+--------+----------+\n",
    "|20200801|중앙선|     오빈|    249|          239|      20200804|    null|2020-08-01|\n",
    "```\n",
    "\n",
    "* 4) 노선명별 승하차총승객수\n",
    "\n",
    "```python\n",
    "+------+------------+------------+\n",
    "|  line|승차인원합계|하차인원합계|\n",
    "+------+------------+------------+\n",
    "|일산선|     2301495|  6262255960|\n",
    "```\n",
    "\n",
    "* 5) 노선별 승하차합계가 가장 높은 역을 출력 (모든 노선 출력)\n",
    "\n",
    "```python\n",
    "+--------+------+---------+-------+-------------+--------------+--------+----------+--------+\n",
    "| dateUse|  line|stationID|station|NInPassengers|NOutPassengers|dateRegi|      Date|SumInOut|\n",
    "+--------+------+---------+-------+-------------+--------------+--------+----------+--------+\n",
    "|20200807|일산선|     화정|  17591|        17916|      20200810|    null|2020-08-07|20218726|\n",
    "|20200814|장항선| 온양온천|   4528|         4534|      20200817|    null|2020-08-14|20205351|\n",
    "|20200807|경부선|   영등포|  43168|        46982|      20200810|    null|2020-08-07|20247792|\n",
    "+--------+------+---------+-------+-------------+--------------+--------+----------+--------+\n",
    "```\n",
    "\n",
    "* 6) 요일별 승하차인원 합계\n",
    "\n",
    "```python\n",
    "+---------+-------------+\n",
    "|dayOfWeek|sum(SumInOut)|\n",
    "+---------+-------------+\n",
    "|Wednesday|  47879720822|\n",
    "```\n",
    "\n",
    "* 7) 노선별 요일별 승하차인원 합계 (모든 노선 출력)\n",
    "\n",
    "```python\n",
    "+------+----------+----------+----------+----------+----------+----------+----------+\n",
    "|  line|    Friday|    Monday|  Saturday|    Sunday|  Thursday|   Tuesday| Wednesday|\n",
    "+------+----------+----------+----------+----------+----------+----------+----------+\n",
    "|일산선| 808395124|1010437381|1010319451|1010235636| 808383940| 808393127| 808392796|\n",
    "```\n",
    "\n",
    "* 8) 노선별 요일별 승하차인원 그래프\n",
    "    * x 축 요일, y축 승하차인원."
   ]
  },
  {
   "cell_type": "markdown",
   "metadata": {},
   "source": [
    "### 1) DataFrame 생성\n",
    "\n",
    "header=true, delimiter= ',' 설정으로 csv 파일을 읽는다."
   ]
  },
  {
   "cell_type": "code",
   "execution_count": 151,
   "metadata": {
    "collapsed": false
   },
   "outputs": [],
   "source": [
    "_subDf = spark\\\n",
    "    .read\\\n",
    "    .options(header='true', inferschema='true', delimiter=',')\\\n",
    "    .csv(os.path.join('data', 'CARD_SUBWAY_MONTH_202008.csv'))"
   ]
  },
  {
   "cell_type": "code",
   "execution_count": 152,
   "metadata": {
    "collapsed": false,
    "scrolled": false
   },
   "outputs": [
    {
     "name": "stdout",
     "output_type": "stream",
     "text": [
      "root\n",
      " |-- 사용일자: integer (nullable = true)\n",
      " |-- 노선명: string (nullable = true)\n",
      " |-- 역ID: string (nullable = true)\n",
      " |-- 역명: integer (nullable = true)\n",
      " |-- 승차총승객수: integer (nullable = true)\n",
      " |-- 하차총승객수: integer (nullable = true)\n",
      " |-- 등록일자: string (nullable = true)\n",
      "\n"
     ]
    }
   ],
   "source": [
    "_subDf.printSchema()"
   ]
  },
  {
   "cell_type": "markdown",
   "metadata": {},
   "source": [
    "### 2) 컬럼 명 변경"
   ]
  },
  {
   "cell_type": "code",
   "execution_count": 153,
   "metadata": {
    "collapsed": true
   },
   "outputs": [],
   "source": [
    "_subDf=_subDf\\\n",
    "    .withColumnRenamed(\"사용일자\", \"dateUse\")\\\n",
    "    .withColumnRenamed(\"노선명\", \"line\")\\\n",
    "    .withColumnRenamed(\"역ID\", \"stationID\")\\\n",
    "    .withColumnRenamed(\"역명\", \"station\")\\\n",
    "    .withColumnRenamed(\"승차총승객수\", \"NInPassengers\")\\\n",
    "    .withColumnRenamed(\"하차총승객수\", \"NOutPassengers\")\\\n",
    "    .withColumnRenamed(\"등록일자\", \"dateRegi\")\\"
   ]
  },
  {
   "cell_type": "code",
   "execution_count": 154,
   "metadata": {
    "collapsed": false
   },
   "outputs": [
    {
     "name": "stdout",
     "output_type": "stream",
     "text": [
      "root\n",
      " |-- dateUse: integer (nullable = true)\n",
      " |-- line: string (nullable = true)\n",
      " |-- stationID: string (nullable = true)\n",
      " |-- station: integer (nullable = true)\n",
      " |-- NInPassengers: integer (nullable = true)\n",
      " |-- NOutPassengers: integer (nullable = true)\n",
      " |-- dateRegi: string (nullable = true)\n",
      "\n"
     ]
    }
   ],
   "source": [
    "_subDf.printSchema()"
   ]
  },
  {
   "cell_type": "markdown",
   "metadata": {},
   "source": [
    "### 3) 일자 형변환\n",
    "\n",
    "dateUse는 integer 타입으로, 바로 DateType()으로 변환하면 오류가 발생한다.\n",
    "\n",
    "#### 정수를 문자열로 변환"
   ]
  },
  {
   "cell_type": "code",
   "execution_count": 155,
   "metadata": {
    "collapsed": false
   },
   "outputs": [],
   "source": [
    "from pyspark.sql import functions as F\n",
    "from pyspark.sql.types import DateType, StringType\n",
    "\n",
    "_subDf=_subDf.withColumn(\"dateStr\", F.col('dateUse').cast(StringType()))"
   ]
  },
  {
   "cell_type": "markdown",
   "metadata": {},
   "source": [
    "#### 문자열을 일자로 변환\n",
    "\n",
    "```to_date()``` 함수는 StringType() 일자를 DateType()으로 변환한다.\n",
    "일자형식 datetime pattern을 지정해 줄 수 있고,\n",
    "```datetime pattern```은 yyyyMMdd 또는 yyyy-MM-dd HH:mm:ss와 같이 사용한다.\n",
    "따라서 **dateUse는 integer 타입으로 적합하지 않고, 문자열 dateStr을 사용**하도록 하자.\n",
    "\n",
    "> datetime pattern 주의:\n",
    "* 'yyyymmdd'형식으로 하면 20200801을 2020-01-01로 잘 못 인식되고,\n",
    "* 또는 다른 형식 예를 들어 'MM-dd-yyyy'을 사용하면 null로 인식된다.\n"
   ]
  },
  {
   "cell_type": "code",
   "execution_count": 156,
   "metadata": {
    "collapsed": false,
    "scrolled": true
   },
   "outputs": [
    {
     "name": "stdout",
     "output_type": "stream",
     "text": [
      "+--------+------+---------+-------+-------------+--------------+--------+----------+\n",
      "| dateUse|  line|stationID|station|NInPassengers|NOutPassengers|dateRegi|      Date|\n",
      "+--------+------+---------+-------+-------------+--------------+--------+----------+\n",
      "|20200801|중앙선|     오빈|    249|          239|      20200804|    null|2020-08-01|\n",
      "|20200801|중앙선|     아신|    467|          595|      20200804|    null|2020-08-01|\n",
      "|20200801|중앙선|     국수|    520|          598|      20200804|    null|2020-08-01|\n",
      "+--------+------+---------+-------+-------------+--------------+--------+----------+\n",
      "only showing top 3 rows\n",
      "\n"
     ]
    }
   ],
   "source": [
    "from pyspark.sql import functions as F\n",
    "\n",
    "#_subDf.withColumn(\"Date\", F.to_date('dateUse', 'yyyyMMdd')).show(3) # Error\n",
    "_subDf=_subDf.withColumn(\"Date\", F.to_date('dateStr', 'yyyyMMdd')).drop('dateStr')\n",
    "_subDf.show(3)"
   ]
  },
  {
   "cell_type": "markdown",
   "metadata": {
    "collapsed": true
   },
   "source": [
    "#### timestamp를 통해 변환\n",
    "\n",
    "정수 -> 문자열 -> timestamp -> 일자로 변환한다.\n",
    "* ```unix_timestamp()```함수는 문자열시간을 패턴에 따라 (‘yyyy-MM-dd HH:mm:ss’, by default) Unix timestamp (초)로 변환\n",
    "* ```from_unixtime()``` 함수는 unix timestamp (epoch 1970-01-01 00:00:00 UTC 부터)를 형식에 따라 현재시간으로 변환한다. 행식은 2020-08-01 00:00:00, \n",
    "\n",
    "\"MM/dd/yyyy\""
   ]
  },
  {
   "cell_type": "code",
   "execution_count": 113,
   "metadata": {
    "collapsed": false,
    "scrolled": true
   },
   "outputs": [
    {
     "name": "stdout",
     "output_type": "stream",
     "text": [
      "+--------+------+---------+-------+-------------+--------------+--------+--------+----------+\n",
      "| dateUse|  line|stationID|station|NInPassengers|NOutPassengers|dateRegi| dateStr|      Date|\n",
      "+--------+------+---------+-------+-------------+--------------+--------+--------+----------+\n",
      "|20200801|중앙선|     오빈|    249|          239|      20200804|    null|20200801|2020-08-01|\n",
      "|20200801|중앙선|     아신|    467|          595|      20200804|    null|20200801|2020-08-01|\n",
      "|20200801|중앙선|     국수|    520|          598|      20200804|    null|20200801|2020-08-01|\n",
      "+--------+------+---------+-------+-------------+--------------+--------+--------+----------+\n",
      "only showing top 3 rows\n",
      "\n"
     ]
    }
   ],
   "source": [
    "from pyspark.sql import functions as F\n",
    "\n",
    "_subDf.withColumn(\"Date\", F.to_date(F.from_unixtime(F.unix_timestamp('dateStr', 'yyyyMMdd')))).show(3)"
   ]
  },
  {
   "cell_type": "markdown",
   "metadata": {},
   "source": [
    "### 4) 노선명별 승하차총승객수"
   ]
  },
  {
   "cell_type": "code",
   "execution_count": 114,
   "metadata": {
    "collapsed": false,
    "scrolled": true
   },
   "outputs": [
    {
     "name": "stdout",
     "output_type": "stream",
     "text": [
      "+------+------------------+\n",
      "|  line|sum(NInPassengers)|\n",
      "+------+------------------+\n",
      "|일산선|           2301495|\n",
      "|장항선|            269152|\n",
      "|경부선|           9835605|\n",
      "+------+------------------+\n",
      "only showing top 3 rows\n",
      "\n"
     ]
    }
   ],
   "source": [
    "_subDf.groupBy('line').agg({\"NInPassengers\":\"sum\"}).show(3)"
   ]
  },
  {
   "cell_type": "code",
   "execution_count": 115,
   "metadata": {
    "collapsed": false,
    "scrolled": true
   },
   "outputs": [
    {
     "name": "stdout",
     "output_type": "stream",
     "text": [
      "+------+-------------------+\n",
      "|  line|sum(NOutPassengers)|\n",
      "+------+-------------------+\n",
      "|일산선|         6262255960|\n",
      "|장항선|         3757353576|\n",
      "|경부선|        24422798244|\n",
      "+------+-------------------+\n",
      "only showing top 3 rows\n",
      "\n"
     ]
    }
   ],
   "source": [
    "_subDf.groupBy('line').agg(F.sum(\"NOutPassengers\")).show(3)"
   ]
  },
  {
   "cell_type": "markdown",
   "metadata": {},
   "source": [
    "2개의 컬럼을 나란히 출력하려면 agg() 함수에 승차, 하차인원을 적어준다."
   ]
  },
  {
   "cell_type": "code",
   "execution_count": 116,
   "metadata": {
    "collapsed": false,
    "scrolled": true
   },
   "outputs": [
    {
     "name": "stdout",
     "output_type": "stream",
     "text": [
      "+------+------------+------------+\n",
      "|  line|승차인원합계|하차인원합계|\n",
      "+------+------------+------------+\n",
      "|일산선|     2301495|  6262255960|\n",
      "|장항선|      269152|  3757353576|\n",
      "|경부선|     9835605| 24422798244|\n",
      "+------+------------+------------+\n",
      "only showing top 3 rows\n",
      "\n"
     ]
    }
   ],
   "source": [
    "_subDf.groupBy('line').agg(F.sum(\"NInPassengers\").alias(\"승차인원합계\"), F.sum(\"NOutPassengers\").alias(\"하차인원합계\")).show(3)"
   ]
  },
  {
   "cell_type": "markdown",
   "metadata": {
    "collapsed": true
   },
   "source": [
    "### 5) 노선별 승하차합계가 가장 높은 역을 출력  (모든 노선 출력)"
   ]
  },
  {
   "cell_type": "markdown",
   "metadata": {},
   "source": [
    "#### 승하차인원 합계"
   ]
  },
  {
   "cell_type": "code",
   "execution_count": 118,
   "metadata": {
    "collapsed": false
   },
   "outputs": [],
   "source": [
    "_subDf=_subDf.withColumn(\"SumInOut\", F.col(\"NInPassengers\")+F.col(\"NOutPassengers\"))"
   ]
  },
  {
   "cell_type": "code",
   "execution_count": 119,
   "metadata": {
    "collapsed": false
   },
   "outputs": [
    {
     "name": "stdout",
     "output_type": "stream",
     "text": [
      "+--------+------+---------+-------+-------------+--------------+--------+--------+----------+--------+\n",
      "| dateUse|  line|stationID|station|NInPassengers|NOutPassengers|dateRegi| dateStr|      Date|SumInOut|\n",
      "+--------+------+---------+-------+-------------+--------------+--------+--------+----------+--------+\n",
      "|20200801|중앙선|     오빈|    249|          239|      20200804|    null|20200801|2020-08-01|20201043|\n",
      "|20200801|중앙선|     아신|    467|          595|      20200804|    null|20200801|2020-08-01|20201399|\n",
      "|20200801|중앙선|     국수|    520|          598|      20200804|    null|20200801|2020-08-01|20201402|\n",
      "+--------+------+---------+-------+-------------+--------------+--------+--------+----------+--------+\n",
      "only showing top 3 rows\n",
      "\n"
     ]
    }
   ],
   "source": [
    "_subDf.show(3)"
   ]
  },
  {
   "cell_type": "markdown",
   "metadata": {},
   "source": [
    "#### 승하차인원 순위"
   ]
  },
  {
   "cell_type": "code",
   "execution_count": 120,
   "metadata": {
    "collapsed": false,
    "scrolled": true
   },
   "outputs": [
    {
     "name": "stdout",
     "output_type": "stream",
     "text": [
      "+--------+------+---------+-------+-------------+--------------+--------+--------+----------+--------+------+\n",
      "| dateUse|  line|stationID|station|NInPassengers|NOutPassengers|dateRegi| dateStr|      Date|SumInOut|sumNIn|\n",
      "+--------+------+---------+-------+-------------+--------------+--------+--------+----------+--------+------+\n",
      "|20200807|일산선|     화정|  17591|        17916|      20200810|    null|20200807|2020-08-07|20218726|     1|\n",
      "|20200812|일산선|     화정|  17463|        17842|      20200815|    null|20200812|2020-08-12|20218657|     2|\n",
      "|20200813|일산선|     화정|  16819|        17100|      20200816|    null|20200813|2020-08-13|20217916|     3|\n",
      "+--------+------+---------+-------+-------------+--------------+--------+--------+----------+--------+------+\n",
      "only showing top 3 rows\n",
      "\n"
     ]
    }
   ],
   "source": [
    "from pyspark.sql.window import Window\n",
    "from pyspark.sql import functions as F\n",
    "\n",
    "_subDf.withColumn(\"sumNIn\", F.rank().over(Window().partitionBy(['line']).orderBy(F.col(\"SumInOut\").desc()))).show(3)"
   ]
  },
  {
   "cell_type": "markdown",
   "metadata": {},
   "source": [
    "#### 노선별 순위 1만 출력\n",
    "\n",
    "dateString은 제외하고 출력"
   ]
  },
  {
   "cell_type": "code",
   "execution_count": 121,
   "metadata": {
    "collapsed": false,
    "scrolled": true
   },
   "outputs": [
    {
     "name": "stdout",
     "output_type": "stream",
     "text": [
      "+--------+------+---------+-------+-------------+--------------+--------+----------+--------+---------+\n",
      "| dateUse|  line|stationID|station|NInPassengers|NOutPassengers|dateRegi|      Date|SumInOut|rankByNIn|\n",
      "+--------+------+---------+-------+-------------+--------------+--------+----------+--------+---------+\n",
      "|20200807|일산선|     화정|  17591|        17916|      20200810|    null|2020-08-07|20218726|        1|\n",
      "|20200814|장항선| 온양온천|   4528|         4534|      20200817|    null|2020-08-14|20205351|        1|\n",
      "|20200807|경부선|   영등포|  43168|        46982|      20200810|    null|2020-08-07|20247792|        1|\n",
      "+--------+------+---------+-------+-------------+--------------+--------+----------+--------+---------+\n",
      "only showing top 3 rows\n",
      "\n"
     ]
    }
   ],
   "source": [
    "from pyspark.sql.window import Window\n",
    "from pyspark.sql import functions as F\n",
    "\n",
    "_subDf.withColumn(\"rankByNIn\", F.rank().over(Window().partitionBy(['line']).orderBy(F.col(\"SumInOut\").desc())))\\\n",
    "    .filter(F.col(\"rankByNIn\")==1)\\\n",
    "    .drop('dateStr')\\\n",
    "    .show(3)"
   ]
  },
  {
   "cell_type": "markdown",
   "metadata": {},
   "source": [
    "### 6) 요일별 승하차인원 합계\n",
    "\n",
    "#### 요일 컬럼\n",
    "\n",
    "1 Sunday, 2 Monday, ..., 7 Saturday"
   ]
  },
  {
   "cell_type": "code",
   "execution_count": 122,
   "metadata": {
    "collapsed": false
   },
   "outputs": [
    {
     "name": "stdout",
     "output_type": "stream",
     "text": [
      "+--------+------+---------+-------+-------------+--------------+--------+--------+----------+--------+---------+\n",
      "| dateUse|  line|stationID|station|NInPassengers|NOutPassengers|dateRegi| dateStr|      Date|SumInOut|dayOfWeek|\n",
      "+--------+------+---------+-------+-------------+--------------+--------+--------+----------+--------+---------+\n",
      "|20200801|중앙선|     오빈|    249|          239|      20200804|    null|20200801|2020-08-01|20201043|        7|\n",
      "|20200801|중앙선|     아신|    467|          595|      20200804|    null|20200801|2020-08-01|20201399|        7|\n",
      "|20200801|중앙선|     국수|    520|          598|      20200804|    null|20200801|2020-08-01|20201402|        7|\n",
      "+--------+------+---------+-------+-------------+--------------+--------+--------+----------+--------+---------+\n",
      "only showing top 3 rows\n",
      "\n"
     ]
    }
   ],
   "source": [
    "_subDf.withColumn(\"dayOfWeek\", F.dayofweek(_subDf.Date)).show(3)"
   ]
  },
  {
   "cell_type": "markdown",
   "metadata": {},
   "source": [
    "EEEE 형식은 요일을 문자열로 출력한다."
   ]
  },
  {
   "cell_type": "code",
   "execution_count": 123,
   "metadata": {
    "collapsed": false
   },
   "outputs": [],
   "source": [
    "_subDf=_subDf.withColumn(\"dayOfWeek\", F.date_format(_subDf.Date, \"EEEE\"))"
   ]
  },
  {
   "cell_type": "code",
   "execution_count": 124,
   "metadata": {
    "collapsed": false
   },
   "outputs": [
    {
     "name": "stdout",
     "output_type": "stream",
     "text": [
      "+--------+------+---------+-------+-------------+--------------+--------+--------+----------+--------+---------+\n",
      "| dateUse|  line|stationID|station|NInPassengers|NOutPassengers|dateRegi| dateStr|      Date|SumInOut|dayOfWeek|\n",
      "+--------+------+---------+-------+-------------+--------------+--------+--------+----------+--------+---------+\n",
      "|20200801|중앙선|     오빈|    249|          239|      20200804|    null|20200801|2020-08-01|20201043| Saturday|\n",
      "|20200801|중앙선|     아신|    467|          595|      20200804|    null|20200801|2020-08-01|20201399| Saturday|\n",
      "|20200801|중앙선|     국수|    520|          598|      20200804|    null|20200801|2020-08-01|20201402| Saturday|\n",
      "+--------+------+---------+-------+-------------+--------------+--------+--------+----------+--------+---------+\n",
      "only showing top 3 rows\n",
      "\n"
     ]
    }
   ],
   "source": [
    "_subDf.show(3)"
   ]
  },
  {
   "cell_type": "markdown",
   "metadata": {},
   "source": [
    "#### 요일별 개수"
   ]
  },
  {
   "cell_type": "code",
   "execution_count": 125,
   "metadata": {
    "collapsed": false
   },
   "outputs": [
    {
     "name": "stdout",
     "output_type": "stream",
     "text": [
      "+---------+-----+\n",
      "|dayOfWeek|count|\n",
      "+---------+-----+\n",
      "|Wednesday| 2369|\n",
      "|  Tuesday| 2368|\n",
      "|   Friday| 2373|\n",
      "| Thursday| 2371|\n",
      "| Saturday| 2960|\n",
      "|   Monday| 2962|\n",
      "|   Sunday| 2960|\n",
      "+---------+-----+\n",
      "\n"
     ]
    }
   ],
   "source": [
    "_subDf.groupBy(\"dayOfWeek\").count().show()"
   ]
  },
  {
   "cell_type": "markdown",
   "metadata": {},
   "source": [
    "#### 요일별 승하차인원 합계"
   ]
  },
  {
   "cell_type": "code",
   "execution_count": 128,
   "metadata": {
    "collapsed": false
   },
   "outputs": [
    {
     "name": "stdout",
     "output_type": "stream",
     "text": [
      "+---------+-------------+\n",
      "|dayOfWeek|sum(SumInOut)|\n",
      "+---------+-------------+\n",
      "|Wednesday|  47879720822|\n",
      "|  Tuesday|  47859580929|\n",
      "|   Friday|  47961030783|\n",
      "| Thursday|  47919808729|\n",
      "| Saturday|  59812457470|\n",
      "|   Monday|  59861229970|\n",
      "|   Sunday|  59806922541|\n",
      "+---------+-------------+\n",
      "\n"
     ]
    }
   ],
   "source": [
    "_subDf.groupBy(\"dayOfWeek\").agg(F.sum('SumInOut')).show()"
   ]
  },
  {
   "cell_type": "markdown",
   "metadata": {},
   "source": [
    "### 7) 노선별 요일별 승하차인원 합계 (모든 노선 출력)"
   ]
  },
  {
   "cell_type": "code",
   "execution_count": 129,
   "metadata": {
    "collapsed": false,
    "scrolled": true
   },
   "outputs": [
    {
     "name": "stdout",
     "output_type": "stream",
     "text": [
      "+------+----------+----------+----------+----------+----------+----------+----------+\n",
      "|  line|    Friday|    Monday|  Saturday|    Sunday|  Thursday|   Tuesday| Wednesday|\n",
      "+------+----------+----------+----------+----------+----------+----------+----------+\n",
      "|일산선| 808395124|1010437381|1010319451|1010235636| 808383940| 808393127| 808392796|\n",
      "|장항선| 484860929| 606069487| 606063946| 606058420| 484854907| 484857571| 484857468|\n",
      "|경부선|3152874143|3940824196|3940449561|3940133615|3152768029|3152789327|3152794978|\n",
      "+------+----------+----------+----------+----------+----------+----------+----------+\n",
      "only showing top 3 rows\n",
      "\n"
     ]
    }
   ],
   "source": [
    "_subDf.groupBy('line').pivot('dayOfWeek').agg(F.sum('SumInOut')).show(3)"
   ]
  },
  {
   "cell_type": "markdown",
   "metadata": {},
   "source": [
    "### 8) 노선별 요일별 승하차인원 그래프\n",
    "    * x 축 요일, y축 승하차인원."
   ]
  },
  {
   "cell_type": "markdown",
   "metadata": {},
   "source": [
    "#### 노선별 요일별 승하차합계인원"
   ]
  },
  {
   "cell_type": "code",
   "execution_count": 131,
   "metadata": {
    "collapsed": false,
    "scrolled": true
   },
   "outputs": [],
   "source": [
    "_lineByDoW=_subDf.groupBy('line').pivot('dayOfWeek').agg(F.sum('SumInOut')).toPandas()"
   ]
  },
  {
   "cell_type": "code",
   "execution_count": 136,
   "metadata": {
    "collapsed": false
   },
   "outputs": [
    {
     "data": {
      "text/html": [
       "<div>\n",
       "<style scoped>\n",
       "    .dataframe tbody tr th:only-of-type {\n",
       "        vertical-align: middle;\n",
       "    }\n",
       "\n",
       "    .dataframe tbody tr th {\n",
       "        vertical-align: top;\n",
       "    }\n",
       "\n",
       "    .dataframe thead th {\n",
       "        text-align: right;\n",
       "    }\n",
       "</style>\n",
       "<table border=\"1\" class=\"dataframe\">\n",
       "  <thead>\n",
       "    <tr style=\"text-align: right;\">\n",
       "      <th></th>\n",
       "      <th>line</th>\n",
       "      <th>Friday</th>\n",
       "      <th>Monday</th>\n",
       "      <th>Saturday</th>\n",
       "      <th>Sunday</th>\n",
       "      <th>Thursday</th>\n",
       "      <th>Tuesday</th>\n",
       "      <th>Wednesday</th>\n",
       "    </tr>\n",
       "  </thead>\n",
       "  <tbody>\n",
       "    <tr>\n",
       "      <th>0</th>\n",
       "      <td>일산선</td>\n",
       "      <td>808395124</td>\n",
       "      <td>1010437381</td>\n",
       "      <td>1010319451</td>\n",
       "      <td>1010235636</td>\n",
       "      <td>808383940</td>\n",
       "      <td>808393127</td>\n",
       "      <td>808392796</td>\n",
       "    </tr>\n",
       "    <tr>\n",
       "      <th>1</th>\n",
       "      <td>장항선</td>\n",
       "      <td>484860929</td>\n",
       "      <td>606069487</td>\n",
       "      <td>606063946</td>\n",
       "      <td>606058420</td>\n",
       "      <td>484854907</td>\n",
       "      <td>484857571</td>\n",
       "      <td>484857468</td>\n",
       "    </tr>\n",
       "    <tr>\n",
       "      <th>2</th>\n",
       "      <td>경부선</td>\n",
       "      <td>3152874143</td>\n",
       "      <td>3940824196</td>\n",
       "      <td>3940449561</td>\n",
       "      <td>3940133615</td>\n",
       "      <td>3152768029</td>\n",
       "      <td>3152789327</td>\n",
       "      <td>3152794978</td>\n",
       "    </tr>\n",
       "    <tr>\n",
       "      <th>3</th>\n",
       "      <td>우이신설선</td>\n",
       "      <td>1050583774</td>\n",
       "      <td>1313216004</td>\n",
       "      <td>1313167396</td>\n",
       "      <td>1313141053</td>\n",
       "      <td>1050582715</td>\n",
       "      <td>1050586483</td>\n",
       "      <td>1050587942</td>\n",
       "    </tr>\n",
       "    <tr>\n",
       "      <th>4</th>\n",
       "      <td>분당선</td>\n",
       "      <td>2809238836</td>\n",
       "      <td>3435543817</td>\n",
       "      <td>3455281248</td>\n",
       "      <td>3434771069</td>\n",
       "      <td>2788970586</td>\n",
       "      <td>2789009658</td>\n",
       "      <td>2768803828</td>\n",
       "    </tr>\n",
       "    <tr>\n",
       "      <th>5</th>\n",
       "      <td>7호선</td>\n",
       "      <td>4123433410</td>\n",
       "      <td>5153934706</td>\n",
       "      <td>5152897879</td>\n",
       "      <td>5152372864</td>\n",
       "      <td>4123394044</td>\n",
       "      <td>4123436711</td>\n",
       "      <td>4123433745</td>\n",
       "    </tr>\n",
       "    <tr>\n",
       "      <th>6</th>\n",
       "      <td>수인선</td>\n",
       "      <td>1050588760</td>\n",
       "      <td>1313214661</td>\n",
       "      <td>1313171127</td>\n",
       "      <td>1313138823</td>\n",
       "      <td>1050582601</td>\n",
       "      <td>1050584965</td>\n",
       "      <td>1050586007</td>\n",
       "    </tr>\n",
       "    <tr>\n",
       "      <th>7</th>\n",
       "      <td>안산선</td>\n",
       "      <td>1050846248</td>\n",
       "      <td>1313503526</td>\n",
       "      <td>1313393601</td>\n",
       "      <td>1313300973</td>\n",
       "      <td>1050826620</td>\n",
       "      <td>1050840359</td>\n",
       "      <td>1050838751</td>\n",
       "    </tr>\n",
       "    <tr>\n",
       "      <th>8</th>\n",
       "      <td>4호선</td>\n",
       "      <td>2102629179</td>\n",
       "      <td>2627972877</td>\n",
       "      <td>2627425802</td>\n",
       "      <td>2627003684</td>\n",
       "      <td>2102581482</td>\n",
       "      <td>2102588996</td>\n",
       "      <td>2102590630</td>\n",
       "    </tr>\n",
       "    <tr>\n",
       "      <th>9</th>\n",
       "      <td>1호선</td>\n",
       "      <td>808840770</td>\n",
       "      <td>1010902468</td>\n",
       "      <td>1010677910</td>\n",
       "      <td>1010442174</td>\n",
       "      <td>808804370</td>\n",
       "      <td>808813210</td>\n",
       "      <td>808797690</td>\n",
       "    </tr>\n",
       "    <tr>\n",
       "      <th>10</th>\n",
       "      <td>경의선</td>\n",
       "      <td>2141642803</td>\n",
       "      <td>2646697558</td>\n",
       "      <td>2646561932</td>\n",
       "      <td>2646494734</td>\n",
       "      <td>2121429983</td>\n",
       "      <td>2121436128</td>\n",
       "      <td>2121433286</td>\n",
       "    </tr>\n",
       "    <tr>\n",
       "      <th>11</th>\n",
       "      <td>3호선</td>\n",
       "      <td>2708784505</td>\n",
       "      <td>3415913093</td>\n",
       "      <td>3354722587</td>\n",
       "      <td>3374445602</td>\n",
       "      <td>2688499281</td>\n",
       "      <td>2708723859</td>\n",
       "      <td>2708711680</td>\n",
       "    </tr>\n",
       "    <tr>\n",
       "      <th>12</th>\n",
       "      <td>경강선</td>\n",
       "      <td>888930088</td>\n",
       "      <td>1090945973</td>\n",
       "      <td>1111121523</td>\n",
       "      <td>1111105700</td>\n",
       "      <td>888923196</td>\n",
       "      <td>868723718</td>\n",
       "      <td>888926255</td>\n",
       "    </tr>\n",
       "    <tr>\n",
       "      <th>13</th>\n",
       "      <td>경춘선</td>\n",
       "      <td>1535387760</td>\n",
       "      <td>1919221212</td>\n",
       "      <td>1919196396</td>\n",
       "      <td>1919167433</td>\n",
       "      <td>1535380993</td>\n",
       "      <td>1535382747</td>\n",
       "      <td>1535383086</td>\n",
       "    </tr>\n",
       "    <tr>\n",
       "      <th>14</th>\n",
       "      <td>9호선</td>\n",
       "      <td>2021107122</td>\n",
       "      <td>2526177609</td>\n",
       "      <td>2525784137</td>\n",
       "      <td>2525583827</td>\n",
       "      <td>2021068190</td>\n",
       "      <td>2021074069</td>\n",
       "      <td>2021062632</td>\n",
       "    </tr>\n",
       "    <tr>\n",
       "      <th>15</th>\n",
       "      <td>6호선</td>\n",
       "      <td>3031250674</td>\n",
       "      <td>3798984557</td>\n",
       "      <td>3798594037</td>\n",
       "      <td>3818552063</td>\n",
       "      <td>3091829677</td>\n",
       "      <td>3031240634</td>\n",
       "      <td>3031242266</td>\n",
       "    </tr>\n",
       "    <tr>\n",
       "      <th>16</th>\n",
       "      <td>5호선</td>\n",
       "      <td>4244326342</td>\n",
       "      <td>5315167094</td>\n",
       "      <td>5314273162</td>\n",
       "      <td>5313799053</td>\n",
       "      <td>4244300204</td>\n",
       "      <td>4244334032</td>\n",
       "      <td>4244325671</td>\n",
       "    </tr>\n",
       "    <tr>\n",
       "      <th>17</th>\n",
       "      <td>8호선</td>\n",
       "      <td>1374322875</td>\n",
       "      <td>1717805968</td>\n",
       "      <td>1717544282</td>\n",
       "      <td>1717409954</td>\n",
       "      <td>1374304672</td>\n",
       "      <td>1374321055</td>\n",
       "      <td>1374320670</td>\n",
       "    </tr>\n",
       "    <tr>\n",
       "      <th>18</th>\n",
       "      <td>과천선</td>\n",
       "      <td>646761679</td>\n",
       "      <td>808392943</td>\n",
       "      <td>808256281</td>\n",
       "      <td>808185423</td>\n",
       "      <td>646752103</td>\n",
       "      <td>646758203</td>\n",
       "      <td>646760792</td>\n",
       "    </tr>\n",
       "    <tr>\n",
       "      <th>19</th>\n",
       "      <td>경인선</td>\n",
       "      <td>1617072711</td>\n",
       "      <td>2021192027</td>\n",
       "      <td>2020923212</td>\n",
       "      <td>2020665884</td>\n",
       "      <td>1617026950</td>\n",
       "      <td>1617048535</td>\n",
       "      <td>1617052844</td>\n",
       "    </tr>\n",
       "    <tr>\n",
       "      <th>20</th>\n",
       "      <td>중앙선</td>\n",
       "      <td>1697177179</td>\n",
       "      <td>2121432133</td>\n",
       "      <td>2121354249</td>\n",
       "      <td>2121287666</td>\n",
       "      <td>1697164041</td>\n",
       "      <td>1697169680</td>\n",
       "      <td>1697166980</td>\n",
       "    </tr>\n",
       "    <tr>\n",
       "      <th>21</th>\n",
       "      <td>9호선2~3단계</td>\n",
       "      <td>1050770990</td>\n",
       "      <td>1313402811</td>\n",
       "      <td>1313272640</td>\n",
       "      <td>1313206990</td>\n",
       "      <td>1050763509</td>\n",
       "      <td>1050766410</td>\n",
       "      <td>1050767248</td>\n",
       "    </tr>\n",
       "    <tr>\n",
       "      <th>22</th>\n",
       "      <td>2호선</td>\n",
       "      <td>4045276621</td>\n",
       "      <td>5055626768</td>\n",
       "      <td>5053793274</td>\n",
       "      <td>5052610742</td>\n",
       "      <td>4045136758</td>\n",
       "      <td>4045209970</td>\n",
       "      <td>4045204601</td>\n",
       "    </tr>\n",
       "    <tr>\n",
       "      <th>23</th>\n",
       "      <td>공항철도 1호선</td>\n",
       "      <td>1131557563</td>\n",
       "      <td>1414390988</td>\n",
       "      <td>1414297414</td>\n",
       "      <td>1414249246</td>\n",
       "      <td>1131545840</td>\n",
       "      <td>1131547289</td>\n",
       "      <td>1131542158</td>\n",
       "    </tr>\n",
       "    <tr>\n",
       "      <th>24</th>\n",
       "      <td>경원선</td>\n",
       "      <td>2384370698</td>\n",
       "      <td>2970260113</td>\n",
       "      <td>2949914423</td>\n",
       "      <td>2929559913</td>\n",
       "      <td>2343934038</td>\n",
       "      <td>2343944193</td>\n",
       "      <td>2364136818</td>\n",
       "    </tr>\n",
       "  </tbody>\n",
       "</table>\n",
       "</div>"
      ],
      "text/plain": [
       "        line      Friday      Monday    Saturday      Sunday    Thursday  \\\n",
       "0        일산선   808395124  1010437381  1010319451  1010235636   808383940   \n",
       "1        장항선   484860929   606069487   606063946   606058420   484854907   \n",
       "2        경부선  3152874143  3940824196  3940449561  3940133615  3152768029   \n",
       "3      우이신설선  1050583774  1313216004  1313167396  1313141053  1050582715   \n",
       "4        분당선  2809238836  3435543817  3455281248  3434771069  2788970586   \n",
       "5        7호선  4123433410  5153934706  5152897879  5152372864  4123394044   \n",
       "6        수인선  1050588760  1313214661  1313171127  1313138823  1050582601   \n",
       "7        안산선  1050846248  1313503526  1313393601  1313300973  1050826620   \n",
       "8        4호선  2102629179  2627972877  2627425802  2627003684  2102581482   \n",
       "9        1호선   808840770  1010902468  1010677910  1010442174   808804370   \n",
       "10       경의선  2141642803  2646697558  2646561932  2646494734  2121429983   \n",
       "11       3호선  2708784505  3415913093  3354722587  3374445602  2688499281   \n",
       "12       경강선   888930088  1090945973  1111121523  1111105700   888923196   \n",
       "13       경춘선  1535387760  1919221212  1919196396  1919167433  1535380993   \n",
       "14       9호선  2021107122  2526177609  2525784137  2525583827  2021068190   \n",
       "15       6호선  3031250674  3798984557  3798594037  3818552063  3091829677   \n",
       "16       5호선  4244326342  5315167094  5314273162  5313799053  4244300204   \n",
       "17       8호선  1374322875  1717805968  1717544282  1717409954  1374304672   \n",
       "18       과천선   646761679   808392943   808256281   808185423   646752103   \n",
       "19       경인선  1617072711  2021192027  2020923212  2020665884  1617026950   \n",
       "20       중앙선  1697177179  2121432133  2121354249  2121287666  1697164041   \n",
       "21  9호선2~3단계  1050770990  1313402811  1313272640  1313206990  1050763509   \n",
       "22       2호선  4045276621  5055626768  5053793274  5052610742  4045136758   \n",
       "23  공항철도 1호선  1131557563  1414390988  1414297414  1414249246  1131545840   \n",
       "24       경원선  2384370698  2970260113  2949914423  2929559913  2343934038   \n",
       "\n",
       "       Tuesday   Wednesday  \n",
       "0    808393127   808392796  \n",
       "1    484857571   484857468  \n",
       "2   3152789327  3152794978  \n",
       "3   1050586483  1050587942  \n",
       "4   2789009658  2768803828  \n",
       "5   4123436711  4123433745  \n",
       "6   1050584965  1050586007  \n",
       "7   1050840359  1050838751  \n",
       "8   2102588996  2102590630  \n",
       "9    808813210   808797690  \n",
       "10  2121436128  2121433286  \n",
       "11  2708723859  2708711680  \n",
       "12   868723718   888926255  \n",
       "13  1535382747  1535383086  \n",
       "14  2021074069  2021062632  \n",
       "15  3031240634  3031242266  \n",
       "16  4244334032  4244325671  \n",
       "17  1374321055  1374320670  \n",
       "18   646758203   646760792  \n",
       "19  1617048535  1617052844  \n",
       "20  1697169680  1697166980  \n",
       "21  1050766410  1050767248  \n",
       "22  4045209970  4045204601  \n",
       "23  1131547289  1131542158  \n",
       "24  2343944193  2364136818  "
      ]
     },
     "execution_count": 136,
     "metadata": {},
     "output_type": "execute_result"
    }
   ],
   "source": [
    "_lineByDoW"
   ]
  },
  {
   "cell_type": "markdown",
   "metadata": {},
   "source": [
    "#### 행, 열 데이터 조회\n",
    "\n",
    "위 데이터로 ```loc```에는 레이블 인덱스를 사용해야 하고, 따라서 정수 인덱스로는 조회할 수 없다.\n",
    "```loc[0, 0]```는 오류가 발생하고, 아래와 같이 레이블을 사용해야 한다."
   ]
  },
  {
   "cell_type": "code",
   "execution_count": 133,
   "metadata": {
    "collapsed": false,
    "scrolled": true
   },
   "outputs": [
    {
     "data": {
      "text/plain": [
       "808395124"
      ]
     },
     "execution_count": 133,
     "metadata": {},
     "output_type": "execute_result"
    }
   ],
   "source": [
    "_lineByDoW.loc[0,'Friday']"
   ]
  },
  {
   "cell_type": "markdown",
   "metadata": {},
   "source": [
    "iloc을 사용하면 정수인덱스를 사용하면 행, 열을 조회할 수 있다."
   ]
  },
  {
   "cell_type": "code",
   "execution_count": 134,
   "metadata": {
    "collapsed": false
   },
   "outputs": [
    {
     "data": {
      "text/plain": [
       "line                일산선\n",
       "Friday        808395124\n",
       "Monday       1010437381\n",
       "Saturday     1010319451\n",
       "Sunday       1010235636\n",
       "Thursday      808383940\n",
       "Tuesday       808393127\n",
       "Wednesday     808392796\n",
       "Name: 0, dtype: object"
      ]
     },
     "execution_count": 134,
     "metadata": {},
     "output_type": "execute_result"
    }
   ],
   "source": [
    "_lineByDoW.iloc[0,:]"
   ]
  },
  {
   "cell_type": "markdown",
   "metadata": {},
   "source": [
    "#### 그래프"
   ]
  },
  {
   "cell_type": "code",
   "execution_count": 135,
   "metadata": {
    "collapsed": false,
    "scrolled": false
   },
   "outputs": [
    {
     "data": {
      "text/plain": [
       "<AxesSubplot:>"
      ]
     },
     "execution_count": 135,
     "metadata": {},
     "output_type": "execute_result"
    },
    {
     "data": {
      "image/png": "[encoded data removed]",
      "text/plain": [
       "<Figure size 432x288 with 1 Axes>"
      ]
     },
     "metadata": {
      "needs_background": "light"
     },
     "output_type": "display_data"
    }
   ],
   "source": [
    "_lineByDoW.plot()"
   ]
  },
  {
   "cell_type": "code",
   "execution_count": 77,
   "metadata": {
    "collapsed": true
   },
   "outputs": [],
   "source": [
    "_lineByDoW.reset_index(drop=True, inplace=True)"
   ]
  },
  {
   "cell_type": "code",
   "execution_count": 78,
   "metadata": {
    "collapsed": false,
    "scrolled": true
   },
   "outputs": [
    {
     "data": {
      "text/html": [
       "<div>\n",
       "<style scoped>\n",
       "    .dataframe tbody tr th:only-of-type {\n",
       "        vertical-align: middle;\n",
       "    }\n",
       "\n",
       "    .dataframe tbody tr th {\n",
       "        vertical-align: top;\n",
       "    }\n",
       "\n",
       "    .dataframe thead th {\n",
       "        text-align: right;\n",
       "    }\n",
       "</style>\n",
       "<table border=\"1\" class=\"dataframe\">\n",
       "  <thead>\n",
       "    <tr style=\"text-align: right;\">\n",
       "      <th></th>\n",
       "      <th>line</th>\n",
       "      <th>Friday</th>\n",
       "      <th>Monday</th>\n",
       "      <th>Saturday</th>\n",
       "      <th>Sunday</th>\n",
       "      <th>Thursday</th>\n",
       "      <th>Tuesday</th>\n",
       "      <th>Wednesday</th>\n",
       "    </tr>\n",
       "  </thead>\n",
       "  <tbody>\n",
       "    <tr>\n",
       "      <th>0</th>\n",
       "      <td>일산선</td>\n",
       "      <td>362304</td>\n",
       "      <td>395691</td>\n",
       "      <td>277861</td>\n",
       "      <td>193996</td>\n",
       "      <td>351160</td>\n",
       "      <td>360427</td>\n",
       "      <td>360056</td>\n",
       "    </tr>\n",
       "    <tr>\n",
       "      <th>1</th>\n",
       "      <td>장항선</td>\n",
       "      <td>41237</td>\n",
       "      <td>44473</td>\n",
       "      <td>38992</td>\n",
       "      <td>33436</td>\n",
       "      <td>35239</td>\n",
       "      <td>37951</td>\n",
       "      <td>37824</td>\n",
       "    </tr>\n",
       "    <tr>\n",
       "      <th>2</th>\n",
       "      <td>경부선</td>\n",
       "      <td>1546145</td>\n",
       "      <td>1661605</td>\n",
       "      <td>1287360</td>\n",
       "      <td>971219</td>\n",
       "      <td>1440187</td>\n",
       "      <td>1461797</td>\n",
       "      <td>1467292</td>\n",
       "    </tr>\n",
       "    <tr>\n",
       "      <th>3</th>\n",
       "      <td>우이신설선</td>\n",
       "      <td>141108</td>\n",
       "      <td>161807</td>\n",
       "      <td>113329</td>\n",
       "      <td>86921</td>\n",
       "      <td>140101</td>\n",
       "      <td>143973</td>\n",
       "      <td>145380</td>\n",
       "    </tr>\n",
       "    <tr>\n",
       "      <th>4</th>\n",
       "      <td>분당선</td>\n",
       "      <td>1324797</td>\n",
       "      <td>1402071</td>\n",
       "      <td>939024</td>\n",
       "      <td>629493</td>\n",
       "      <td>1257509</td>\n",
       "      <td>1296850</td>\n",
       "      <td>1291690</td>\n",
       "    </tr>\n",
       "  </tbody>\n",
       "</table>\n",
       "</div>"
      ],
      "text/plain": [
       "    line   Friday   Monday  Saturday  Sunday  Thursday  Tuesday  Wednesday\n",
       "0    일산선   362304   395691    277861  193996    351160   360427     360056\n",
       "1    장항선    41237    44473     38992   33436     35239    37951      37824\n",
       "2    경부선  1546145  1661605   1287360  971219   1440187  1461797    1467292\n",
       "3  우이신설선   141108   161807    113329   86921    140101   143973     145380\n",
       "4    분당선  1324797  1402071    939024  629493   1257509  1296850    1291690"
      ]
     },
     "execution_count": 78,
     "metadata": {},
     "output_type": "execute_result"
    }
   ],
   "source": [
    "_lineByDoW.head()"
   ]
  },
  {
   "cell_type": "markdown",
   "metadata": {},
   "source": [
    "#### 요일별 노선별로 데이터 Transpose\n",
    "\n",
    "위 데이터는 행의 인덱스가 일련번호, line 2개가 있다. 이 경우 line을 삭제하고, 데이터를 90도 회전해서 그래프를 그려보자.\n",
    "\n",
    "행의 인덱스가 여러개 있는 경우, ```set_index('line', inplace=True)``` 또는 ```reset_index(drop=True, inplace=True)```를 사용하서 제어할 수 있다."
   ]
  },
  {
   "cell_type": "code",
   "execution_count": 148,
   "metadata": {
    "collapsed": false
   },
   "outputs": [
    {
     "data": {
      "text/html": [
       "<div>\n",
       "<style scoped>\n",
       "    .dataframe tbody tr th:only-of-type {\n",
       "        vertical-align: middle;\n",
       "    }\n",
       "\n",
       "    .dataframe tbody tr th {\n",
       "        vertical-align: top;\n",
       "    }\n",
       "\n",
       "    .dataframe thead th {\n",
       "        text-align: right;\n",
       "    }\n",
       "</style>\n",
       "<table border=\"1\" class=\"dataframe\">\n",
       "  <thead>\n",
       "    <tr style=\"text-align: right;\">\n",
       "      <th></th>\n",
       "      <th>0</th>\n",
       "      <th>1</th>\n",
       "      <th>2</th>\n",
       "      <th>3</th>\n",
       "      <th>4</th>\n",
       "      <th>5</th>\n",
       "      <th>6</th>\n",
       "      <th>7</th>\n",
       "      <th>8</th>\n",
       "      <th>9</th>\n",
       "      <th>...</th>\n",
       "      <th>15</th>\n",
       "      <th>16</th>\n",
       "      <th>17</th>\n",
       "      <th>18</th>\n",
       "      <th>19</th>\n",
       "      <th>20</th>\n",
       "      <th>21</th>\n",
       "      <th>22</th>\n",
       "      <th>23</th>\n",
       "      <th>24</th>\n",
       "    </tr>\n",
       "  </thead>\n",
       "  <tbody>\n",
       "    <tr>\n",
       "      <th>Friday</th>\n",
       "      <td>808395124</td>\n",
       "      <td>484860929</td>\n",
       "      <td>3152874143</td>\n",
       "      <td>1050583774</td>\n",
       "      <td>2809238836</td>\n",
       "      <td>4123433410</td>\n",
       "      <td>1050588760</td>\n",
       "      <td>1050846248</td>\n",
       "      <td>2102629179</td>\n",
       "      <td>808840770</td>\n",
       "      <td>...</td>\n",
       "      <td>3031250674</td>\n",
       "      <td>4244326342</td>\n",
       "      <td>1374322875</td>\n",
       "      <td>646761679</td>\n",
       "      <td>1617072711</td>\n",
       "      <td>1697177179</td>\n",
       "      <td>1050770990</td>\n",
       "      <td>4045276621</td>\n",
       "      <td>1131557563</td>\n",
       "      <td>2384370698</td>\n",
       "    </tr>\n",
       "    <tr>\n",
       "      <th>Monday</th>\n",
       "      <td>1010437381</td>\n",
       "      <td>606069487</td>\n",
       "      <td>3940824196</td>\n",
       "      <td>1313216004</td>\n",
       "      <td>3435543817</td>\n",
       "      <td>5153934706</td>\n",
       "      <td>1313214661</td>\n",
       "      <td>1313503526</td>\n",
       "      <td>2627972877</td>\n",
       "      <td>1010902468</td>\n",
       "      <td>...</td>\n",
       "      <td>3798984557</td>\n",
       "      <td>5315167094</td>\n",
       "      <td>1717805968</td>\n",
       "      <td>808392943</td>\n",
       "      <td>2021192027</td>\n",
       "      <td>2121432133</td>\n",
       "      <td>1313402811</td>\n",
       "      <td>5055626768</td>\n",
       "      <td>1414390988</td>\n",
       "      <td>2970260113</td>\n",
       "    </tr>\n",
       "    <tr>\n",
       "      <th>Saturday</th>\n",
       "      <td>1010319451</td>\n",
       "      <td>606063946</td>\n",
       "      <td>3940449561</td>\n",
       "      <td>1313167396</td>\n",
       "      <td>3455281248</td>\n",
       "      <td>5152897879</td>\n",
       "      <td>1313171127</td>\n",
       "      <td>1313393601</td>\n",
       "      <td>2627425802</td>\n",
       "      <td>1010677910</td>\n",
       "      <td>...</td>\n",
       "      <td>3798594037</td>\n",
       "      <td>5314273162</td>\n",
       "      <td>1717544282</td>\n",
       "      <td>808256281</td>\n",
       "      <td>2020923212</td>\n",
       "      <td>2121354249</td>\n",
       "      <td>1313272640</td>\n",
       "      <td>5053793274</td>\n",
       "      <td>1414297414</td>\n",
       "      <td>2949914423</td>\n",
       "    </tr>\n",
       "    <tr>\n",
       "      <th>Sunday</th>\n",
       "      <td>1010235636</td>\n",
       "      <td>606058420</td>\n",
       "      <td>3940133615</td>\n",
       "      <td>1313141053</td>\n",
       "      <td>3434771069</td>\n",
       "      <td>5152372864</td>\n",
       "      <td>1313138823</td>\n",
       "      <td>1313300973</td>\n",
       "      <td>2627003684</td>\n",
       "      <td>1010442174</td>\n",
       "      <td>...</td>\n",
       "      <td>3818552063</td>\n",
       "      <td>5313799053</td>\n",
       "      <td>1717409954</td>\n",
       "      <td>808185423</td>\n",
       "      <td>2020665884</td>\n",
       "      <td>2121287666</td>\n",
       "      <td>1313206990</td>\n",
       "      <td>5052610742</td>\n",
       "      <td>1414249246</td>\n",
       "      <td>2929559913</td>\n",
       "    </tr>\n",
       "    <tr>\n",
       "      <th>Thursday</th>\n",
       "      <td>808383940</td>\n",
       "      <td>484854907</td>\n",
       "      <td>3152768029</td>\n",
       "      <td>1050582715</td>\n",
       "      <td>2788970586</td>\n",
       "      <td>4123394044</td>\n",
       "      <td>1050582601</td>\n",
       "      <td>1050826620</td>\n",
       "      <td>2102581482</td>\n",
       "      <td>808804370</td>\n",
       "      <td>...</td>\n",
       "      <td>3091829677</td>\n",
       "      <td>4244300204</td>\n",
       "      <td>1374304672</td>\n",
       "      <td>646752103</td>\n",
       "      <td>1617026950</td>\n",
       "      <td>1697164041</td>\n",
       "      <td>1050763509</td>\n",
       "      <td>4045136758</td>\n",
       "      <td>1131545840</td>\n",
       "      <td>2343934038</td>\n",
       "    </tr>\n",
       "    <tr>\n",
       "      <th>Tuesday</th>\n",
       "      <td>808393127</td>\n",
       "      <td>484857571</td>\n",
       "      <td>3152789327</td>\n",
       "      <td>1050586483</td>\n",
       "      <td>2789009658</td>\n",
       "      <td>4123436711</td>\n",
       "      <td>1050584965</td>\n",
       "      <td>1050840359</td>\n",
       "      <td>2102588996</td>\n",
       "      <td>808813210</td>\n",
       "      <td>...</td>\n",
       "      <td>3031240634</td>\n",
       "      <td>4244334032</td>\n",
       "      <td>1374321055</td>\n",
       "      <td>646758203</td>\n",
       "      <td>1617048535</td>\n",
       "      <td>1697169680</td>\n",
       "      <td>1050766410</td>\n",
       "      <td>4045209970</td>\n",
       "      <td>1131547289</td>\n",
       "      <td>2343944193</td>\n",
       "    </tr>\n",
       "    <tr>\n",
       "      <th>Wednesday</th>\n",
       "      <td>808392796</td>\n",
       "      <td>484857468</td>\n",
       "      <td>3152794978</td>\n",
       "      <td>1050587942</td>\n",
       "      <td>2768803828</td>\n",
       "      <td>4123433745</td>\n",
       "      <td>1050586007</td>\n",
       "      <td>1050838751</td>\n",
       "      <td>2102590630</td>\n",
       "      <td>808797690</td>\n",
       "      <td>...</td>\n",
       "      <td>3031242266</td>\n",
       "      <td>4244325671</td>\n",
       "      <td>1374320670</td>\n",
       "      <td>646760792</td>\n",
       "      <td>1617052844</td>\n",
       "      <td>1697166980</td>\n",
       "      <td>1050767248</td>\n",
       "      <td>4045204601</td>\n",
       "      <td>1131542158</td>\n",
       "      <td>2364136818</td>\n",
       "    </tr>\n",
       "  </tbody>\n",
       "</table>\n",
       "<p>7 rows × 25 columns</p>\n",
       "</div>"
      ],
      "text/plain": [
       "                   0          1           2           3           4   \\\n",
       "Friday      808395124  484860929  3152874143  1050583774  2809238836   \n",
       "Monday     1010437381  606069487  3940824196  1313216004  3435543817   \n",
       "Saturday   1010319451  606063946  3940449561  1313167396  3455281248   \n",
       "Sunday     1010235636  606058420  3940133615  1313141053  3434771069   \n",
       "Thursday    808383940  484854907  3152768029  1050582715  2788970586   \n",
       "Tuesday     808393127  484857571  3152789327  1050586483  2789009658   \n",
       "Wednesday   808392796  484857468  3152794978  1050587942  2768803828   \n",
       "\n",
       "                   5           6           7           8           9   ...  \\\n",
       "Friday     4123433410  1050588760  1050846248  2102629179   808840770  ...   \n",
       "Monday     5153934706  1313214661  1313503526  2627972877  1010902468  ...   \n",
       "Saturday   5152897879  1313171127  1313393601  2627425802  1010677910  ...   \n",
       "Sunday     5152372864  1313138823  1313300973  2627003684  1010442174  ...   \n",
       "Thursday   4123394044  1050582601  1050826620  2102581482   808804370  ...   \n",
       "Tuesday    4123436711  1050584965  1050840359  2102588996   808813210  ...   \n",
       "Wednesday  4123433745  1050586007  1050838751  2102590630   808797690  ...   \n",
       "\n",
       "                   15          16          17         18          19  \\\n",
       "Friday     3031250674  4244326342  1374322875  646761679  1617072711   \n",
       "Monday     3798984557  5315167094  1717805968  808392943  2021192027   \n",
       "Saturday   3798594037  5314273162  1717544282  808256281  2020923212   \n",
       "Sunday     3818552063  5313799053  1717409954  808185423  2020665884   \n",
       "Thursday   3091829677  4244300204  1374304672  646752103  1617026950   \n",
       "Tuesday    3031240634  4244334032  1374321055  646758203  1617048535   \n",
       "Wednesday  3031242266  4244325671  1374320670  646760792  1617052844   \n",
       "\n",
       "                   20          21          22          23          24  \n",
       "Friday     1697177179  1050770990  4045276621  1131557563  2384370698  \n",
       "Monday     2121432133  1313402811  5055626768  1414390988  2970260113  \n",
       "Saturday   2121354249  1313272640  5053793274  1414297414  2949914423  \n",
       "Sunday     2121287666  1313206990  5052610742  1414249246  2929559913  \n",
       "Thursday   1697164041  1050763509  4045136758  1131545840  2343934038  \n",
       "Tuesday    1697169680  1050766410  4045209970  1131547289  2343944193  \n",
       "Wednesday  1697166980  1050767248  4045204601  1131542158  2364136818  \n",
       "\n",
       "[7 rows x 25 columns]"
      ]
     },
     "execution_count": 148,
     "metadata": {},
     "output_type": "execute_result"
    }
   ],
   "source": [
    "_lineByDoW.drop('line', axis=1).transpose()"
   ]
  },
  {
   "cell_type": "markdown",
   "metadata": {},
   "source": [
    "아래 그래프를 보면 어느 역이나, 월 토 일에 승객이 많은 것을 알 수 있다."
   ]
  },
  {
   "cell_type": "code",
   "execution_count": 149,
   "metadata": {
    "collapsed": false
   },
   "outputs": [],
   "source": [
    "new = _lineByDoW.drop('line', axis=1).transpose()"
   ]
  },
  {
   "cell_type": "code",
   "execution_count": 150,
   "metadata": {
    "collapsed": false
   },
   "outputs": [
    {
     "data": {
      "text/plain": [
       "<AxesSubplot:>"
      ]
     },
     "execution_count": 150,
     "metadata": {},
     "output_type": "execute_result"
    },
    {
     "data": {
      "image/png": "[encoded data removed]",
      "text/plain": [
       "<Figure size 432x288 with 1 Axes>"
      ]
     },
     "metadata": {
      "needs_background": "light"
     },
     "output_type": "display_data"
    }
   ],
   "source": [
    "new.plot()"
   ]
  },
  {
   "cell_type": "markdown",
   "metadata": {
    "collapsed": true
   },
   "source": [
    "## 문제: 한국의 코로나바이러스\n",
    "\n",
    "데이터는 https://www.kaggle.com/kimjihoo/coronavirusdataset를 방문하여 TimeProvince.csv를 다운로드해서 사용한다.\n",
    "문제를 풀고 결과 출력을 예시해 놓았다. 동일하지 않아도 유사하게 출력하면 된다.\n",
    "\n",
    "* 1) DataFrame 생성하고, 자동인식한 스키마를 출력\n",
    "* 2) 3월의 데이터만 출력\n",
    "\n",
    "```python\n",
    "+----------+----+--------+---------+--------+--------+\n",
    "|      Date|time|province|confirmed|released|deceased|\n",
    "+----------+----+--------+---------+--------+--------+\n",
    "|2020-03-01|  16|   Seoul|       87|      11|       0|\n",
    "|2020-03-01|  16|   Busan|       83|       0|       0|\n",
    "|2020-03-01|  16|   Daegu|     2704|       6|      11|\n",
    "+----------+----+--------+---------+--------+--------+\n",
    "```\n",
    "\n",
    "* 3) 년x월별 건수\n",
    "```python\n",
    "+----+---+---+---+---+---+---+\n",
    "|year|  1|  2|  3|  4|  5|  6|\n",
    "+----+---+---+---+---+---+---+\n",
    "|2020|204|493|527|510|527|510|\n",
    "+----+---+---+---+---+---+---+\n",
    "```\n",
    "\n",
    "* 4) 도x월별 건수\n",
    "```python\n",
    "+-----------------+---+---+---+---+---+---+\n",
    "|         province|  1|  2|  3|  4|  5|  6|\n",
    "+-----------------+---+---+---+---+---+---+\n",
    "|           Sejong| 12| 29| 31| 30| 31| 30|\n",
    "```\n",
    "\n",
    "* 5) 도별 확진자 순위\n",
    "```python\n",
    "+----------+----+--------+---------+--------+--------+----+\n",
    "|      Date|time|province|confirmed|released|deceased|rank|\n",
    "+----------+----+--------+---------+--------+--------+----+\n",
    "|2020-06-30|   0|  Sejong|       50|      47|       0|   1|\n",
    "```\n",
    "\n",
    "* 6) 도별 첫 확진자 출현 (모든 도 출력)\n",
    "```python\n",
    "+----------+----+-----------------+---------+--------+--------+\n",
    "|      Date|time|         province|confirmed|released|deceased|\n",
    "+----------+----+-----------------+---------+--------+--------+\n",
    "|2020-02-22|  16|           Sejong|        1|       0|       0|\n",
    "|2020-02-22|  16|            Ulsan|        1|       0|       0|\n",
    "```\n",
    "\n",
    "* 7) 도별 누적 확진자 (마지막 일 6월 30일 기준기준, 모든 도 출력)\n",
    "```python\n",
    "+----------+----+-----------------+---------+--------+--------+----+-----+--------------------+\n",
    "|      Date|time|         province|confirmed|released|deceased|year|month|cumulative_confirmed|\n",
    "+----------+----+-----------------+---------+--------+--------+----+-----+--------------------+\n",
    "|2020-06-30|   0|           Sejong|       50|      47|       0|2020|    6|                5111|\n",
    "|2020-06-30|   0|            Ulsan|       55|      50|       1|2020|    6|                5269|\n",
    "```\n",
    "\n",
    "* 8) 1-3 지난 7일 확진자 합계 (rolling)\n",
    "\n"
   ]
  },
  {
   "cell_type": "markdown",
   "metadata": {},
   "source": [
    "### 1) DataFrame 생성\n",
    "\n",
    "내려받은 데이터 파일의 내용을 살펴보자.\n",
    "어떤 형식인지, 헤더가 있는지, 행과 열이 구조적인지에 따라 파일을 읽어오는 방식을 정한다."
   ]
  },
  {
   "cell_type": "code",
   "execution_count": 3,
   "metadata": {
    "collapsed": false
   },
   "outputs": [],
   "source": [
    "_covidProvinceDf = spark\\\n",
    "    .read\\\n",
    "    .options(header='true', inferschema='true', delimiter=',')\\\n",
    "    .csv(os.path.join('data', 'TimeProvince.csv'))"
   ]
  },
  {
   "cell_type": "code",
   "execution_count": 4,
   "metadata": {
    "collapsed": false
   },
   "outputs": [
    {
     "name": "stdout",
     "output_type": "stream",
     "text": [
      "root\n",
      " |-- date: string (nullable = true)\n",
      " |-- time: integer (nullable = true)\n",
      " |-- province: string (nullable = true)\n",
      " |-- confirmed: integer (nullable = true)\n",
      " |-- released: integer (nullable = true)\n",
      " |-- deceased: integer (nullable = true)\n",
      "\n"
     ]
    }
   ],
   "source": [
    "_covidProvinceDf.printSchema()"
   ]
  },
  {
   "cell_type": "markdown",
   "metadata": {},
   "source": [
    "### 2) 일자 형변환"
   ]
  },
  {
   "cell_type": "code",
   "execution_count": 5,
   "metadata": {
    "collapsed": false
   },
   "outputs": [],
   "source": [
    "from pyspark.sql.types import DateType\n",
    "\n",
    "_covidProvinceDf = _covidProvinceDf.withColumn('Date', _covidProvinceDf['date'].cast(DateType()))"
   ]
  },
  {
   "cell_type": "code",
   "execution_count": 6,
   "metadata": {
    "collapsed": false,
    "scrolled": true
   },
   "outputs": [
    {
     "name": "stdout",
     "output_type": "stream",
     "text": [
      "+----------+----+--------+---------+--------+--------+\n",
      "|      Date|time|province|confirmed|released|deceased|\n",
      "+----------+----+--------+---------+--------+--------+\n",
      "|2020-01-20|  16|   Seoul|        0|       0|       0|\n",
      "|2020-01-20|  16|   Busan|        0|       0|       0|\n",
      "|2020-01-20|  16|   Daegu|        0|       0|       0|\n",
      "+----------+----+--------+---------+--------+--------+\n",
      "only showing top 3 rows\n",
      "\n"
     ]
    }
   ],
   "source": [
    "_covidProvinceDf.show(3)"
   ]
  },
  {
   "cell_type": "markdown",
   "metadata": {},
   "source": [
    "### 2) 3월의 데이터만 출력"
   ]
  },
  {
   "cell_type": "code",
   "execution_count": 7,
   "metadata": {
    "collapsed": false
   },
   "outputs": [
    {
     "name": "stdout",
     "output_type": "stream",
     "text": [
      "+----------+----+--------+---------+--------+--------+\n",
      "|      Date|time|province|confirmed|released|deceased|\n",
      "+----------+----+--------+---------+--------+--------+\n",
      "|2020-02-01|  16|   Seoul|        4|       0|       0|\n",
      "|2020-02-01|  16|   Busan|        0|       0|       0|\n",
      "|2020-02-01|  16|   Daegu|        0|       0|       0|\n",
      "+----------+----+--------+---------+--------+--------+\n",
      "only showing top 3 rows\n",
      "\n"
     ]
    }
   ],
   "source": [
    "from pyspark.sql.types import DateType\n",
    "\n",
    "import pyspark.sql.functions as F\n",
    "_covidProvinceDf.filter(_covidProvinceDf[\"Date\"] == F.lit('2020-02-01')).show(3)"
   ]
  },
  {
   "cell_type": "code",
   "execution_count": 8,
   "metadata": {
    "collapsed": false
   },
   "outputs": [
    {
     "name": "stdout",
     "output_type": "stream",
     "text": [
      "+----------+----+--------+---------+--------+--------+\n",
      "|      Date|time|province|confirmed|released|deceased|\n",
      "+----------+----+--------+---------+--------+--------+\n",
      "|2020-02-01|  16|   Seoul|        4|       0|       0|\n",
      "|2020-02-01|  16|   Busan|        0|       0|       0|\n",
      "|2020-02-01|  16|   Daegu|        0|       0|       0|\n",
      "+----------+----+--------+---------+--------+--------+\n",
      "only showing top 3 rows\n",
      "\n"
     ]
    }
   ],
   "source": [
    "import pyspark.sql.functions as F\n",
    "_covidProvinceDf.filter(_covidProvinceDf[\"Date\"] == '2020-02-01').show(3)"
   ]
  },
  {
   "cell_type": "code",
   "execution_count": 9,
   "metadata": {
    "collapsed": false
   },
   "outputs": [
    {
     "name": "stdout",
     "output_type": "stream",
     "text": [
      "+----------+----+--------+---------+--------+--------+\n",
      "|      Date|time|province|confirmed|released|deceased|\n",
      "+----------+----+--------+---------+--------+--------+\n",
      "|2020-03-01|  16|   Seoul|       87|      11|       0|\n",
      "|2020-03-01|  16|   Busan|       83|       0|       0|\n",
      "|2020-03-01|  16|   Daegu|     2704|       6|      11|\n",
      "+----------+----+--------+---------+--------+--------+\n",
      "only showing top 3 rows\n",
      "\n"
     ]
    }
   ],
   "source": [
    "import pyspark.sql.functions as F\n",
    "_covidProvinceDf.filter(F.month(_covidProvinceDf[\"Date\"]) == '03').show(3)"
   ]
  },
  {
   "cell_type": "code",
   "execution_count": 10,
   "metadata": {
    "collapsed": false
   },
   "outputs": [
    {
     "name": "stdout",
     "output_type": "stream",
     "text": [
      "+----------+----+--------+---------+--------+--------+\n",
      "|      Date|time|province|confirmed|released|deceased|\n",
      "+----------+----+--------+---------+--------+--------+\n",
      "|2020-02-02|  16|   Seoul|        5|       0|       0|\n",
      "|2020-02-02|  16|   Busan|        0|       0|       0|\n",
      "|2020-02-02|  16|   Daegu|        0|       0|       0|\n",
      "+----------+----+--------+---------+--------+--------+\n",
      "only showing top 3 rows\n",
      "\n"
     ]
    }
   ],
   "source": [
    "_covidProvinceDf.filter(_covidProvinceDf[\"Date\"] > '2020-02-01').show(3)"
   ]
  },
  {
   "cell_type": "markdown",
   "metadata": {},
   "source": [
    "### 3) 년x월별 건수"
   ]
  },
  {
   "cell_type": "code",
   "execution_count": 11,
   "metadata": {
    "collapsed": true
   },
   "outputs": [],
   "source": [
    "import pyspark.sql.functions as F\n",
    "\n",
    "_covidProvinceDf=_covidProvinceDf\\\n",
    "    .withColumn(\"year\", F.year(\"Date\"))\\\n",
    "    .withColumn(\"month\", F.month(\"Date\"))"
   ]
  },
  {
   "cell_type": "code",
   "execution_count": 12,
   "metadata": {
    "collapsed": false
   },
   "outputs": [
    {
     "name": "stdout",
     "output_type": "stream",
     "text": [
      "+----+---+---+---+---+---+---+\n",
      "|year|  1|  2|  3|  4|  5|  6|\n",
      "+----+---+---+---+---+---+---+\n",
      "|2020|204|493|527|510|527|510|\n",
      "+----+---+---+---+---+---+---+\n",
      "\n"
     ]
    }
   ],
   "source": [
    "_covidProvinceDf.groupBy(\"year\").pivot(\"month\").count().show()"
   ]
  },
  {
   "cell_type": "markdown",
   "metadata": {},
   "source": [
    "### 4) 도x월별 건수\n"
   ]
  },
  {
   "cell_type": "code",
   "execution_count": 13,
   "metadata": {
    "collapsed": false
   },
   "outputs": [
    {
     "name": "stdout",
     "output_type": "stream",
     "text": [
      "+-----------------+---+---+---+---+---+---+\n",
      "|         province|  1|  2|  3|  4|  5|  6|\n",
      "+-----------------+---+---+---+---+---+---+\n",
      "|           Sejong| 12| 29| 31| 30| 31| 30|\n",
      "|            Ulsan| 12| 29| 31| 30| 31| 30|\n",
      "|Chungcheongbuk-do| 12| 29| 31| 30| 31| 30|\n",
      "|       Gangwon-do| 12| 29| 31| 30| 31| 30|\n",
      "|          Gwangju| 12| 29| 31| 30| 31| 30|\n",
      "| Gyeongsangbuk-do| 12| 29| 31| 30| 31| 30|\n",
      "|            Daegu| 12| 29| 31| 30| 31| 30|\n",
      "| Gyeongsangnam-do| 12| 29| 31| 30| 31| 30|\n",
      "|          Incheon| 12| 29| 31| 30| 31| 30|\n",
      "|          Jeju-do| 12| 29| 31| 30| 31| 30|\n",
      "|      Gyeonggi-do| 12| 29| 31| 30| 31| 30|\n",
      "|            Busan| 12| 29| 31| 30| 31| 30|\n",
      "|          Daejeon| 12| 29| 31| 30| 31| 30|\n",
      "|            Seoul| 12| 29| 31| 30| 31| 30|\n",
      "|Chungcheongnam-do| 12| 29| 31| 30| 31| 30|\n",
      "|     Jeollabuk-do| 12| 29| 31| 30| 31| 30|\n",
      "|     Jeollanam-do| 12| 29| 31| 30| 31| 30|\n",
      "+-----------------+---+---+---+---+---+---+\n",
      "\n"
     ]
    }
   ],
   "source": [
    "_covidProvinceDf.groupBy(\"province\").pivot(\"month\").count().show()"
   ]
  },
  {
   "cell_type": "markdown",
   "metadata": {},
   "source": [
    "### 5) 도별 확진자 순위"
   ]
  },
  {
   "cell_type": "code",
   "execution_count": 26,
   "metadata": {
    "collapsed": false
   },
   "outputs": [
    {
     "name": "stdout",
     "output_type": "stream",
     "text": [
      "+----------+----+--------+---------+--------+--------+----+-----+----+\n",
      "|      Date|time|province|confirmed|released|deceased|year|month|rank|\n",
      "+----------+----+--------+---------+--------+--------+----+-----+----+\n",
      "|2020-06-30|   0|  Sejong|       50|      47|       0|2020|    6|   1|\n",
      "|2020-06-21|   0|  Sejong|       49|      47|       0|2020|    6|   2|\n",
      "|2020-06-22|   0|  Sejong|       49|      47|       0|2020|    6|   2|\n",
      "+----------+----+--------+---------+--------+--------+----+-----+----+\n",
      "only showing top 3 rows\n",
      "\n"
     ]
    }
   ],
   "source": [
    "from pyspark.sql.window import Window\n",
    "from pyspark.sql import functions as F\n",
    "\n",
    "confirmedByProvince = Window().partitionBy(['province']).orderBy(F.desc('confirmed'))\n",
    "_covidProvinceDf.withColumn(\"rank\",F.rank().over(confirmedByProvince)).show(3)"
   ]
  },
  {
   "cell_type": "markdown",
   "metadata": {},
   "source": [
    "### 6) 도별 첫 확진자 출현 (모든 도 출력)\n",
    "\n",
    "1. confirmed 0을 제외\n",
    "2. groupBy(province)\n",
    "3. province window의 row_number 1번만 출력\n",
    "\n",
    "val dfTop = df.withColumn(\"rn\", row_number.over(w)).where($\"rn\" === 1).drop(\"rn\")\n",
    "\n",
    "confirm\n",
    "from pyspark.sql.functions import row_number\n",
    "\n",
    "_marksDf.withColumn(\"row_number\", row_number().over(win)).show()\n",
    "from pyspark.sql.functions import row_number\n",
    "\n",
    "_marksDf.withColumn(\"row_number\", row_number().over(win)).show()"
   ]
  },
  {
   "cell_type": "markdown",
   "metadata": {},
   "source": [
    "#### 확진자 0을 제외"
   ]
  },
  {
   "cell_type": "code",
   "execution_count": 15,
   "metadata": {
    "collapsed": false
   },
   "outputs": [],
   "source": [
    "#_covidProvinceDf.filter('confirmed' > 0).show()  # not working\n",
    "_confirmedGt0=_covidProvinceDf.filter(F.col('confirmed') > 0)"
   ]
  },
  {
   "cell_type": "code",
   "execution_count": 16,
   "metadata": {
    "collapsed": false
   },
   "outputs": [
    {
     "name": "stdout",
     "output_type": "stream",
     "text": [
      "+----------+----+-----------+---------+--------+--------+----+-----+\n",
      "|      Date|time|   province|confirmed|released|deceased|year|month|\n",
      "+----------+----+-----------+---------+--------+--------+----+-----+\n",
      "|2020-01-20|  16|    Incheon|        1|       0|       0|2020|    1|\n",
      "|2020-01-21|  16|    Incheon|        1|       0|       0|2020|    1|\n",
      "|2020-01-22|  16|    Incheon|        1|       0|       0|2020|    1|\n",
      "|2020-01-23|  16|    Incheon|        1|       0|       0|2020|    1|\n",
      "|2020-01-24|  16|    Incheon|        1|       0|       0|2020|    1|\n",
      "|2020-01-24|  16|Gyeonggi-do|        1|       0|       0|2020|    1|\n",
      "|2020-01-25|  16|    Incheon|        1|       0|       0|2020|    1|\n",
      "|2020-01-25|  16|Gyeonggi-do|        1|       0|       0|2020|    1|\n",
      "|2020-01-26|  16|    Incheon|        1|       0|       0|2020|    1|\n",
      "|2020-01-26|  16|Gyeonggi-do|        2|       0|       0|2020|    1|\n",
      "|2020-01-27|  16|      Seoul|        1|       0|       0|2020|    1|\n",
      "|2020-01-27|  16|    Incheon|        1|       0|       0|2020|    1|\n",
      "|2020-01-27|  16|Gyeonggi-do|        2|       0|       0|2020|    1|\n",
      "|2020-01-28|  16|      Seoul|        1|       0|       0|2020|    1|\n",
      "|2020-01-28|  16|    Incheon|        1|       0|       0|2020|    1|\n",
      "|2020-01-28|  16|Gyeonggi-do|        2|       0|       0|2020|    1|\n",
      "|2020-01-29|  16|      Seoul|        1|       0|       0|2020|    1|\n",
      "|2020-01-29|  16|    Incheon|        1|       0|       0|2020|    1|\n",
      "|2020-01-29|  16|Gyeonggi-do|        2|       0|       0|2020|    1|\n",
      "|2020-01-30|  16|      Seoul|        3|       0|       0|2020|    1|\n",
      "+----------+----+-----------+---------+--------+--------+----+-----+\n",
      "only showing top 20 rows\n",
      "\n"
     ]
    }
   ],
   "source": [
    "_confirmedGt0.show()"
   ]
  },
  {
   "cell_type": "markdown",
   "metadata": {},
   "source": [
    "#### 도별 일자별 정렬후 행번호 계산"
   ]
  },
  {
   "cell_type": "code",
   "execution_count": 17,
   "metadata": {
    "collapsed": false
   },
   "outputs": [],
   "source": [
    "from pyspark.sql.functions import row_number\n",
    "\n",
    "dateByProvince = Window().partitionBy(['province']).orderBy('date')\n",
    "_confirmedGt0ByProvince=_confirmedGt0.withColumn(\"row_number\", row_number().over(dateByProvince))"
   ]
  },
  {
   "cell_type": "markdown",
   "metadata": {},
   "source": [
    "#### 도별 행번호 1"
   ]
  },
  {
   "cell_type": "code",
   "execution_count": 18,
   "metadata": {
    "collapsed": false
   },
   "outputs": [
    {
     "name": "stdout",
     "output_type": "stream",
     "text": [
      "+----------+----+-----------------+---------+--------+--------+----+-----+----------+\n",
      "|      Date|time|         province|confirmed|released|deceased|year|month|row_number|\n",
      "+----------+----+-----------------+---------+--------+--------+----+-----+----------+\n",
      "|2020-02-22|  16|           Sejong|        1|       0|       0|2020|    2|         1|\n",
      "|2020-02-22|  16|            Ulsan|        1|       0|       0|2020|    2|         1|\n",
      "|2020-02-21|  16|Chungcheongbuk-do|        1|       0|       0|2020|    2|         1|\n",
      "|2020-02-22|  16|       Gangwon-do|        6|       0|       0|2020|    2|         1|\n",
      "|2020-02-04|  16|          Gwangju|        1|       0|       0|2020|    2|         1|\n",
      "|2020-02-19|  16| Gyeongsangbuk-do|        2|       1|       0|2020|    2|         1|\n",
      "|2020-02-18|  16|            Daegu|        1|       0|       0|2020|    2|         1|\n",
      "|2020-02-19|  16| Gyeongsangnam-do|        3|       0|       0|2020|    2|         1|\n",
      "|2020-01-20|  16|          Incheon|        1|       0|       0|2020|    1|         1|\n",
      "|2020-02-21|  16|          Jeju-do|        1|       0|       0|2020|    2|         1|\n",
      "|2020-01-24|  16|      Gyeonggi-do|        1|       0|       0|2020|    1|         1|\n",
      "|2020-02-20|  16|            Busan|        8|       0|       0|2020|    2|         1|\n",
      "|2020-02-22|  16|          Daejeon|        2|       0|       0|2020|    2|         1|\n",
      "|2020-01-27|  16|            Seoul|        1|       0|       0|2020|    1|         1|\n",
      "|2020-02-21|  16|Chungcheongnam-do|        1|       0|       0|2020|    2|         1|\n",
      "|2020-01-31|  16|     Jeollabuk-do|        1|       0|       0|2020|    1|         1|\n",
      "|2020-02-22|  16|     Jeollanam-do|        1|       0|       0|2020|    2|         1|\n",
      "+----------+----+-----------------+---------+--------+--------+----+-----+----------+\n",
      "\n"
     ]
    }
   ],
   "source": [
    "_confirmedGt0ByProvince.where(F.col(\"row_number\")==1).show()"
   ]
  },
  {
   "cell_type": "markdown",
   "metadata": {},
   "source": [
    "### 7) rolling 7-day sales sum/mean\n",
    "\n",
    "rowsBetween(-6,0)은 지난 7일간을 구간으로 설정\n",
    "예를 들어: \n",
    "* 3월 17일은 3.11 ~ 3.17까지의 평균 10 + 15 + 32 + 38 + 39 + 40 + 40 = 214 / 7 = 30.57\n",
    "* 3월 18일은 3.12 ~ 3.18까지의 평균 15 + 32 + 38 + 39 + 40 + 40 + 41 = 245 / 7 = 35.0"
   ]
  },
  {
   "cell_type": "code",
   "execution_count": 82,
   "metadata": {
    "collapsed": true
   },
   "outputs": [],
   "source": [
    "from pyspark.sql.window import Window\n",
    "\n",
    "dateByProvince = Window().partitionBy(['province']).orderBy('date').rowsBetween(-6,0)\n",
    "\n",
    "timeprovinceWithRoll = _covidProvinceDf.withColumn(\"roll_7_confirmed\",F.mean(\"confirmed\").over(dateByProvince))"
   ]
  },
  {
   "cell_type": "code",
   "execution_count": 83,
   "metadata": {
    "collapsed": false,
    "scrolled": true
   },
   "outputs": [
    {
     "name": "stdout",
     "output_type": "stream",
     "text": [
      "+----------+----+--------+---------+--------+--------+------------------+\n",
      "|      Date|time|province|confirmed|released|deceased|  roll_7_confirmed|\n",
      "+----------+----+--------+---------+--------+--------+------------------+\n",
      "|2020-03-11|   0|  Sejong|       10|       0|       0| 4.428571428571429|\n",
      "|2020-03-12|   0|  Sejong|       15|       0|       0| 6.428571428571429|\n",
      "|2020-03-13|   0|  Sejong|       32|       0|       0|10.857142857142858|\n",
      "+----------+----+--------+---------+--------+--------+------------------+\n",
      "only showing top 3 rows\n",
      "\n"
     ]
    }
   ],
   "source": [
    "timeprovinceWithRoll.filter(timeprovinceWithRoll.Date>'2020-03-10').show(3)"
   ]
  },
  {
   "cell_type": "code",
   "execution_count": 83,
   "metadata": {
    "collapsed": false,
    "scrolled": true
   },
   "outputs": [
    {
     "name": "stdout",
     "output_type": "stream",
     "text": [
      "+----------+----+--------+---------+--------+--------+------------------+\n",
      "|      Date|time|province|confirmed|released|deceased|  roll_7_confirmed|\n",
      "+----------+----+--------+---------+--------+--------+------------------+\n",
      "|2020-03-11|   0|  Sejong|       10|       0|       0| 4.428571428571429|\n",
      "|2020-03-12|   0|  Sejong|       15|       0|       0| 6.428571428571429|\n",
      "|2020-03-13|   0|  Sejong|       32|       0|       0|10.857142857142858|\n",
      "+----------+----+--------+---------+--------+--------+------------------+\n",
      "only showing top 3 rows\n",
      "\n"
     ]
    }
   ],
   "source": [
    "timeprovinceWithRoll.filter(timeprovinceWithRoll.Date>F.lit('2020-03-10').show(3)"
   ]
  },
  {
   "cell_type": "code",
   "execution_count": 76,
   "metadata": {
    "collapsed": false,
    "scrolled": true
   },
   "outputs": [
    {
     "ename": "AttributeError",
     "evalue": "'DataFrame' object has no attribute 'Date'",
     "output_type": "error",
     "traceback": [
      "\u001b[0;31m---------------------------------------------------------------------------\u001b[0m",
      "\u001b[0;31mAttributeError\u001b[0m                            Traceback (most recent call last)",
      "\u001b[0;32m<ipython-input-76-60872784acd4>\u001b[0m in \u001b[0;36m<module>\u001b[0;34m\u001b[0m\n\u001b[0;32m----> 1\u001b[0;31m \u001b[0mtimeprovinceWithRoll\u001b[0m\u001b[0;34m.\u001b[0m\u001b[0mfilter\u001b[0m\u001b[0;34m(\u001b[0m\u001b[0mtimeprovinceWithRoll\u001b[0m\u001b[0;34m.\u001b[0m\u001b[0mDate\u001b[0m\u001b[0;34m>\u001b[0m\u001b[0;34m'2020-03-10'\u001b[0m\u001b[0;34m)\u001b[0m\u001b[0;34m.\u001b[0m\u001b[0mshow\u001b[0m\u001b[0;34m(\u001b[0m\u001b[0;36m3\u001b[0m\u001b[0;34m)\u001b[0m\u001b[0;34m\u001b[0m\u001b[0;34m\u001b[0m\u001b[0m\n\u001b[0m",
      "\u001b[0;32m~/.local/lib/python3.6/site-packages/pyspark/sql/dataframe.py\u001b[0m in \u001b[0;36m__getattr__\u001b[0;34m(self, name)\u001b[0m\n\u001b[1;32m   1399\u001b[0m         \u001b[0;32mif\u001b[0m \u001b[0mname\u001b[0m \u001b[0;32mnot\u001b[0m \u001b[0;32min\u001b[0m \u001b[0mself\u001b[0m\u001b[0;34m.\u001b[0m\u001b[0mcolumns\u001b[0m\u001b[0;34m:\u001b[0m\u001b[0;34m\u001b[0m\u001b[0;34m\u001b[0m\u001b[0m\n\u001b[1;32m   1400\u001b[0m             raise AttributeError(\n\u001b[0;32m-> 1401\u001b[0;31m                 \"'%s' object has no attribute '%s'\" % (self.__class__.__name__, name))\n\u001b[0m\u001b[1;32m   1402\u001b[0m         \u001b[0mjc\u001b[0m \u001b[0;34m=\u001b[0m \u001b[0mself\u001b[0m\u001b[0;34m.\u001b[0m\u001b[0m_jdf\u001b[0m\u001b[0;34m.\u001b[0m\u001b[0mapply\u001b[0m\u001b[0;34m(\u001b[0m\u001b[0mname\u001b[0m\u001b[0;34m)\u001b[0m\u001b[0;34m\u001b[0m\u001b[0;34m\u001b[0m\u001b[0m\n\u001b[1;32m   1403\u001b[0m         \u001b[0;32mreturn\u001b[0m \u001b[0mColumn\u001b[0m\u001b[0;34m(\u001b[0m\u001b[0mjc\u001b[0m\u001b[0;34m)\u001b[0m\u001b[0;34m\u001b[0m\u001b[0;34m\u001b[0m\u001b[0m\n",
      "\u001b[0;31mAttributeError\u001b[0m: 'DataFrame' object has no attribute 'Date'"
     ]
    }
   ],
   "source": [
    "timeprovinceWithRoll.filter(timeprovinceWithRoll.Date>'2020-03-10').show(3)"
   ]
  },
  {
   "cell_type": "markdown",
   "metadata": {
    "collapsed": true
   },
   "source": [
    "### 8) 도별 누적 확진자 (마지막 일 6월 30일 기준, 모든 도 출력))\n",
    "\n",
    "질문: confirmed가 의미하는게 그날 확진된 인원이라면 너무 많은거같기도 하고, 그렇다고 누적인원도아니고... 뭔지 잘 모르겠어서요\n",
    "답: 지금 확인해보니, 타당해 보입니다. 지금은 일단 confirmed를 그 날 확진으로 간주하고 문제를 푸세요.\n"
   ]
  },
  {
   "cell_type": "code",
   "execution_count": 19,
   "metadata": {
    "collapsed": false
   },
   "outputs": [],
   "source": [
    "from pyspark.sql.window import Window\n",
    "\n",
    "dateByProvince = Window().partitionBy(['province']).orderBy('date').rowsBetween(Window.unboundedPreceding,Window.currentRow)\n",
    "\n",
    "timeprovinceWithRoll = _covidProvinceDf.withColumn(\"cumulative_confirmed\",F.sum(\"confirmed\").over(dateByProvince))"
   ]
  },
  {
   "cell_type": "code",
   "execution_count": 24,
   "metadata": {
    "collapsed": false
   },
   "outputs": [
    {
     "name": "stdout",
     "output_type": "stream",
     "text": [
      "+----------+----+-----------------+---------+--------+--------+----+-----+--------------------+\n",
      "|      Date|time|         province|confirmed|released|deceased|year|month|cumulative_confirmed|\n",
      "+----------+----+-----------------+---------+--------+--------+----+-----+--------------------+\n",
      "|2020-06-30|   0|           Sejong|       50|      47|       0|2020|    6|                5111|\n",
      "|2020-06-30|   0|            Ulsan|       55|      50|       1|2020|    6|                5269|\n",
      "|2020-06-30|   0|Chungcheongbuk-do|       65|      60|       0|2020|    6|                5801|\n",
      "|2020-06-30|   0|       Gangwon-do|       65|      54|       3|2020|    6|                5908|\n",
      "|2020-06-30|   0|          Gwangju|       44|      32|       0|2020|    6|                3359|\n",
      "|2020-06-30|   0| Gyeongsangbuk-do|     1389|    1328|      54|2020|    6|              161079|\n",
      "|2020-06-30|   0|            Daegu|     6906|    6700|     189|2020|    6|              807506|\n",
      "|2020-06-30|   0| Gyeongsangnam-do|      134|     128|       0|2020|    6|               13860|\n",
      "|2020-06-30|   0|          Incheon|      341|     290|       1|2020|    6|               16645|\n",
      "|2020-06-30|   0|          Jeju-do|       19|      16|       0|2020|    6|                1449|\n",
      "|2020-06-30|   0|      Gyeonggi-do|     1207|     931|      23|2020|    6|               81059|\n",
      "|2020-06-30|   0|            Busan|      154|     142|       3|2020|    6|               16341|\n",
      "|2020-06-30|   0|          Daejeon|      117|      44|       1|2020|    6|                5217|\n",
      "|2020-06-30|   0|            Seoul|     1312|     985|       7|2020|    6|               81923|\n",
      "|2020-06-30|   0|Chungcheongnam-do|      167|     150|       0|2020|    6|               16780|\n",
      "|2020-06-30|   0|     Jeollabuk-do|       27|      21|       0|2020|    6|                2108|\n",
      "|2020-06-30|   0|     Jeollanam-do|       24|      19|       0|2020|    6|                1763|\n",
      "+----------+----+-----------------+---------+--------+--------+----+-----+--------------------+\n",
      "\n"
     ]
    }
   ],
   "source": [
    "timeprovinceWithRoll.filter(timeprovinceWithRoll.Date=='2020-06-30').show(100)"
   ]
  },
  {
   "cell_type": "markdown",
   "metadata": {
    "slideshow": {
     "slide_type": "slide"
    }
   },
   "source": [
    "## 문제 S-2:  Spark로 균등분포, 정규분포의 기본 통계 값을 계산.\n",
    "\n",
    "### 문제\n",
    "\n",
    "* 1-1 : 컬럼 4개의 DataFrame을 생성한다.\n",
    "    * id: 일련번호\n",
    "    * uniform: 균등분포 무작위 수\n",
    "    * norm: 정규분포 무작위 수\n",
    "    * zscore: 정규분포의 zscore\n",
    "\n",
    "* 1-2: 기본통계 값을 계산해 보자.\n",
    "* 1-3: 정규분포의 kurtosis, skewness를 계산\n",
    "* zscore, outlier????\n",
    "\n",
    "### 해결\n",
    "\n",
    "* id컬럼은 range() 함수에서 일련의 수를 생성한다.\n",
    "* 균등분포 무작위 수는 rand(), 정규분포는 randn() 함수를 사용하여 추출한다.\n",
    "* zscore는 계산식을 이용한다."
   ]
  },
  {
   "cell_type": "code",
   "execution_count": null,
   "metadata": {
    "collapsed": true
   },
   "outputs": [],
   "source": []
  },
  {
   "cell_type": "markdown",
   "metadata": {
    "slideshow": {
     "slide_type": "subslide"
    }
   },
   "source": [
    "### DataFrame 생성\n",
    "\n",
    "createDataFrame() 함수는 RDD, 리스트, pandas DataFrame 또는 파일에서 생성할 수 있다.\n",
    "DataFrame을 만들려면, 리스트 또는 \n",
    "\n",
    "1. python으로 uniform 리스트 생성\n",
    "2. createDataFrame\n",
    "3. spark로 정규분포 생성\n",
    "\n",
    "\n",
    "#### id 컬럼 생성\n",
    "\n",
    "첫 컬럼은 'id', SparkSession.range()를 사용한다."
   ]
  },
  {
   "cell_type": "code",
   "execution_count": 1,
   "metadata": {
    "collapsed": true
   },
   "outputs": [],
   "source": [
    "import os\n",
    "os.environ[\"PYSPARK_PYTHON\"]=\"/usr/bin/python3\"\n",
    "os.environ[\"PYSPARK_DRIVER_PYTHON\"]=\"/usr/bin/python3\"\n",
    "\n",
    "import pyspark\n",
    "\n",
    "myConf=pyspark.SparkConf()\n",
    "spark = pyspark.sql.SparkSession.builder\\\n",
    "    .master(\"local\")\\\n",
    "    .appName(\"myApp\")\\\n",
    "    .config(conf=myConf)\\\n",
    "    .getOrCreate()"
   ]
  },
  {
   "cell_type": "code",
   "execution_count": 88,
   "metadata": {
    "collapsed": false
   },
   "outputs": [],
   "source": [
    "_df = spark.range(0, 30)"
   ]
  },
  {
   "cell_type": "code",
   "execution_count": 89,
   "metadata": {
    "collapsed": false,
    "scrolled": true
   },
   "outputs": [
    {
     "name": "stdout",
     "output_type": "stream",
     "text": [
      "+---+\n",
      "| id|\n",
      "+---+\n",
      "|  0|\n",
      "|  1|\n",
      "|  2|\n",
      "|  3|\n",
      "|  4|\n",
      "+---+\n",
      "only showing top 5 rows\n",
      "\n"
     ]
    }
   ],
   "source": [
    "_df.show(5)"
   ]
  },
  {
   "cell_type": "markdown",
   "metadata": {},
   "source": [
    "#### 균등, 정규분포 컬럼 생성\n",
    "\n",
    "**```pyspark.sql.functions```**를 사용하여 무작위 수의 컬럼을 생성해 보자.\n",
    "* rand(): 0,1 사이의 균등분포를 생성한다. seed를 넣어서 생성할 수 있다.\n",
    "* randn(): 정규분포를 생성한다. seed를 넣어서 생성할 수 있다."
   ]
  },
  {
   "cell_type": "code",
   "execution_count": 91,
   "metadata": {
    "collapsed": true
   },
   "outputs": [],
   "source": [
    "from pyspark.sql.functions import rand, randn\n",
    "\n",
    "colUniform = rand(seed=10).alias(\"uniform\")\n",
    "colNormal = randn(seed=27).alias(\"normal\")"
   ]
  },
  {
   "cell_type": "markdown",
   "metadata": {},
   "source": [
    "#### 묶어서 데이터프레임 생성"
   ]
  },
  {
   "cell_type": "code",
   "execution_count": 92,
   "metadata": {
    "collapsed": false
   },
   "outputs": [],
   "source": [
    "_df = _df.select(\"id\", colUniform, colNormal)"
   ]
  },
  {
   "cell_type": "markdown",
   "metadata": {
    "collapsed": true
   },
   "source": [
    "### zscore"
   ]
  },
  {
   "cell_type": "code",
   "execution_count": null,
   "metadata": {
    "collapsed": true
   },
   "outputs": [],
   "source": [
    "from pyspark.sql.window import Window\n",
    "import sys\n",
    "\n",
    "byAll = Window.rowsBetween(-sys.maxsize, sys.maxsize)"
   ]
  },
  {
   "cell_type": "code",
   "execution_count": null,
   "metadata": {
    "collapsed": true
   },
   "outputs": [],
   "source": [
    "from pyspark.sql import functions as F\n",
    "\n",
    "_df = _df.withColumn(\"meanN\", F.avg(_df['normal']).over(byAll))\n",
    "_df = _df.withColumn(\"stddevN\", F.stddev(_df['normal']).over(byAll))\n",
    "_df = _df.withColumn(\"zscoreN\", (F.col('normal')-F.col('meanN'))/F.col('stddevN'))"
   ]
  },
  {
   "cell_type": "markdown",
   "metadata": {},
   "source": [
    "왜 zscoreN과 normal??? 차이가 나지\n",
    "정규분포의 평균, 표준편차가 정확하게 0, 1이 아니다.\n",
    "계산을 해보면 정규분포 평균은 -0.053, 표준편차는 1.064\n",
    "반면에 zscore의 평균은 1.850, 표준편차는 1.0"
   ]
  },
  {
   "cell_type": "code",
   "execution_count": 94,
   "metadata": {
    "collapsed": false
   },
   "outputs": [
    {
     "name": "stdout",
     "output_type": "stream",
     "text": [
      "+---+------------------+-------------------+-------------------+------------------+-------------------+\n",
      "| id|           uniform|             normal|              meanN|           stddevN|            zscoreN|\n",
      "+---+------------------+-------------------+-------------------+------------------+-------------------+\n",
      "|  0|0.1709497137955568|-0.8664700627108758|-0.0526632301286973|1.0637064308067905|-0.7650671360188446|\n",
      "|  1|0.8051143958005459|-0.5970491018333267|-0.0526632301286973|1.0637064308067905|-0.5117820631127786|\n",
      "|  2|0.5775925576589018|0.18267161219540898|-0.0526632301286973|1.0637064308067905| 0.2212404057251131|\n",
      "+---+------------------+-------------------+-------------------+------------------+-------------------+\n",
      "only showing top 3 rows\n",
      "\n"
     ]
    }
   ],
   "source": [
    "_df.show(3)"
   ]
  },
  {
   "cell_type": "markdown",
   "metadata": {},
   "source": [
    "모든 행을 완전하게 출력하려면, 모든 행을 의미하는 df.count() 함수와 truncate=False로 입력하여 출력 show() 한다."
   ]
  },
  {
   "cell_type": "code",
   "execution_count": 96,
   "metadata": {
    "collapsed": false
   },
   "outputs": [
    {
     "name": "stdout",
     "output_type": "stream",
     "text": [
      "+---+--------------------+--------------------+-------------------+------------------+--------------------+\n",
      "|id |uniform             |normal              |meanN              |stddevN           |zscoreN             |\n",
      "+---+--------------------+--------------------+-------------------+------------------+--------------------+\n",
      "|0  |0.1709497137955568  |-0.8664700627108758 |-0.0526632301286973|1.0637064308067905|-0.7650671360188446 |\n",
      "|1  |0.8051143958005459  |-0.5970491018333267 |-0.0526632301286973|1.0637064308067905|-0.5117820631127786 |\n",
      "|2  |0.5775925576589018  |0.18267161219540898 |-0.0526632301286973|1.0637064308067905|0.2212404057251131  |\n",
      "|3  |0.9476047869880925  |-1.8497305679917546 |-0.0526632301286973|1.0637064308067905|-1.689439196583623  |\n",
      "|4  |0.2093704977577     |0.9410417279045351  |-0.0526632301286973|1.0637064308067905|0.9341909847057482  |\n",
      "|5  |0.36664222617947817 |-0.6516475674670159 |-0.0526632301286973|1.0637064308067905|-0.5631105726079011 |\n",
      "|6  |0.8078688178371882  |0.5901002135239671  |-0.0526632301286973|1.0637064308067905|0.6042677049203764  |\n",
      "|7  |0.7135143433452461  |-1.850241871360443  |-0.0526632301286973|1.0637064308067905|-1.6899198774875641 |\n",
      "|8  |0.7195325566306053  |0.09176896733073023 |-0.0526632301286973|1.0637064308067905|0.13578201022050784 |\n",
      "|9  |0.31335292311175456 |-0.38605118617831075|-0.0526632301286973|1.0637064308067905|-0.3134210214342207 |\n",
      "|10 |0.8062503712025726  |1.2134544166783332  |-0.0526632301286973|1.0637064308067905|1.1902886079636812  |\n",
      "|11 |0.10814914646176654 |-1.0757702531630617 |-0.0526632301286973|1.0637064308067905|-0.9618321309370739 |\n",
      "|12 |0.3362232980701172  |0.04961226872064977 |-0.0526632301286973|1.0637064308067905|0.0961501180093215  |\n",
      "|13 |0.8133304803837667  |-0.768259602441542  |-0.0526632301286973|1.0637064308067905|-0.6727385974061335 |\n",
      "|14 |0.47649428738170896 |0.2911293146907403  |-0.0526632301286973|1.0637064308067905|0.3232024690860249  |\n",
      "|15 |0.524728096293865   |-0.33406080411047484|-0.0526632301286973|1.0637064308067905|-0.26454439479917935|\n",
      "|16 |0.9701253460019921  |1.3607097640771781  |-0.0526632301286973|1.0637064308067905|1.3287246868798877  |\n",
      "|17 |0.6232167713919952  |0.5986772981082732  |-0.0526632301286973|1.0637064308067905|0.6123310994208689  |\n",
      "|18 |0.5089687568245219  |-0.35158579838711623|-0.0526632301286973|1.0637064308067905|-0.28101979982549774|\n",
      "|19 |0.5467504094508642  |-0.9115825072509143 |-0.0526632301286973|1.0637064308067905|-0.8074777516111767 |\n",
      "|20 |0.014097110603182639|1.558213413667304   |-0.0526632301286973|1.0637064308067905|1.514399647442385   |\n",
      "|21 |0.6286498635045461  |-1.0299607022872668 |-0.0526632301286973|1.0637064308067905|-0.9187661593973044 |\n",
      "|22 |0.022170719725254195|0.43954961741380894 |-0.0526632301286973|1.0637064308067905|0.4627337329992233  |\n",
      "|23 |0.7313372847411099  |-0.1832195916296826 |-0.0526632301286973|1.0637064308067905|-0.12273721180942948|\n",
      "|24 |0.6822647942285944  |1.1860845610765989  |-0.0526632301286973|1.0637064308067905|1.1645579600997071  |\n",
      "|25 |0.09865667253909105 |0.9813212659882351  |-0.0526632301286973|1.0637064308067905|0.9720581413921557  |\n",
      "|26 |0.06622344831941485 |1.3553814476175938  |-0.0526632301286973|1.0637064308067905|1.3237154885660793  |\n",
      "|27 |0.5076232741953021  |-2.152050408741013  |-0.0526632301286973|1.0637064308067905|-1.973652802888473  |\n",
      "|28 |0.19412650105821194 |1.669616371300714   |-0.0526632301286973|1.0637064308067905|1.619130571696471   |\n",
      "|29 |0.7196252950914184  |-1.0815491386021914 |-0.0526632301286973|1.0637064308067905|-0.9672649132083501 |\n",
      "+---+--------------------+--------------------+-------------------+------------------+--------------------+\n",
      "\n"
     ]
    }
   ],
   "source": [
    "_df.show(_df.count(), False)"
   ]
  },
  {
   "cell_type": "markdown",
   "metadata": {},
   "source": [
    "### 기본 통계\n",
    "\n",
    "주사위는 이산균등분포의 가장 대표적인 예이다. 각 숫자가 나올 확률은 1/6이다.\n",
    "정규분포는 평균 0을 중심으로 빈도가 몰려있어 표준편차만큼 퍼진 특징을 가진다.\n",
    "각 컬럼별로 통계 값을 계산할 수 있다."
   ]
  },
  {
   "cell_type": "code",
   "execution_count": 98,
   "metadata": {
    "collapsed": false
   },
   "outputs": [
    {
     "name": "stdout",
     "output_type": "stream",
     "text": [
      "+-------+-----------------+--------------------+-------------------+--------------------+\n",
      "|summary|               id|             uniform|             normal|             zscoreN|\n",
      "+-------+-----------------+--------------------+-------------------+--------------------+\n",
      "|  count|               30|                  30|                 30|                  30|\n",
      "|   mean|             14.5|  0.5003518248858122|-0.0526632301286973|1.850371707708594...|\n",
      "| stddev|8.803408430829505|  0.2879269232019638| 1.0637064308067905|                 1.0|\n",
      "|    min|                0|0.014097110603182639| -2.152050408741013|  -1.973652802888473|\n",
      "|    max|               29|  0.9701253460019921|  1.669616371300714|   1.619130571696471|\n",
      "+-------+-----------------+--------------------+-------------------+--------------------+\n",
      "\n"
     ]
    }
   ],
   "source": [
    "_df.drop(\"meanN\").drop(\"stddevN\").describe().show()"
   ]
  },
  {
   "cell_type": "markdown",
   "metadata": {},
   "source": [
    "## S.10 추론\n",
    "\n",
    "지금까지 평균, 표준편차, zscore, cdf와 같은 통계량을 계산하고, 그 의미를 설명하였다.\n",
    "통계추론은 이러한 통계량을 통해 1) 모집단의 특성을 추측하거나, 2) 가설을 검증하는 것을 말한다.\n",
    "\n",
    "### S.10.1 Kolmogorov-Smirnov 검증\n",
    "\n",
    "KS는 데이터가 두 샘플이 동일한 분포를 가진 모집단에서 추출되었는지 검증하는 **비모수 추정**이다.\n",
    "비모수 추정이란 모수로 어떤 확률분포, 보통은 **정규분포를 따른다는 전제로 통계적 추정을 하지 않는다**는 의미이다. 그런 의미에서 비모수 추정 혹은 분포무관 추정이라고 한다.\n",
    "\n",
    "x1, x2, ..., xn 데이터가 있다고 하고, 이 데이터가 어떤 분포에서 추출되었는지 추정한다.\n",
    "* 귀무 가설: 샘플이 특정분포에서 추출되었다. (샘플 간 차이가 없다)\n",
    "* 대안 가설: 샘플이 특정분포에서 추출되지 않았다."
   ]
  },
  {
   "cell_type": "code",
   "execution_count": 79,
   "metadata": {
    "collapsed": true
   },
   "outputs": [],
   "source": [
    "import os\n",
    "os.environ[\"PYSPARK_PYTHON\"]=\"/usr/bin/python3\"\n",
    "os.environ[\"PYSPARK_DRIVER_PYTHON\"]=\"/usr/bin/python3\""
   ]
  },
  {
   "cell_type": "code",
   "execution_count": 80,
   "metadata": {
    "collapsed": true
   },
   "outputs": [],
   "source": [
    "import pyspark\n",
    "\n",
    "myConf=pyspark.SparkConf()\n",
    "spark = pyspark.sql.SparkSession.builder\\\n",
    "    .master(\"local\")\\\n",
    "    .appName(\"myApp\")\\\n",
    "    .config(conf=myConf)\\\n",
    "    .getOrCreate()"
   ]
  },
  {
   "cell_type": "markdown",
   "metadata": {},
   "source": [
    "먼저 표본 데이터에서 RDD를 생성하자."
   ]
  },
  {
   "cell_type": "code",
   "execution_count": 107,
   "metadata": {
    "collapsed": true
   },
   "outputs": [],
   "source": [
    "xRdd = spark.sparkContext.parallelize([1.0, 2.0, 5.0, 4.0, 3.0, 3.3, 5.5])"
   ]
  },
  {
   "cell_type": "markdown",
   "metadata": {},
   "source": [
    "kolmogorovSmirnovTest는 mllib 모듈을 사용한다.\n",
    "검증하려는 분포의 문자열를 입력한다. 현재는 정규분포 \"norm\"만을 지원한다."
   ]
  },
  {
   "cell_type": "code",
   "execution_count": 108,
   "metadata": {
    "collapsed": true
   },
   "outputs": [],
   "source": [
    "from pyspark.mllib.stat import Statistics\n",
    "\n",
    "testResult = Statistics.kolmogorovSmirnovTest(xRdd, \"norm\")"
   ]
  },
  {
   "cell_type": "markdown",
   "metadata": {},
   "source": [
    "귀무가설은 특정분포를 따른다고 설정되어 있고, p-value가 적으면 이를 기각하게 된다.\n",
    "따라서 p < 0.05라면, 정규분포를 따른다는 귀무가설을 기각하게 된다. 아래 메시지 \n",
    "\"Very strong presumption against null hypothesis\"가 출력되고 있다.\n",
    "즉 표본은 정규분포를 따르지 않는다.\n"
   ]
  },
  {
   "cell_type": "code",
   "execution_count": 109,
   "metadata": {
    "collapsed": false
   },
   "outputs": [
    {
     "name": "stdout",
     "output_type": "stream",
     "text": [
      "Kolmogorov-Smirnov test summary:\n",
      "degrees of freedom = 0 \n",
      "statistic = 0.841344746068543 \n",
      "pValue = 5.06089025353873E-6 \n",
      "Very strong presumption against null hypothesis: Sample follows theoretical distribution.\n"
     ]
    }
   ],
   "source": [
    "print(testResult)"
   ]
  },
  {
   "cell_type": "markdown",
   "metadata": {},
   "source": [
    "### scipy Kolmogorov-Smirnov\n",
    "\n",
    "pValue가 높으면, 집단간 차이가 없다는 귀무가설을 기각할 수 없다. 즉, 두 집단의 평균에 차이가 없다."
   ]
  },
  {
   "cell_type": "code",
   "execution_count": 96,
   "metadata": {
    "collapsed": false
   },
   "outputs": [
    {
     "data": {
      "text/plain": [
       "KstestResult(statistic=0.8413447460685429, pvalue=5.060890253444183e-06)"
      ]
     },
     "execution_count": 96,
     "metadata": {},
     "output_type": "execute_result"
    }
   ],
   "source": [
    "from scipy.stats import kstest\n",
    "\n",
    "kstest([1.0, 2.0, 5.0, 4.0, 3.0, 3.3, 5.5], 'norm')"
   ]
  },
  {
   "cell_type": "markdown",
   "metadata": {},
   "source": [
    "p<0.005이므로 귀무가설을 기각, 즉 두 집단간에 차이가 있다."
   ]
  },
  {
   "cell_type": "code",
   "execution_count": 94,
   "metadata": {
    "collapsed": false
   },
   "outputs": [
    {
     "data": {
      "text/plain": [
       "KstestResult(statistic=1.0, pvalue=0.0005827505827505828)"
      ]
     },
     "execution_count": 94,
     "metadata": {},
     "output_type": "execute_result"
    }
   ],
   "source": [
    "kstest([1.0, 2.0, 5.0, 4.0, 3.0, 3.3, 5.5], [11.0, 12.0, 15.0, 14.0, 13.0, 13.3, 15.5])"
   ]
  },
  {
   "cell_type": "markdown",
   "metadata": {},
   "source": [
    "두 집단의 측정값에 0.1씩 차이를 두어 보자\n",
    "p값이 유의수준보다 매우 크게 계산된다.\n",
    "이는 두 집단의 평균에는 차이가 없다는 의미이다."
   ]
  },
  {
   "cell_type": "code",
   "execution_count": 95,
   "metadata": {
    "collapsed": false
   },
   "outputs": [
    {
     "data": {
      "text/plain": [
       "KstestResult(statistic=0.14285714285714285, pvalue=0.9999609537692629)"
      ]
     },
     "execution_count": 95,
     "metadata": {},
     "output_type": "execute_result"
    }
   ],
   "source": [
    "kstest([1.0, 2.0, 5.0, 4.0, 3.0, 3.3, 5.5], [1.1, 2.1, 5.1, 4.1, 3.1, 3.4, 5.6])"
   ]
  },
  {
   "cell_type": "markdown",
   "metadata": {},
   "source": [
    "### S.10.2 ANOVA\n",
    "\n",
    "ANOVA one-way analysis of variance는 2개 이상의 독립된 그룹 간의 평균에 통계적으로 유의미한 차이가 있는지 판단하는 기법이다.\n",
    "ANOVA는 SPSS, SAS, R 등에서는 지원되고 있지만, Spark에는 ANOVA 모듈이 없다. Python에서는 statsmodel을 사용하면 된다."
   ]
  },
  {
   "cell_type": "markdown",
   "metadata": {},
   "source": [
    "#### 데이터\n",
    "\n",
    "statsmodels에서 Moore 데이터를 가져오자.\n",
    "Moore는 파트너의 신분이 높거나, 낮은 경우 그 결정에 얼마나 따르는지 보는 사회심리실험 데이터이다.\n",
    "* partner.status 파트너의 신분 high, low\n",
    "* conformity conforming하는 회수 (전체 40회)\n",
    "* fcategory: F-Scale 구분 high, low, medium.\n",
    "* fscore: Authoritarianism 권위주의 점수"
   ]
  },
  {
   "cell_type": "code",
   "execution_count": 81,
   "metadata": {
    "collapsed": true
   },
   "outputs": [],
   "source": [
    "import statsmodels.api as sm\n",
    "\n",
    "moore=sm.datasets.get_rdataset(\"Moore\",\"carData\")"
   ]
  },
  {
   "cell_type": "code",
   "execution_count": 82,
   "metadata": {
    "collapsed": false,
    "scrolled": false
   },
   "outputs": [
    {
     "data": {
      "text/html": [
       "<div>\n",
       "<style scoped>\n",
       "    .dataframe tbody tr th:only-of-type {\n",
       "        vertical-align: middle;\n",
       "    }\n",
       "\n",
       "    .dataframe tbody tr th {\n",
       "        vertical-align: top;\n",
       "    }\n",
       "\n",
       "    .dataframe thead th {\n",
       "        text-align: right;\n",
       "    }\n",
       "</style>\n",
       "<table border=\"1\" class=\"dataframe\">\n",
       "  <thead>\n",
       "    <tr style=\"text-align: right;\">\n",
       "      <th></th>\n",
       "      <th>partner.status</th>\n",
       "      <th>conformity</th>\n",
       "      <th>fcategory</th>\n",
       "      <th>fscore</th>\n",
       "    </tr>\n",
       "  </thead>\n",
       "  <tbody>\n",
       "    <tr>\n",
       "      <th>0</th>\n",
       "      <td>low</td>\n",
       "      <td>8</td>\n",
       "      <td>low</td>\n",
       "      <td>37</td>\n",
       "    </tr>\n",
       "    <tr>\n",
       "      <th>1</th>\n",
       "      <td>low</td>\n",
       "      <td>4</td>\n",
       "      <td>high</td>\n",
       "      <td>57</td>\n",
       "    </tr>\n",
       "    <tr>\n",
       "      <th>2</th>\n",
       "      <td>low</td>\n",
       "      <td>8</td>\n",
       "      <td>high</td>\n",
       "      <td>65</td>\n",
       "    </tr>\n",
       "    <tr>\n",
       "      <th>3</th>\n",
       "      <td>low</td>\n",
       "      <td>7</td>\n",
       "      <td>low</td>\n",
       "      <td>20</td>\n",
       "    </tr>\n",
       "    <tr>\n",
       "      <th>4</th>\n",
       "      <td>low</td>\n",
       "      <td>10</td>\n",
       "      <td>low</td>\n",
       "      <td>36</td>\n",
       "    </tr>\n",
       "  </tbody>\n",
       "</table>\n",
       "</div>"
      ],
      "text/plain": [
       "  partner.status  conformity fcategory  fscore\n",
       "0            low           8       low      37\n",
       "1            low           4      high      57\n",
       "2            low           8      high      65\n",
       "3            low           7       low      20\n",
       "4            low          10       low      36"
      ]
     },
     "execution_count": 82,
     "metadata": {},
     "output_type": "execute_result"
    }
   ],
   "source": [
    "moore.data.head()"
   ]
  },
  {
   "cell_type": "markdown",
   "metadata": {},
   "source": [
    "컬럼명에 점이 포함되어서 문제가 될 수 있으므로, 제거해서 재명명해준다."
   ]
  },
  {
   "cell_type": "code",
   "execution_count": 16,
   "metadata": {
    "collapsed": false
   },
   "outputs": [
    {
     "data": {
      "text/plain": [
       "Index(['status', 'conformity', 'fcategory', 'fscore'], dtype='object')"
      ]
     },
     "execution_count": 16,
     "metadata": {},
     "output_type": "execute_result"
    }
   ],
   "source": [
    "moore.data.columns=['status','conformity', 'fcategory', 'fscore']\n",
    "moore.data.columns"
   ]
  },
  {
   "cell_type": "markdown",
   "metadata": {},
   "source": [
    "#### R 스타일 모델링\n",
    "\n",
    "**R 스타일**에 따라 종속변수 fscore, 독립변수 status, fcategory로 모델링한다.\n",
    "이때 **명목변수는 C() 연산자**를 사용한다."
   ]
  },
  {
   "cell_type": "code",
   "execution_count": 20,
   "metadata": {
    "collapsed": true
   },
   "outputs": [],
   "source": [
    "from statsmodels.formula.api import ols\n",
    "\n",
    "formula='fscore~C(status)*C(fcategory)'\n",
    "model=ols(formula, data=moore.data).fit()"
   ]
  },
  {
   "cell_type": "markdown",
   "metadata": {},
   "source": [
    "#### ANOVA 적용\n",
    "\n",
    "선형모델 ANOVA를 적용해 보자.\n",
    "아래에서 fcategory의 PR이 0.05보다 적다. 즉 **fcategory high, low, medium의 그룹 간 유의미하게 평균의 차이**가 있다는 의미이다.\n",
    "\n",
    "아래 표에서 과학적 표기를 이해해 보자. E+01은 소수점을 오른쪽으로 1칸 이동, E+00는 현재 그대로, E–01은 왼쪽으로 1칸 이동해서 읽으면 된다.\n",
    "6.330623e-01은 0.6330623을 의미한다."
   ]
  },
  {
   "cell_type": "code",
   "execution_count": 22,
   "metadata": {
    "collapsed": false,
    "scrolled": true
   },
   "outputs": [],
   "source": [
    "from statsmodels.stats.anova import anova_lm\n",
    "\n",
    "result = anova_lm(model)"
   ]
  },
  {
   "cell_type": "code",
   "execution_count": 24,
   "metadata": {
    "collapsed": false
   },
   "outputs": [
    {
     "data": {
      "text/html": [
       "<div>\n",
       "<style scoped>\n",
       "    .dataframe tbody tr th:only-of-type {\n",
       "        vertical-align: middle;\n",
       "    }\n",
       "\n",
       "    .dataframe tbody tr th {\n",
       "        vertical-align: top;\n",
       "    }\n",
       "\n",
       "    .dataframe thead th {\n",
       "        text-align: right;\n",
       "    }\n",
       "</style>\n",
       "<table border=\"1\" class=\"dataframe\">\n",
       "  <thead>\n",
       "    <tr style=\"text-align: right;\">\n",
       "      <th></th>\n",
       "      <th>df</th>\n",
       "      <th>sum_sq</th>\n",
       "      <th>mean_sq</th>\n",
       "      <th>F</th>\n",
       "      <th>PR(&gt;F)</th>\n",
       "    </tr>\n",
       "  </thead>\n",
       "  <tbody>\n",
       "    <tr>\n",
       "      <th>C(status)</th>\n",
       "      <td>1.0</td>\n",
       "      <td>7.932587</td>\n",
       "      <td>7.932587</td>\n",
       "      <td>0.231555</td>\n",
       "      <td>6.330623e-01</td>\n",
       "    </tr>\n",
       "    <tr>\n",
       "      <th>C(fcategory)</th>\n",
       "      <td>2.0</td>\n",
       "      <td>7561.365635</td>\n",
       "      <td>3780.682818</td>\n",
       "      <td>110.359336</td>\n",
       "      <td>8.768957e-17</td>\n",
       "    </tr>\n",
       "    <tr>\n",
       "      <th>C(status):C(fcategory)</th>\n",
       "      <td>2.0</td>\n",
       "      <td>29.086807</td>\n",
       "      <td>14.543403</td>\n",
       "      <td>0.424527</td>\n",
       "      <td>6.570656e-01</td>\n",
       "    </tr>\n",
       "    <tr>\n",
       "      <th>Residual</th>\n",
       "      <td>39.0</td>\n",
       "      <td>1336.059416</td>\n",
       "      <td>34.257934</td>\n",
       "      <td>NaN</td>\n",
       "      <td>NaN</td>\n",
       "    </tr>\n",
       "  </tbody>\n",
       "</table>\n",
       "</div>"
      ],
      "text/plain": [
       "                          df       sum_sq      mean_sq           F  \\\n",
       "C(status)                1.0     7.932587     7.932587    0.231555   \n",
       "C(fcategory)             2.0  7561.365635  3780.682818  110.359336   \n",
       "C(status):C(fcategory)   2.0    29.086807    14.543403    0.424527   \n",
       "Residual                39.0  1336.059416    34.257934         NaN   \n",
       "\n",
       "                              PR(>F)  \n",
       "C(status)               6.330623e-01  \n",
       "C(fcategory)            8.768957e-17  \n",
       "C(status):C(fcategory)  6.570656e-01  \n",
       "Residual                         NaN  "
      ]
     },
     "execution_count": 24,
     "metadata": {},
     "output_type": "execute_result"
    }
   ],
   "source": [
    "result"
   ]
  },
  {
   "cell_type": "markdown",
   "metadata": {},
   "source": [
    "#### 평균\n",
    "\n",
    "statsmodels에서 읽은 데이터는 moore.data하면 pandas의 DataFrame이다. 따라서 groupby() 명령어로 평균을 쉽게 구할 수 있다."
   ]
  },
  {
   "cell_type": "code",
   "execution_count": 87,
   "metadata": {
    "collapsed": true
   },
   "outputs": [],
   "source": [
    "moorePd = moore.data"
   ]
  },
  {
   "cell_type": "markdown",
   "metadata": {},
   "source": [
    "fcategory를 그룹별로 모든 변수의 평균을 계산해 보자."
   ]
  },
  {
   "cell_type": "code",
   "execution_count": 88,
   "metadata": {
    "collapsed": false
   },
   "outputs": [
    {
     "data": {
      "text/html": [
       "<div>\n",
       "<style scoped>\n",
       "    .dataframe tbody tr th:only-of-type {\n",
       "        vertical-align: middle;\n",
       "    }\n",
       "\n",
       "    .dataframe tbody tr th {\n",
       "        vertical-align: top;\n",
       "    }\n",
       "\n",
       "    .dataframe thead th {\n",
       "        text-align: right;\n",
       "    }\n",
       "</style>\n",
       "<table border=\"1\" class=\"dataframe\">\n",
       "  <thead>\n",
       "    <tr style=\"text-align: right;\">\n",
       "      <th></th>\n",
       "      <th>conformity</th>\n",
       "      <th>fscore</th>\n",
       "    </tr>\n",
       "    <tr>\n",
       "      <th>fcategory</th>\n",
       "      <th></th>\n",
       "      <th></th>\n",
       "    </tr>\n",
       "  </thead>\n",
       "  <tbody>\n",
       "    <tr>\n",
       "      <th>high</th>\n",
       "      <td>12.266667</td>\n",
       "      <td>58.533333</td>\n",
       "    </tr>\n",
       "    <tr>\n",
       "      <th>low</th>\n",
       "      <td>11.733333</td>\n",
       "      <td>26.933333</td>\n",
       "    </tr>\n",
       "    <tr>\n",
       "      <th>medium</th>\n",
       "      <td>12.400000</td>\n",
       "      <td>43.866667</td>\n",
       "    </tr>\n",
       "  </tbody>\n",
       "</table>\n",
       "</div>"
      ],
      "text/plain": [
       "           conformity     fscore\n",
       "fcategory                       \n",
       "high        12.266667  58.533333\n",
       "low         11.733333  26.933333\n",
       "medium      12.400000  43.866667"
      ]
     },
     "execution_count": 88,
     "metadata": {},
     "output_type": "execute_result"
    }
   ],
   "source": [
    "moorePd.groupby('fcategory').mean()"
   ]
  },
  {
   "cell_type": "markdown",
   "metadata": {},
   "source": [
    "fcategory를 그룹별로 fscore 변수의 평균만을 선택하여 계산해 보자."
   ]
  },
  {
   "cell_type": "code",
   "execution_count": 89,
   "metadata": {
    "collapsed": false
   },
   "outputs": [
    {
     "data": {
      "text/plain": [
       "fcategory\n",
       "high      58.533333\n",
       "low       26.933333\n",
       "medium    43.866667\n",
       "Name: fscore, dtype: float64"
      ]
     },
     "execution_count": 89,
     "metadata": {},
     "output_type": "execute_result"
    }
   ],
   "source": [
    "moorePd.groupby('fcategory')['fscore'].mean()"
   ]
  },
  {
   "cell_type": "markdown",
   "metadata": {},
   "source": [
    "#### 그래프"
   ]
  },
  {
   "cell_type": "code",
   "execution_count": 90,
   "metadata": {
    "collapsed": false
   },
   "outputs": [
    {
     "data": {
      "text/plain": [
       "<AxesSubplot:>"
      ]
     },
     "execution_count": 90,
     "metadata": {},
     "output_type": "execute_result"
    },
    {
     "data": {
      "image/png": "[encoded data removed]",
      "text/plain": [
       "<Figure size 432x288 with 1 Axes>"
      ]
     },
     "metadata": {
      "needs_background": "light"
     },
     "output_type": "display_data"
    }
   ],
   "source": [
    "moorePd.boxplot()"
   ]
  },
  {
   "cell_type": "markdown",
   "metadata": {},
   "source": [
    "#### fcategory별 fscore 그래프\n",
    "\n",
    "먼저 fcategory별 fscore를 계산해서 그래프를 그려야 한다."
   ]
  },
  {
   "cell_type": "code",
   "execution_count": 91,
   "metadata": {
    "collapsed": false
   },
   "outputs": [],
   "source": [
    "_fscore = moorePd.groupby('fcategory')['fscore'].mean()"
   ]
  },
  {
   "cell_type": "code",
   "execution_count": 94,
   "metadata": {
    "collapsed": false
   },
   "outputs": [
    {
     "data": {
      "text/plain": [
       "<AxesSubplot:title={'center':'fscore by fcategory'}, xlabel='fcategory'>"
      ]
     },
     "execution_count": 94,
     "metadata": {},
     "output_type": "execute_result"
    },
    {
     "data": {
      "image/png": "[encoded data removed]",
      "text/plain": [
       "<Figure size 432x288 with 1 Axes>"
      ]
     },
     "metadata": {
      "needs_background": "light"
     },
     "output_type": "display_data"
    }
   ],
   "source": [
    "_fscore.plot(x=\"fcategory\", y=_fscore,  title=\"fscore by fcategory\")"
   ]
  },
  {
   "cell_type": "markdown",
   "metadata": {
    "collapsed": true,
    "slideshow": {
     "slide_type": "slide"
    }
   },
   "source": [
    "## S.11 빈도 분석\n",
    "\n",
    "**명목변수 Categorical or nominal varaible**는 이름이 붙여진 변수로서 문자로 표현되는 변수를 말한다.\n",
    "명목변수별로 빈도를 계산하고 차이가 있는지 보게 된다."
   ]
  },
  {
   "cell_type": "code",
   "execution_count": 95,
   "metadata": {
    "collapsed": true
   },
   "outputs": [],
   "source": [
    "names = [\"kim\",\"lee\",\"park\",\"lim\"]\n",
    "items = [\"espresso\",\"latte\",\"americano\",\"affocato\",\"long black\",\"macciato\"]"
   ]
  },
  {
   "cell_type": "markdown",
   "metadata": {},
   "source": [
    "names에서 하나씩, items에서도 하나씩 추출하자."
   ]
  },
  {
   "cell_type": "code",
   "execution_count": 102,
   "metadata": {
    "collapsed": false
   },
   "outputs": [],
   "source": [
    "coffeeDf = spark.createDataFrame([(names[i%4], items[i%6]) for i in range(500)],\\\n",
    "                           [\"name\",\"coffee\"])"
   ]
  },
  {
   "cell_type": "markdown",
   "metadata": {},
   "source": [
    "명목변수에 대해서는 평균, 표준편차와 같은 통계량을 계산하는 것은 의미가 없다."
   ]
  },
  {
   "cell_type": "code",
   "execution_count": 103,
   "metadata": {
    "collapsed": false
   },
   "outputs": [
    {
     "name": "stdout",
     "output_type": "stream",
     "text": [
      "+-------+----+--------+\n",
      "|summary|name|  coffee|\n",
      "+-------+----+--------+\n",
      "|  count| 500|     500|\n",
      "|   mean|null|    null|\n",
      "| stddev|null|    null|\n",
      "|    min| kim|affocato|\n",
      "|    max|park|macciato|\n",
      "+-------+----+--------+\n",
      "\n"
     ]
    }
   ],
   "source": [
    "coffeeDf.describe().show()"
   ]
  },
  {
   "cell_type": "markdown",
   "metadata": {},
   "source": [
    "또는 문자열에 대해서 통계량을 구해보자.\n",
    "개수, 키개수 unique, 첫째 값 top, 최빈키의 빈도 freq를 출력하고 있다."
   ]
  },
  {
   "cell_type": "code",
   "execution_count": 104,
   "metadata": {
    "collapsed": false
   },
   "outputs": [
    {
     "data": {
      "text/html": [
       "<div>\n",
       "<style scoped>\n",
       "    .dataframe tbody tr th:only-of-type {\n",
       "        vertical-align: middle;\n",
       "    }\n",
       "\n",
       "    .dataframe tbody tr th {\n",
       "        vertical-align: top;\n",
       "    }\n",
       "\n",
       "    .dataframe thead th {\n",
       "        text-align: right;\n",
       "    }\n",
       "</style>\n",
       "<table border=\"1\" class=\"dataframe\">\n",
       "  <thead>\n",
       "    <tr style=\"text-align: right;\">\n",
       "      <th></th>\n",
       "      <th>name</th>\n",
       "      <th>coffee</th>\n",
       "    </tr>\n",
       "  </thead>\n",
       "  <tbody>\n",
       "    <tr>\n",
       "      <th>count</th>\n",
       "      <td>500</td>\n",
       "      <td>500</td>\n",
       "    </tr>\n",
       "    <tr>\n",
       "      <th>unique</th>\n",
       "      <td>4</td>\n",
       "      <td>6</td>\n",
       "    </tr>\n",
       "    <tr>\n",
       "      <th>top</th>\n",
       "      <td>lim</td>\n",
       "      <td>latte</td>\n",
       "    </tr>\n",
       "    <tr>\n",
       "      <th>freq</th>\n",
       "      <td>125</td>\n",
       "      <td>84</td>\n",
       "    </tr>\n",
       "  </tbody>\n",
       "</table>\n",
       "</div>"
      ],
      "text/plain": [
       "       name coffee\n",
       "count   500    500\n",
       "unique    4      6\n",
       "top     lim  latte\n",
       "freq    125     84"
      ]
     },
     "execution_count": 104,
     "metadata": {},
     "output_type": "execute_result"
    }
   ],
   "source": [
    "coffeeDf.toPandas().describe()"
   ]
  },
  {
   "cell_type": "markdown",
   "metadata": {
    "slideshow": {
     "slide_type": "subslide"
    }
   },
   "source": [
    "### S.11.1 crosstab\n",
    "\n",
    "앞서 생성했던 데이터를 사용해서, 교차표를 만들어 보자."
   ]
  },
  {
   "cell_type": "markdown",
   "metadata": {},
   "source": [
    "pivot으로 건수를 계산하면 아래와 같다."
   ]
  },
  {
   "cell_type": "code",
   "execution_count": 105,
   "metadata": {
    "collapsed": false
   },
   "outputs": [
    {
     "name": "stdout",
     "output_type": "stream",
     "text": [
      "+----+--------+---------+--------+-----+----------+--------+\n",
      "|name|affocato|americano|espresso|latte|long black|macciato|\n",
      "+----+--------+---------+--------+-----+----------+--------+\n",
      "|park|    null|       42|      42| null|        41|    null|\n",
      "| lim|      42|     null|    null|   42|      null|      41|\n",
      "| kim|    null|       41|      42| null|        42|    null|\n",
      "| lee|      41|     null|    null|   42|      null|      42|\n",
      "+----+--------+---------+--------+-----+----------+--------+\n",
      "\n"
     ]
    }
   ],
   "source": [
    "coffeeDf.groupBy('name').pivot('coffee').count().show()"
   ]
  },
  {
   "cell_type": "markdown",
   "metadata": {},
   "source": [
    "crosstab 교차표를 만들면 pivot과 유사한 결과를 얻을 수 있다."
   ]
  },
  {
   "cell_type": "code",
   "execution_count": 106,
   "metadata": {
    "collapsed": false,
    "scrolled": true
   },
   "outputs": [
    {
     "name": "stdout",
     "output_type": "stream",
     "text": [
      "+-----------+--------+---------+--------+-----+----------+--------+\n",
      "|name_coffee|affocato|americano|espresso|latte|long black|macciato|\n",
      "+-----------+--------+---------+--------+-----+----------+--------+\n",
      "|        lim|      42|        0|       0|   42|         0|      41|\n",
      "|        lee|      41|        0|       0|   42|         0|      42|\n",
      "|       park|       0|       42|      42|    0|        41|       0|\n",
      "|        kim|       0|       41|      42|    0|        42|       0|\n",
      "+-----------+--------+---------+--------+-----+----------+--------+\n",
      "\n"
     ]
    }
   ],
   "source": [
    "coffeeDf.stat.crosstab(\"name\", \"coffee\").show()"
   ]
  },
  {
   "cell_type": "markdown",
   "metadata": {},
   "source": [
    "### S.11.2 freqItems()\n",
    "\n",
    "데이터에 대해 50%이상 발생한 행을 출력해 보자.\n",
    "임계치 이하의 최빈값을 구할 수 있다."
   ]
  },
  {
   "cell_type": "code",
   "execution_count": 110,
   "metadata": {
    "collapsed": false
   },
   "outputs": [
    {
     "name": "stdout",
     "output_type": "stream",
     "text": [
      "+--------------+-----------------+\n",
      "|name_freqItems| coffee_freqItems|\n",
      "+--------------+-----------------+\n",
      "|   [lim, park]|[latte, espresso]|\n",
      "+--------------+-----------------+\n",
      "\n"
     ]
    }
   ],
   "source": [
    "freq = coffeeDf.stat.freqItems([\"name\",\"coffee\"], 0.5)\n",
    "freq.show()"
   ]
  },
  {
   "cell_type": "markdown",
   "metadata": {},
   "source": [
    "### S.11.3 Chi Square\n",
    "\n",
    "Chi-Square 테스트는 label와 features 서로 상관관계가 있는지 검증하는 비모수 추정방법이다.\n",
    "feature의 발생이 label과 어떤 관련이 있는지 추정하는 것이다.\n",
    "단 label, features 모두 명목변수이어야 한다.\n",
    "* 귀무 가설은 label과 features 간에 서로 독립적이다."
   ]
  },
  {
   "cell_type": "markdown",
   "metadata": {},
   "source": [
    "#### 데이터\n",
    "\n",
    "앞서 coffeeDf를 사용하자."
   ]
  },
  {
   "cell_type": "code",
   "execution_count": 6,
   "metadata": {
    "collapsed": false
   },
   "outputs": [
    {
     "name": "stdout",
     "output_type": "stream",
     "text": [
      "root\n",
      " |-- name: string (nullable = true)\n",
      " |-- coffee: string (nullable = true)\n",
      "\n"
     ]
    }
   ],
   "source": [
    "coffeeDf.printSchema()"
   ]
  },
  {
   "cell_type": "markdown",
   "metadata": {},
   "source": [
    "#### label을 수로 변환\n",
    "\n",
    "label, features 모두 명목변수이지만, 문자가 아니라 수와 벡터로 각 각 변환되어야 한다."
   ]
  },
  {
   "cell_type": "code",
   "execution_count": 111,
   "metadata": {
    "collapsed": false
   },
   "outputs": [],
   "source": [
    "from pyspark.ml.feature import StringIndexer\n",
    "\n",
    "labelIndexer = StringIndexer(inputCol=\"name\", outputCol=\"label\")\n",
    "model=labelIndexer.fit(coffeeDf)\n",
    "_coffeeDf=model.transform(coffeeDf)"
   ]
  },
  {
   "cell_type": "code",
   "execution_count": 112,
   "metadata": {
    "collapsed": false
   },
   "outputs": [
    {
     "name": "stdout",
     "output_type": "stream",
     "text": [
      "root\n",
      " |-- name: string (nullable = true)\n",
      " |-- coffee: string (nullable = true)\n",
      " |-- label: double (nullable = false)\n",
      "\n"
     ]
    }
   ],
   "source": [
    "_coffeeDf.printSchema()"
   ]
  },
  {
   "cell_type": "code",
   "execution_count": 115,
   "metadata": {
    "collapsed": false
   },
   "outputs": [
    {
     "name": "stdout",
     "output_type": "stream",
     "text": [
      "+----+---------+-----+\n",
      "|name|   coffee|label|\n",
      "+----+---------+-----+\n",
      "| kim| espresso|  0.0|\n",
      "| lee|    latte|  1.0|\n",
      "|park|americano|  3.0|\n",
      "| lim| affocato|  2.0|\n",
      "+----+---------+-----+\n",
      "only showing top 4 rows\n",
      "\n"
     ]
    }
   ],
   "source": [
    "_coffeeDf.show(4)"
   ]
  },
  {
   "cell_type": "markdown",
   "metadata": {},
   "source": [
    "#### features를 벡터로 변환\n",
    "\n",
    "우선 명목 문자열을 수로 변환한다."
   ]
  },
  {
   "cell_type": "code",
   "execution_count": 36,
   "metadata": {
    "collapsed": true
   },
   "outputs": [],
   "source": [
    "featureIndexer = StringIndexer(inputCol=\"coffee\", outputCol=\"_features\")\n",
    "model=featureIndexer.fit(_coffeeDf)\n",
    "_coffeeDf=model.transform(_coffeeDf)"
   ]
  },
  {
   "cell_type": "markdown",
   "metadata": {},
   "source": [
    "다음은 수를 벡터로 변환한다.\n",
    "inputCols에는 리스트를 적어준다.\n",
    "즉 \"_features\" (x) -> [ \"_features\" ] (o)이라고 한다."
   ]
  },
  {
   "cell_type": "code",
   "execution_count": 37,
   "metadata": {
    "collapsed": true
   },
   "outputs": [],
   "source": [
    "#from pyspark.ml.linalg import Vectors\n",
    "from pyspark.ml.feature import VectorAssembler\n",
    "\n",
    "va = VectorAssembler(inputCols=[\"_features\"], outputCol=\"features\")\n",
    "_coffeeDf = va.transform(_coffeeDf)"
   ]
  },
  {
   "cell_type": "code",
   "execution_count": 38,
   "metadata": {
    "collapsed": false
   },
   "outputs": [
    {
     "name": "stdout",
     "output_type": "stream",
     "text": [
      "root\n",
      " |-- name: string (nullable = true)\n",
      " |-- coffee: string (nullable = true)\n",
      " |-- label: double (nullable = false)\n",
      " |-- _features: double (nullable = false)\n",
      " |-- features: vector (nullable = true)\n",
      "\n",
      "+----+----------+-----+---------+--------+\n",
      "|name|    coffee|label|_features|features|\n",
      "+----+----------+-----+---------+--------+\n",
      "| kim|  espresso|  1.0|      0.0|   [0.0]|\n",
      "| lee|     latte|  0.0|      1.0|   [1.0]|\n",
      "| lee| americano|  0.0|      3.0|   [3.0]|\n",
      "| lim|  affocato|  2.0|      2.0|   [2.0]|\n",
      "| kim|long black|  1.0|      4.0|   [4.0]|\n",
      "+----+----------+-----+---------+--------+\n",
      "only showing top 5 rows\n",
      "\n"
     ]
    }
   ],
   "source": [
    "_coffeeDf.printSchema()\n",
    "_coffeeDf.show(5)"
   ]
  },
  {
   "cell_type": "markdown",
   "metadata": {},
   "source": [
    "#### ChiSquareTest\n",
    "\n",
    "ChiSquareTest에는 다음 인자를 적어준다.\n",
    "* 데이터: 명목 label, 명목 features로 구성된 DataFrame.\n",
    "* featuresCol: features 컬럼명을 적어준다. Vector 타입이어야 한다.\n",
    "* labelCol: label 컬럼명을 적어준다. 숫자인 타입이면 된다."
   ]
  },
  {
   "cell_type": "code",
   "execution_count": 44,
   "metadata": {
    "collapsed": false
   },
   "outputs": [],
   "source": [
    "from pyspark.ml.stat import ChiSquareTest\n",
    "r = ChiSquareTest.test(_coffeeDf, \"features\", \"label\")"
   ]
  },
  {
   "cell_type": "code",
   "execution_count": 45,
   "metadata": {
    "collapsed": false,
    "scrolled": true
   },
   "outputs": [
    {
     "name": "stdout",
     "output_type": "stream",
     "text": [
      "+-------+----------------+-------------------+\n",
      "|pValues|degreesOfFreedom|         statistics|\n",
      "+-------+----------------+-------------------+\n",
      "|  [0.0]|            [10]|[250.0722891566265]|\n",
      "+-------+----------------+-------------------+\n",
      "\n"
     ]
    }
   ],
   "source": [
    "r.show()"
   ]
  },
  {
   "cell_type": "markdown",
   "metadata": {},
   "source": [
    "위 컬럼을 하나씩 출력해보자.\n",
    "pValues=0.0이므로 귀무가설을 기각한다. 서로 유의적인 상관관계가 있다."
   ]
  },
  {
   "cell_type": "code",
   "execution_count": 46,
   "metadata": {
    "collapsed": false
   },
   "outputs": [],
   "source": [
    "from pyspark.ml.stat import ChiSquareTest\n",
    "r = r.head()"
   ]
  },
  {
   "cell_type": "code",
   "execution_count": 47,
   "metadata": {
    "collapsed": false
   },
   "outputs": [
    {
     "name": "stdout",
     "output_type": "stream",
     "text": [
      "pValues: [0.0]\n",
      "degreesOfFreedom: [10]\n",
      "statistics: [250.0722891566265]\n"
     ]
    }
   ],
   "source": [
    "print(\"pValues: \" + str(r.pValues))\n",
    "print(\"degreesOfFreedom: \" + str(r.degreesOfFreedom))\n",
    "print(\"statistics: \" + str(r.statistics))"
   ]
  },
  {
   "cell_type": "markdown",
   "metadata": {
    "slideshow": {
     "slide_type": "slide"
    }
   },
   "source": [
    "## S.12 상관관계\n",
    "\n",
    "상관관계는 변수 간에 서로 어떤 관계가 있는지, 그 변화의 **방향**, **강도**를 나타낸다.\n",
    "연속 변수들이 서로 커지거나 작아지거나 하는 의미를 관계를 표현한다.\n",
    "**명목변수**와의 상관관계를 계산하는 것은 의미가 있지 않고, 앞서 배웠던 빈도분석을 하는 것이 좋겠다.\n",
    "\n",
    "단, 서로 상관관계가 있다고 해서 인과관계가 있다는 의미는 아니다.\n",
    "키와 몸무게가 서로 상관관계가 있다고 하자.\n",
    "키가 원인이 되어서 몸무게가 결과로 올라간다고 가정해서는 안된다는 것이다.\n",
    "담배와 암의 상관관계의 상관관계 높다. 그리고 담배가 암을 유발하는 관계이지만, \n",
    "이러한 방향을 말해주는 것은 아니다.\n",
    "\n",
    "**맥주**와 **선풍기**의 매출은 서로 상관관계가 있다.\n",
    "그렇다고 해서 선풍기의 매출이 원인이 되어 맥주의 매출을 올린 것은 아니다.\n",
    "더워져서 선풍기와 맥주의 매출이 올라간 것으로 이해해야 한다.\n",
    "또 **교통상황**과 **약속지체**는 상관관계가 있다.\n",
    "교통이 막히면 약속이 늦어지는 것은 맞다.\n",
    "그렇다고 해서 약속이 늦어진다고 교통이 막히는 것은 아니다.\n"
   ]
  },
  {
   "cell_type": "markdown",
   "metadata": {
    "slideshow": {
     "slide_type": "subslide"
    }
   },
   "source": [
    "### S.12.1 상관관계 방향과 강도\n",
    "\n",
    "* $+$ 변수가 서로 같은 방향으로 변동, 숫자가 클수록 강도가 크며 반대로 적을수록 적다.\n",
    "* 0 변수가 서로 영향을 주지 않음\n",
    "* $-$ 변수가 서로 다른 방향으로 변동"
   ]
  },
  {
   "cell_type": "markdown",
   "metadata": {},
   "source": [
    "상관관계는 공분산 covariance를 표준편차의 곱으로 나눈 값으로 계산한다.\n",
    "\n",
    "$$\n",
    "r_{(x,y)} = \\frac {cov(x,y)} {s_x s_y}\n",
    "$$\n",
    "\n",
    "$$\n",
    "cov(x,y)=\\frac{ \\sum\\limits_{i=1}^n (x_i - \\bar{x}) (y_i - \\bar{y} ) }\n",
    "                       {n-1}\n",
    "$$"
   ]
  },
  {
   "cell_type": "markdown",
   "metadata": {
    "slideshow": {
     "slide_type": "-"
    }
   },
   "source": [
    "바로 계산하면 n-1이 표준편차 계산하면서 상쇄되므로 아래와 같다:\n",
    "\n",
    "$$\n",
    "   r = \\frac{\\sum\\limits_{i=1}^n (X_i - \\bar{X})(Y_i -\n",
    "   \\bar{Y})}{\\sqrt{\\sum\\limits_{i=1}^n (X_i - \\bar{X})^2} \\sqrt{\\sum\n",
    "   \\limits_{i=1}^n (Y_i - \\bar{Y})^2}}\n",
    "$$"
   ]
  },
  {
   "cell_type": "markdown",
   "metadata": {
    "slideshow": {
     "slide_type": "slide"
    }
   },
   "source": [
    "### S.12.2 그래프\n",
    "\n",
    "#### 데이터 생성\n",
    "\n",
    "변수들이 서로 어떤 관계를 가지고 있는지 그래프를 그려보면 쉽게 파악할 수 있다.\n",
    "우선 임의로 X, Y 데이터를 생성하고, 그래프에서 서로 어떻게 변화하는지 알아보자."
   ]
  },
  {
   "cell_type": "code",
   "execution_count": 40,
   "metadata": {
    "collapsed": true
   },
   "outputs": [],
   "source": [
    "X=[10,7,12,12,9,16,12,18,8,12,14,16]\n",
    "Y=[6,4,7,8,10,7,10,15,5,6,11,13]"
   ]
  },
  {
   "cell_type": "markdown",
   "metadata": {},
   "source": [
    "#### 단순 Plot\n",
    "\n",
    "```matplotlib``` 라이브러리를 사용하여 X, Y 그래프를 그려보자.\n",
    "```%mathplotlib inline```는 노트북에서 그래프를 바로 아래 출력창에 띄운다.\n",
    "이 명령어가 없으면 별도의 창을 열어서 띄우게 된다.\n",
    "* ```plot()```은 X, Y 데이터를 입력하고, ```go```는 green색으로 빈동그라미 ```o```로 표시하게 된다.\n",
    "* ```title()```은 제목을 적는 함수이고, 유니코드 지원이 되지 않아서 제목에 한글을 쓸 수는 없다. \n",
    "* ```ylabel()```은 y축 명을 적는 기능이다."
   ]
  },
  {
   "cell_type": "code",
   "execution_count": 43,
   "metadata": {
    "collapsed": false,
    "slideshow": {
     "slide_type": "-"
    }
   },
   "outputs": [
    {
     "data": {
      "image/png": "[encoded data removed]",
      "text/plain": [
       "<Figure size 432x288 with 1 Axes>"
      ]
     },
     "metadata": {
      "needs_background": "light"
     },
     "output_type": "display_data"
    }
   ],
   "source": [
    "%matplotlib inline\n",
    "\n",
    "from matplotlib import pyplot as plt\n",
    "\n",
    "plt.title('correlation')\n",
    "plt.plot(X, Y, 'go')\n",
    "plt.ylabel('Y')\n",
    "\n",
    "plt.show()\n"
   ]
  },
  {
   "cell_type": "markdown",
   "metadata": {
    "slideshow": {
     "slide_type": "subslide"
    }
   },
   "source": [
    "#### Scatter\n",
    "\n",
    "* ```subplots()``` 명령어의 인자로 넣는 수는 행, 열로 그래프의 바둑판 위치를 의미한다.\n",
    "예를 들어, 인자 ```1,1```은 1행, 1열을 ```1,2```는 1행, 2열을 의미한다.\n",
    "이 명령어는 Figure와 Axes를 반환해서, 그림의 설정을 변경할 수 있다.\n",
    "* ```set_minor_locator()```는 '사이 구분자'를 설정할 수 있고, AutoMinorLocator(3)은 구분자 2개를 ```AutoMinorLocator(5)```는 큰 구분자들 사이 구분자 4개를 넣으라는 의미이다.\n",
    "* grid() 명령어는 격자선을 설정한다. b=True는 그리드 선을 표시하라는 의미, which는 'major', 'minor', 'both' 가운데 하나를 설정한다.\n"
   ]
  },
  {
   "cell_type": "code",
   "execution_count": 45,
   "metadata": {
    "collapsed": false,
    "slideshow": {
     "slide_type": "-"
    }
   },
   "outputs": [
    {
     "data": {
      "image/png": "[encoded data removed]",
      "text/plain": [
       "<Figure size 432x288 with 1 Axes>"
      ]
     },
     "metadata": {
      "needs_background": "light"
     },
     "output_type": "display_data"
    }
   ],
   "source": [
    "import matplotlib as mpl\n",
    "import matplotlib.pyplot as plt\n",
    "\n",
    "fig, ax = plt.subplots(1, 1)\n",
    "plt.rc('font', family='NanumMyeongjo')\n",
    "ax.title.set_text('상관관계')\n",
    "ax.scatter(X, Y)\n",
    "ax.get_yaxis().set_minor_locator(mpl.ticker.AutoMinorLocator(1))\n",
    "ax.get_xaxis().set_minor_locator(mpl.ticker.AutoMinorLocator(3))\n",
    "ax.grid(b=True, which='major', color='y', linewidth=0.5)\n",
    "ax.grid(b=True, which='minor', color='b', linewidth=0.5)\n",
    "#fig.show()"
   ]
  },
  {
   "cell_type": "markdown",
   "metadata": {
    "slideshow": {
     "slide_type": "subslide"
    }
   },
   "source": [
    "### S.12.3 데이터\n",
    "\n",
    "임의로 X, Y 데이터를 생성해보자"
   ]
  },
  {
   "cell_type": "code",
   "execution_count": 123,
   "metadata": {
    "collapsed": true
   },
   "outputs": [],
   "source": [
    "X=[2.1,2.5,4.0,3.6]\n",
    "Y=[8,12,14,10]\n",
    "\n",
    "X=[10,7,12,12,9,16,12,18,8,12,14,16]\n",
    "Y=[6,4,7,8,10,7,10,15,5,6,11,13]"
   ]
  },
  {
   "cell_type": "markdown",
   "metadata": {
    "slideshow": {
     "slide_type": "subslide"
    }
   },
   "source": [
    "### S.12.4 numpy 공분산 계산\n",
    "\n",
    "#### 공분산 계산식\n",
    "\n",
    "라이브러리를 사용하지 않고, 공분산을 계산해보자.\n",
    "공분산의 부호는 두 변수가 같은 방향, 다른 방향으로 움직이는지 보여준다.\n",
    "공분산이 '0'이라면 두 변수가 독립적이란 의미이다.\n",
    "크기는 해석하기 어렵다."
   ]
  },
  {
   "cell_type": "code",
   "execution_count": 46,
   "metadata": {
    "collapsed": false
   },
   "outputs": [],
   "source": [
    "import numpy as np\n",
    "xbar=np.mean(X)\n",
    "ybar=np.mean(Y)"
   ]
  },
  {
   "cell_type": "code",
   "execution_count": 47,
   "metadata": {
    "collapsed": false
   },
   "outputs": [
    {
     "name": "stdout",
     "output_type": "stream",
     "text": [
      "simple cov= 8.454545454545455\n"
     ]
    }
   ],
   "source": [
    "covxy=sum( [ (x-xbar)*(y-ybar) for x,y in zip(X,Y) ]) / (len(X)-1)\n",
    "print (\"simple cov=\", covxy)"
   ]
  },
  {
   "cell_type": "markdown",
   "metadata": {
    "slideshow": {
     "slide_type": "subslide"
    }
   },
   "source": [
    "#### numpy 공분산\n",
    "\n",
    "numpy로 공분산을 계산해보자. 앞에서의 계산과 동일한 결과를 출력한다.\n",
    "numpy 공분산은 계산하면 x,y 컬럼에 대한 2 x 2 값을 출력한다.\n",
    "공분산값은 x와 y 컬럼이 교차하는 값이다."
   ]
  },
  {
   "cell_type": "code",
   "execution_count": 48,
   "metadata": {
    "collapsed": false,
    "scrolled": true
   },
   "outputs": [
    {
     "name": "stdout",
     "output_type": "stream",
     "text": [
      "np cov=\n",
      " [[11.42424242  8.45454545]\n",
      " [ 8.45454545 11.18181818]]\n"
     ]
    }
   ],
   "source": [
    "print (\"np cov=\\n\",np.cov(X,Y))"
   ]
  },
  {
   "cell_type": "markdown",
   "metadata": {
    "slideshow": {
     "slide_type": "subslide"
    }
   },
   "source": [
    "서로 x와 x컬럼이 만나는 값은, 자신에 대한 공분산을 계산한 값으로 ```sum( (x-mean(x))**2) / (n-1)```,\n",
    "x대신 y를 대입하면 나머지 값이 계산된다.\n",
    "계산해보자."
   ]
  },
  {
   "cell_type": "code",
   "execution_count": 49,
   "metadata": {
    "collapsed": false
   },
   "outputs": [
    {
     "name": "stdout",
     "output_type": "stream",
     "text": [
      "11.424242424242424\n",
      "11.181818181818182\n"
     ]
    }
   ],
   "source": [
    "print (np.sum( (X-np.mean(X))**2) / (len(X)-1))\n",
    "print (np.sum( (Y-np.mean(Y))**2) / (len(Y)-1))"
   ]
  },
  {
   "cell_type": "markdown",
   "metadata": {
    "collapsed": true
   },
   "source": [
    "위 값을 관찰하면, variance 값과 계산식이 동일하다."
   ]
  },
  {
   "cell_type": "code",
   "execution_count": 50,
   "metadata": {
    "collapsed": false
   },
   "outputs": [
    {
     "name": "stdout",
     "output_type": "stream",
     "text": [
      "11.424242424242424\n"
     ]
    }
   ],
   "source": [
    "print(np.var(X, ddof=1))"
   ]
  },
  {
   "cell_type": "markdown",
   "metadata": {},
   "source": [
    "자신에 대한 공분산을 계산하면 동일한 값을 출력한다."
   ]
  },
  {
   "cell_type": "code",
   "execution_count": 51,
   "metadata": {
    "collapsed": false
   },
   "outputs": [
    {
     "name": "stdout",
     "output_type": "stream",
     "text": [
      "npcov of X 11.424242424242426\n",
      "npcov of Y 11.181818181818182\n"
     ]
    }
   ],
   "source": [
    "print (\"npcov of X\", np.cov(X)) #sum( [ (x-xbar)**2 for x in X ])/(len(X)-1)\n",
    "print (\"npcov of Y\", np.cov(Y))"
   ]
  },
  {
   "cell_type": "markdown",
   "metadata": {
    "slideshow": {
     "slide_type": "subslide"
    }
   },
   "source": [
    "### S.12.5 상관관계\n",
    "\n",
    "상관관계는 공분산을 표준편차의 곱으로 나누어서 계산한다."
   ]
  },
  {
   "cell_type": "markdown",
   "metadata": {
    "slideshow": {
     "slide_type": "-"
    }
   },
   "source": [
    "#### numpy 계산\n",
    "앞서 계산했던 식을 기억하고, 그 값을 가져온다."
   ]
  },
  {
   "cell_type": "code",
   "execution_count": 52,
   "metadata": {
    "collapsed": true
   },
   "outputs": [],
   "source": [
    "import numpy as np\n",
    "\n",
    "xbar=np.mean(X)\n",
    "ybar=np.mean(Y)\n",
    "sx=np.sqrt(np.var(X,ddof=1))\n",
    "sy=np.sqrt(np.var(Y,ddof=1))\n",
    "covxy=sum( [ (x-xbar)*(y-ybar) for x,y in zip(X,Y) ]) / (len(X)-1)"
   ]
  },
  {
   "cell_type": "code",
   "execution_count": 53,
   "metadata": {
    "collapsed": false
   },
   "outputs": [
    {
     "name": "stdout",
     "output_type": "stream",
     "text": [
      "corr:  0.7480322896763185\n"
     ]
    }
   ],
   "source": [
    "rxy=covxy/(sx*sy)\n",
    "print (\"corr: \",rxy)"
   ]
  },
  {
   "cell_type": "markdown",
   "metadata": {
    "slideshow": {
     "slide_type": "subslide"
    }
   },
   "source": [
    "#### 상관관계 계산식\n",
    "\n",
    "위 계산식을 모두 한꺼번에 넣어, 계산해보자."
   ]
  },
  {
   "cell_type": "code",
   "execution_count": 54,
   "metadata": {
    "collapsed": false
   },
   "outputs": [
    {
     "name": "stdout",
     "output_type": "stream",
     "text": [
      "0.7480322896763182\n"
     ]
    }
   ],
   "source": [
    "import math\n",
    "numer = sum ( [ x*y for x,y in zip(X,Y) ] ) - len(X) * (xbar * ybar)\n",
    "denom = math.sqrt( (sum( [ x*x for x in X ]) - len(X) * xbar**2) * ( sum( [ y * y for y in Y ]) -len(X) * ybar**2))\n",
    "print(numer/denom)"
   ]
  },
  {
   "cell_type": "markdown",
   "metadata": {
    "slideshow": {
     "slide_type": "subslide"
    }
   },
   "source": [
    "### S.12.6 zscore를 이용한 상관관계\n",
    "\n",
    "상관관계는 $$ \\sum \\frac{z_x . z_y} {N} $$\n",
    "N은 x,y가 쌍이므로 어느 한 변수의 size를 택해도 같다.\n",
    "\n",
    "negative란 한 변수가 높을 때 (postive z score) 다른 변수가 낮은 값 (negative z\n",
    "score)을 갖는 것으로 곱하면 음수가 되게 된다.\n"
   ]
  },
  {
   "cell_type": "code",
   "execution_count": 55,
   "metadata": {
    "collapsed": false
   },
   "outputs": [
    {
     "name": "stdout",
     "output_type": "stream",
     "text": [
      "분자: 8.97638747611582\n"
     ]
    }
   ],
   "source": [
    "numer =  sum ( [ ( (x-np.mean(X))/np.std(X) ) * ( (y-np.mean(Y))/np.std(Y) ) for x,y in zip(X,Y) ] )\n",
    "\n",
    "print(f\"분자: {numer}\")"
   ]
  },
  {
   "cell_type": "code",
   "execution_count": 63,
   "metadata": {
    "collapsed": false
   },
   "outputs": [
    {
     "name": "stdout",
     "output_type": "stream",
     "text": [
      "8.97638747611582\n"
     ]
    }
   ],
   "source": [
    "print(sum (stats.zscore(X) * stats.zscore(Y)))"
   ]
  },
  {
   "cell_type": "code",
   "execution_count": 64,
   "metadata": {
    "collapsed": false
   },
   "outputs": [
    {
     "name": "stdout",
     "output_type": "stream",
     "text": [
      "0.7480322896763183\n"
     ]
    }
   ],
   "source": [
    "print(sum (stats.zscore(X) * stats.zscore(Y))/len(X))"
   ]
  },
  {
   "cell_type": "markdown",
   "metadata": {
    "slideshow": {
     "slide_type": "subslide"
    }
   },
   "source": [
    "### S.12.7 함수로 만들어 보기\n",
    "\n",
    "위를 함수로 만들어 보자.\n",
    "평균을 계산하려면 모든 값을 합계해야 하고, 그러려면 반복문이 필요하다.\n",
    "표준편차는 평균값과 같은 반복문에서 계산할 수 없는데, 그 이유는 평균값이 있어야만 표준편차를 계산할 수 있다.\n",
    "간단한 평균, 표준편차를 라이브러리 없이 계산하려면 반복문의 통제가 필요하겠다.\n",
    "\n",
    "라이브러리를 사용하면 반복문이 없이 간편하게 함수호출로 가능해지게 된다."
   ]
  },
  {
   "cell_type": "code",
   "execution_count": 65,
   "metadata": {
    "collapsed": false
   },
   "outputs": [
    {
     "name": "stdout",
     "output_type": "stream",
     "text": [
      "93.0 124.32618388738557 0.7480322896763182\n"
     ]
    }
   ],
   "source": [
    "import math\n",
    "numer = sum ( [ x*y for x,y in zip(X,Y) ] ) - len(X) * (xbar * ybar)\n",
    "denom = math.sqrt( (sum( [ x*x for x in X ]) - len(X) * xbar**2) * ( sum( [ y * y for y in Y ]) -len(X) * ybar**2))\n",
    "print(numer, denom, numer/denom)"
   ]
  },
  {
   "cell_type": "code",
   "execution_count": 66,
   "metadata": {
    "collapsed": false,
    "scrolled": true
   },
   "outputs": [
    {
     "name": "stdout",
     "output_type": "stream",
     "text": [
      "93.0 124.32618388738557 0.7480322896763182\n"
     ]
    }
   ],
   "source": [
    "numer=np.sum(np.array(X)*np.array(Y)) - len(X)*np.mean(X)*np.mean(Y)\n",
    "denom1=np.sum(np.array(X)*np.array(X)) - len(X)*np.power(np.mean(X),2)\n",
    "denom2=np.sum(np.array(Y)*np.array(Y)) - len(Y)*np.power(np.mean(Y),2)\n",
    "denom=np.sqrt(denom1*denom2)\n",
    "print(numer,denom,numer/denom)"
   ]
  },
  {
   "cell_type": "code",
   "execution_count": 67,
   "metadata": {
    "collapsed": false
   },
   "outputs": [],
   "source": [
    "def pearson(X,Y):\n",
    "    numer=np.sum(np.array(X)*np.array(Y)) - len(X)*np.mean(X)*np.mean(Y)\n",
    "    denom1=np.sum(np.array(X)*np.array(X)) - len(X)*np.power(np.mean(X),2)\n",
    "    denom2=np.sum(np.array(Y)*np.array(Y)) - len(Y)*np.power(np.mean(Y),2)\n",
    "    denom=np.sqrt(denom1*denom2)\n",
    "    #print(numer,denom,numer/denom)\n",
    "    r=1 if denom==0 else numer/denom\n",
    "    return r"
   ]
  },
  {
   "cell_type": "code",
   "execution_count": 68,
   "metadata": {
    "collapsed": false
   },
   "outputs": [
    {
     "data": {
      "text/plain": [
       "0.7480322896763182"
      ]
     },
     "execution_count": 68,
     "metadata": {},
     "output_type": "execute_result"
    }
   ],
   "source": [
    "pearson(X,Y)"
   ]
  },
  {
   "cell_type": "markdown",
   "metadata": {},
   "source": [
    "### S.12.8 scipy\n",
    "\n",
    "scipy 라이브러리를 사용하여 pearson 상관관계를 계산해보자.\n",
    "상관관계는 앞서 계산과 동일하며, 양측 확률이 같이 출력되고 있다 (two-tailed p-value).\n",
    "* Pearson 상관관계는 정규분포인 경우,\n",
    "* Spearman 상관관계는 정규분포가 아닌 경우 사용한다."
   ]
  },
  {
   "cell_type": "code",
   "execution_count": 129,
   "metadata": {
    "collapsed": false,
    "slideshow": {
     "slide_type": "subslide"
    }
   },
   "outputs": [
    {
     "data": {
      "text/plain": [
       "(0.7480322896763183, 0.0051443764140137495)"
      ]
     },
     "execution_count": 129,
     "metadata": {},
     "output_type": "execute_result"
    }
   ],
   "source": [
    "import scipy.stats as stats\n",
    "stats.pearsonr(X,Y)"
   ]
  },
  {
   "cell_type": "markdown",
   "metadata": {
    "slideshow": {
     "slide_type": "subslide"
    }
   },
   "source": [
    "무작위 변수를 만들어 상관관계를 계산해보자."
   ]
  },
  {
   "cell_type": "code",
   "execution_count": 125,
   "metadata": {
    "collapsed": false
   },
   "outputs": [],
   "source": [
    "import numpy as np\n",
    "xx=np.random.normal(0,1,100)\n",
    "yy=np.random.normal(0,1,100)"
   ]
  },
  {
   "cell_type": "markdown",
   "metadata": {
    "slideshow": {
     "slide_type": "subslide"
    }
   },
   "source": [
    "Pearson 상관관계는 두 변수의 선형관계를 측정한다.\n",
    "두 변수는 정규분포를 따르는 것으로 가정한다.\n",
    "앞은 상관관계를 말하고, 그 다음 값은 p-value이다."
   ]
  },
  {
   "cell_type": "code",
   "execution_count": 128,
   "metadata": {
    "collapsed": false
   },
   "outputs": [
    {
     "data": {
      "text/plain": [
       "(-0.003013664384625577, 0.9762602028217449)"
      ]
     },
     "execution_count": 128,
     "metadata": {},
     "output_type": "execute_result"
    }
   ],
   "source": [
    "stats.pearsonr(xx,yy)"
   ]
  },
  {
   "cell_type": "markdown",
   "metadata": {
    "slideshow": {
     "slide_type": "subslide"
    }
   },
   "source": [
    "Spearman 상관관계는 정규분포를 따르지 않는 사용하는 비모수추정 방법이다."
   ]
  },
  {
   "cell_type": "code",
   "execution_count": 142,
   "metadata": {
    "collapsed": false
   },
   "outputs": [
    {
     "data": {
      "text/plain": [
       "SpearmanrResult(correlation=-0.004308430843084308, pvalue=0.9660659746978524)"
      ]
     },
     "execution_count": 142,
     "metadata": {},
     "output_type": "execute_result"
    }
   ],
   "source": [
    "stats.spearmanr(xx,yy)"
   ]
  },
  {
   "cell_type": "markdown",
   "metadata": {
    "slideshow": {
     "slide_type": "subslide"
    }
   },
   "source": [
    "kendalltau는 비모수 추정방법으로 등위에 의한 상관관계를 계산한다.\n",
    "1938년 이를 개발한 Maurice Kendall의 이름을 따서 붙였다.\n",
    "위의 상관관계와 미세한 차이가 있을 뿐 그 결과가 유사하다."
   ]
  },
  {
   "cell_type": "code",
   "execution_count": 143,
   "metadata": {
    "collapsed": false
   },
   "outputs": [
    {
     "data": {
      "text/plain": [
       "KendalltauResult(correlation=-0.004444444444444445, pvalue=0.9477611219146415)"
      ]
     },
     "execution_count": 143,
     "metadata": {},
     "output_type": "execute_result"
    }
   ],
   "source": [
    "stats.kendalltau(xx,yy)"
   ]
  },
  {
   "cell_type": "markdown",
   "metadata": {},
   "source": [
    "### S.12.9 spark\n",
    "\n",
    "각 컬럼에 무작위 수를 10개를 생성하자."
   ]
  },
  {
   "cell_type": "code",
   "execution_count": 137,
   "metadata": {
    "collapsed": true
   },
   "outputs": [],
   "source": [
    "from pyspark.sql.functions import rand\n",
    "\n",
    "df = spark.range(0, 10).withColumn('rand1', rand(seed=10)).withColumn('rand2', rand(seed=27))"
   ]
  },
  {
   "cell_type": "markdown",
   "metadata": {},
   "source": [
    "Spark에서는 컬럼 서로의 상관관계를 계산한다."
   ]
  },
  {
   "cell_type": "code",
   "execution_count": 138,
   "metadata": {
    "collapsed": false
   },
   "outputs": [
    {
     "name": "stdout",
     "output_type": "stream",
     "text": [
      "0.13506684062243296\n"
     ]
    }
   ],
   "source": [
    "print (df.stat.corr('rand1', 'rand2'))"
   ]
  },
  {
   "cell_type": "markdown",
   "metadata": {},
   "source": [
    "### S.12.11 상관관계 표\n",
    "\n",
    "상관관계를 계산하게 될 변수 a, b, c, d를 임의의 소수로 설정하자."
   ]
  },
  {
   "cell_type": "code",
   "execution_count": 140,
   "metadata": {
    "collapsed": true
   },
   "outputs": [],
   "source": [
    "import numpy as np\n",
    "\n",
    "a=np.array([0.1, .32, .2, 0.4, 0.8])\n",
    "b=np.array([.23, .18, .56, .61, .12])\n",
    "c=np.array([.9, .3, .6, .5, .3])\n",
    "d=np.array([.34, .75, .91, .19, .21])"
   ]
  },
  {
   "cell_type": "markdown",
   "metadata": {},
   "source": [
    "numpy의 ```corrcoef()``` 함수는 변수들의 상관관계를 계산하여 출력한다.\n",
    "a,b는 -0.352, a,c는 -0.747, a,d는 -0.489\n",
    "b,c는 0.238 등 열과 행으로 각 변수의 상관관계 표를 읽을 수 있다."
   ]
  },
  {
   "cell_type": "code",
   "execution_count": 141,
   "metadata": {
    "collapsed": false,
    "scrolled": true,
    "slideshow": {
     "slide_type": "subslide"
    }
   },
   "outputs": [
    {
     "data": {
      "text/plain": [
       "array([[ 1.        , -0.35153114, -0.74736506, -0.48917666],\n",
       "       [-0.35153114,  1.        ,  0.23810227,  0.15958285],\n",
       "       [-0.74736506,  0.23810227,  1.        , -0.03960706],\n",
       "       [-0.48917666,  0.15958285, -0.03960706,  1.        ]])"
      ]
     },
     "execution_count": 141,
     "metadata": {},
     "output_type": "execute_result"
    }
   ],
   "source": [
    "np.corrcoef([a,b,c,d])"
   ]
  },
  {
   "cell_type": "code",
   "execution_count": null,
   "metadata": {
    "collapsed": true
   },
   "outputs": [],
   "source": []
  },
  {
   "cell_type": "markdown",
   "metadata": {},
   "source": [
    "## 문제 S-3: 키, 몸무게 상관관계\n",
    "\n",
    "데이터프레임 ```S.4.5 tsv 파일 읽기```에서 사용했던 ```ds_spark_heightweight.txt``` 파일을 사용한다.\n",
    "\n",
    "* 1) DataFrame 생성하고, 스키마를 출력\n",
    "    * 컬럼명 id, height(Inches), weight(Pounds)\n",
    "```python\n",
    "root\n",
    " |-- id: string (nullable = true)\n",
    " |-- height: double (nullable = true)\n",
    " |-- weight: double (nullable = true)\n",
    "```\n",
    "\n",
    "* 2) BMI 컬럼 생성\n",
    "BMI는 wikipedia를 참고하여 계산\n",
    "```python\n",
    "+---+------+------+------------------+\n",
    "| id|height|weight|               bmi|\n",
    "+---+------+------+------------------+\n",
    "|  1| 65.78|112.99|18.357248855814564|\n",
    "```\n",
    "\n",
    "* 3) BMI 22이상 조회\n",
    "\n",
    "* 4) BMI 구분별 건수\n",
    "BMI구분은 wikipedia를 참고하여 계산\n",
    "```python\n",
    "+------------+-----+\n",
    "|bmi category|count|\n",
    "+------------+-----+\n",
    "|      normal|   39|\n",
    "| underweight|   11|\n",
    "+------------+-----+\n",
    "```\n",
    "\n",
    "* 5) weigth와 height의 Zscore 컬럼 생성\n",
    "```python\n",
    "+---+------+------+-------------------+-------------------+\n",
    "| id|height|weight|            zscoreW|            zscoreH|\n",
    "+---+------+------+-------------------+-------------------+\n",
    "|  1| 65.78|112.99|-1.2298965504184058|-1.2458467531235724|\n",
    "```\n",
    "\n",
    "* 6) spark에서 위에 계산한 zscore를 사용하여 상관관계 계산\n",
    "\n",
    "* 7) scipy를 사용하여 상관관계를 계산\n",
    "\n",
    "* 8) plot\n"
   ]
  },
  {
   "cell_type": "code",
   "execution_count": null,
   "metadata": {
    "collapsed": true
   },
   "outputs": [],
   "source": [
    "703 x weight (lbs) / [height (in)]2"
   ]
  },
  {
   "cell_type": "markdown",
   "metadata": {},
   "source": [
    "### 1) DataFrame 생성 "
   ]
  },
  {
   "cell_type": "code",
   "execution_count": 164,
   "metadata": {
    "collapsed": false
   },
   "outputs": [],
   "source": [
    "from pyspark.sql.types import StructType, StructField, StringType, DoubleType\n",
    "\n",
    "_schema = StructType([\n",
    "    StructField(\"id\", StringType(), True),\n",
    "    StructField(\"height\", DoubleType(), True),\n",
    "    StructField(\"weight\", DoubleType(), True)\n",
    "])"
   ]
  },
  {
   "cell_type": "code",
   "execution_count": 165,
   "metadata": {
    "collapsed": false
   },
   "outputs": [],
   "source": [
    "tDf = spark\\\n",
    "    .read\\\n",
    "    .options(header='false', delimiter='\\t')\\\n",
    "    .schema(_schema)\\\n",
    "    .csv(os.path.join('data', 'ds_spark_heightweight.txt'))"
   ]
  },
  {
   "cell_type": "code",
   "execution_count": 166,
   "metadata": {
    "collapsed": false
   },
   "outputs": [
    {
     "name": "stdout",
     "output_type": "stream",
     "text": [
      "root\n",
      " |-- id: string (nullable = true)\n",
      " |-- height: double (nullable = true)\n",
      " |-- weight: double (nullable = true)\n",
      "\n"
     ]
    }
   ],
   "source": [
    "tDf.printSchema()"
   ]
  },
  {
   "cell_type": "code",
   "execution_count": 167,
   "metadata": {
    "collapsed": false
   },
   "outputs": [
    {
     "name": "stdout",
     "output_type": "stream",
     "text": [
      "+---+------+------+\n",
      "| id|height|weight|\n",
      "+---+------+------+\n",
      "|  1| 65.78|112.99|\n",
      "|  2| 71.52|136.49|\n",
      "|  3|  69.4|153.03|\n",
      "+---+------+------+\n",
      "only showing top 3 rows\n",
      "\n"
     ]
    }
   ],
   "source": [
    "tDf.show(3)"
   ]
  },
  {
   "cell_type": "markdown",
   "metadata": {},
   "source": [
    "### 2) BMI 컬럼 생성\n"
   ]
  },
  {
   "cell_type": "code",
   "execution_count": 168,
   "metadata": {
    "collapsed": false
   },
   "outputs": [],
   "source": [
    "from pyspark.sql import functions as F\n",
    "\n",
    "_tDf = tDf.withColumn(\"bmi\", 703 * F.col('weight') / F.pow(F.col('height'), 2))"
   ]
  },
  {
   "cell_type": "code",
   "execution_count": 169,
   "metadata": {
    "collapsed": false
   },
   "outputs": [
    {
     "name": "stdout",
     "output_type": "stream",
     "text": [
      "+---+------+------+------------------+\n",
      "| id|height|weight|               bmi|\n",
      "+---+------+------+------------------+\n",
      "|  1| 65.78|112.99|18.357248855814564|\n",
      "|  2| 71.52|136.49| 18.75863128975672|\n",
      "|  3|  69.4|153.03| 22.33638889119584|\n",
      "+---+------+------+------------------+\n",
      "only showing top 3 rows\n",
      "\n"
     ]
    }
   ],
   "source": [
    "_tDf.show(3)"
   ]
  },
  {
   "cell_type": "markdown",
   "metadata": {},
   "source": [
    "### 3) BMI 22이상 조회"
   ]
  },
  {
   "cell_type": "code",
   "execution_count": 170,
   "metadata": {
    "collapsed": false,
    "scrolled": true
   },
   "outputs": [
    {
     "name": "stdout",
     "output_type": "stream",
     "text": [
      "+---+------+------+------------------+\n",
      "| id|height|weight|               bmi|\n",
      "+---+------+------+------------------+\n",
      "|  3|  69.4|153.03| 22.33638889119584|\n",
      "|  5| 67.79| 144.3|22.074475244077114|\n",
      "| 37|  66.8| 141.8|22.339766574635163|\n",
      "| 47| 66.88|145.68|22.896164093083957|\n",
      "+---+------+------+------------------+\n",
      "\n"
     ]
    }
   ],
   "source": [
    "_tDf.filter(F.col('bmi') >= 22).show()"
   ]
  },
  {
   "cell_type": "markdown",
   "metadata": {},
   "source": [
    "### 4) BMI 구분별 건수"
   ]
  },
  {
   "cell_type": "code",
   "execution_count": 171,
   "metadata": {
    "collapsed": false
   },
   "outputs": [],
   "source": [
    "\n",
    "def getBmi(bmi):\n",
    "    category = \"\";\n",
    "    if bmi < 18.5:\n",
    "        category = \"underweight\"\n",
    "    elif bmi >= 18.5 and bmi < 25:\n",
    "        category = \"normal\"\n",
    "    elif bmi >= 25 and bmi < 30:\n",
    "        category = \"overweight\"\n",
    "    elif bmi >= 30 and bmi < 35:\n",
    "        category = \"Obese Class I\"\n",
    "    elif bmi >= 35 and bmi < 40:\n",
    "        category = \"Obese Class II\"\n",
    "    elif bmi >= 40:\n",
    "        category = \"Obese Class III\"\n",
    "    else:\n",
    "        category = \"error\"\n",
    "    return category\n",
    "\n",
    "getBmiUdf = F.udf(lambda x: getBmi(x), StringType())"
   ]
  },
  {
   "cell_type": "code",
   "execution_count": 172,
   "metadata": {
    "collapsed": false
   },
   "outputs": [],
   "source": [
    "_tDf = _tDf.withColumn(\"bmi category\", getBmiUdf('bmi'))"
   ]
  },
  {
   "cell_type": "code",
   "execution_count": 173,
   "metadata": {
    "collapsed": false
   },
   "outputs": [
    {
     "name": "stdout",
     "output_type": "stream",
     "text": [
      "+------------+-----+\n",
      "|bmi category|count|\n",
      "+------------+-----+\n",
      "|      normal|   39|\n",
      "| underweight|   11|\n",
      "+------------+-----+\n",
      "\n"
     ]
    }
   ],
   "source": [
    "_tDf.groupBy(\"bmi category\").count().show()"
   ]
  },
  {
   "cell_type": "markdown",
   "metadata": {},
   "source": [
    "### 5) weigth와 height의 Zscore 컬럼 생성"
   ]
  },
  {
   "cell_type": "code",
   "execution_count": 53,
   "metadata": {
    "collapsed": false
   },
   "outputs": [],
   "source": [
    "from pyspark.sql.window import Window\n",
    "import sys\n",
    "\n",
    "byAll = Window.rowsBetween(-sys.maxsize, sys.maxsize)"
   ]
  },
  {
   "cell_type": "code",
   "execution_count": 63,
   "metadata": {
    "collapsed": false
   },
   "outputs": [
    {
     "name": "stdout",
     "output_type": "stream",
     "text": [
      "+---+------+------+-------+------------------+-------------------+\n",
      "| id|height|weight|  meanW|           stddevW|            zscoreW|\n",
      "+---+------+------+-------+------------------+-------------------+\n",
      "|  1| 65.78|112.99|128.842|12.888888902572523|-1.2298965504184058|\n",
      "|  2| 71.52|136.49|128.842|12.888888902572523| 0.5933793097148594|\n",
      "|  3|  69.4|153.03|128.842|12.888888902572523|   1.87665517042142|\n",
      "+---+------+------+-------+------------------+-------------------+\n",
      "only showing top 3 rows\n",
      "\n"
     ]
    }
   ],
   "source": [
    "from pyspark.sql import functions as F\n",
    "\n",
    "_tDf = tDf.withColumn(\"meanW\", F.avg(tDf['weight']).over(byAll))\n",
    "_tDf = _tDf.withColumn(\"stddevW\", F.stddev(_tDf['weight']).over(byAll))\n",
    "_tDf = _tDf.withColumn(\"zscoreW\", (F.col('weight')-F.col('meanW'))/F.col('stddevW'))\n",
    "_tDf.show(3)"
   ]
  },
  {
   "cell_type": "code",
   "execution_count": 64,
   "metadata": {
    "collapsed": false
   },
   "outputs": [
    {
     "name": "stdout",
     "output_type": "stream",
     "text": [
      "+---+------+------+-------+------------------+-------------------+-----------------+------------------+-------------------+\n",
      "| id|height|weight|  meanW|           stddevW|            zscoreW|            meanH|           stddevH|            zscoreH|\n",
      "+---+------+------+-------+------------------+-------------------+-----------------+------------------+-------------------+\n",
      "|  1| 65.78|112.99|128.842|12.888888902572523|-1.2298965504184058|68.05240000000002|1.8239803525615683|-1.2458467531235724|\n",
      "|  2| 71.52|136.49|128.842|12.888888902572523| 0.5933793097148594|68.05240000000002|1.8239803525615683| 1.9011169693413281|\n",
      "|  3|  69.4|153.03|128.842|12.888888902572523|   1.87665517042142|68.05240000000002|1.8239803525615683| 0.7388237478037734|\n",
      "+---+------+------+-------+------------------+-------------------+-----------------+------------------+-------------------+\n",
      "only showing top 3 rows\n",
      "\n"
     ]
    }
   ],
   "source": [
    "from pyspark.sql import functions as F\n",
    "\n",
    "_tDf = _tDf.withColumn(\"meanH\", F.avg(tDf['height']).over(byAll))\n",
    "_tDf = _tDf.withColumn(\"stddevH\", F.stddev(_tDf['height']).over(byAll))\n",
    "_tDf = _tDf.withColumn(\"zscoreH\", (F.col('height')-F.col('meanH'))/F.col('stddevH'))\n",
    "_tDf.show(3)"
   ]
  },
  {
   "cell_type": "code",
   "execution_count": 65,
   "metadata": {
    "collapsed": false
   },
   "outputs": [
    {
     "name": "stdout",
     "output_type": "stream",
     "text": [
      "+---+------+------+-------------------+-------------------+\n",
      "| id|height|weight|            zscoreW|            zscoreH|\n",
      "+---+------+------+-------------------+-------------------+\n",
      "|  1| 65.78|112.99|-1.2298965504184058|-1.2458467531235724|\n",
      "|  2| 71.52|136.49| 0.5933793097148594| 1.9011169693413281|\n",
      "|  3|  69.4|153.03|   1.87665517042142| 0.7388237478037734|\n",
      "+---+------+------+-------------------+-------------------+\n",
      "only showing top 3 rows\n",
      "\n"
     ]
    }
   ],
   "source": [
    "_tDf.drop(\"meanW\").drop(\"stddevW\").drop(\"meanH\").drop(\"stddevH\").show(3)"
   ]
  },
  {
   "cell_type": "markdown",
   "metadata": {},
   "source": [
    "### 6) spark에서 위에 계산한 zscore를 사용하여 상관관계 계산"
   ]
  },
  {
   "cell_type": "code",
   "execution_count": 68,
   "metadata": {
    "collapsed": false
   },
   "outputs": [
    {
     "data": {
      "text/plain": [
       "0.5925221289063217"
      ]
     },
     "execution_count": 68,
     "metadata": {},
     "output_type": "execute_result"
    }
   ],
   "source": [
    "_tDf.stat.corr('weight', 'height')"
   ]
  },
  {
   "cell_type": "markdown",
   "metadata": {},
   "source": [
    "zscore????? 합계를 하지 않았기 때문에 N으로 나누지 않는다."
   ]
  },
  {
   "cell_type": "code",
   "execution_count": 69,
   "metadata": {
    "collapsed": false,
    "scrolled": true
   },
   "outputs": [
    {
     "data": {
      "text/plain": [
       "0.5925221289063219"
      ]
     },
     "execution_count": 69,
     "metadata": {},
     "output_type": "execute_result"
    }
   ],
   "source": [
    "_tDf.stat.corr('zscoreW', 'zscoreH')"
   ]
  },
  {
   "cell_type": "markdown",
   "metadata": {},
   "source": [
    "### 7) spark correlation using features"
   ]
  },
  {
   "cell_type": "code",
   "execution_count": 81,
   "metadata": {
    "collapsed": true
   },
   "outputs": [],
   "source": [
    "from pyspark.ml.feature import VectorAssembler\n",
    "\n",
    "assembler = VectorAssembler(inputCols=['height', 'weight'], outputCol=\"features\")\n",
    "_trainDf = assembler.transform(_tDf).select(\"features\")"
   ]
  },
  {
   "cell_type": "code",
   "execution_count": 82,
   "metadata": {
    "collapsed": true
   },
   "outputs": [],
   "source": [
    "from pyspark.ml.stat import Correlation\n",
    "\n",
    "# get correlation matrix\n",
    "matrix = Correlation.corr(_trainDf, \"features\")"
   ]
  },
  {
   "cell_type": "code",
   "execution_count": 86,
   "metadata": {
    "collapsed": false
   },
   "outputs": [
    {
     "name": "stdout",
     "output_type": "stream",
     "text": [
      "+---------------------------------------------------------------------------------+\n",
      "|pearson(features)                                                                |\n",
      "+---------------------------------------------------------------------------------+\n",
      "|1.0                 0.5925221289063218  \n",
      "0.5925221289063218  1.0                 |\n",
      "+---------------------------------------------------------------------------------+\n",
      "\n"
     ]
    }
   ],
   "source": [
    "matrix.show(truncate=False)"
   ]
  },
  {
   "cell_type": "code",
   "execution_count": 87,
   "metadata": {
    "collapsed": false
   },
   "outputs": [
    {
     "data": {
      "text/plain": [
       "array([[1.        , 0.59252213],\n",
       "       [0.59252213, 1.        ]])"
      ]
     },
     "execution_count": 87,
     "metadata": {},
     "output_type": "execute_result"
    }
   ],
   "source": [
    "matrix.collect()[0][0].toArray()"
   ]
  },
  {
   "cell_type": "markdown",
   "metadata": {},
   "source": [
    "### 7) scipy를 사용하여 상관관계를 계산"
   ]
  },
  {
   "cell_type": "code",
   "execution_count": 174,
   "metadata": {
    "collapsed": false
   },
   "outputs": [],
   "source": [
    "weightList=_tDf.select('weight').rdd.flatMap(lambda x:x).collect()\n",
    "heightList=_tDf.select('height').rdd.flatMap(lambda x:x).collect()"
   ]
  },
  {
   "cell_type": "code",
   "execution_count": 80,
   "metadata": {
    "collapsed": false
   },
   "outputs": [
    {
     "data": {
      "text/plain": [
       "(0.5925221289063218, 5.808558311242065e-06)"
      ]
     },
     "execution_count": 80,
     "metadata": {},
     "output_type": "execute_result"
    }
   ],
   "source": [
    "import scipy.stats as stats\n",
    "\n",
    "stats.pearsonr(weightList,heightList)"
   ]
  },
  {
   "cell_type": "markdown",
   "metadata": {},
   "source": [
    "### 8) 그래프"
   ]
  },
  {
   "cell_type": "code",
   "execution_count": 176,
   "metadata": {
    "collapsed": false
   },
   "outputs": [
    {
     "data": {
      "image/png": "[encoded data removed]",
      "text/plain": [
       "<Figure size 432x288 with 1 Axes>"
      ]
     },
     "metadata": {
      "needs_background": "light"
     },
     "output_type": "display_data"
    }
   ],
   "source": [
    "import matplotlib.pyplot as plt\n",
    "\n",
    "plt.scatter(weightList, heightList)\n",
    "plt.show()"
   ]
  },
  {
   "cell_type": "markdown",
   "metadata": {
    "slideshow": {
     "slide_type": "slide"
    }
   },
   "source": [
    "## 문제 S-4: Iris\n",
    "\n",
    "Iris 데이터는 아이리스 꽃관련 sepal width, sepal length, petal_length and petal_width 데이터를 제공한다.\n",
    "sepal은 꽃받침으로, 대부분의 꽃에서 녹색이다. petal은 꽃받침 안의 꽃잎을 말한다.\n",
    "이 데이터는 아이리스 꽃 3종류 (Iris setosa, Iris virginica and Iris versicolor)와 관련 속성데이터를 가지고 있어 기계학습에서 많이 사용된다."
   ]
  },
  {
   "cell_type": "markdown",
   "metadata": {
    "slideshow": {
     "slide_type": "subslide"
    }
   },
   "source": [
    "### pairplot\n",
    "\n",
    "Seaborn의 Pairplot은 pairwise plot으로 쌍으로 데이터의 관계를 시각화한다. x축, y축으로 변수를 나열하고, 바둑판 그리드에 관계를 그린다.\n",
    "\n",
    "Seaborn은 matplotlib를 기반으로 한 데이터 시각화 라이브러리이다.\n",
    "설치하려면, 명령창에 ```pip3 install seaborn```이라고 입력하고 <ENTER>한다.\n",
    "Anaconda, Databricks에는 이미 설치가 되어 있을 것이라서, 설치가 필요없다.\n",
    "\n",
    "> **Matplotlib이 font cache를 구축**한다는 메시지\n",
    "\n",
    "> Matplotlib is building the font cache; this may take a moment.\n",
    "이런 메시지가 보이면, 아래 명령어 출력 디렉토리를 삭제한다.\n",
    "```\n",
    "import matplotlib as mpl\n",
    "print (mpl.get_cachedir())\n",
    "```"
   ]
  },
  {
   "cell_type": "markdown",
   "metadata": {},
   "source": [
    "seaborn에서 iris데이터를 불러보자."
   ]
  },
  {
   "cell_type": "code",
   "execution_count": 6,
   "metadata": {
    "collapsed": false
   },
   "outputs": [],
   "source": [
    "import seaborn as sns\n",
    "\n",
    "iris1 = sns.load_dataset(\"iris\")"
   ]
  },
  {
   "cell_type": "markdown",
   "metadata": {},
   "source": [
    "데이터가 잘 읽혔는지, 몇 행만 읽어보자."
   ]
  },
  {
   "cell_type": "code",
   "execution_count": 7,
   "metadata": {
    "collapsed": false,
    "scrolled": true
   },
   "outputs": [
    {
     "data": {
      "text/html": [
       "<div>\n",
       "<style scoped>\n",
       "    .dataframe tbody tr th:only-of-type {\n",
       "        vertical-align: middle;\n",
       "    }\n",
       "\n",
       "    .dataframe tbody tr th {\n",
       "        vertical-align: top;\n",
       "    }\n",
       "\n",
       "    .dataframe thead th {\n",
       "        text-align: right;\n",
       "    }\n",
       "</style>\n",
       "<table border=\"1\" class=\"dataframe\">\n",
       "  <thead>\n",
       "    <tr style=\"text-align: right;\">\n",
       "      <th></th>\n",
       "      <th>sepal_length</th>\n",
       "      <th>sepal_width</th>\n",
       "      <th>petal_length</th>\n",
       "      <th>petal_width</th>\n",
       "      <th>species</th>\n",
       "    </tr>\n",
       "  </thead>\n",
       "  <tbody>\n",
       "    <tr>\n",
       "      <th>0</th>\n",
       "      <td>5.1</td>\n",
       "      <td>3.5</td>\n",
       "      <td>1.4</td>\n",
       "      <td>0.2</td>\n",
       "      <td>setosa</td>\n",
       "    </tr>\n",
       "    <tr>\n",
       "      <th>1</th>\n",
       "      <td>4.9</td>\n",
       "      <td>3.0</td>\n",
       "      <td>1.4</td>\n",
       "      <td>0.2</td>\n",
       "      <td>setosa</td>\n",
       "    </tr>\n",
       "    <tr>\n",
       "      <th>2</th>\n",
       "      <td>4.7</td>\n",
       "      <td>3.2</td>\n",
       "      <td>1.3</td>\n",
       "      <td>0.2</td>\n",
       "      <td>setosa</td>\n",
       "    </tr>\n",
       "    <tr>\n",
       "      <th>3</th>\n",
       "      <td>4.6</td>\n",
       "      <td>3.1</td>\n",
       "      <td>1.5</td>\n",
       "      <td>0.2</td>\n",
       "      <td>setosa</td>\n",
       "    </tr>\n",
       "    <tr>\n",
       "      <th>4</th>\n",
       "      <td>5.0</td>\n",
       "      <td>3.6</td>\n",
       "      <td>1.4</td>\n",
       "      <td>0.2</td>\n",
       "      <td>setosa</td>\n",
       "    </tr>\n",
       "  </tbody>\n",
       "</table>\n",
       "</div>"
      ],
      "text/plain": [
       "   sepal_length  sepal_width  petal_length  petal_width species\n",
       "0           5.1          3.5           1.4          0.2  setosa\n",
       "1           4.9          3.0           1.4          0.2  setosa\n",
       "2           4.7          3.2           1.3          0.2  setosa\n",
       "3           4.6          3.1           1.5          0.2  setosa\n",
       "4           5.0          3.6           1.4          0.2  setosa"
      ]
     },
     "execution_count": 7,
     "metadata": {},
     "output_type": "execute_result"
    }
   ],
   "source": [
    "iris1.head()"
   ]
  },
  {
   "cell_type": "markdown",
   "metadata": {},
   "source": [
    "앞에서 읽은 데이터를 pairplot으로 그려보자.\n",
    "* kind는 ‘scatter’, ‘kde’, ‘hist’, ‘reg’ 4가지 종류 가운데 하나를 선택한다.\n",
    "* hue는 다른 색으로 그리게 되는 변수, 여기서는 species를 선택했다. 3가지 꽃 종류를 다른 색으로 그린다."
   ]
  },
  {
   "cell_type": "code",
   "execution_count": 8,
   "metadata": {
    "collapsed": false,
    "scrolled": true
   },
   "outputs": [
    {
     "data": {
      "image/png": "[encoded data removed]",
      "text/plain": [
       "<Figure size 804.75x720 with 20 Axes>"
      ]
     },
     "metadata": {
      "needs_background": "light"
     },
     "output_type": "display_data"
    }
   ],
   "source": [
    "import matplotlib.pyplot as plt\n",
    "\n",
    "sns.pairplot(iris1, kind=\"scatter\", hue=\"species\")\n",
    "plt.show()"
   ]
  },
  {
   "cell_type": "markdown",
   "metadata": {
    "slideshow": {
     "slide_type": "subslide"
    }
   },
   "source": [
    "### spark로 correlation"
   ]
  },
  {
   "cell_type": "code",
   "execution_count": 9,
   "metadata": {
    "collapsed": true
   },
   "outputs": [],
   "source": [
    "import os\n",
    "os.environ[\"PYSPARK_PYTHON\"]=\"/usr/bin/python3\"\n",
    "os.environ[\"PYSPARK_DRIVER_PYTHON\"]=\"/usr/bin/python3\""
   ]
  },
  {
   "cell_type": "code",
   "execution_count": 10,
   "metadata": {
    "collapsed": true
   },
   "outputs": [],
   "source": [
    "import pyspark\n",
    "myConf=pyspark.SparkConf()\n",
    "spark = pyspark.sql.SparkSession.builder\\\n",
    "    .master(\"local\")\\\n",
    "    .appName(\"myApp\")\\\n",
    "    .config(conf=myConf)\\\n",
    "    .getOrCreate()"
   ]
  },
  {
   "cell_type": "markdown",
   "metadata": {
    "slideshow": {
     "slide_type": "subslide"
    }
   },
   "source": [
    "### 데이터\n",
    "\n",
    "Iris 데이터는 UC Irvine대학의 Machine Learning Repository에서도 구할 수 있다.\n",
    "https://archive.ics.uci.edu/ml/machine-learning-databases/iris/ URL에서 Python으로 직접 가져오자."
   ]
  },
  {
   "cell_type": "code",
   "execution_count": 11,
   "metadata": {
    "collapsed": false
   },
   "outputs": [],
   "source": [
    "import pandas as pd\n",
    "\n",
    "file_name = \"https://archive.ics.uci.edu/ml/machine-learning-databases/iris/iris.data\"\n",
    "iris = pd.read_csv(file_name, names=[\"sepal_length\",\"sepal_width\",\"petal_length\", \"petal_width\",\"species\"])"
   ]
  },
  {
   "cell_type": "markdown",
   "metadata": {},
   "source": [
    "데이터가 잘 읽혔는지 몇 줄을 출력해보자."
   ]
  },
  {
   "cell_type": "code",
   "execution_count": 12,
   "metadata": {
    "collapsed": false,
    "scrolled": true
   },
   "outputs": [
    {
     "data": {
      "text/html": [
       "<div>\n",
       "<style scoped>\n",
       "    .dataframe tbody tr th:only-of-type {\n",
       "        vertical-align: middle;\n",
       "    }\n",
       "\n",
       "    .dataframe tbody tr th {\n",
       "        vertical-align: top;\n",
       "    }\n",
       "\n",
       "    .dataframe thead th {\n",
       "        text-align: right;\n",
       "    }\n",
       "</style>\n",
       "<table border=\"1\" class=\"dataframe\">\n",
       "  <thead>\n",
       "    <tr style=\"text-align: right;\">\n",
       "      <th></th>\n",
       "      <th>sepal_length</th>\n",
       "      <th>sepal_width</th>\n",
       "      <th>petal_length</th>\n",
       "      <th>petal_width</th>\n",
       "      <th>species</th>\n",
       "    </tr>\n",
       "  </thead>\n",
       "  <tbody>\n",
       "    <tr>\n",
       "      <th>0</th>\n",
       "      <td>5.1</td>\n",
       "      <td>3.5</td>\n",
       "      <td>1.4</td>\n",
       "      <td>0.2</td>\n",
       "      <td>Iris-setosa</td>\n",
       "    </tr>\n",
       "    <tr>\n",
       "      <th>1</th>\n",
       "      <td>4.9</td>\n",
       "      <td>3.0</td>\n",
       "      <td>1.4</td>\n",
       "      <td>0.2</td>\n",
       "      <td>Iris-setosa</td>\n",
       "    </tr>\n",
       "    <tr>\n",
       "      <th>2</th>\n",
       "      <td>4.7</td>\n",
       "      <td>3.2</td>\n",
       "      <td>1.3</td>\n",
       "      <td>0.2</td>\n",
       "      <td>Iris-setosa</td>\n",
       "    </tr>\n",
       "    <tr>\n",
       "      <th>3</th>\n",
       "      <td>4.6</td>\n",
       "      <td>3.1</td>\n",
       "      <td>1.5</td>\n",
       "      <td>0.2</td>\n",
       "      <td>Iris-setosa</td>\n",
       "    </tr>\n",
       "    <tr>\n",
       "      <th>4</th>\n",
       "      <td>5.0</td>\n",
       "      <td>3.6</td>\n",
       "      <td>1.4</td>\n",
       "      <td>0.2</td>\n",
       "      <td>Iris-setosa</td>\n",
       "    </tr>\n",
       "  </tbody>\n",
       "</table>\n",
       "</div>"
      ],
      "text/plain": [
       "   sepal_length  sepal_width  petal_length  petal_width      species\n",
       "0           5.1          3.5           1.4          0.2  Iris-setosa\n",
       "1           4.9          3.0           1.4          0.2  Iris-setosa\n",
       "2           4.7          3.2           1.3          0.2  Iris-setosa\n",
       "3           4.6          3.1           1.5          0.2  Iris-setosa\n",
       "4           5.0          3.6           1.4          0.2  Iris-setosa"
      ]
     },
     "execution_count": 12,
     "metadata": {},
     "output_type": "execute_result"
    }
   ],
   "source": [
    "iris.head()"
   ]
  },
  {
   "cell_type": "markdown",
   "metadata": {},
   "source": [
    "### boxplot\n",
    "\n",
    "박스는 IQR (Interquartile Range), 즉 25%~75%의 구간을 의미한다.\n",
    "그리고 위 아래 가로선은 IQR 값의 1.5배되는 구역을 나타낸다.\n",
    "2번째 boxplot에서 나타나는 점들은 outlier를 의미한다.\n",
    "outlier는 그 벗어난 정도가 심하지 않으므로 그대로 두기로 한다."
   ]
  },
  {
   "cell_type": "code",
   "execution_count": 13,
   "metadata": {
    "collapsed": false
   },
   "outputs": [
    {
     "data": {
      "image/png": "[encoded data removed]",
      "text/plain": [
       "<Figure size 432x288 with 1 Axes>"
      ]
     },
     "metadata": {
      "needs_background": "light"
     },
     "output_type": "display_data"
    }
   ],
   "source": [
    "import matplotlib.pyplot as plt\n",
    "\n",
    "iris4 = [ iris.sepal_length, iris.sepal_width, iris.petal_length, iris.petal_width ]\n",
    "plt.boxplot(iris4)\n",
    "plt.show()"
   ]
  },
  {
   "cell_type": "markdown",
   "metadata": {},
   "source": [
    "### DataFrame 생성\n",
    "\n",
    "DataFrame을 생성하고, schema를 확인해보자.\n",
    "Spark는 url에서 직접 읽을 수 없으므로, pandas의 DataFrame에서 만들자."
   ]
  },
  {
   "cell_type": "code",
   "execution_count": 14,
   "metadata": {
    "collapsed": true
   },
   "outputs": [],
   "source": [
    "irisDf = spark.createDataFrame(iris)"
   ]
  },
  {
   "cell_type": "code",
   "execution_count": 15,
   "metadata": {
    "collapsed": false
   },
   "outputs": [
    {
     "name": "stdout",
     "output_type": "stream",
     "text": [
      "root\n",
      " |-- sepal_length: double (nullable = true)\n",
      " |-- sepal_width: double (nullable = true)\n",
      " |-- petal_length: double (nullable = true)\n",
      " |-- petal_width: double (nullable = true)\n",
      " |-- species: string (nullable = true)\n",
      "\n"
     ]
    }
   ],
   "source": [
    "irisDf.printSchema()"
   ]
  },
  {
   "cell_type": "markdown",
   "metadata": {
    "slideshow": {
     "slide_type": "subslide"
    }
   },
   "source": [
    "### 상관관계\n",
    "\n",
    "Spark에서는 features 컬럼을 입력받아서 모델링을 한다. 상관관계를 계산할 4개의 컬럼을 묶어서 features 컬럼을 만들어 준다."
   ]
  },
  {
   "cell_type": "code",
   "execution_count": 16,
   "metadata": {
    "collapsed": true
   },
   "outputs": [],
   "source": [
    "from pyspark.ml.feature import VectorAssembler\n",
    "\n",
    "assembler = VectorAssembler(inputCols=['sepal_length', 'sepal_width', 'petal_length', 'petal_width'],\n",
    "                                       outputCol=\"features\")\n",
    "df_vector = assembler.transform(irisDf).select(\"features\")"
   ]
  },
  {
   "cell_type": "code",
   "execution_count": 17,
   "metadata": {
    "collapsed": true
   },
   "outputs": [],
   "source": [
    "from pyspark.ml.stat import Correlation\n",
    "\n",
    "# get correlation matrix\n",
    "matrix = Correlation.corr(df_vector, \"features\")"
   ]
  },
  {
   "cell_type": "markdown",
   "metadata": {},
   "source": [
    "### 상관관계표 출력\n",
    "\n",
    "변수를 짝을 지어 상관관계를 출력한다.\n",
    "```collect()``` 함수는 Row List를 출력하게 된다."
   ]
  },
  {
   "cell_type": "code",
   "execution_count": 18,
   "metadata": {
    "collapsed": false
   },
   "outputs": [
    {
     "data": {
      "text/plain": [
       "[Row(pearson(features)=DenseMatrix(4, 4, [1.0, -0.1094, 0.8718, 0.818, -0.1094, 1.0, -0.4205, -0.3565, 0.8718, -0.4205, 1.0, 0.9628, 0.818, -0.3565, 0.9628, 1.0], False))]"
      ]
     },
     "execution_count": 18,
     "metadata": {},
     "output_type": "execute_result"
    }
   ],
   "source": [
    "matrix.collect()"
   ]
  },
  {
   "cell_type": "markdown",
   "metadata": {},
   "source": [
    "Row List를 인덱스로 상관관계 배열만 출력할 수 있다."
   ]
  },
  {
   "cell_type": "code",
   "execution_count": 19,
   "metadata": {
    "collapsed": false
   },
   "outputs": [
    {
     "data": {
      "text/plain": [
       "array([[ 1.        , -0.10936925,  0.87175416,  0.81795363],\n",
       "       [-0.10936925,  1.        , -0.4205161 , -0.35654409],\n",
       "       [ 0.87175416, -0.4205161 ,  1.        ,  0.9627571 ],\n",
       "       [ 0.81795363, -0.35654409,  0.9627571 ,  1.        ]])"
      ]
     },
     "execution_count": 19,
     "metadata": {},
     "output_type": "execute_result"
    }
   ],
   "source": [
    "matrix.collect()[0][0].toArray()"
   ]
  },
  {
   "cell_type": "code",
   "execution_count": null,
   "metadata": {
    "collapsed": true
   },
   "outputs": [],
   "source": []
  }
 ],
 "metadata": {
  "kernelspec": {
   "display_name": "Python 3",
   "language": "python",
   "name": "python3"
  },
  "language_info": {
   "codemirror_mode": {
    "name": "ipython",
    "version": 3
   },
   "file_extension": ".py",
   "mimetype": "text/x-python",
   "name": "python",
   "nbconvert_exporter": "python",
   "pygments_lexer": "ipython3",
   "version": "3.6.9"
  }
 },
 "nbformat": 4,
 "nbformat_minor": 0
}
